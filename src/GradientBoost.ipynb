{
  "cells": [
    {
      "cell_type": "markdown",
      "source": "## Imports",
      "metadata": {
        "tags": [],
        "cell_id": "00000-0cb06fd3-4ed4-41ad-bc8f-8dd85cc8d6e7",
        "deepnote_cell_type": "markdown"
      }
    },
    {
      "cell_type": "code",
      "metadata": {
        "tags": [],
        "cell_id": "00000-8da1e318-c932-4bea-9fc9-ed9668dd513f",
        "deepnote_to_be_reexecuted": false,
        "source_hash": "9f793134",
        "execution_millis": 1107,
        "execution_start": 1617973160201,
        "deepnote_cell_type": "code"
      },
      "source": "import numpy as np\nimport pandas as pd\nimport sklearn as sk\nimport catboost as cb",
      "execution_count": 1,
      "outputs": []
    },
    {
      "cell_type": "code",
      "metadata": {
        "tags": [],
        "cell_id": "00001-db729e50-9f1f-4aa6-bb32-382409941dd8",
        "deepnote_to_be_reexecuted": false,
        "source_hash": "bb4e84ca",
        "execution_millis": 160,
        "execution_start": 1617973167703,
        "deepnote_cell_type": "code"
      },
      "source": "# Data\ndf = pd.read_csv(\"./data/superset.csv\")",
      "execution_count": 2,
      "outputs": []
    },
    {
      "cell_type": "markdown",
      "source": "## Processing",
      "metadata": {
        "tags": [],
        "cell_id": "00003-8696a436-eb72-4604-8673-cc594940b8ae",
        "deepnote_cell_type": "markdown"
      }
    },
    {
      "cell_type": "code",
      "metadata": {
        "tags": [],
        "cell_id": "00002-c6610b96-1c8d-4dd6-9c55-c9861e9ad84d",
        "deepnote_to_be_reexecuted": false,
        "source_hash": "92818510",
        "execution_millis": 9,
        "execution_start": 1617973170234,
        "deepnote_cell_type": "code"
      },
      "source": "df = (\n    df.set_axis([df[\"Unnamed: 0\"]]) \n    .drop([\"Unnamed: 0\"], axis=1)\n) if \"Unnamed: 0\" in df.columns else df # So we can rerun the notebook everytime",
      "execution_count": 3,
      "outputs": []
    },
    {
      "cell_type": "code",
      "source": "cat_2_num = {cat:num for num, cat in enumerate(df.Subgroup.unique())}",
      "metadata": {
        "tags": [],
        "cell_id": "00005-328d692b-f229-4c23-9c35-130783205b9d",
        "deepnote_to_be_reexecuted": false,
        "source_hash": "fdb10070",
        "execution_start": 1617979187340,
        "execution_millis": 5,
        "deepnote_cell_type": "code"
      },
      "outputs": [],
      "execution_count": 19
    },
    {
      "cell_type": "code",
      "metadata": {
        "tags": [],
        "cell_id": "00002-5695432f-1782-4fa8-bf27-c4ff3552751e",
        "deepnote_to_be_reexecuted": false,
        "source_hash": "ba5bea8",
        "execution_millis": 0,
        "execution_start": 1617979211599,
        "deepnote_cell_type": "code"
      },
      "source": "df.Subgroup = df.Subgroup.replace(cat_2_num)",
      "execution_count": 21,
      "outputs": []
    },
    {
      "cell_type": "markdown",
      "source": "## Splitting",
      "metadata": {
        "tags": [],
        "cell_id": "00006-e1fe5b55-e4ee-45cb-81e0-39a6d027f719",
        "deepnote_cell_type": "markdown"
      }
    },
    {
      "cell_type": "code",
      "metadata": {
        "tags": [],
        "cell_id": "00004-8f5cef41-e136-4a6f-800d-df1da3a9a4bc",
        "deepnote_to_be_reexecuted": false,
        "source_hash": "746a4dbc",
        "execution_millis": 3,
        "execution_start": 1617979219831,
        "deepnote_cell_type": "code"
      },
      "source": "from sklearn.model_selection import train_test_split",
      "execution_count": 22,
      "outputs": []
    },
    {
      "cell_type": "code",
      "metadata": {
        "tags": [],
        "cell_id": "00008-f19aa123-d5d4-4e72-9a62-b183d9d4927b",
        "deepnote_to_be_reexecuted": false,
        "source_hash": "bd0d873b",
        "execution_millis": 0,
        "execution_start": 1617979221290,
        "deepnote_cell_type": "code"
      },
      "source": "X_ = df.drop(columns=[\"Subgroup\"])\ny_ = df.Subgroup\n\nX_train, X_test, y_train, y_test = train_test_split(X_, y_, test_size=0.25, random_state=42)",
      "execution_count": 23,
      "outputs": []
    },
    {
      "cell_type": "markdown",
      "source": "## Building",
      "metadata": {
        "tags": [],
        "cell_id": "00008-9f238cf3-d9f0-49ae-a096-175b5a50c446",
        "deepnote_cell_type": "markdown"
      }
    },
    {
      "cell_type": "markdown",
      "source": "### CatBoost",
      "metadata": {
        "tags": [],
        "cell_id": "00011-9f1ec009-46ba-4931-94d9-01c41d00b7bc",
        "deepnote_cell_type": "markdown"
      }
    },
    {
      "cell_type": "markdown",
      "source": "https://catboost.ai/docs/concepts/about.html",
      "metadata": {
        "tags": [],
        "cell_id": "00012-80b3160d-3bab-46ee-ac09-966adb33e8fa",
        "deepnote_cell_type": "markdown"
      }
    },
    {
      "cell_type": "code",
      "metadata": {
        "tags": [],
        "cell_id": "00011-afc75c4e-13aa-4828-9b72-5d8545149a53",
        "deepnote_to_be_reexecuted": false,
        "source_hash": "b0489026",
        "execution_millis": 29,
        "execution_start": 1617979225463,
        "deepnote_cell_type": "code"
      },
      "source": "print(cb.__version__)",
      "execution_count": 24,
      "outputs": [
        {
          "name": "stdout",
          "text": "0.25.1\n",
          "output_type": "stream"
        }
      ]
    },
    {
      "cell_type": "code",
      "metadata": {
        "tags": [],
        "cell_id": "00014-27f5740a-7e4b-4b16-b5f8-5c55d6ddce03",
        "deepnote_to_be_reexecuted": false,
        "source_hash": "a600a626",
        "execution_millis": 251,
        "execution_start": 1617979449558,
        "deepnote_cell_type": "code"
      },
      "source": "X_trainset, X_val, y_trainset, y_val = train_test_split(X_train, y_train, test_size=0.25, random_state=42)\n\ntrain_set = cb.Pool(X_trainset, label=y_trainset)\neval_set = cb.Pool(X_val, label=y_val)",
      "execution_count": 31,
      "outputs": []
    },
    {
      "cell_type": "code",
      "metadata": {
        "tags": [],
        "cell_id": "00012-ccd1c75e-2f3b-4a1c-a336-639b88d81e2d",
        "deepnote_to_be_reexecuted": false,
        "source_hash": "dc046c9e",
        "execution_millis": 1,
        "execution_start": 1617979966380,
        "deepnote_cell_type": "code"
      },
      "source": "# Start the CatBoost Object\ncbc_params = {\n    'iterations':150, \n    'learning_rate':0.01, \n    'l2_leaf_reg':30, \n    'random_seed':44,\n    'verbose':10,\n    'loss_function':'MultiClass'}\n\ncbc_alt_params = {\n    'iterations':1000,\n    'learning_rate':0.1,\n    'random_strength':0.1,\n    'depth':8,\n    'loss_function':'MultiClass',\n    'eval_metric':'Accuracy',\n    'leaf_estimation_method':'Newton'\n}\n\ncbc_altered_params = {\n    'iterations':1000,\n    'verbose':10,\n    'loss_function':'MultiClass',\n}\n\nCBC = cb.CatBoostClassifier(**cbc_altered_params)",
      "execution_count": 38,
      "outputs": []
    },
    {
      "cell_type": "code",
      "metadata": {
        "tags": [],
        "cell_id": "00015-a414ffa1-ae46-47d2-a548-2e663015d848",
        "deepnote_to_be_reexecuted": false,
        "source_hash": "c93697b8",
        "execution_millis": 50578,
        "execution_start": 1617979966637,
        "deepnote_cell_type": "code"
      },
      "source": "CBC.fit(\n    train_set,\n    eval_set=(X_val, y_val),\n    verbose=True,\n    # plot=True # Not possible within DeepNote (Does not support IPywidgets yet)\n)",
      "execution_count": 39,
      "outputs": [
        {
          "name": "stdout",
          "text": "6:\tlearn: 0.9293837\ttest: 1.0860747\tbest: 1.0713970 (5)\ttotal: 403ms\tremaining: 57.1s\n7:\tlearn: 0.9102750\ttest: 1.0912555\tbest: 1.0713970 (5)\ttotal: 444ms\tremaining: 55s\n8:\tlearn: 0.8910764\ttest: 1.0924986\tbest: 1.0713970 (5)\ttotal: 499ms\tremaining: 55s\n9:\tlearn: 0.8561106\ttest: 1.0606149\tbest: 1.0606149 (9)\ttotal: 538ms\tremaining: 53.3s\n10:\tlearn: 0.8381138\ttest: 1.0593808\tbest: 1.0593808 (10)\ttotal: 593ms\tremaining: 53.3s\n11:\tlearn: 0.8177010\ttest: 1.0568947\tbest: 1.0568947 (11)\ttotal: 631ms\tremaining: 51.9s\n12:\tlearn: 0.7955919\ttest: 1.0388640\tbest: 1.0388640 (12)\ttotal: 693ms\tremaining: 52.6s\n13:\tlearn: 0.7777126\ttest: 1.0360278\tbest: 1.0360278 (13)\ttotal: 732ms\tremaining: 51.5s\n14:\tlearn: 0.7657189\ttest: 1.0392075\tbest: 1.0360278 (13)\ttotal: 789ms\tremaining: 51.8s\n15:\tlearn: 0.7537612\ttest: 1.0400279\tbest: 1.0360278 (13)\ttotal: 828ms\tremaining: 50.9s\n16:\tlearn: 0.7410338\ttest: 1.0386712\tbest: 1.0360278 (13)\ttotal: 889ms\tremaining: 51.4s\n17:\tlearn: 0.7276988\ttest: 1.0321857\tbest: 1.0321857 (17)\ttotal: 929ms\tremaining: 50.7s\n18:\tlearn: 0.7062368\ttest: 1.0175513\tbest: 1.0175513 (18)\ttotal: 990ms\tremaining: 51.1s\n19:\tlearn: 0.6874564\ttest: 1.0001626\tbest: 1.0001626 (19)\ttotal: 1.03s\tremaining: 50.4s\n20:\tlearn: 0.6582127\ttest: 0.9808692\tbest: 0.9808692 (20)\ttotal: 1.06s\tremaining: 49.7s\n21:\tlearn: 0.6448454\ttest: 0.9784769\tbest: 0.9784769 (21)\ttotal: 1.14s\tremaining: 50.7s\n22:\tlearn: 0.6367205\ttest: 0.9767154\tbest: 0.9767154 (22)\ttotal: 1.19s\tremaining: 50.4s\n23:\tlearn: 0.6256632\ttest: 0.9773586\tbest: 0.9767154 (22)\ttotal: 1.23s\tremaining: 49.9s\n24:\tlearn: 0.6155891\ttest: 0.9704178\tbest: 0.9704178 (24)\ttotal: 1.29s\tremaining: 50.2s\n25:\tlearn: 0.5952203\ttest: 0.9420910\tbest: 0.9420910 (25)\ttotal: 1.32s\tremaining: 49.7s\n26:\tlearn: 0.5792816\ttest: 0.9289591\tbest: 0.9289591 (26)\ttotal: 1.39s\tremaining: 50s\n27:\tlearn: 0.5718715\ttest: 0.9288886\tbest: 0.9288886 (27)\ttotal: 1.43s\tremaining: 49.5s\n28:\tlearn: 0.5513068\ttest: 0.9047029\tbest: 0.9047029 (28)\ttotal: 1.49s\tremaining: 49.7s\n29:\tlearn: 0.5376781\ttest: 0.9008905\tbest: 0.9008905 (29)\ttotal: 1.52s\tremaining: 49.3s\n30:\tlearn: 0.5305211\ttest: 0.9020127\tbest: 0.9008905 (29)\ttotal: 1.58s\tremaining: 49.6s\n31:\tlearn: 0.5235699\ttest: 0.8990769\tbest: 0.8990769 (31)\ttotal: 1.63s\tremaining: 49.2s\n32:\tlearn: 0.5130140\ttest: 0.9040174\tbest: 0.8990769 (31)\ttotal: 1.69s\tremaining: 49.4s\n33:\tlearn: 0.5068864\ttest: 0.9001622\tbest: 0.8990769 (31)\ttotal: 1.72s\tremaining: 48.9s\n34:\tlearn: 0.4940832\ttest: 0.8854718\tbest: 0.8854718 (34)\ttotal: 1.78s\tremaining: 49.2s\n35:\tlearn: 0.4828742\ttest: 0.8839548\tbest: 0.8839548 (35)\ttotal: 1.82s\tremaining: 48.9s\n36:\tlearn: 0.4755767\ttest: 0.8833514\tbest: 0.8833514 (36)\ttotal: 1.89s\tremaining: 49.1s\n37:\tlearn: 0.4668565\ttest: 0.8832315\tbest: 0.8832315 (37)\ttotal: 1.93s\tremaining: 48.8s\n38:\tlearn: 0.4523737\ttest: 0.8674598\tbest: 0.8674598 (38)\ttotal: 1.98s\tremaining: 48.9s\n39:\tlearn: 0.4467970\ttest: 0.8698125\tbest: 0.8674598 (38)\ttotal: 2.02s\tremaining: 48.6s\n40:\tlearn: 0.4347990\ttest: 0.8554145\tbest: 0.8554145 (40)\ttotal: 2.08s\tremaining: 48.7s\n41:\tlearn: 0.4288593\ttest: 0.8546638\tbest: 0.8546638 (41)\ttotal: 2.12s\tremaining: 48.5s\n42:\tlearn: 0.4175815\ttest: 0.8438876\tbest: 0.8438876 (42)\ttotal: 2.18s\tremaining: 48.6s\n43:\tlearn: 0.4096542\ttest: 0.8376662\tbest: 0.8376662 (43)\ttotal: 2.22s\tremaining: 48.2s\n44:\tlearn: 0.4008812\ttest: 0.8318221\tbest: 0.8318221 (44)\ttotal: 2.26s\tremaining: 47.9s\n45:\tlearn: 0.3898710\ttest: 0.8232535\tbest: 0.8232535 (45)\ttotal: 2.32s\tremaining: 48.1s\n46:\tlearn: 0.3802742\ttest: 0.8182417\tbest: 0.8182417 (46)\ttotal: 2.36s\tremaining: 47.8s\n47:\tlearn: 0.3743745\ttest: 0.8135890\tbest: 0.8135890 (47)\ttotal: 2.42s\tremaining: 47.9s\n48:\tlearn: 0.3669895\ttest: 0.8084050\tbest: 0.8084050 (48)\ttotal: 2.45s\tremaining: 47.6s\n49:\tlearn: 0.3583808\ttest: 0.7938726\tbest: 0.7938726 (49)\ttotal: 2.51s\tremaining: 47.7s\n50:\tlearn: 0.3527101\ttest: 0.7944740\tbest: 0.7938726 (49)\ttotal: 2.55s\tremaining: 47.4s\n51:\tlearn: 0.3403945\ttest: 0.7827552\tbest: 0.7827552 (51)\ttotal: 2.61s\tremaining: 47.6s\n52:\tlearn: 0.3316729\ttest: 0.7789816\tbest: 0.7789816 (52)\ttotal: 2.65s\tremaining: 47.4s\n53:\tlearn: 0.3245854\ttest: 0.7701549\tbest: 0.7701549 (53)\ttotal: 2.71s\tremaining: 47.4s\n54:\tlearn: 0.3179331\ttest: 0.7633167\tbest: 0.7633167 (54)\ttotal: 2.74s\tremaining: 47.1s\n55:\tlearn: 0.3122101\ttest: 0.7642892\tbest: 0.7633167 (54)\ttotal: 2.81s\tremaining: 47.3s\n56:\tlearn: 0.3027086\ttest: 0.7588003\tbest: 0.7588003 (56)\ttotal: 2.85s\tremaining: 47.2s\n57:\tlearn: 0.2924925\ttest: 0.7525539\tbest: 0.7525539 (57)\ttotal: 2.9s\tremaining: 47.2s\n58:\tlearn: 0.2858387\ttest: 0.7460217\tbest: 0.7460217 (58)\ttotal: 2.94s\tremaining: 46.9s\n59:\tlearn: 0.2766489\ttest: 0.7387776\tbest: 0.7387776 (59)\ttotal: 3s\tremaining: 47s\n60:\tlearn: 0.2717744\ttest: 0.7358310\tbest: 0.7358310 (60)\ttotal: 3.04s\tremaining: 46.8s\n61:\tlearn: 0.2664167\ttest: 0.7252158\tbest: 0.7252158 (61)\ttotal: 3.12s\tremaining: 47.2s\n62:\tlearn: 0.2602060\ttest: 0.7163980\tbest: 0.7163980 (62)\ttotal: 3.16s\tremaining: 47s\n63:\tlearn: 0.2527919\ttest: 0.7008119\tbest: 0.7008119 (63)\ttotal: 3.2s\tremaining: 46.8s\n64:\tlearn: 0.2461906\ttest: 0.6937487\tbest: 0.6937487 (64)\ttotal: 3.24s\tremaining: 46.6s\n65:\tlearn: 0.2394785\ttest: 0.6905477\tbest: 0.6905477 (65)\ttotal: 3.3s\tremaining: 46.7s\n66:\tlearn: 0.2337509\ttest: 0.6830019\tbest: 0.6830019 (66)\ttotal: 3.34s\tremaining: 46.5s\n67:\tlearn: 0.2285636\ttest: 0.6748074\tbest: 0.6748074 (67)\ttotal: 3.4s\tremaining: 46.6s\n68:\tlearn: 0.2222813\ttest: 0.6737310\tbest: 0.6737310 (68)\ttotal: 3.44s\tremaining: 46.4s\n69:\tlearn: 0.2184608\ttest: 0.6701281\tbest: 0.6701281 (69)\ttotal: 3.5s\tremaining: 46.6s\n70:\tlearn: 0.2132496\ttest: 0.6635067\tbest: 0.6635067 (70)\ttotal: 3.54s\tremaining: 46.4s\n71:\tlearn: 0.2092520\ttest: 0.6577776\tbest: 0.6577776 (71)\ttotal: 3.61s\tremaining: 46.5s\n72:\tlearn: 0.2046853\ttest: 0.6557101\tbest: 0.6557101 (72)\ttotal: 3.65s\tremaining: 46.3s\n73:\tlearn: 0.1999813\ttest: 0.6458067\tbest: 0.6458067 (73)\ttotal: 3.7s\tremaining: 46.3s\n74:\tlearn: 0.1963100\ttest: 0.6426797\tbest: 0.6426797 (74)\ttotal: 3.73s\tremaining: 46.1s\n75:\tlearn: 0.1922187\ttest: 0.6414760\tbest: 0.6414760 (75)\ttotal: 3.79s\tremaining: 46.1s\n76:\tlearn: 0.1878756\ttest: 0.6379070\tbest: 0.6379070 (76)\ttotal: 3.83s\tremaining: 46s\n77:\tlearn: 0.1837677\ttest: 0.6317012\tbest: 0.6317012 (77)\ttotal: 3.9s\tremaining: 46.1s\n78:\tlearn: 0.1811066\ttest: 0.6322115\tbest: 0.6317012 (77)\ttotal: 3.94s\tremaining: 45.9s\n79:\tlearn: 0.1778250\ttest: 0.6302729\tbest: 0.6302729 (79)\ttotal: 4s\tremaining: 46s\n80:\tlearn: 0.1743909\ttest: 0.6255287\tbest: 0.6255287 (80)\ttotal: 4.04s\tremaining: 45.9s\n81:\tlearn: 0.1715772\ttest: 0.6229930\tbest: 0.6229930 (81)\ttotal: 4.1s\tremaining: 45.9s\n82:\tlearn: 0.1696022\ttest: 0.6204094\tbest: 0.6204094 (82)\ttotal: 4.13s\tremaining: 45.7s\n83:\tlearn: 0.1666182\ttest: 0.6177222\tbest: 0.6177222 (83)\ttotal: 4.19s\tremaining: 45.7s\n84:\tlearn: 0.1634782\ttest: 0.6111573\tbest: 0.6111573 (84)\ttotal: 4.23s\tremaining: 45.6s\n85:\tlearn: 0.1600779\ttest: 0.6102968\tbest: 0.6102968 (85)\ttotal: 4.29s\tremaining: 45.6s\n86:\tlearn: 0.1569997\ttest: 0.6067265\tbest: 0.6067265 (86)\ttotal: 4.33s\tremaining: 45.4s\n87:\tlearn: 0.1538127\ttest: 0.6042458\tbest: 0.6042458 (87)\ttotal: 4.39s\tremaining: 45.5s\n88:\tlearn: 0.1515054\ttest: 0.6035591\tbest: 0.6035591 (88)\ttotal: 4.43s\tremaining: 45.3s\n89:\tlearn: 0.1490515\ttest: 0.5998653\tbest: 0.5998653 (89)\ttotal: 4.5s\tremaining: 45.5s\n90:\tlearn: 0.1459825\ttest: 0.5993341\tbest: 0.5993341 (90)\ttotal: 4.53s\tremaining: 45.3s\n91:\tlearn: 0.1435744\ttest: 0.5963893\tbest: 0.5963893 (91)\ttotal: 4.6s\tremaining: 45.4s\n92:\tlearn: 0.1406498\ttest: 0.5909954\tbest: 0.5909954 (92)\ttotal: 4.65s\tremaining: 45.4s\n93:\tlearn: 0.1376260\ttest: 0.5884671\tbest: 0.5884671 (93)\ttotal: 4.7s\tremaining: 45.3s\n94:\tlearn: 0.1354770\ttest: 0.5876222\tbest: 0.5876222 (94)\ttotal: 4.75s\tremaining: 45.2s\n95:\tlearn: 0.1336104\ttest: 0.5859557\tbest: 0.5859557 (95)\ttotal: 4.81s\tremaining: 45.3s\n96:\tlearn: 0.1320596\ttest: 0.5858067\tbest: 0.5858067 (96)\ttotal: 4.85s\tremaining: 45.1s\n97:\tlearn: 0.1298906\ttest: 0.5863546\tbest: 0.5858067 (96)\ttotal: 4.9s\tremaining: 45.1s\n98:\tlearn: 0.1272452\ttest: 0.5839717\tbest: 0.5839717 (98)\ttotal: 4.94s\tremaining: 45s\n99:\tlearn: 0.1256724\ttest: 0.5808203\tbest: 0.5808203 (99)\ttotal: 5s\tremaining: 45.1s\n100:\tlearn: 0.1238456\ttest: 0.5797909\tbest: 0.5797909 (100)\ttotal: 5.05s\tremaining: 45s\n101:\tlearn: 0.1219745\ttest: 0.5793934\tbest: 0.5793934 (101)\ttotal: 5.1s\tremaining: 44.9s\n102:\tlearn: 0.1203105\ttest: 0.5783159\tbest: 0.5783159 (102)\ttotal: 5.14s\tremaining: 44.8s\n103:\tlearn: 0.1174998\ttest: 0.5760428\tbest: 0.5760428 (103)\ttotal: 5.2s\tremaining: 44.8s\n104:\tlearn: 0.1160705\ttest: 0.5730792\tbest: 0.5730792 (104)\ttotal: 5.23s\tremaining: 44.6s\n105:\tlearn: 0.1143718\ttest: 0.5714001\tbest: 0.5714001 (105)\ttotal: 5.29s\tremaining: 44.6s\n106:\tlearn: 0.1129315\ttest: 0.5697636\tbest: 0.5697636 (106)\ttotal: 5.33s\tremaining: 44.5s\n107:\tlearn: 0.1109749\ttest: 0.5686305\tbest: 0.5686305 (107)\ttotal: 5.39s\tremaining: 44.5s\n108:\tlearn: 0.1090602\ttest: 0.5644873\tbest: 0.5644873 (108)\ttotal: 5.43s\tremaining: 44.4s\n109:\tlearn: 0.1079739\ttest: 0.5632537\tbest: 0.5632537 (109)\ttotal: 5.49s\tremaining: 44.4s\n110:\tlearn: 0.1068928\ttest: 0.5647528\tbest: 0.5632537 (109)\ttotal: 5.53s\tremaining: 44.3s\n111:\tlearn: 0.1056355\ttest: 0.5632582\tbest: 0.5632537 (109)\ttotal: 5.59s\tremaining: 44.3s\n112:\tlearn: 0.1043444\ttest: 0.5591122\tbest: 0.5591122 (112)\ttotal: 5.63s\tremaining: 44.2s\n113:\tlearn: 0.1032406\ttest: 0.5570557\tbest: 0.5570557 (113)\ttotal: 5.68s\tremaining: 44.2s\n114:\tlearn: 0.1021202\ttest: 0.5549997\tbest: 0.5549997 (114)\ttotal: 5.72s\tremaining: 44s\n115:\tlearn: 0.1010262\ttest: 0.5529844\tbest: 0.5529844 (115)\ttotal: 5.8s\tremaining: 44.2s\n116:\tlearn: 0.1000336\ttest: 0.5542335\tbest: 0.5529844 (115)\ttotal: 5.86s\tremaining: 44.3s\n117:\tlearn: 0.0983683\ttest: 0.5507050\tbest: 0.5507050 (117)\ttotal: 5.9s\tremaining: 44.1s\n118:\tlearn: 0.0968128\ttest: 0.5493635\tbest: 0.5493635 (118)\ttotal: 5.94s\tremaining: 44s\n119:\tlearn: 0.0958294\ttest: 0.5480539\tbest: 0.5480539 (119)\ttotal: 6s\tremaining: 44s\n120:\tlearn: 0.0945954\ttest: 0.5470718\tbest: 0.5470718 (120)\ttotal: 6.05s\tremaining: 44s\n121:\tlearn: 0.0926344\ttest: 0.5472140\tbest: 0.5470718 (120)\ttotal: 6.09s\tremaining: 43.9s\n122:\tlearn: 0.0909437\ttest: 0.5452439\tbest: 0.5452439 (122)\ttotal: 6.13s\tremaining: 43.7s\n123:\tlearn: 0.0896735\ttest: 0.5439866\tbest: 0.5439866 (123)\ttotal: 6.2s\tremaining: 43.8s\n124:\tlearn: 0.0887603\ttest: 0.5413727\tbest: 0.5413727 (124)\ttotal: 6.25s\tremaining: 43.8s\n125:\tlearn: 0.0876236\ttest: 0.5366989\tbest: 0.5366989 (125)\ttotal: 6.31s\tremaining: 43.8s\n126:\tlearn: 0.0864305\ttest: 0.5369784\tbest: 0.5366989 (125)\ttotal: 6.36s\tremaining: 43.7s\n127:\tlearn: 0.0855373\ttest: 0.5369976\tbest: 0.5366989 (125)\ttotal: 6.41s\tremaining: 43.7s\n128:\tlearn: 0.0846893\ttest: 0.5357653\tbest: 0.5357653 (128)\ttotal: 6.47s\tremaining: 43.7s\n129:\tlearn: 0.0837120\ttest: 0.5365156\tbest: 0.5357653 (128)\ttotal: 6.51s\tremaining: 43.6s\n130:\tlearn: 0.0830065\ttest: 0.5358748\tbest: 0.5357653 (128)\ttotal: 6.57s\tremaining: 43.6s\n131:\tlearn: 0.0823380\ttest: 0.5350209\tbest: 0.5350209 (131)\ttotal: 6.61s\tremaining: 43.5s\n132:\tlearn: 0.0813756\ttest: 0.5332720\tbest: 0.5332720 (132)\ttotal: 6.67s\tremaining: 43.5s\n133:\tlearn: 0.0803692\ttest: 0.5340460\tbest: 0.5332720 (132)\ttotal: 6.71s\tremaining: 43.4s\n134:\tlearn: 0.0796607\ttest: 0.5339473\tbest: 0.5332720 (132)\ttotal: 6.78s\tremaining: 43.4s\n135:\tlearn: 0.0782615\ttest: 0.5328527\tbest: 0.5328527 (135)\ttotal: 6.82s\tremaining: 43.3s\n136:\tlearn: 0.0775880\ttest: 0.5314411\tbest: 0.5314411 (136)\ttotal: 6.87s\tremaining: 43.3s\n137:\tlearn: 0.0768222\ttest: 0.5320995\tbest: 0.5314411 (136)\ttotal: 6.91s\tremaining: 43.2s\n138:\tlearn: 0.0759994\ttest: 0.5295075\tbest: 0.5295075 (138)\ttotal: 6.97s\tremaining: 43.2s\n139:\tlearn: 0.0753488\ttest: 0.5278902\tbest: 0.5278902 (139)\ttotal: 7.01s\tremaining: 43.1s\n140:\tlearn: 0.0747824\ttest: 0.5275812\tbest: 0.5275812 (140)\ttotal: 7.08s\tremaining: 43.1s\n141:\tlearn: 0.0739910\ttest: 0.5266645\tbest: 0.5266645 (141)\ttotal: 7.13s\tremaining: 43.1s\n142:\tlearn: 0.0731388\ttest: 0.5242469\tbest: 0.5242469 (142)\ttotal: 7.17s\tremaining: 43s\n143:\tlearn: 0.0723227\ttest: 0.5250290\tbest: 0.5242469 (142)\ttotal: 7.21s\tremaining: 42.9s\n144:\tlearn: 0.0716400\ttest: 0.5239934\tbest: 0.5239934 (144)\ttotal: 7.28s\tremaining: 42.9s\n145:\tlearn: 0.0711014\ttest: 0.5239074\tbest: 0.5239074 (145)\ttotal: 7.32s\tremaining: 42.8s\n146:\tlearn: 0.0703205\ttest: 0.5232233\tbest: 0.5232233 (146)\ttotal: 7.38s\tremaining: 42.8s\n147:\tlearn: 0.0696545\ttest: 0.5216518\tbest: 0.5216518 (147)\ttotal: 7.42s\tremaining: 42.7s\n148:\tlearn: 0.0691538\ttest: 0.5212594\tbest: 0.5212594 (148)\ttotal: 7.47s\tremaining: 42.7s\n149:\tlearn: 0.0685047\ttest: 0.5212493\tbest: 0.5212493 (149)\ttotal: 7.51s\tremaining: 42.6s\n150:\tlearn: 0.0679455\ttest: 0.5203168\tbest: 0.5203168 (150)\ttotal: 7.57s\tremaining: 42.6s\n151:\tlearn: 0.0670670\ttest: 0.5174969\tbest: 0.5174969 (151)\ttotal: 7.61s\tremaining: 42.4s\n152:\tlearn: 0.0666055\ttest: 0.5179588\tbest: 0.5174969 (151)\ttotal: 7.67s\tremaining: 42.5s\n153:\tlearn: 0.0659998\ttest: 0.5170142\tbest: 0.5170142 (153)\ttotal: 7.71s\tremaining: 42.3s\n154:\tlearn: 0.0654372\ttest: 0.5169296\tbest: 0.5169296 (154)\ttotal: 7.76s\tremaining: 42.3s\n155:\tlearn: 0.0648399\ttest: 0.5159857\tbest: 0.5159857 (155)\ttotal: 7.8s\tremaining: 42.2s\n156:\tlearn: 0.0643078\ttest: 0.5156118\tbest: 0.5156118 (156)\ttotal: 7.86s\tremaining: 42.2s\n157:\tlearn: 0.0634695\ttest: 0.5143077\tbest: 0.5143077 (157)\ttotal: 7.9s\tremaining: 42.1s\n158:\tlearn: 0.0628307\ttest: 0.5119440\tbest: 0.5119440 (158)\ttotal: 7.93s\tremaining: 42s\n159:\tlearn: 0.0620582\ttest: 0.5094432\tbest: 0.5094432 (159)\ttotal: 8s\tremaining: 42s\n160:\tlearn: 0.0613066\ttest: 0.5107167\tbest: 0.5094432 (159)\ttotal: 8.06s\tremaining: 42s\n161:\tlearn: 0.0604913\ttest: 0.5080402\tbest: 0.5080402 (161)\ttotal: 8.1s\tremaining: 41.9s\n162:\tlearn: 0.0601544\ttest: 0.5075650\tbest: 0.5075650 (162)\ttotal: 8.16s\tremaining: 41.9s\n163:\tlearn: 0.0596833\ttest: 0.5072830\tbest: 0.5072830 (163)\ttotal: 8.2s\tremaining: 41.8s\n164:\tlearn: 0.0591156\ttest: 0.5066268\tbest: 0.5066268 (164)\ttotal: 8.26s\tremaining: 41.8s\n165:\tlearn: 0.0584935\ttest: 0.5075873\tbest: 0.5066268 (164)\ttotal: 8.3s\tremaining: 41.7s\n166:\tlearn: 0.0581702\ttest: 0.5075886\tbest: 0.5066268 (164)\ttotal: 8.36s\tremaining: 41.7s\n167:\tlearn: 0.0578186\ttest: 0.5060491\tbest: 0.5060491 (167)\ttotal: 8.4s\tremaining: 41.6s\n168:\tlearn: 0.0572737\ttest: 0.5059042\tbest: 0.5059042 (168)\ttotal: 8.46s\tremaining: 41.6s\n169:\tlearn: 0.0569176\ttest: 0.5057829\tbest: 0.5057829 (169)\ttotal: 8.5s\tremaining: 41.5s\n170:\tlearn: 0.0564393\ttest: 0.5060901\tbest: 0.5057829 (169)\ttotal: 8.56s\tremaining: 41.5s\n171:\tlearn: 0.0560754\ttest: 0.5047539\tbest: 0.5047539 (171)\ttotal: 8.6s\tremaining: 41.4s\n172:\tlearn: 0.0557895\ttest: 0.5045612\tbest: 0.5045612 (172)\ttotal: 8.66s\tremaining: 41.4s\n173:\tlearn: 0.0552461\ttest: 0.5043218\tbest: 0.5043218 (173)\ttotal: 8.7s\tremaining: 41.3s\n174:\tlearn: 0.0548457\ttest: 0.5048595\tbest: 0.5043218 (173)\ttotal: 8.76s\tremaining: 41.3s\n175:\tlearn: 0.0545481\ttest: 0.5044626\tbest: 0.5043218 (173)\ttotal: 8.81s\tremaining: 41.2s\n176:\tlearn: 0.0540424\ttest: 0.5032407\tbest: 0.5032407 (176)\ttotal: 8.86s\tremaining: 41.2s\n177:\tlearn: 0.0536298\ttest: 0.5028021\tbest: 0.5028021 (177)\ttotal: 8.9s\tremaining: 41.1s\n178:\tlearn: 0.0531758\ttest: 0.5026650\tbest: 0.5026650 (178)\ttotal: 8.96s\tremaining: 41.1s\n179:\tlearn: 0.0527906\ttest: 0.5023116\tbest: 0.5023116 (179)\ttotal: 9s\tremaining: 41s\n180:\tlearn: 0.0523760\ttest: 0.5018757\tbest: 0.5018757 (180)\ttotal: 9.07s\tremaining: 41.1s\n181:\tlearn: 0.0520269\ttest: 0.5011698\tbest: 0.5011698 (181)\ttotal: 9.13s\tremaining: 41s\n182:\tlearn: 0.0516736\ttest: 0.4995691\tbest: 0.4995691 (182)\ttotal: 9.17s\tremaining: 40.9s\n183:\tlearn: 0.0511760\ttest: 0.4976354\tbest: 0.4976354 (183)\ttotal: 9.21s\tremaining: 40.8s\n184:\tlearn: 0.0506767\ttest: 0.4971854\tbest: 0.4971854 (184)\ttotal: 9.27s\tremaining: 40.8s\n185:\tlearn: 0.0502400\ttest: 0.4955772\tbest: 0.4955772 (185)\ttotal: 9.31s\tremaining: 40.7s\n186:\tlearn: 0.0498602\ttest: 0.4945556\tbest: 0.4945556 (186)\ttotal: 9.37s\tremaining: 40.7s\n187:\tlearn: 0.0494165\ttest: 0.4935954\tbest: 0.4935954 (187)\ttotal: 9.41s\tremaining: 40.7s\n188:\tlearn: 0.0491554\ttest: 0.4934571\tbest: 0.4934571 (188)\ttotal: 9.47s\tremaining: 40.6s\n189:\tlearn: 0.0488812\ttest: 0.4936872\tbest: 0.4934571 (188)\ttotal: 9.51s\tremaining: 40.5s\n190:\tlearn: 0.0485230\ttest: 0.4919176\tbest: 0.4919176 (190)\ttotal: 9.57s\tremaining: 40.6s\n191:\tlearn: 0.0482104\ttest: 0.4921529\tbest: 0.4919176 (190)\ttotal: 9.62s\tremaining: 40.5s\n192:\tlearn: 0.0478663\ttest: 0.4914313\tbest: 0.4914313 (192)\ttotal: 9.68s\tremaining: 40.5s\n193:\tlearn: 0.0474333\ttest: 0.4911802\tbest: 0.4911802 (193)\ttotal: 9.72s\tremaining: 40.4s\n194:\tlearn: 0.0471117\ttest: 0.4895712\tbest: 0.4895712 (194)\ttotal: 9.78s\tremaining: 40.4s\n195:\tlearn: 0.0468755\ttest: 0.4891159\tbest: 0.4891159 (195)\ttotal: 9.83s\tremaining: 40.3s\n196:\tlearn: 0.0465692\ttest: 0.4894690\tbest: 0.4891159 (195)\ttotal: 9.89s\tremaining: 40.3s\n197:\tlearn: 0.0462983\ttest: 0.4891605\tbest: 0.4891159 (195)\ttotal: 9.94s\tremaining: 40.2s\n198:\tlearn: 0.0459593\ttest: 0.4889199\tbest: 0.4889199 (198)\ttotal: 9.97s\tremaining: 40.2s\n199:\tlearn: 0.0456771\ttest: 0.4872328\tbest: 0.4872328 (199)\ttotal: 10s\tremaining: 40s\n200:\tlearn: 0.0454474\ttest: 0.4863469\tbest: 0.4863469 (200)\ttotal: 10.1s\tremaining: 40s\n201:\tlearn: 0.0450985\ttest: 0.4866247\tbest: 0.4863469 (200)\ttotal: 10.1s\tremaining: 40s\n202:\tlearn: 0.0447596\ttest: 0.4860107\tbest: 0.4860107 (202)\ttotal: 10.2s\tremaining: 40s\n203:\tlearn: 0.0444562\ttest: 0.4858955\tbest: 0.4858955 (203)\ttotal: 10.2s\tremaining: 39.9s\n204:\tlearn: 0.0439165\ttest: 0.4835456\tbest: 0.4835456 (204)\ttotal: 10.3s\tremaining: 39.9s\n205:\tlearn: 0.0435712\ttest: 0.4822974\tbest: 0.4822974 (205)\ttotal: 10.3s\tremaining: 39.8s\n206:\tlearn: 0.0432790\ttest: 0.4817025\tbest: 0.4817025 (206)\ttotal: 10.4s\tremaining: 39.8s\n207:\tlearn: 0.0430883\ttest: 0.4819363\tbest: 0.4817025 (206)\ttotal: 10.4s\tremaining: 39.7s\n208:\tlearn: 0.0426979\ttest: 0.4811379\tbest: 0.4811379 (208)\ttotal: 10.5s\tremaining: 39.6s\n209:\tlearn: 0.0424513\ttest: 0.4804527\tbest: 0.4804527 (209)\ttotal: 10.5s\tremaining: 39.6s\n210:\tlearn: 0.0421220\ttest: 0.4798745\tbest: 0.4798745 (210)\ttotal: 10.6s\tremaining: 39.5s\n211:\tlearn: 0.0418246\ttest: 0.4810059\tbest: 0.4798745 (210)\ttotal: 10.6s\tremaining: 39.4s\n212:\tlearn: 0.0416116\ttest: 0.4804487\tbest: 0.4798745 (210)\ttotal: 10.7s\tremaining: 39.4s\n213:\tlearn: 0.0413749\ttest: 0.4795613\tbest: 0.4795613 (213)\ttotal: 10.7s\tremaining: 39.3s\n214:\tlearn: 0.0410908\ttest: 0.4795585\tbest: 0.4795585 (214)\ttotal: 10.8s\tremaining: 39.3s\n215:\tlearn: 0.0408289\ttest: 0.4799366\tbest: 0.4795585 (214)\ttotal: 10.8s\tremaining: 39.2s\n216:\tlearn: 0.0406102\ttest: 0.4796343\tbest: 0.4795585 (214)\ttotal: 10.9s\tremaining: 39.2s\n217:\tlearn: 0.0403292\ttest: 0.4789266\tbest: 0.4789266 (217)\ttotal: 10.9s\tremaining: 39.1s\n218:\tlearn: 0.0401884\ttest: 0.4784204\tbest: 0.4784204 (218)\ttotal: 11s\tremaining: 39.1s\n219:\tlearn: 0.0398934\ttest: 0.4770869\tbest: 0.4770869 (219)\ttotal: 11s\tremaining: 39s\n220:\tlearn: 0.0397177\ttest: 0.4770569\tbest: 0.4770569 (220)\ttotal: 11.1s\tremaining: 39s\n221:\tlearn: 0.0395201\ttest: 0.4765004\tbest: 0.4765004 (221)\ttotal: 11.1s\tremaining: 39.1s\n222:\tlearn: 0.0393720\ttest: 0.4766402\tbest: 0.4765004 (221)\ttotal: 11.2s\tremaining: 39s\n223:\tlearn: 0.0391737\ttest: 0.4766633\tbest: 0.4765004 (221)\ttotal: 11.2s\tremaining: 38.9s\n224:\tlearn: 0.0389614\ttest: 0.4756583\tbest: 0.4756583 (224)\ttotal: 11.3s\tremaining: 38.8s\n225:\tlearn: 0.0387800\ttest: 0.4755576\tbest: 0.4755576 (225)\ttotal: 11.3s\tremaining: 38.8s\n226:\tlearn: 0.0383963\ttest: 0.4761138\tbest: 0.4755576 (225)\ttotal: 11.4s\tremaining: 38.7s\n227:\tlearn: 0.0380932\ttest: 0.4764408\tbest: 0.4755576 (225)\ttotal: 11.4s\tremaining: 38.6s\n228:\tlearn: 0.0377890\ttest: 0.4757892\tbest: 0.4755576 (225)\ttotal: 11.5s\tremaining: 38.6s\n229:\tlearn: 0.0376104\ttest: 0.4752460\tbest: 0.4752460 (229)\ttotal: 11.5s\tremaining: 38.5s\n230:\tlearn: 0.0374173\ttest: 0.4753438\tbest: 0.4752460 (229)\ttotal: 11.6s\tremaining: 38.5s\n231:\tlearn: 0.0372520\ttest: 0.4753216\tbest: 0.4752460 (229)\ttotal: 11.6s\tremaining: 38.4s\n232:\tlearn: 0.0369733\ttest: 0.4763380\tbest: 0.4752460 (229)\ttotal: 11.7s\tremaining: 38.4s\n233:\tlearn: 0.0367453\ttest: 0.4760752\tbest: 0.4752460 (229)\ttotal: 11.7s\tremaining: 38.3s\n234:\tlearn: 0.0365649\ttest: 0.4759582\tbest: 0.4752460 (229)\ttotal: 11.8s\tremaining: 38.3s\n235:\tlearn: 0.0363649\ttest: 0.4748494\tbest: 0.4748494 (235)\ttotal: 11.8s\tremaining: 38.2s\n236:\tlearn: 0.0361679\ttest: 0.4744865\tbest: 0.4744865 (236)\ttotal: 11.9s\tremaining: 38.2s\n237:\tlearn: 0.0359774\ttest: 0.4745245\tbest: 0.4744865 (236)\ttotal: 11.9s\tremaining: 38.1s\n238:\tlearn: 0.0357630\ttest: 0.4740158\tbest: 0.4740158 (238)\ttotal: 12s\tremaining: 38.1s\n239:\tlearn: 0.0355316\ttest: 0.4738386\tbest: 0.4738386 (239)\ttotal: 12s\tremaining: 38s\n240:\tlearn: 0.0352990\ttest: 0.4737176\tbest: 0.4737176 (240)\ttotal: 12.1s\tremaining: 38s\n241:\tlearn: 0.0351637\ttest: 0.4738533\tbest: 0.4737176 (240)\ttotal: 12.1s\tremaining: 37.9s\n242:\tlearn: 0.0349476\ttest: 0.4729669\tbest: 0.4729669 (242)\ttotal: 12.2s\tremaining: 37.9s\n243:\tlearn: 0.0347464\ttest: 0.4712518\tbest: 0.4712518 (243)\ttotal: 12.2s\tremaining: 37.8s\n244:\tlearn: 0.0344164\ttest: 0.4717334\tbest: 0.4712518 (243)\ttotal: 12.3s\tremaining: 37.8s\n245:\tlearn: 0.0342196\ttest: 0.4712242\tbest: 0.4712242 (245)\ttotal: 12.3s\tremaining: 37.7s\n246:\tlearn: 0.0341028\ttest: 0.4705345\tbest: 0.4705345 (246)\ttotal: 12.4s\tremaining: 37.7s\n247:\tlearn: 0.0339713\ttest: 0.4697264\tbest: 0.4697264 (247)\ttotal: 12.4s\tremaining: 37.6s\n248:\tlearn: 0.0337461\ttest: 0.4699973\tbest: 0.4697264 (247)\ttotal: 12.5s\tremaining: 37.6s\n249:\tlearn: 0.0335593\ttest: 0.4694263\tbest: 0.4694263 (249)\ttotal: 12.5s\tremaining: 37.5s\n250:\tlearn: 0.0333863\ttest: 0.4691425\tbest: 0.4691425 (250)\ttotal: 12.6s\tremaining: 37.5s\n251:\tlearn: 0.0332713\ttest: 0.4689823\tbest: 0.4689823 (251)\ttotal: 12.6s\tremaining: 37.4s\n252:\tlearn: 0.0329968\ttest: 0.4699002\tbest: 0.4689823 (251)\ttotal: 12.7s\tremaining: 37.4s\n253:\tlearn: 0.0327386\ttest: 0.4702106\tbest: 0.4689823 (251)\ttotal: 12.7s\tremaining: 37.3s\n254:\tlearn: 0.0326214\ttest: 0.4701155\tbest: 0.4689823 (251)\ttotal: 12.8s\tremaining: 37.3s\n255:\tlearn: 0.0323906\ttest: 0.4703995\tbest: 0.4689823 (251)\ttotal: 12.8s\tremaining: 37.3s\n256:\tlearn: 0.0321849\ttest: 0.4710221\tbest: 0.4689823 (251)\ttotal: 12.9s\tremaining: 37.3s\n257:\tlearn: 0.0320647\ttest: 0.4709554\tbest: 0.4689823 (251)\ttotal: 13s\tremaining: 37.3s\n258:\tlearn: 0.0319050\ttest: 0.4714772\tbest: 0.4689823 (251)\ttotal: 13s\tremaining: 37.2s\n259:\tlearn: 0.0317075\ttest: 0.4699076\tbest: 0.4689823 (251)\ttotal: 13s\tremaining: 37.1s\n260:\tlearn: 0.0315782\ttest: 0.4695017\tbest: 0.4689823 (251)\ttotal: 13.1s\tremaining: 37.1s\n261:\tlearn: 0.0313629\ttest: 0.4707193\tbest: 0.4689823 (251)\ttotal: 13.2s\tremaining: 37s\n262:\tlearn: 0.0312322\ttest: 0.4707082\tbest: 0.4689823 (251)\ttotal: 13.2s\tremaining: 37s\n263:\tlearn: 0.0311028\ttest: 0.4701336\tbest: 0.4689823 (251)\ttotal: 13.3s\tremaining: 37s\n264:\tlearn: 0.0309808\ttest: 0.4699433\tbest: 0.4689823 (251)\ttotal: 13.3s\tremaining: 36.9s\n265:\tlearn: 0.0307565\ttest: 0.4693443\tbest: 0.4689823 (251)\ttotal: 13.4s\tremaining: 36.9s\n266:\tlearn: 0.0306400\ttest: 0.4693157\tbest: 0.4689823 (251)\ttotal: 13.4s\tremaining: 36.8s\n267:\tlearn: 0.0304771\ttest: 0.4695836\tbest: 0.4689823 (251)\ttotal: 13.5s\tremaining: 36.8s\n268:\tlearn: 0.0303658\ttest: 0.4687402\tbest: 0.4687402 (268)\ttotal: 13.5s\tremaining: 36.7s\n269:\tlearn: 0.0302322\ttest: 0.4697040\tbest: 0.4687402 (268)\ttotal: 13.6s\tremaining: 36.7s\n270:\tlearn: 0.0300883\ttest: 0.4688317\tbest: 0.4687402 (268)\ttotal: 13.6s\tremaining: 36.6s\n271:\tlearn: 0.0299566\ttest: 0.4688555\tbest: 0.4687402 (268)\ttotal: 13.7s\tremaining: 36.6s\n272:\tlearn: 0.0297411\ttest: 0.4680642\tbest: 0.4680642 (272)\ttotal: 13.7s\tremaining: 36.5s\n273:\tlearn: 0.0296217\ttest: 0.4679253\tbest: 0.4679253 (273)\ttotal: 13.8s\tremaining: 36.5s\n274:\tlearn: 0.0294651\ttest: 0.4672363\tbest: 0.4672363 (274)\ttotal: 13.8s\tremaining: 36.4s\n275:\tlearn: 0.0292597\ttest: 0.4683216\tbest: 0.4672363 (274)\ttotal: 13.9s\tremaining: 36.4s\n276:\tlearn: 0.0290940\ttest: 0.4685584\tbest: 0.4672363 (274)\ttotal: 13.9s\tremaining: 36.4s\n277:\tlearn: 0.0289904\ttest: 0.4678576\tbest: 0.4672363 (274)\ttotal: 14s\tremaining: 36.3s\n278:\tlearn: 0.0288625\ttest: 0.4680698\tbest: 0.4672363 (274)\ttotal: 14s\tremaining: 36.3s\n279:\tlearn: 0.0287561\ttest: 0.4685651\tbest: 0.4672363 (274)\ttotal: 14.1s\tremaining: 36.2s\n280:\tlearn: 0.0286245\ttest: 0.4676160\tbest: 0.4672363 (274)\ttotal: 14.1s\tremaining: 36.2s\n281:\tlearn: 0.0285280\ttest: 0.4674874\tbest: 0.4672363 (274)\ttotal: 14.2s\tremaining: 36.1s\n282:\tlearn: 0.0284445\ttest: 0.4673233\tbest: 0.4672363 (274)\ttotal: 14.2s\tremaining: 36.1s\n283:\tlearn: 0.0283256\ttest: 0.4671041\tbest: 0.4671041 (283)\ttotal: 14.3s\tremaining: 36s\n284:\tlearn: 0.0282321\ttest: 0.4672312\tbest: 0.4671041 (283)\ttotal: 14.3s\tremaining: 36s\n285:\tlearn: 0.0280994\ttest: 0.4666701\tbest: 0.4666701 (285)\ttotal: 14.4s\tremaining: 35.9s\n286:\tlearn: 0.0279593\ttest: 0.4665784\tbest: 0.4665784 (286)\ttotal: 14.4s\tremaining: 35.9s\n287:\tlearn: 0.0278163\ttest: 0.4659702\tbest: 0.4659702 (287)\ttotal: 14.5s\tremaining: 35.8s\n288:\tlearn: 0.0276557\ttest: 0.4665007\tbest: 0.4659702 (287)\ttotal: 14.6s\tremaining: 35.8s\n289:\tlearn: 0.0274614\ttest: 0.4668475\tbest: 0.4659702 (287)\ttotal: 14.6s\tremaining: 35.8s\n290:\tlearn: 0.0273656\ttest: 0.4661806\tbest: 0.4659702 (287)\ttotal: 14.7s\tremaining: 35.7s\n291:\tlearn: 0.0272465\ttest: 0.4656536\tbest: 0.4656536 (291)\ttotal: 14.7s\tremaining: 35.7s\n292:\tlearn: 0.0271230\ttest: 0.4656489\tbest: 0.4656489 (292)\ttotal: 14.8s\tremaining: 35.6s\n293:\tlearn: 0.0270300\ttest: 0.4650317\tbest: 0.4650317 (293)\ttotal: 14.8s\tremaining: 35.6s\n294:\tlearn: 0.0269059\ttest: 0.4650573\tbest: 0.4650317 (293)\ttotal: 14.9s\tremaining: 35.5s\n295:\tlearn: 0.0268034\ttest: 0.4649488\tbest: 0.4649488 (295)\ttotal: 14.9s\tremaining: 35.4s\n296:\tlearn: 0.0267083\ttest: 0.4647635\tbest: 0.4647635 (296)\ttotal: 15s\tremaining: 35.4s\n297:\tlearn: 0.0266136\ttest: 0.4645919\tbest: 0.4645919 (297)\ttotal: 15s\tremaining: 35.3s\n298:\tlearn: 0.0264976\ttest: 0.4641367\tbest: 0.4641367 (298)\ttotal: 15.1s\tremaining: 35.3s\n299:\tlearn: 0.0263483\ttest: 0.4628629\tbest: 0.4628629 (299)\ttotal: 15.1s\tremaining: 35.3s\n300:\tlearn: 0.0262404\ttest: 0.4628546\tbest: 0.4628546 (300)\ttotal: 15.2s\tremaining: 35.2s\n301:\tlearn: 0.0261166\ttest: 0.4625411\tbest: 0.4625411 (301)\ttotal: 15.2s\tremaining: 35.2s\n302:\tlearn: 0.0260009\ttest: 0.4620591\tbest: 0.4620591 (302)\ttotal: 15.3s\tremaining: 35.1s\n303:\tlearn: 0.0259152\ttest: 0.4621146\tbest: 0.4620591 (302)\ttotal: 15.3s\tremaining: 35.1s\n304:\tlearn: 0.0258045\ttest: 0.4622551\tbest: 0.4620591 (302)\ttotal: 15.4s\tremaining: 35s\n305:\tlearn: 0.0257198\ttest: 0.4625723\tbest: 0.4620591 (302)\ttotal: 15.4s\tremaining: 35s\n306:\tlearn: 0.0256517\ttest: 0.4625677\tbest: 0.4620591 (302)\ttotal: 15.5s\tremaining: 34.9s\n307:\tlearn: 0.0255625\ttest: 0.4625412\tbest: 0.4620591 (302)\ttotal: 15.5s\tremaining: 34.9s\n308:\tlearn: 0.0254890\ttest: 0.4625161\tbest: 0.4620591 (302)\ttotal: 15.6s\tremaining: 34.8s\n309:\tlearn: 0.0253994\ttest: 0.4622371\tbest: 0.4620591 (302)\ttotal: 15.6s\tremaining: 34.8s\n310:\tlearn: 0.0253001\ttest: 0.4617471\tbest: 0.4617471 (310)\ttotal: 15.7s\tremaining: 34.7s\n311:\tlearn: 0.0252226\ttest: 0.4616006\tbest: 0.4616006 (311)\ttotal: 15.7s\tremaining: 34.7s\n312:\tlearn: 0.0251273\ttest: 0.4617868\tbest: 0.4616006 (311)\ttotal: 15.8s\tremaining: 34.6s\n313:\tlearn: 0.0249655\ttest: 0.4611741\tbest: 0.4611741 (313)\ttotal: 15.8s\tremaining: 34.5s\n314:\tlearn: 0.0248765\ttest: 0.4612429\tbest: 0.4611741 (313)\ttotal: 15.9s\tremaining: 34.5s\n315:\tlearn: 0.0247978\ttest: 0.4616297\tbest: 0.4611741 (313)\ttotal: 15.9s\tremaining: 34.4s\n316:\tlearn: 0.0247136\ttest: 0.4615943\tbest: 0.4611741 (313)\ttotal: 16s\tremaining: 34.4s\n317:\tlearn: 0.0245902\ttest: 0.4617055\tbest: 0.4611741 (313)\ttotal: 16s\tremaining: 34.3s\n318:\tlearn: 0.0244758\ttest: 0.4620922\tbest: 0.4611741 (313)\ttotal: 16.1s\tremaining: 34.3s\n319:\tlearn: 0.0244004\ttest: 0.4620962\tbest: 0.4611741 (313)\ttotal: 16.1s\tremaining: 34.2s\n320:\tlearn: 0.0243171\ttest: 0.4625181\tbest: 0.4611741 (313)\ttotal: 16.2s\tremaining: 34.2s\n321:\tlearn: 0.0241981\ttest: 0.4624081\tbest: 0.4611741 (313)\ttotal: 16.2s\tremaining: 34.1s\n322:\tlearn: 0.0240991\ttest: 0.4627645\tbest: 0.4611741 (313)\ttotal: 16.3s\tremaining: 34.1s\n323:\tlearn: 0.0240126\ttest: 0.4631590\tbest: 0.4611741 (313)\ttotal: 16.3s\tremaining: 34.1s\n324:\tlearn: 0.0239372\ttest: 0.4632306\tbest: 0.4611741 (313)\ttotal: 16.4s\tremaining: 34s\n325:\tlearn: 0.0238521\ttest: 0.4629690\tbest: 0.4611741 (313)\ttotal: 16.4s\tremaining: 34s\n326:\tlearn: 0.0237399\ttest: 0.4626464\tbest: 0.4611741 (313)\ttotal: 16.5s\tremaining: 33.9s\n327:\tlearn: 0.0236418\ttest: 0.4631026\tbest: 0.4611741 (313)\ttotal: 16.5s\tremaining: 33.9s\n328:\tlearn: 0.0235845\ttest: 0.4630334\tbest: 0.4611741 (313)\ttotal: 16.6s\tremaining: 33.8s\n329:\tlearn: 0.0235155\ttest: 0.4628998\tbest: 0.4611741 (313)\ttotal: 16.6s\tremaining: 33.7s\n330:\tlearn: 0.0234159\ttest: 0.4628762\tbest: 0.4611741 (313)\ttotal: 16.7s\tremaining: 33.7s\n331:\tlearn: 0.0233446\ttest: 0.4624830\tbest: 0.4611741 (313)\ttotal: 16.7s\tremaining: 33.6s\n332:\tlearn: 0.0231757\ttest: 0.4628137\tbest: 0.4611741 (313)\ttotal: 16.8s\tremaining: 33.6s\n333:\tlearn: 0.0231160\ttest: 0.4629982\tbest: 0.4611741 (313)\ttotal: 16.8s\tremaining: 33.5s\n334:\tlearn: 0.0230272\ttest: 0.4628392\tbest: 0.4611741 (313)\ttotal: 16.9s\tremaining: 33.5s\n335:\tlearn: 0.0229575\ttest: 0.4627244\tbest: 0.4611741 (313)\ttotal: 16.9s\tremaining: 33.4s\n336:\tlearn: 0.0228733\ttest: 0.4619236\tbest: 0.4611741 (313)\ttotal: 17s\tremaining: 33.4s\n337:\tlearn: 0.0227836\ttest: 0.4623577\tbest: 0.4611741 (313)\ttotal: 17s\tremaining: 33.3s\n338:\tlearn: 0.0226677\ttest: 0.4624882\tbest: 0.4611741 (313)\ttotal: 17.1s\tremaining: 33.3s\n339:\tlearn: 0.0225922\ttest: 0.4626805\tbest: 0.4611741 (313)\ttotal: 17.1s\tremaining: 33.2s\n340:\tlearn: 0.0224942\ttest: 0.4625567\tbest: 0.4611741 (313)\ttotal: 17.2s\tremaining: 33.2s\n341:\tlearn: 0.0224211\ttest: 0.4622991\tbest: 0.4611741 (313)\ttotal: 17.2s\tremaining: 33.1s\n342:\tlearn: 0.0223390\ttest: 0.4625891\tbest: 0.4611741 (313)\ttotal: 17.3s\tremaining: 33s\n343:\tlearn: 0.0222783\ttest: 0.4625829\tbest: 0.4611741 (313)\ttotal: 17.3s\tremaining: 33s\n344:\tlearn: 0.0222146\ttest: 0.4623910\tbest: 0.4611741 (313)\ttotal: 17.4s\tremaining: 32.9s\n345:\tlearn: 0.0221202\ttest: 0.4621402\tbest: 0.4611741 (313)\ttotal: 17.4s\tremaining: 32.9s\n346:\tlearn: 0.0220290\ttest: 0.4613300\tbest: 0.4611741 (313)\ttotal: 17.4s\tremaining: 32.8s\n347:\tlearn: 0.0219527\ttest: 0.4617246\tbest: 0.4611741 (313)\ttotal: 17.5s\tremaining: 32.8s\n348:\tlearn: 0.0218524\ttest: 0.4613195\tbest: 0.4611741 (313)\ttotal: 17.5s\tremaining: 32.7s\n349:\tlearn: 0.0217875\ttest: 0.4613121\tbest: 0.4611741 (313)\ttotal: 17.6s\tremaining: 32.7s\n350:\tlearn: 0.0217320\ttest: 0.4615281\tbest: 0.4611741 (313)\ttotal: 17.6s\tremaining: 32.6s\n351:\tlearn: 0.0216702\ttest: 0.4616758\tbest: 0.4611741 (313)\ttotal: 17.7s\tremaining: 32.5s\n352:\tlearn: 0.0215640\ttest: 0.4616014\tbest: 0.4611741 (313)\ttotal: 17.7s\tremaining: 32.5s\n353:\tlearn: 0.0214934\ttest: 0.4615849\tbest: 0.4611741 (313)\ttotal: 17.8s\tremaining: 32.4s\n354:\tlearn: 0.0214348\ttest: 0.4620201\tbest: 0.4611741 (313)\ttotal: 17.8s\tremaining: 32.4s\n355:\tlearn: 0.0213629\ttest: 0.4614852\tbest: 0.4611741 (313)\ttotal: 17.9s\tremaining: 32.3s\n356:\tlearn: 0.0213007\ttest: 0.4616223\tbest: 0.4611741 (313)\ttotal: 17.9s\tremaining: 32.3s\n357:\tlearn: 0.0212249\ttest: 0.4615323\tbest: 0.4611741 (313)\ttotal: 18s\tremaining: 32.2s\n358:\tlearn: 0.0211587\ttest: 0.4614111\tbest: 0.4611741 (313)\ttotal: 18s\tremaining: 32.2s\n359:\tlearn: 0.0210837\ttest: 0.4616255\tbest: 0.4611741 (313)\ttotal: 18.1s\tremaining: 32.1s\n360:\tlearn: 0.0210075\ttest: 0.4617549\tbest: 0.4611741 (313)\ttotal: 18.1s\tremaining: 32.1s\n361:\tlearn: 0.0209506\ttest: 0.4614877\tbest: 0.4611741 (313)\ttotal: 18.2s\tremaining: 32s\n362:\tlearn: 0.0208865\ttest: 0.4609705\tbest: 0.4609705 (362)\ttotal: 18.2s\tremaining: 32s\n363:\tlearn: 0.0208173\ttest: 0.4608440\tbest: 0.4608440 (363)\ttotal: 18.3s\tremaining: 31.9s\n364:\tlearn: 0.0207397\ttest: 0.4611887\tbest: 0.4608440 (363)\ttotal: 18.3s\tremaining: 31.9s\n365:\tlearn: 0.0206780\ttest: 0.4612705\tbest: 0.4608440 (363)\ttotal: 18.4s\tremaining: 31.8s\n366:\tlearn: 0.0206343\ttest: 0.4612399\tbest: 0.4608440 (363)\ttotal: 18.4s\tremaining: 31.8s\n367:\tlearn: 0.0205179\ttest: 0.4615931\tbest: 0.4608440 (363)\ttotal: 18.4s\tremaining: 31.7s\n368:\tlearn: 0.0204735\ttest: 0.4616447\tbest: 0.4608440 (363)\ttotal: 18.5s\tremaining: 31.7s\n369:\tlearn: 0.0204084\ttest: 0.4614374\tbest: 0.4608440 (363)\ttotal: 18.5s\tremaining: 31.6s\n370:\tlearn: 0.0203496\ttest: 0.4614192\tbest: 0.4608440 (363)\ttotal: 18.6s\tremaining: 31.6s\n371:\tlearn: 0.0202943\ttest: 0.4617645\tbest: 0.4608440 (363)\ttotal: 18.6s\tremaining: 31.5s\n372:\tlearn: 0.0202040\ttest: 0.4614340\tbest: 0.4608440 (363)\ttotal: 18.7s\tremaining: 31.4s\n373:\tlearn: 0.0201396\ttest: 0.4609516\tbest: 0.4608440 (363)\ttotal: 18.7s\tremaining: 31.4s\n374:\tlearn: 0.0200246\ttest: 0.4613001\tbest: 0.4608440 (363)\ttotal: 18.8s\tremaining: 31.3s\n375:\tlearn: 0.0199645\ttest: 0.4611988\tbest: 0.4608440 (363)\ttotal: 18.9s\tremaining: 31.3s\n376:\tlearn: 0.0199032\ttest: 0.4611393\tbest: 0.4608440 (363)\ttotal: 18.9s\tremaining: 31.2s\n377:\tlearn: 0.0198277\ttest: 0.4612689\tbest: 0.4608440 (363)\ttotal: 18.9s\tremaining: 31.2s\n378:\tlearn: 0.0197555\ttest: 0.4616531\tbest: 0.4608440 (363)\ttotal: 19s\tremaining: 31.1s\n379:\tlearn: 0.0197072\ttest: 0.4617155\tbest: 0.4608440 (363)\ttotal: 19s\tremaining: 31.1s\n380:\tlearn: 0.0196403\ttest: 0.4611717\tbest: 0.4608440 (363)\ttotal: 19.1s\tremaining: 31s\n381:\tlearn: 0.0195822\ttest: 0.4611496\tbest: 0.4608440 (363)\ttotal: 19.1s\tremaining: 31s\n382:\tlearn: 0.0195224\ttest: 0.4611962\tbest: 0.4608440 (363)\ttotal: 19.2s\tremaining: 30.9s\n383:\tlearn: 0.0194731\ttest: 0.4609109\tbest: 0.4608440 (363)\ttotal: 19.2s\tremaining: 30.9s\n384:\tlearn: 0.0194236\ttest: 0.4608365\tbest: 0.4608365 (384)\ttotal: 19.3s\tremaining: 30.8s\n385:\tlearn: 0.0193651\ttest: 0.4606660\tbest: 0.4606660 (385)\ttotal: 19.3s\tremaining: 30.8s\n386:\tlearn: 0.0193221\ttest: 0.4605488\tbest: 0.4605488 (386)\ttotal: 19.4s\tremaining: 30.7s\n387:\tlearn: 0.0192586\ttest: 0.4602165\tbest: 0.4602165 (387)\ttotal: 19.4s\tremaining: 30.6s\n388:\tlearn: 0.0191993\ttest: 0.4602696\tbest: 0.4602165 (387)\ttotal: 19.5s\tremaining: 30.6s\n389:\tlearn: 0.0191200\ttest: 0.4596204\tbest: 0.4596204 (389)\ttotal: 19.5s\tremaining: 30.5s\n390:\tlearn: 0.0190693\ttest: 0.4594887\tbest: 0.4594887 (390)\ttotal: 19.6s\tremaining: 30.5s\n391:\tlearn: 0.0190281\ttest: 0.4595483\tbest: 0.4594887 (390)\ttotal: 19.6s\tremaining: 30.4s\n392:\tlearn: 0.0189687\ttest: 0.4593133\tbest: 0.4593133 (392)\ttotal: 19.7s\tremaining: 30.4s\n393:\tlearn: 0.0189112\ttest: 0.4593823\tbest: 0.4593133 (392)\ttotal: 19.7s\tremaining: 30.3s\n394:\tlearn: 0.0188643\ttest: 0.4593220\tbest: 0.4593133 (392)\ttotal: 19.8s\tremaining: 30.3s\n395:\tlearn: 0.0187989\ttest: 0.4596155\tbest: 0.4593133 (392)\ttotal: 19.8s\tremaining: 30.2s\n396:\tlearn: 0.0187530\ttest: 0.4595926\tbest: 0.4593133 (392)\ttotal: 19.9s\tremaining: 30.2s\n397:\tlearn: 0.0186873\ttest: 0.4594857\tbest: 0.4593133 (392)\ttotal: 19.9s\tremaining: 30.1s\n398:\tlearn: 0.0186391\ttest: 0.4596436\tbest: 0.4593133 (392)\ttotal: 20s\tremaining: 30.1s\n399:\tlearn: 0.0185861\ttest: 0.4597231\tbest: 0.4593133 (392)\ttotal: 20s\tremaining: 30s\n400:\tlearn: 0.0185196\ttest: 0.4595819\tbest: 0.4593133 (392)\ttotal: 20.1s\tremaining: 30s\n401:\tlearn: 0.0184781\ttest: 0.4596679\tbest: 0.4593133 (392)\ttotal: 20.1s\tremaining: 29.9s\n402:\tlearn: 0.0184319\ttest: 0.4597559\tbest: 0.4593133 (392)\ttotal: 20.1s\tremaining: 29.8s\n403:\tlearn: 0.0183690\ttest: 0.4596463\tbest: 0.4593133 (392)\ttotal: 20.2s\tremaining: 29.8s\n404:\tlearn: 0.0183159\ttest: 0.4594096\tbest: 0.4593133 (392)\ttotal: 20.3s\tremaining: 29.8s\n405:\tlearn: 0.0182830\ttest: 0.4596964\tbest: 0.4593133 (392)\ttotal: 20.3s\tremaining: 29.7s\n406:\tlearn: 0.0182320\ttest: 0.4594567\tbest: 0.4593133 (392)\ttotal: 20.4s\tremaining: 29.7s\n407:\tlearn: 0.0181860\ttest: 0.4591871\tbest: 0.4591871 (407)\ttotal: 20.4s\tremaining: 29.6s\n408:\tlearn: 0.0181398\ttest: 0.4593157\tbest: 0.4591871 (407)\ttotal: 20.4s\tremaining: 29.5s\n409:\tlearn: 0.0180529\ttest: 0.4593494\tbest: 0.4591871 (407)\ttotal: 20.5s\tremaining: 29.5s\n410:\tlearn: 0.0180160\ttest: 0.4594475\tbest: 0.4591871 (407)\ttotal: 20.5s\tremaining: 29.4s\n411:\tlearn: 0.0179666\ttest: 0.4594165\tbest: 0.4591871 (407)\ttotal: 20.6s\tremaining: 29.4s\n412:\tlearn: 0.0178997\ttest: 0.4594910\tbest: 0.4591871 (407)\ttotal: 20.6s\tremaining: 29.3s\n413:\tlearn: 0.0178539\ttest: 0.4602168\tbest: 0.4591871 (407)\ttotal: 20.7s\tremaining: 29.3s\n414:\tlearn: 0.0178044\ttest: 0.4606289\tbest: 0.4591871 (407)\ttotal: 20.7s\tremaining: 29.2s\n415:\tlearn: 0.0177452\ttest: 0.4601899\tbest: 0.4591871 (407)\ttotal: 20.8s\tremaining: 29.1s\n416:\tlearn: 0.0176803\ttest: 0.4601872\tbest: 0.4591871 (407)\ttotal: 20.8s\tremaining: 29.1s\n417:\tlearn: 0.0176307\ttest: 0.4599963\tbest: 0.4591871 (407)\ttotal: 20.9s\tremaining: 29s\n418:\tlearn: 0.0175575\ttest: 0.4604053\tbest: 0.4591871 (407)\ttotal: 20.9s\tremaining: 29s\n419:\tlearn: 0.0174835\ttest: 0.4604025\tbest: 0.4591871 (407)\ttotal: 20.9s\tremaining: 28.9s\n420:\tlearn: 0.0174417\ttest: 0.4600374\tbest: 0.4591871 (407)\ttotal: 21s\tremaining: 28.9s\n421:\tlearn: 0.0173923\ttest: 0.4596748\tbest: 0.4591871 (407)\ttotal: 21.1s\tremaining: 28.9s\n422:\tlearn: 0.0173520\ttest: 0.4597730\tbest: 0.4591871 (407)\ttotal: 21.1s\tremaining: 28.8s\n423:\tlearn: 0.0173029\ttest: 0.4599268\tbest: 0.4591871 (407)\ttotal: 21.1s\tremaining: 28.7s\n424:\tlearn: 0.0172608\ttest: 0.4598189\tbest: 0.4591871 (407)\ttotal: 21.2s\tremaining: 28.7s\n425:\tlearn: 0.0172085\ttest: 0.4597004\tbest: 0.4591871 (407)\ttotal: 21.3s\tremaining: 28.6s\n426:\tlearn: 0.0171734\ttest: 0.4598736\tbest: 0.4591871 (407)\ttotal: 21.3s\tremaining: 28.6s\n427:\tlearn: 0.0171352\ttest: 0.4598518\tbest: 0.4591871 (407)\ttotal: 21.4s\tremaining: 28.5s\n428:\tlearn: 0.0170978\ttest: 0.4597949\tbest: 0.4591871 (407)\ttotal: 21.4s\tremaining: 28.5s\n429:\tlearn: 0.0170634\ttest: 0.4597183\tbest: 0.4591871 (407)\ttotal: 21.5s\tremaining: 28.4s\n430:\tlearn: 0.0170214\ttest: 0.4596602\tbest: 0.4591871 (407)\ttotal: 21.5s\tremaining: 28.4s\n431:\tlearn: 0.0169619\ttest: 0.4599988\tbest: 0.4591871 (407)\ttotal: 21.6s\tremaining: 28.3s\n432:\tlearn: 0.0169078\ttest: 0.4600625\tbest: 0.4591871 (407)\ttotal: 21.6s\tremaining: 28.3s\n433:\tlearn: 0.0168356\ttest: 0.4607705\tbest: 0.4591871 (407)\ttotal: 21.7s\tremaining: 28.2s\n434:\tlearn: 0.0167769\ttest: 0.4605796\tbest: 0.4591871 (407)\ttotal: 21.7s\tremaining: 28.2s\n435:\tlearn: 0.0167427\ttest: 0.4607774\tbest: 0.4591871 (407)\ttotal: 21.8s\tremaining: 28.1s\n436:\tlearn: 0.0167125\ttest: 0.4605943\tbest: 0.4591871 (407)\ttotal: 21.8s\tremaining: 28.1s\n437:\tlearn: 0.0166671\ttest: 0.4604981\tbest: 0.4591871 (407)\ttotal: 21.9s\tremaining: 28s\n438:\tlearn: 0.0166205\ttest: 0.4601092\tbest: 0.4591871 (407)\ttotal: 21.9s\tremaining: 28s\n439:\tlearn: 0.0165796\ttest: 0.4600874\tbest: 0.4591871 (407)\ttotal: 22s\tremaining: 27.9s\n440:\tlearn: 0.0165330\ttest: 0.4597289\tbest: 0.4591871 (407)\ttotal: 22s\tremaining: 27.9s\n441:\tlearn: 0.0164963\ttest: 0.4595437\tbest: 0.4591871 (407)\ttotal: 22s\tremaining: 27.8s\n442:\tlearn: 0.0164352\ttest: 0.4588866\tbest: 0.4588866 (442)\ttotal: 22.1s\tremaining: 27.8s\n443:\tlearn: 0.0164058\ttest: 0.4589134\tbest: 0.4588866 (442)\ttotal: 22.1s\tremaining: 27.7s\n444:\tlearn: 0.0163807\ttest: 0.4588589\tbest: 0.4588589 (444)\ttotal: 22.2s\tremaining: 27.7s\n445:\tlearn: 0.0163223\ttest: 0.4584416\tbest: 0.4584416 (445)\ttotal: 22.2s\tremaining: 27.6s\n446:\tlearn: 0.0162908\ttest: 0.4584218\tbest: 0.4584218 (446)\ttotal: 22.3s\tremaining: 27.6s\n447:\tlearn: 0.0162464\ttest: 0.4582084\tbest: 0.4582084 (447)\ttotal: 22.3s\tremaining: 27.5s\n448:\tlearn: 0.0161947\ttest: 0.4577037\tbest: 0.4577037 (448)\ttotal: 22.4s\tremaining: 27.5s\n449:\tlearn: 0.0161493\ttest: 0.4578872\tbest: 0.4577037 (448)\ttotal: 22.4s\tremaining: 27.4s\n450:\tlearn: 0.0160758\ttest: 0.4575567\tbest: 0.4575567 (450)\ttotal: 22.5s\tremaining: 27.4s\n451:\tlearn: 0.0160492\ttest: 0.4574754\tbest: 0.4574754 (451)\ttotal: 22.5s\tremaining: 27.3s\n452:\tlearn: 0.0160074\ttest: 0.4570442\tbest: 0.4570442 (452)\ttotal: 22.6s\tremaining: 27.3s\n453:\tlearn: 0.0159624\ttest: 0.4570309\tbest: 0.4570309 (453)\ttotal: 22.6s\tremaining: 27.2s\n454:\tlearn: 0.0159224\ttest: 0.4573335\tbest: 0.4570309 (453)\ttotal: 22.7s\tremaining: 27.2s\n455:\tlearn: 0.0158907\ttest: 0.4571335\tbest: 0.4570309 (453)\ttotal: 22.7s\tremaining: 27.1s\n456:\tlearn: 0.0158582\ttest: 0.4568956\tbest: 0.4568956 (456)\ttotal: 22.8s\tremaining: 27.1s\n457:\tlearn: 0.0158143\ttest: 0.4572046\tbest: 0.4568956 (456)\ttotal: 22.8s\tremaining: 27s\n458:\tlearn: 0.0157753\ttest: 0.4571447\tbest: 0.4568956 (456)\ttotal: 22.9s\tremaining: 27s\n459:\tlearn: 0.0157202\ttest: 0.4573872\tbest: 0.4568956 (456)\ttotal: 22.9s\tremaining: 26.9s\n460:\tlearn: 0.0156812\ttest: 0.4570722\tbest: 0.4568956 (456)\ttotal: 23s\tremaining: 26.9s\n461:\tlearn: 0.0156508\ttest: 0.4571755\tbest: 0.4568956 (456)\ttotal: 23.1s\tremaining: 26.8s\n462:\tlearn: 0.0156191\ttest: 0.4569394\tbest: 0.4568956 (456)\ttotal: 23.1s\tremaining: 26.8s\n463:\tlearn: 0.0155736\ttest: 0.4571114\tbest: 0.4568956 (456)\ttotal: 23.1s\tremaining: 26.7s\n464:\tlearn: 0.0155300\ttest: 0.4573683\tbest: 0.4568956 (456)\ttotal: 23.2s\tremaining: 26.7s\n465:\tlearn: 0.0154857\ttest: 0.4574470\tbest: 0.4568956 (456)\ttotal: 23.3s\tremaining: 26.6s\n466:\tlearn: 0.0154527\ttest: 0.4574368\tbest: 0.4568956 (456)\ttotal: 23.3s\tremaining: 26.6s\n467:\tlearn: 0.0153906\ttest: 0.4571491\tbest: 0.4568956 (456)\ttotal: 23.3s\tremaining: 26.5s\n468:\tlearn: 0.0153481\ttest: 0.4567101\tbest: 0.4567101 (468)\ttotal: 23.4s\tremaining: 26.5s\n469:\tlearn: 0.0153210\ttest: 0.4566973\tbest: 0.4566973 (469)\ttotal: 23.4s\tremaining: 26.4s\n470:\tlearn: 0.0152931\ttest: 0.4565649\tbest: 0.4565649 (470)\ttotal: 23.5s\tremaining: 26.4s\n471:\tlearn: 0.0152591\ttest: 0.4561527\tbest: 0.4561527 (471)\ttotal: 23.5s\tremaining: 26.3s\n472:\tlearn: 0.0152169\ttest: 0.4561311\tbest: 0.4561311 (472)\ttotal: 23.6s\tremaining: 26.3s\n473:\tlearn: 0.0151819\ttest: 0.4561576\tbest: 0.4561311 (472)\ttotal: 23.6s\tremaining: 26.2s\n474:\tlearn: 0.0151539\ttest: 0.4561232\tbest: 0.4561232 (474)\ttotal: 23.7s\tremaining: 26.2s\n475:\tlearn: 0.0151107\ttest: 0.4560805\tbest: 0.4560805 (475)\ttotal: 23.7s\tremaining: 26.1s\n476:\tlearn: 0.0150853\ttest: 0.4563063\tbest: 0.4560805 (475)\ttotal: 23.8s\tremaining: 26.1s\n477:\tlearn: 0.0150489\ttest: 0.4563383\tbest: 0.4560805 (475)\ttotal: 23.8s\tremaining: 26s\n478:\tlearn: 0.0150192\ttest: 0.4563554\tbest: 0.4560805 (475)\ttotal: 23.9s\tremaining: 26s\n479:\tlearn: 0.0149876\ttest: 0.4563727\tbest: 0.4560805 (475)\ttotal: 23.9s\tremaining: 25.9s\n480:\tlearn: 0.0149521\ttest: 0.4566631\tbest: 0.4560805 (475)\ttotal: 24s\tremaining: 25.9s\n481:\tlearn: 0.0149308\ttest: 0.4567594\tbest: 0.4560805 (475)\ttotal: 24s\tremaining: 25.8s\n482:\tlearn: 0.0148971\ttest: 0.4568428\tbest: 0.4560805 (475)\ttotal: 24.1s\tremaining: 25.8s\n483:\tlearn: 0.0148531\ttest: 0.4569768\tbest: 0.4560805 (475)\ttotal: 24.1s\tremaining: 25.7s\n484:\tlearn: 0.0148193\ttest: 0.4567720\tbest: 0.4560805 (475)\ttotal: 24.2s\tremaining: 25.7s\n485:\tlearn: 0.0147830\ttest: 0.4567504\tbest: 0.4560805 (475)\ttotal: 24.2s\tremaining: 25.6s\n486:\tlearn: 0.0147505\ttest: 0.4570474\tbest: 0.4560805 (475)\ttotal: 24.3s\tremaining: 25.6s\n487:\tlearn: 0.0147218\ttest: 0.4569620\tbest: 0.4560805 (475)\ttotal: 24.3s\tremaining: 25.5s\n488:\tlearn: 0.0146922\ttest: 0.4568680\tbest: 0.4560805 (475)\ttotal: 24.4s\tremaining: 25.5s\n489:\tlearn: 0.0146429\ttest: 0.4571987\tbest: 0.4560805 (475)\ttotal: 24.5s\tremaining: 25.5s\n490:\tlearn: 0.0146151\ttest: 0.4575317\tbest: 0.4560805 (475)\ttotal: 24.5s\tremaining: 25.4s\n491:\tlearn: 0.0145915\ttest: 0.4576849\tbest: 0.4560805 (475)\ttotal: 24.6s\tremaining: 25.4s\n492:\tlearn: 0.0145508\ttest: 0.4576296\tbest: 0.4560805 (475)\ttotal: 24.6s\tremaining: 25.3s\n493:\tlearn: 0.0145265\ttest: 0.4575224\tbest: 0.4560805 (475)\ttotal: 24.7s\tremaining: 25.3s\n494:\tlearn: 0.0144848\ttest: 0.4576526\tbest: 0.4560805 (475)\ttotal: 24.7s\tremaining: 25.2s\n495:\tlearn: 0.0144566\ttest: 0.4574553\tbest: 0.4560805 (475)\ttotal: 24.8s\tremaining: 25.2s\n496:\tlearn: 0.0144266\ttest: 0.4573321\tbest: 0.4560805 (475)\ttotal: 24.8s\tremaining: 25.1s\n497:\tlearn: 0.0143967\ttest: 0.4572589\tbest: 0.4560805 (475)\ttotal: 24.9s\tremaining: 25.1s\n498:\tlearn: 0.0143583\ttest: 0.4569493\tbest: 0.4560805 (475)\ttotal: 25s\tremaining: 25.1s\n499:\tlearn: 0.0143283\ttest: 0.4566021\tbest: 0.4560805 (475)\ttotal: 25s\tremaining: 25s\n500:\tlearn: 0.0143044\ttest: 0.4563426\tbest: 0.4560805 (475)\ttotal: 25s\tremaining: 24.9s\n501:\tlearn: 0.0142633\ttest: 0.4562568\tbest: 0.4560805 (475)\ttotal: 25.1s\tremaining: 24.9s\n502:\tlearn: 0.0142222\ttest: 0.4555932\tbest: 0.4555932 (502)\ttotal: 25.1s\tremaining: 24.8s\n503:\tlearn: 0.0141880\ttest: 0.4554388\tbest: 0.4554388 (503)\ttotal: 25.2s\tremaining: 24.8s\n504:\tlearn: 0.0141554\ttest: 0.4555683\tbest: 0.4554388 (503)\ttotal: 25.2s\tremaining: 24.7s\n505:\tlearn: 0.0141308\ttest: 0.4555493\tbest: 0.4554388 (503)\ttotal: 25.3s\tremaining: 24.7s\n506:\tlearn: 0.0141012\ttest: 0.4553742\tbest: 0.4553742 (506)\ttotal: 25.3s\tremaining: 24.6s\n507:\tlearn: 0.0140647\ttest: 0.4555580\tbest: 0.4553742 (506)\ttotal: 25.4s\tremaining: 24.6s\n508:\tlearn: 0.0140324\ttest: 0.4554917\tbest: 0.4553742 (506)\ttotal: 25.4s\tremaining: 24.5s\n509:\tlearn: 0.0139969\ttest: 0.4553107\tbest: 0.4553107 (509)\ttotal: 25.5s\tremaining: 24.5s\n510:\tlearn: 0.0139532\ttest: 0.4546551\tbest: 0.4546551 (510)\ttotal: 25.5s\tremaining: 24.4s\n511:\tlearn: 0.0139240\ttest: 0.4544026\tbest: 0.4544026 (511)\ttotal: 25.6s\tremaining: 24.4s\n512:\tlearn: 0.0139019\ttest: 0.4545673\tbest: 0.4544026 (511)\ttotal: 25.6s\tremaining: 24.3s\n513:\tlearn: 0.0138784\ttest: 0.4544291\tbest: 0.4544026 (511)\ttotal: 25.7s\tremaining: 24.3s\n514:\tlearn: 0.0138364\ttest: 0.4544223\tbest: 0.4544026 (511)\ttotal: 25.7s\tremaining: 24.2s\n515:\tlearn: 0.0137940\ttest: 0.4542002\tbest: 0.4542002 (515)\ttotal: 25.7s\tremaining: 24.1s\n516:\tlearn: 0.0137694\ttest: 0.4541402\tbest: 0.4541402 (516)\ttotal: 25.8s\tremaining: 24.1s\n517:\tlearn: 0.0137491\ttest: 0.4540397\tbest: 0.4540397 (517)\ttotal: 25.9s\tremaining: 24.1s\n518:\tlearn: 0.0137186\ttest: 0.4537983\tbest: 0.4537983 (518)\ttotal: 25.9s\tremaining: 24s\n519:\tlearn: 0.0136810\ttest: 0.4535363\tbest: 0.4535363 (519)\ttotal: 25.9s\tremaining: 23.9s\n520:\tlearn: 0.0136557\ttest: 0.4534717\tbest: 0.4534717 (520)\ttotal: 26s\tremaining: 23.9s\n521:\tlearn: 0.0136260\ttest: 0.4531338\tbest: 0.4531338 (521)\ttotal: 26s\tremaining: 23.8s\n522:\tlearn: 0.0136010\ttest: 0.4531590\tbest: 0.4531338 (521)\ttotal: 26.1s\tremaining: 23.8s\n523:\tlearn: 0.0135788\ttest: 0.4530257\tbest: 0.4530257 (523)\ttotal: 26.1s\tremaining: 23.7s\n524:\tlearn: 0.0135412\ttest: 0.4528395\tbest: 0.4528395 (524)\ttotal: 26.2s\tremaining: 23.7s\n525:\tlearn: 0.0135181\ttest: 0.4529263\tbest: 0.4528395 (524)\ttotal: 26.3s\tremaining: 23.7s\n526:\tlearn: 0.0134858\ttest: 0.4528662\tbest: 0.4528395 (524)\ttotal: 26.3s\tremaining: 23.6s\n527:\tlearn: 0.0134602\ttest: 0.4527166\tbest: 0.4527166 (527)\ttotal: 26.4s\tremaining: 23.6s\n528:\tlearn: 0.0134224\ttest: 0.4527251\tbest: 0.4527166 (527)\ttotal: 26.4s\tremaining: 23.5s\n529:\tlearn: 0.0133991\ttest: 0.4527954\tbest: 0.4527166 (527)\ttotal: 26.5s\tremaining: 23.5s\n530:\tlearn: 0.0133707\ttest: 0.4528721\tbest: 0.4527166 (527)\ttotal: 26.5s\tremaining: 23.4s\n531:\tlearn: 0.0133389\ttest: 0.4529252\tbest: 0.4527166 (527)\ttotal: 26.5s\tremaining: 23.4s\n532:\tlearn: 0.0133136\ttest: 0.4528313\tbest: 0.4527166 (527)\ttotal: 26.6s\tremaining: 23.3s\n533:\tlearn: 0.0132775\ttest: 0.4524151\tbest: 0.4524151 (533)\ttotal: 26.6s\tremaining: 23.3s\n534:\tlearn: 0.0132510\ttest: 0.4520415\tbest: 0.4520415 (534)\ttotal: 26.7s\tremaining: 23.2s\n535:\tlearn: 0.0132316\ttest: 0.4519765\tbest: 0.4519765 (535)\ttotal: 26.7s\tremaining: 23.2s\n536:\tlearn: 0.0132061\ttest: 0.4520348\tbest: 0.4519765 (535)\ttotal: 26.8s\tremaining: 23.1s\n537:\tlearn: 0.0131747\ttest: 0.4520186\tbest: 0.4519765 (535)\ttotal: 26.8s\tremaining: 23s\n538:\tlearn: 0.0131416\ttest: 0.4519538\tbest: 0.4519538 (538)\ttotal: 26.9s\tremaining: 23s\n539:\tlearn: 0.0131194\ttest: 0.4518167\tbest: 0.4518167 (539)\ttotal: 26.9s\tremaining: 22.9s\n540:\tlearn: 0.0130968\ttest: 0.4516412\tbest: 0.4516412 (540)\ttotal: 27s\tremaining: 22.9s\n541:\tlearn: 0.0130694\ttest: 0.4515671\tbest: 0.4515671 (541)\ttotal: 27.1s\tremaining: 22.9s\n542:\tlearn: 0.0130450\ttest: 0.4515755\tbest: 0.4515671 (541)\ttotal: 27.1s\tremaining: 22.8s\n543:\tlearn: 0.0130259\ttest: 0.4516472\tbest: 0.4515671 (541)\ttotal: 27.1s\tremaining: 22.7s\n544:\tlearn: 0.0129995\ttest: 0.4515455\tbest: 0.4515455 (544)\ttotal: 27.2s\tremaining: 22.7s\n545:\tlearn: 0.0129685\ttest: 0.4517849\tbest: 0.4515455 (544)\ttotal: 27.2s\tremaining: 22.6s\n546:\tlearn: 0.0129490\ttest: 0.4518113\tbest: 0.4515455 (544)\ttotal: 27.3s\tremaining: 22.6s\n547:\tlearn: 0.0129253\ttest: 0.4519001\tbest: 0.4515455 (544)\ttotal: 27.3s\tremaining: 22.5s\n548:\tlearn: 0.0128985\ttest: 0.4514873\tbest: 0.4514873 (548)\ttotal: 27.4s\tremaining: 22.5s\n549:\tlearn: 0.0128686\ttest: 0.4517401\tbest: 0.4514873 (548)\ttotal: 27.4s\tremaining: 22.4s\n550:\tlearn: 0.0128347\ttest: 0.4514246\tbest: 0.4514246 (550)\ttotal: 27.5s\tremaining: 22.4s\n551:\tlearn: 0.0128143\ttest: 0.4514756\tbest: 0.4514246 (550)\ttotal: 27.5s\tremaining: 22.4s\n552:\tlearn: 0.0127910\ttest: 0.4513377\tbest: 0.4513377 (552)\ttotal: 27.6s\tremaining: 22.3s\n553:\tlearn: 0.0127660\ttest: 0.4509731\tbest: 0.4509731 (553)\ttotal: 27.6s\tremaining: 22.2s\n554:\tlearn: 0.0127372\ttest: 0.4507784\tbest: 0.4507784 (554)\ttotal: 27.7s\tremaining: 22.2s\n555:\tlearn: 0.0127080\ttest: 0.4505449\tbest: 0.4505449 (555)\ttotal: 27.7s\tremaining: 22.1s\n556:\tlearn: 0.0126858\ttest: 0.4504598\tbest: 0.4504598 (556)\ttotal: 27.8s\tremaining: 22.1s\n557:\tlearn: 0.0126662\ttest: 0.4503585\tbest: 0.4503585 (557)\ttotal: 27.8s\tremaining: 22.1s\n558:\tlearn: 0.0126437\ttest: 0.4502993\tbest: 0.4502993 (558)\ttotal: 27.9s\tremaining: 22s\n559:\tlearn: 0.0126191\ttest: 0.4501730\tbest: 0.4501730 (559)\ttotal: 27.9s\tremaining: 21.9s\n560:\tlearn: 0.0126004\ttest: 0.4502580\tbest: 0.4501730 (559)\ttotal: 28s\tremaining: 21.9s\n561:\tlearn: 0.0125695\ttest: 0.4504235\tbest: 0.4501730 (559)\ttotal: 28s\tremaining: 21.8s\n562:\tlearn: 0.0125474\ttest: 0.4502859\tbest: 0.4501730 (559)\ttotal: 28.1s\tremaining: 21.8s\n563:\tlearn: 0.0125200\ttest: 0.4504497\tbest: 0.4501730 (559)\ttotal: 28.1s\tremaining: 21.7s\n564:\tlearn: 0.0124866\ttest: 0.4506737\tbest: 0.4501730 (559)\ttotal: 28.2s\tremaining: 21.7s\n565:\tlearn: 0.0124607\ttest: 0.4508445\tbest: 0.4501730 (559)\ttotal: 28.2s\tremaining: 21.6s\n566:\tlearn: 0.0124350\ttest: 0.4508289\tbest: 0.4501730 (559)\ttotal: 28.3s\tremaining: 21.6s\n567:\tlearn: 0.0124135\ttest: 0.4507451\tbest: 0.4501730 (559)\ttotal: 28.3s\tremaining: 21.5s\n568:\tlearn: 0.0123936\ttest: 0.4507614\tbest: 0.4501730 (559)\ttotal: 28.4s\tremaining: 21.5s\n569:\tlearn: 0.0123633\ttest: 0.4507126\tbest: 0.4501730 (559)\ttotal: 28.4s\tremaining: 21.4s\n570:\tlearn: 0.0123418\ttest: 0.4506890\tbest: 0.4501730 (559)\ttotal: 28.5s\tremaining: 21.4s\n571:\tlearn: 0.0123180\ttest: 0.4505023\tbest: 0.4501730 (559)\ttotal: 28.5s\tremaining: 21.3s\n572:\tlearn: 0.0122943\ttest: 0.4504628\tbest: 0.4501730 (559)\ttotal: 28.6s\tremaining: 21.3s\n573:\tlearn: 0.0122661\ttest: 0.4506443\tbest: 0.4501730 (559)\ttotal: 28.6s\tremaining: 21.2s\n574:\tlearn: 0.0122420\ttest: 0.4505329\tbest: 0.4501730 (559)\ttotal: 28.7s\tremaining: 21.2s\n575:\tlearn: 0.0122157\ttest: 0.4502859\tbest: 0.4501730 (559)\ttotal: 28.7s\tremaining: 21.1s\n576:\tlearn: 0.0121958\ttest: 0.4503254\tbest: 0.4501730 (559)\ttotal: 28.8s\tremaining: 21.1s\n577:\tlearn: 0.0121754\ttest: 0.4502098\tbest: 0.4501730 (559)\ttotal: 28.8s\tremaining: 21s\n578:\tlearn: 0.0121557\ttest: 0.4503577\tbest: 0.4501730 (559)\ttotal: 28.9s\tremaining: 21s\n579:\tlearn: 0.0121356\ttest: 0.4504474\tbest: 0.4501730 (559)\ttotal: 28.9s\tremaining: 20.9s\n580:\tlearn: 0.0121132\ttest: 0.4504936\tbest: 0.4501730 (559)\ttotal: 29s\tremaining: 20.9s\n581:\tlearn: 0.0120800\ttest: 0.4504989\tbest: 0.4501730 (559)\ttotal: 29s\tremaining: 20.9s\n582:\tlearn: 0.0120591\ttest: 0.4507538\tbest: 0.4501730 (559)\ttotal: 29.1s\tremaining: 20.8s\n583:\tlearn: 0.0120384\ttest: 0.4506639\tbest: 0.4501730 (559)\ttotal: 29.1s\tremaining: 20.7s\n584:\tlearn: 0.0120174\ttest: 0.4504302\tbest: 0.4501730 (559)\ttotal: 29.2s\tremaining: 20.7s\n585:\tlearn: 0.0120008\ttest: 0.4505205\tbest: 0.4501730 (559)\ttotal: 29.2s\tremaining: 20.6s\n586:\tlearn: 0.0119816\ttest: 0.4505492\tbest: 0.4501730 (559)\ttotal: 29.3s\tremaining: 20.6s\n587:\tlearn: 0.0119596\ttest: 0.4503046\tbest: 0.4501730 (559)\ttotal: 29.3s\tremaining: 20.5s\n588:\tlearn: 0.0119411\ttest: 0.4501546\tbest: 0.4501546 (588)\ttotal: 29.4s\tremaining: 20.5s\n589:\tlearn: 0.0119201\ttest: 0.4501075\tbest: 0.4501075 (589)\ttotal: 29.4s\tremaining: 20.4s\n590:\tlearn: 0.0118957\ttest: 0.4502302\tbest: 0.4501075 (589)\ttotal: 29.5s\tremaining: 20.4s\n591:\tlearn: 0.0118676\ttest: 0.4502539\tbest: 0.4501075 (589)\ttotal: 29.5s\tremaining: 20.3s\n592:\tlearn: 0.0118492\ttest: 0.4501921\tbest: 0.4501075 (589)\ttotal: 29.6s\tremaining: 20.3s\n593:\tlearn: 0.0118234\ttest: 0.4502448\tbest: 0.4501075 (589)\ttotal: 29.6s\tremaining: 20.2s\n594:\tlearn: 0.0118013\ttest: 0.4503602\tbest: 0.4501075 (589)\ttotal: 29.7s\tremaining: 20.2s\n595:\tlearn: 0.0117807\ttest: 0.4502611\tbest: 0.4501075 (589)\ttotal: 29.7s\tremaining: 20.1s\n596:\tlearn: 0.0117638\ttest: 0.4502364\tbest: 0.4501075 (589)\ttotal: 29.8s\tremaining: 20.1s\n597:\tlearn: 0.0117445\ttest: 0.4500741\tbest: 0.4500741 (597)\ttotal: 29.8s\tremaining: 20s\n598:\tlearn: 0.0117251\ttest: 0.4499592\tbest: 0.4499592 (598)\ttotal: 29.9s\tremaining: 20s\n599:\tlearn: 0.0116918\ttest: 0.4500002\tbest: 0.4499592 (598)\ttotal: 29.9s\tremaining: 19.9s\n600:\tlearn: 0.0116664\ttest: 0.4500128\tbest: 0.4499592 (598)\ttotal: 30s\tremaining: 19.9s\n601:\tlearn: 0.0116506\ttest: 0.4501205\tbest: 0.4499592 (598)\ttotal: 30s\tremaining: 19.8s\n602:\tlearn: 0.0116309\ttest: 0.4502117\tbest: 0.4499592 (598)\ttotal: 30.1s\tremaining: 19.8s\n603:\tlearn: 0.0116087\ttest: 0.4504535\tbest: 0.4499592 (598)\ttotal: 30.1s\tremaining: 19.7s\n604:\tlearn: 0.0115892\ttest: 0.4502524\tbest: 0.4499592 (598)\ttotal: 30.2s\tremaining: 19.7s\n605:\tlearn: 0.0115670\ttest: 0.4500135\tbest: 0.4499592 (598)\ttotal: 30.2s\tremaining: 19.6s\n606:\tlearn: 0.0115484\ttest: 0.4500165\tbest: 0.4499592 (598)\ttotal: 30.3s\tremaining: 19.6s\n607:\tlearn: 0.0115311\ttest: 0.4497892\tbest: 0.4497892 (607)\ttotal: 30.3s\tremaining: 19.5s\n608:\tlearn: 0.0115107\ttest: 0.4499199\tbest: 0.4497892 (607)\ttotal: 30.4s\tremaining: 19.5s\n609:\tlearn: 0.0114881\ttest: 0.4500344\tbest: 0.4497892 (607)\ttotal: 30.4s\tremaining: 19.4s\n610:\tlearn: 0.0114672\ttest: 0.4501735\tbest: 0.4497892 (607)\ttotal: 30.5s\tremaining: 19.4s\n611:\tlearn: 0.0114476\ttest: 0.4503699\tbest: 0.4497892 (607)\ttotal: 30.5s\tremaining: 19.3s\n612:\tlearn: 0.0114273\ttest: 0.4502910\tbest: 0.4497892 (607)\ttotal: 30.6s\tremaining: 19.3s\n613:\tlearn: 0.0114081\ttest: 0.4500829\tbest: 0.4497892 (607)\ttotal: 30.6s\tremaining: 19.3s\n614:\tlearn: 0.0113862\ttest: 0.4501286\tbest: 0.4497892 (607)\ttotal: 30.7s\tremaining: 19.2s\n615:\tlearn: 0.0113602\ttest: 0.4500876\tbest: 0.4497892 (607)\ttotal: 30.7s\tremaining: 19.1s\n616:\tlearn: 0.0113387\ttest: 0.4503635\tbest: 0.4497892 (607)\ttotal: 30.8s\tremaining: 19.1s\n617:\tlearn: 0.0113113\ttest: 0.4508375\tbest: 0.4497892 (607)\ttotal: 30.8s\tremaining: 19.1s\n618:\tlearn: 0.0112947\ttest: 0.4509184\tbest: 0.4497892 (607)\ttotal: 30.9s\tremaining: 19s\n619:\tlearn: 0.0112653\ttest: 0.4513951\tbest: 0.4497892 (607)\ttotal: 30.9s\tremaining: 19s\n620:\tlearn: 0.0112433\ttest: 0.4512784\tbest: 0.4497892 (607)\ttotal: 31s\tremaining: 18.9s\n621:\tlearn: 0.0112265\ttest: 0.4514732\tbest: 0.4497892 (607)\ttotal: 31s\tremaining: 18.9s\n622:\tlearn: 0.0112065\ttest: 0.4510932\tbest: 0.4497892 (607)\ttotal: 31.1s\tremaining: 18.8s\n623:\tlearn: 0.0111718\ttest: 0.4507477\tbest: 0.4497892 (607)\ttotal: 31.1s\tremaining: 18.8s\n624:\tlearn: 0.0111582\ttest: 0.4507690\tbest: 0.4497892 (607)\ttotal: 31.2s\tremaining: 18.7s\n625:\tlearn: 0.0111464\ttest: 0.4507056\tbest: 0.4497892 (607)\ttotal: 31.2s\tremaining: 18.7s\n626:\tlearn: 0.0111307\ttest: 0.4507936\tbest: 0.4497892 (607)\ttotal: 31.3s\tremaining: 18.6s\n627:\tlearn: 0.0111091\ttest: 0.4506550\tbest: 0.4497892 (607)\ttotal: 31.3s\tremaining: 18.6s\n628:\tlearn: 0.0110910\ttest: 0.4505325\tbest: 0.4497892 (607)\ttotal: 31.4s\tremaining: 18.5s\n629:\tlearn: 0.0110752\ttest: 0.4508726\tbest: 0.4497892 (607)\ttotal: 31.4s\tremaining: 18.5s\n630:\tlearn: 0.0110584\ttest: 0.4505771\tbest: 0.4497892 (607)\ttotal: 31.5s\tremaining: 18.4s\n631:\tlearn: 0.0110392\ttest: 0.4504062\tbest: 0.4497892 (607)\ttotal: 31.5s\tremaining: 18.4s\n632:\tlearn: 0.0110145\ttest: 0.4505929\tbest: 0.4497892 (607)\ttotal: 31.6s\tremaining: 18.3s\n633:\tlearn: 0.0110023\ttest: 0.4507521\tbest: 0.4497892 (607)\ttotal: 31.6s\tremaining: 18.3s\n634:\tlearn: 0.0109867\ttest: 0.4507720\tbest: 0.4497892 (607)\ttotal: 31.7s\tremaining: 18.2s\n635:\tlearn: 0.0109686\ttest: 0.4507370\tbest: 0.4497892 (607)\ttotal: 31.7s\tremaining: 18.2s\n636:\tlearn: 0.0109546\ttest: 0.4505717\tbest: 0.4497892 (607)\ttotal: 31.8s\tremaining: 18.1s\n637:\tlearn: 0.0109305\ttest: 0.4505550\tbest: 0.4497892 (607)\ttotal: 31.8s\tremaining: 18.1s\n638:\tlearn: 0.0109076\ttest: 0.4507040\tbest: 0.4497892 (607)\ttotal: 31.9s\tremaining: 18s\n639:\tlearn: 0.0108926\ttest: 0.4505583\tbest: 0.4497892 (607)\ttotal: 31.9s\tremaining: 18s\n640:\tlearn: 0.0108663\ttest: 0.4509824\tbest: 0.4497892 (607)\ttotal: 32s\tremaining: 17.9s\n641:\tlearn: 0.0108464\ttest: 0.4511648\tbest: 0.4497892 (607)\ttotal: 32.1s\tremaining: 17.9s\n642:\tlearn: 0.0108276\ttest: 0.4513309\tbest: 0.4497892 (607)\ttotal: 32.1s\tremaining: 17.8s\n643:\tlearn: 0.0108161\ttest: 0.4512339\tbest: 0.4497892 (607)\ttotal: 32.2s\tremaining: 17.8s\n644:\tlearn: 0.0107942\ttest: 0.4510859\tbest: 0.4497892 (607)\ttotal: 32.2s\tremaining: 17.7s\n645:\tlearn: 0.0107798\ttest: 0.4511626\tbest: 0.4497892 (607)\ttotal: 32.3s\tremaining: 17.7s\n646:\tlearn: 0.0107605\ttest: 0.4514732\tbest: 0.4497892 (607)\ttotal: 32.3s\tremaining: 17.6s\n647:\tlearn: 0.0107472\ttest: 0.4513881\tbest: 0.4497892 (607)\ttotal: 32.4s\tremaining: 17.6s\n648:\tlearn: 0.0107273\ttest: 0.4513330\tbest: 0.4497892 (607)\ttotal: 32.4s\tremaining: 17.5s\n649:\tlearn: 0.0107065\ttest: 0.4512626\tbest: 0.4497892 (607)\ttotal: 32.5s\tremaining: 17.5s\n650:\tlearn: 0.0106880\ttest: 0.4514261\tbest: 0.4497892 (607)\ttotal: 32.5s\tremaining: 17.4s\n651:\tlearn: 0.0106710\ttest: 0.4514572\tbest: 0.4497892 (607)\ttotal: 32.6s\tremaining: 17.4s\n652:\tlearn: 0.0106556\ttest: 0.4515066\tbest: 0.4497892 (607)\ttotal: 32.6s\tremaining: 17.3s\n653:\tlearn: 0.0106363\ttest: 0.4516031\tbest: 0.4497892 (607)\ttotal: 32.7s\tremaining: 17.3s\n654:\tlearn: 0.0106133\ttest: 0.4515837\tbest: 0.4497892 (607)\ttotal: 32.7s\tremaining: 17.2s\n655:\tlearn: 0.0105974\ttest: 0.4516080\tbest: 0.4497892 (607)\ttotal: 32.8s\tremaining: 17.2s\n656:\tlearn: 0.0105855\ttest: 0.4515170\tbest: 0.4497892 (607)\ttotal: 32.8s\tremaining: 17.1s\n657:\tlearn: 0.0105677\ttest: 0.4516370\tbest: 0.4497892 (607)\ttotal: 32.9s\tremaining: 17.1s\n658:\tlearn: 0.0105496\ttest: 0.4515925\tbest: 0.4497892 (607)\ttotal: 32.9s\tremaining: 17s\n659:\tlearn: 0.0105341\ttest: 0.4516285\tbest: 0.4497892 (607)\ttotal: 33s\tremaining: 17s\n660:\tlearn: 0.0105143\ttest: 0.4514823\tbest: 0.4497892 (607)\ttotal: 33s\tremaining: 16.9s\n661:\tlearn: 0.0104958\ttest: 0.4516431\tbest: 0.4497892 (607)\ttotal: 33.1s\tremaining: 16.9s\n662:\tlearn: 0.0104765\ttest: 0.4515254\tbest: 0.4497892 (607)\ttotal: 33.1s\tremaining: 16.8s\n663:\tlearn: 0.0104546\ttest: 0.4518090\tbest: 0.4497892 (607)\ttotal: 33.2s\tremaining: 16.8s\n664:\tlearn: 0.0104365\ttest: 0.4520714\tbest: 0.4497892 (607)\ttotal: 33.2s\tremaining: 16.7s\n665:\tlearn: 0.0104215\ttest: 0.4520603\tbest: 0.4497892 (607)\ttotal: 33.3s\tremaining: 16.7s\n666:\tlearn: 0.0103985\ttest: 0.4519125\tbest: 0.4497892 (607)\ttotal: 33.3s\tremaining: 16.6s\n667:\tlearn: 0.0103840\ttest: 0.4518479\tbest: 0.4497892 (607)\ttotal: 33.4s\tremaining: 16.6s\n668:\tlearn: 0.0103640\ttest: 0.4518781\tbest: 0.4497892 (607)\ttotal: 33.4s\tremaining: 16.5s\n669:\tlearn: 0.0103449\ttest: 0.4519540\tbest: 0.4497892 (607)\ttotal: 33.5s\tremaining: 16.5s\n670:\tlearn: 0.0103215\ttest: 0.4519517\tbest: 0.4497892 (607)\ttotal: 33.5s\tremaining: 16.4s\n671:\tlearn: 0.0102977\ttest: 0.4518890\tbest: 0.4497892 (607)\ttotal: 33.6s\tremaining: 16.4s\n672:\tlearn: 0.0102790\ttest: 0.4521853\tbest: 0.4497892 (607)\ttotal: 33.6s\tremaining: 16.3s\n673:\tlearn: 0.0102562\ttest: 0.4522205\tbest: 0.4497892 (607)\ttotal: 33.6s\tremaining: 16.3s\n674:\tlearn: 0.0102394\ttest: 0.4522318\tbest: 0.4497892 (607)\ttotal: 33.7s\tremaining: 16.2s\n675:\tlearn: 0.0102210\ttest: 0.4520749\tbest: 0.4497892 (607)\ttotal: 33.7s\tremaining: 16.2s\n676:\tlearn: 0.0101985\ttest: 0.4522178\tbest: 0.4497892 (607)\ttotal: 33.8s\tremaining: 16.1s\n677:\tlearn: 0.0101831\ttest: 0.4522101\tbest: 0.4497892 (607)\ttotal: 33.8s\tremaining: 16.1s\n678:\tlearn: 0.0101666\ttest: 0.4522366\tbest: 0.4497892 (607)\ttotal: 33.9s\tremaining: 16s\n679:\tlearn: 0.0101507\ttest: 0.4518794\tbest: 0.4497892 (607)\ttotal: 33.9s\tremaining: 16s\n680:\tlearn: 0.0101364\ttest: 0.4517877\tbest: 0.4497892 (607)\ttotal: 34s\tremaining: 15.9s\n681:\tlearn: 0.0101162\ttest: 0.4515617\tbest: 0.4497892 (607)\ttotal: 34s\tremaining: 15.9s\n682:\tlearn: 0.0100959\ttest: 0.4516135\tbest: 0.4497892 (607)\ttotal: 34.1s\tremaining: 15.8s\n683:\tlearn: 0.0100688\ttest: 0.4518459\tbest: 0.4497892 (607)\ttotal: 34.1s\tremaining: 15.8s\n684:\tlearn: 0.0100549\ttest: 0.4516613\tbest: 0.4497892 (607)\ttotal: 34.2s\tremaining: 15.7s\n685:\tlearn: 0.0100435\ttest: 0.4516267\tbest: 0.4497892 (607)\ttotal: 34.2s\tremaining: 15.7s\n686:\tlearn: 0.0100167\ttest: 0.4516696\tbest: 0.4497892 (607)\ttotal: 34.3s\tremaining: 15.6s\n687:\tlearn: 0.0100072\ttest: 0.4517061\tbest: 0.4497892 (607)\ttotal: 34.3s\tremaining: 15.6s\n688:\tlearn: 0.0099894\ttest: 0.4519278\tbest: 0.4497892 (607)\ttotal: 34.4s\tremaining: 15.5s\n689:\tlearn: 0.0099777\ttest: 0.4519697\tbest: 0.4497892 (607)\ttotal: 34.4s\tremaining: 15.5s\n690:\tlearn: 0.0099648\ttest: 0.4520218\tbest: 0.4497892 (607)\ttotal: 34.5s\tremaining: 15.4s\n691:\tlearn: 0.0099492\ttest: 0.4520829\tbest: 0.4497892 (607)\ttotal: 34.6s\tremaining: 15.4s\n692:\tlearn: 0.0099358\ttest: 0.4521648\tbest: 0.4497892 (607)\ttotal: 34.6s\tremaining: 15.3s\n693:\tlearn: 0.0099218\ttest: 0.4520629\tbest: 0.4497892 (607)\ttotal: 34.7s\tremaining: 15.3s\n694:\tlearn: 0.0098981\ttest: 0.4518282\tbest: 0.4497892 (607)\ttotal: 34.7s\tremaining: 15.2s\n695:\tlearn: 0.0098816\ttest: 0.4518118\tbest: 0.4497892 (607)\ttotal: 34.7s\tremaining: 15.2s\n696:\tlearn: 0.0098623\ttest: 0.4518912\tbest: 0.4497892 (607)\ttotal: 34.8s\tremaining: 15.1s\n697:\tlearn: 0.0098502\ttest: 0.4520659\tbest: 0.4497892 (607)\ttotal: 34.8s\tremaining: 15.1s\n698:\tlearn: 0.0098315\ttest: 0.4518485\tbest: 0.4497892 (607)\ttotal: 34.9s\tremaining: 15s\n699:\tlearn: 0.0098163\ttest: 0.4517876\tbest: 0.4497892 (607)\ttotal: 35s\tremaining: 15s\n700:\tlearn: 0.0097953\ttest: 0.4519193\tbest: 0.4497892 (607)\ttotal: 35s\tremaining: 14.9s\n701:\tlearn: 0.0097795\ttest: 0.4518525\tbest: 0.4497892 (607)\ttotal: 35s\tremaining: 14.9s\n702:\tlearn: 0.0097652\ttest: 0.4518925\tbest: 0.4497892 (607)\ttotal: 35.1s\tremaining: 14.8s\n703:\tlearn: 0.0097485\ttest: 0.4520628\tbest: 0.4497892 (607)\ttotal: 35.2s\tremaining: 14.8s\n704:\tlearn: 0.0097269\ttest: 0.4517735\tbest: 0.4497892 (607)\ttotal: 35.2s\tremaining: 14.7s\n705:\tlearn: 0.0097100\ttest: 0.4516354\tbest: 0.4497892 (607)\ttotal: 35.2s\tremaining: 14.7s\n706:\tlearn: 0.0096895\ttest: 0.4520333\tbest: 0.4497892 (607)\ttotal: 35.3s\tremaining: 14.6s\n707:\tlearn: 0.0096785\ttest: 0.4521406\tbest: 0.4497892 (607)\ttotal: 35.4s\tremaining: 14.6s\n708:\tlearn: 0.0096637\ttest: 0.4519423\tbest: 0.4497892 (607)\ttotal: 35.4s\tremaining: 14.5s\n709:\tlearn: 0.0096522\ttest: 0.4520262\tbest: 0.4497892 (607)\ttotal: 35.4s\tremaining: 14.5s\n710:\tlearn: 0.0096407\ttest: 0.4519417\tbest: 0.4497892 (607)\ttotal: 35.5s\tremaining: 14.4s\n711:\tlearn: 0.0096246\ttest: 0.4519493\tbest: 0.4497892 (607)\ttotal: 35.5s\tremaining: 14.4s\n712:\tlearn: 0.0096132\ttest: 0.4519529\tbest: 0.4497892 (607)\ttotal: 35.6s\tremaining: 14.3s\n713:\tlearn: 0.0096000\ttest: 0.4520663\tbest: 0.4497892 (607)\ttotal: 35.6s\tremaining: 14.3s\n714:\tlearn: 0.0095808\ttest: 0.4520442\tbest: 0.4497892 (607)\ttotal: 35.7s\tremaining: 14.2s\n715:\tlearn: 0.0095664\ttest: 0.4519908\tbest: 0.4497892 (607)\ttotal: 35.7s\tremaining: 14.2s\n716:\tlearn: 0.0095491\ttest: 0.4522087\tbest: 0.4497892 (607)\ttotal: 35.8s\tremaining: 14.1s\n717:\tlearn: 0.0095381\ttest: 0.4523371\tbest: 0.4497892 (607)\ttotal: 35.8s\tremaining: 14.1s\n718:\tlearn: 0.0095254\ttest: 0.4522401\tbest: 0.4497892 (607)\ttotal: 35.9s\tremaining: 14s\n719:\tlearn: 0.0095146\ttest: 0.4521355\tbest: 0.4497892 (607)\ttotal: 35.9s\tremaining: 14s\n720:\tlearn: 0.0095015\ttest: 0.4519063\tbest: 0.4497892 (607)\ttotal: 36s\tremaining: 13.9s\n721:\tlearn: 0.0094908\ttest: 0.4518620\tbest: 0.4497892 (607)\ttotal: 36s\tremaining: 13.9s\n722:\tlearn: 0.0094766\ttest: 0.4516227\tbest: 0.4497892 (607)\ttotal: 36.1s\tremaining: 13.8s\n723:\tlearn: 0.0094588\ttest: 0.4514032\tbest: 0.4497892 (607)\ttotal: 36.2s\tremaining: 13.8s\n724:\tlearn: 0.0094470\ttest: 0.4514952\tbest: 0.4497892 (607)\ttotal: 36.2s\tremaining: 13.7s\n725:\tlearn: 0.0094305\ttest: 0.4516231\tbest: 0.4497892 (607)\ttotal: 36.3s\tremaining: 13.7s\n726:\tlearn: 0.0094136\ttest: 0.4516636\tbest: 0.4497892 (607)\ttotal: 36.3s\tremaining: 13.6s\n727:\tlearn: 0.0093998\ttest: 0.4517396\tbest: 0.4497892 (607)\ttotal: 36.4s\tremaining: 13.6s\n728:\tlearn: 0.0093894\ttest: 0.4516423\tbest: 0.4497892 (607)\ttotal: 36.4s\tremaining: 13.5s\n729:\tlearn: 0.0093764\ttest: 0.4516637\tbest: 0.4497892 (607)\ttotal: 36.5s\tremaining: 13.5s\n730:\tlearn: 0.0093641\ttest: 0.4517086\tbest: 0.4497892 (607)\ttotal: 36.5s\tremaining: 13.4s\n731:\tlearn: 0.0093507\ttest: 0.4516681\tbest: 0.4497892 (607)\ttotal: 36.6s\tremaining: 13.4s\n732:\tlearn: 0.0093322\ttest: 0.4521719\tbest: 0.4497892 (607)\ttotal: 36.6s\tremaining: 13.3s\n733:\tlearn: 0.0093199\ttest: 0.4521623\tbest: 0.4497892 (607)\ttotal: 36.6s\tremaining: 13.3s\n734:\tlearn: 0.0093042\ttest: 0.4522426\tbest: 0.4497892 (607)\ttotal: 36.7s\tremaining: 13.2s\n735:\tlearn: 0.0092941\ttest: 0.4521530\tbest: 0.4497892 (607)\ttotal: 36.8s\tremaining: 13.2s\n736:\tlearn: 0.0092802\ttest: 0.4522561\tbest: 0.4497892 (607)\ttotal: 36.8s\tremaining: 13.1s\n737:\tlearn: 0.0092696\ttest: 0.4522355\tbest: 0.4497892 (607)\ttotal: 36.9s\tremaining: 13.1s\n738:\tlearn: 0.0092564\ttest: 0.4522250\tbest: 0.4497892 (607)\ttotal: 36.9s\tremaining: 13s\n739:\tlearn: 0.0092391\ttest: 0.4523215\tbest: 0.4497892 (607)\ttotal: 37s\tremaining: 13s\n740:\tlearn: 0.0092262\ttest: 0.4522295\tbest: 0.4497892 (607)\ttotal: 37s\tremaining: 12.9s\n741:\tlearn: 0.0092168\ttest: 0.4521319\tbest: 0.4497892 (607)\ttotal: 37.1s\tremaining: 12.9s\n742:\tlearn: 0.0092019\ttest: 0.4521473\tbest: 0.4497892 (607)\ttotal: 37.1s\tremaining: 12.8s\n743:\tlearn: 0.0091889\ttest: 0.4522417\tbest: 0.4497892 (607)\ttotal: 37.2s\tremaining: 12.8s\n744:\tlearn: 0.0091742\ttest: 0.4521499\tbest: 0.4497892 (607)\ttotal: 37.2s\tremaining: 12.7s\n745:\tlearn: 0.0091545\ttest: 0.4519623\tbest: 0.4497892 (607)\ttotal: 37.2s\tremaining: 12.7s\n746:\tlearn: 0.0091387\ttest: 0.4520707\tbest: 0.4497892 (607)\ttotal: 37.3s\tremaining: 12.6s\n747:\tlearn: 0.0091269\ttest: 0.4520198\tbest: 0.4497892 (607)\ttotal: 37.4s\tremaining: 12.6s\n748:\tlearn: 0.0091171\ttest: 0.4519509\tbest: 0.4497892 (607)\ttotal: 37.4s\tremaining: 12.5s\n749:\tlearn: 0.0091063\ttest: 0.4517719\tbest: 0.4497892 (607)\ttotal: 37.4s\tremaining: 12.5s\n750:\tlearn: 0.0090951\ttest: 0.4517382\tbest: 0.4497892 (607)\ttotal: 37.5s\tremaining: 12.4s\n751:\tlearn: 0.0090826\ttest: 0.4516577\tbest: 0.4497892 (607)\ttotal: 37.5s\tremaining: 12.4s\n752:\tlearn: 0.0090662\ttest: 0.4517647\tbest: 0.4497892 (607)\ttotal: 37.6s\tremaining: 12.3s\n753:\tlearn: 0.0090557\ttest: 0.4515652\tbest: 0.4497892 (607)\ttotal: 37.6s\tremaining: 12.3s\n754:\tlearn: 0.0090368\ttest: 0.4515883\tbest: 0.4497892 (607)\ttotal: 37.7s\tremaining: 12.2s\n755:\tlearn: 0.0090214\ttest: 0.4516201\tbest: 0.4497892 (607)\ttotal: 37.7s\tremaining: 12.2s\n756:\tlearn: 0.0090097\ttest: 0.4515672\tbest: 0.4497892 (607)\ttotal: 37.8s\tremaining: 12.1s\n757:\tlearn: 0.0089996\ttest: 0.4516185\tbest: 0.4497892 (607)\ttotal: 37.8s\tremaining: 12.1s\n758:\tlearn: 0.0089888\ttest: 0.4516281\tbest: 0.4497892 (607)\ttotal: 37.9s\tremaining: 12s\n759:\tlearn: 0.0089790\ttest: 0.4516880\tbest: 0.4497892 (607)\ttotal: 37.9s\tremaining: 12s\n760:\tlearn: 0.0089628\ttest: 0.4514582\tbest: 0.4497892 (607)\ttotal: 38s\tremaining: 11.9s\n761:\tlearn: 0.0089506\ttest: 0.4513351\tbest: 0.4497892 (607)\ttotal: 38s\tremaining: 11.9s\n762:\tlearn: 0.0089341\ttest: 0.4513648\tbest: 0.4497892 (607)\ttotal: 38.1s\tremaining: 11.8s\n763:\tlearn: 0.0089143\ttest: 0.4514361\tbest: 0.4497892 (607)\ttotal: 38.1s\tremaining: 11.8s\n764:\tlearn: 0.0088987\ttest: 0.4515932\tbest: 0.4497892 (607)\ttotal: 38.2s\tremaining: 11.7s\n765:\tlearn: 0.0088876\ttest: 0.4515946\tbest: 0.4497892 (607)\ttotal: 38.2s\tremaining: 11.7s\n766:\tlearn: 0.0088707\ttest: 0.4513356\tbest: 0.4497892 (607)\ttotal: 38.3s\tremaining: 11.6s\n767:\tlearn: 0.0088600\ttest: 0.4511496\tbest: 0.4497892 (607)\ttotal: 38.4s\tremaining: 11.6s\n768:\tlearn: 0.0088493\ttest: 0.4512298\tbest: 0.4497892 (607)\ttotal: 38.4s\tremaining: 11.5s\n769:\tlearn: 0.0088384\ttest: 0.4513034\tbest: 0.4497892 (607)\ttotal: 38.4s\tremaining: 11.5s\n770:\tlearn: 0.0088262\ttest: 0.4511987\tbest: 0.4497892 (607)\ttotal: 38.5s\tremaining: 11.4s\n771:\tlearn: 0.0088154\ttest: 0.4514392\tbest: 0.4497892 (607)\ttotal: 38.5s\tremaining: 11.4s\n772:\tlearn: 0.0088055\ttest: 0.4514224\tbest: 0.4497892 (607)\ttotal: 38.6s\tremaining: 11.3s\n773:\tlearn: 0.0087958\ttest: 0.4513984\tbest: 0.4497892 (607)\ttotal: 38.6s\tremaining: 11.3s\n774:\tlearn: 0.0087870\ttest: 0.4513468\tbest: 0.4497892 (607)\ttotal: 38.7s\tremaining: 11.2s\n775:\tlearn: 0.0087770\ttest: 0.4513282\tbest: 0.4497892 (607)\ttotal: 38.8s\tremaining: 11.2s\n776:\tlearn: 0.0087646\ttest: 0.4512899\tbest: 0.4497892 (607)\ttotal: 38.8s\tremaining: 11.1s\n777:\tlearn: 0.0087507\ttest: 0.4513123\tbest: 0.4497892 (607)\ttotal: 38.8s\tremaining: 11.1s\n778:\tlearn: 0.0087397\ttest: 0.4512132\tbest: 0.4497892 (607)\ttotal: 38.9s\tremaining: 11s\n779:\tlearn: 0.0087202\ttest: 0.4514472\tbest: 0.4497892 (607)\ttotal: 39s\tremaining: 11s\n780:\tlearn: 0.0087046\ttest: 0.4512842\tbest: 0.4497892 (607)\ttotal: 39s\tremaining: 10.9s\n781:\tlearn: 0.0086911\ttest: 0.4513423\tbest: 0.4497892 (607)\ttotal: 39s\tremaining: 10.9s\n782:\tlearn: 0.0086811\ttest: 0.4514305\tbest: 0.4497892 (607)\ttotal: 39.1s\tremaining: 10.8s\n783:\tlearn: 0.0086664\ttest: 0.4515715\tbest: 0.4497892 (607)\ttotal: 39.1s\tremaining: 10.8s\n784:\tlearn: 0.0086550\ttest: 0.4517654\tbest: 0.4497892 (607)\ttotal: 39.2s\tremaining: 10.7s\n785:\tlearn: 0.0086437\ttest: 0.4517331\tbest: 0.4497892 (607)\ttotal: 39.2s\tremaining: 10.7s\n786:\tlearn: 0.0086309\ttest: 0.4518333\tbest: 0.4497892 (607)\ttotal: 39.3s\tremaining: 10.6s\n787:\tlearn: 0.0086130\ttest: 0.4521369\tbest: 0.4497892 (607)\ttotal: 39.3s\tremaining: 10.6s\n788:\tlearn: 0.0086036\ttest: 0.4519571\tbest: 0.4497892 (607)\ttotal: 39.4s\tremaining: 10.5s\n789:\tlearn: 0.0085957\ttest: 0.4520454\tbest: 0.4497892 (607)\ttotal: 39.4s\tremaining: 10.5s\n790:\tlearn: 0.0085816\ttest: 0.4518083\tbest: 0.4497892 (607)\ttotal: 39.5s\tremaining: 10.4s\n791:\tlearn: 0.0085714\ttest: 0.4518083\tbest: 0.4497892 (607)\ttotal: 39.5s\tremaining: 10.4s\n792:\tlearn: 0.0085596\ttest: 0.4517220\tbest: 0.4497892 (607)\ttotal: 39.6s\tremaining: 10.3s\n793:\tlearn: 0.0085503\ttest: 0.4519211\tbest: 0.4497892 (607)\ttotal: 39.6s\tremaining: 10.3s\n794:\tlearn: 0.0085422\ttest: 0.4519750\tbest: 0.4497892 (607)\ttotal: 39.7s\tremaining: 10.2s\n795:\tlearn: 0.0085301\ttest: 0.4519233\tbest: 0.4497892 (607)\ttotal: 39.7s\tremaining: 10.2s\n796:\tlearn: 0.0085152\ttest: 0.4522567\tbest: 0.4497892 (607)\ttotal: 39.8s\tremaining: 10.1s\n797:\tlearn: 0.0085011\ttest: 0.4521909\tbest: 0.4497892 (607)\ttotal: 39.8s\tremaining: 10.1s\n798:\tlearn: 0.0084865\ttest: 0.4523030\tbest: 0.4497892 (607)\ttotal: 39.9s\tremaining: 10s\n799:\tlearn: 0.0084737\ttest: 0.4523015\tbest: 0.4497892 (607)\ttotal: 40s\tremaining: 9.99s\n800:\tlearn: 0.0084635\ttest: 0.4522665\tbest: 0.4497892 (607)\ttotal: 40s\tremaining: 9.94s\n801:\tlearn: 0.0084524\ttest: 0.4520940\tbest: 0.4497892 (607)\ttotal: 40s\tremaining: 9.89s\n802:\tlearn: 0.0084442\ttest: 0.4520128\tbest: 0.4497892 (607)\ttotal: 40.1s\tremaining: 9.84s\n803:\tlearn: 0.0084335\ttest: 0.4518154\tbest: 0.4497892 (607)\ttotal: 40.2s\tremaining: 9.79s\n804:\tlearn: 0.0084101\ttest: 0.4521259\tbest: 0.4497892 (607)\ttotal: 40.2s\tremaining: 9.74s\n805:\tlearn: 0.0083989\ttest: 0.4522194\tbest: 0.4497892 (607)\ttotal: 40.3s\tremaining: 9.69s\n806:\tlearn: 0.0083882\ttest: 0.4523356\tbest: 0.4497892 (607)\ttotal: 40.3s\tremaining: 9.64s\n807:\tlearn: 0.0083744\ttest: 0.4525446\tbest: 0.4497892 (607)\ttotal: 40.4s\tremaining: 9.59s\n808:\tlearn: 0.0083631\ttest: 0.4524628\tbest: 0.4497892 (607)\ttotal: 40.4s\tremaining: 9.54s\n809:\tlearn: 0.0083538\ttest: 0.4524665\tbest: 0.4497892 (607)\ttotal: 40.5s\tremaining: 9.49s\n810:\tlearn: 0.0083389\ttest: 0.4526644\tbest: 0.4497892 (607)\ttotal: 40.5s\tremaining: 9.44s\n811:\tlearn: 0.0083277\ttest: 0.4527165\tbest: 0.4497892 (607)\ttotal: 40.5s\tremaining: 9.39s\n812:\tlearn: 0.0083153\ttest: 0.4527740\tbest: 0.4497892 (607)\ttotal: 40.6s\tremaining: 9.34s\n813:\tlearn: 0.0082993\ttest: 0.4525656\tbest: 0.4497892 (607)\ttotal: 40.6s\tremaining: 9.29s\n814:\tlearn: 0.0082871\ttest: 0.4521680\tbest: 0.4497892 (607)\ttotal: 40.7s\tremaining: 9.24s\n815:\tlearn: 0.0082737\ttest: 0.4520511\tbest: 0.4497892 (607)\ttotal: 40.7s\tremaining: 9.19s\n816:\tlearn: 0.0082634\ttest: 0.4520035\tbest: 0.4497892 (607)\ttotal: 40.8s\tremaining: 9.14s\n817:\tlearn: 0.0082417\ttest: 0.4521960\tbest: 0.4497892 (607)\ttotal: 40.9s\tremaining: 9.09s\n818:\tlearn: 0.0082226\ttest: 0.4523838\tbest: 0.4497892 (607)\ttotal: 40.9s\tremaining: 9.04s\n819:\tlearn: 0.0082098\ttest: 0.4524185\tbest: 0.4497892 (607)\ttotal: 41s\tremaining: 8.99s\n820:\tlearn: 0.0082012\ttest: 0.4522682\tbest: 0.4497892 (607)\ttotal: 41s\tremaining: 8.94s\n821:\tlearn: 0.0081924\ttest: 0.4523565\tbest: 0.4497892 (607)\ttotal: 41s\tremaining: 8.89s\n822:\tlearn: 0.0081837\ttest: 0.4524154\tbest: 0.4497892 (607)\ttotal: 41.1s\tremaining: 8.84s\n823:\tlearn: 0.0081733\ttest: 0.4526128\tbest: 0.4497892 (607)\ttotal: 41.1s\tremaining: 8.79s\n824:\tlearn: 0.0081649\ttest: 0.4525273\tbest: 0.4497892 (607)\ttotal: 41.2s\tremaining: 8.74s\n825:\tlearn: 0.0081554\ttest: 0.4524773\tbest: 0.4497892 (607)\ttotal: 41.2s\tremaining: 8.69s\n826:\tlearn: 0.0081433\ttest: 0.4524154\tbest: 0.4497892 (607)\ttotal: 41.3s\tremaining: 8.64s\n827:\tlearn: 0.0081339\ttest: 0.4525451\tbest: 0.4497892 (607)\ttotal: 41.3s\tremaining: 8.59s\n828:\tlearn: 0.0081241\ttest: 0.4524088\tbest: 0.4497892 (607)\ttotal: 41.4s\tremaining: 8.54s\n829:\tlearn: 0.0081129\ttest: 0.4521641\tbest: 0.4497892 (607)\ttotal: 41.4s\tremaining: 8.49s\n830:\tlearn: 0.0080988\ttest: 0.4519913\tbest: 0.4497892 (607)\ttotal: 41.5s\tremaining: 8.44s\n831:\tlearn: 0.0080901\ttest: 0.4519742\tbest: 0.4497892 (607)\ttotal: 41.5s\tremaining: 8.39s\n832:\tlearn: 0.0080836\ttest: 0.4519200\tbest: 0.4497892 (607)\ttotal: 41.6s\tremaining: 8.34s\n833:\tlearn: 0.0080742\ttest: 0.4519316\tbest: 0.4497892 (607)\ttotal: 41.6s\tremaining: 8.29s\n834:\tlearn: 0.0080585\ttest: 0.4519827\tbest: 0.4497892 (607)\ttotal: 41.7s\tremaining: 8.24s\n835:\tlearn: 0.0080481\ttest: 0.4522383\tbest: 0.4497892 (607)\ttotal: 41.7s\tremaining: 8.19s\n836:\tlearn: 0.0080396\ttest: 0.4522035\tbest: 0.4497892 (607)\ttotal: 41.8s\tremaining: 8.14s\n837:\tlearn: 0.0080281\ttest: 0.4522303\tbest: 0.4497892 (607)\ttotal: 41.8s\tremaining: 8.09s\n838:\tlearn: 0.0080196\ttest: 0.4522022\tbest: 0.4497892 (607)\ttotal: 41.9s\tremaining: 8.04s\n839:\tlearn: 0.0080095\ttest: 0.4520555\tbest: 0.4497892 (607)\ttotal: 41.9s\tremaining: 7.99s\n840:\tlearn: 0.0079979\ttest: 0.4521795\tbest: 0.4497892 (607)\ttotal: 42s\tremaining: 7.94s\n841:\tlearn: 0.0079899\ttest: 0.4520272\tbest: 0.4497892 (607)\ttotal: 42s\tremaining: 7.89s\n842:\tlearn: 0.0079807\ttest: 0.4520758\tbest: 0.4497892 (607)\ttotal: 42.1s\tremaining: 7.84s\n843:\tlearn: 0.0079646\ttest: 0.4520677\tbest: 0.4497892 (607)\ttotal: 42.1s\tremaining: 7.79s\n844:\tlearn: 0.0079577\ttest: 0.4519416\tbest: 0.4497892 (607)\ttotal: 42.2s\tremaining: 7.74s\n845:\tlearn: 0.0079475\ttest: 0.4522020\tbest: 0.4497892 (607)\ttotal: 42.2s\tremaining: 7.69s\n846:\tlearn: 0.0079371\ttest: 0.4521008\tbest: 0.4497892 (607)\ttotal: 42.3s\tremaining: 7.64s\n847:\tlearn: 0.0079257\ttest: 0.4520672\tbest: 0.4497892 (607)\ttotal: 42.3s\tremaining: 7.59s\n848:\tlearn: 0.0079145\ttest: 0.4518425\tbest: 0.4497892 (607)\ttotal: 42.4s\tremaining: 7.54s\n849:\tlearn: 0.0078992\ttest: 0.4516490\tbest: 0.4497892 (607)\ttotal: 42.4s\tremaining: 7.49s\n850:\tlearn: 0.0078880\ttest: 0.4516405\tbest: 0.4497892 (607)\ttotal: 42.5s\tremaining: 7.44s\n851:\tlearn: 0.0078757\ttest: 0.4514137\tbest: 0.4497892 (607)\ttotal: 42.6s\tremaining: 7.39s\n852:\tlearn: 0.0078690\ttest: 0.4512586\tbest: 0.4497892 (607)\ttotal: 42.6s\tremaining: 7.34s\n853:\tlearn: 0.0078596\ttest: 0.4513580\tbest: 0.4497892 (607)\ttotal: 42.7s\tremaining: 7.29s\n854:\tlearn: 0.0078428\ttest: 0.4514370\tbest: 0.4497892 (607)\ttotal: 42.7s\tremaining: 7.24s\n855:\tlearn: 0.0078319\ttest: 0.4517565\tbest: 0.4497892 (607)\ttotal: 42.7s\tremaining: 7.19s\n856:\tlearn: 0.0078199\ttest: 0.4517348\tbest: 0.4497892 (607)\ttotal: 42.8s\tremaining: 7.14s\n857:\tlearn: 0.0078108\ttest: 0.4515697\tbest: 0.4497892 (607)\ttotal: 42.9s\tremaining: 7.09s\n858:\tlearn: 0.0078017\ttest: 0.4516057\tbest: 0.4497892 (607)\ttotal: 42.9s\tremaining: 7.05s\n859:\tlearn: 0.0077900\ttest: 0.4513128\tbest: 0.4497892 (607)\ttotal: 43s\tremaining: 6.99s\n860:\tlearn: 0.0077788\ttest: 0.4514229\tbest: 0.4497892 (607)\ttotal: 43s\tremaining: 6.94s\n861:\tlearn: 0.0077606\ttest: 0.4513427\tbest: 0.4497892 (607)\ttotal: 43.1s\tremaining: 6.89s\n862:\tlearn: 0.0077523\ttest: 0.4512340\tbest: 0.4497892 (607)\ttotal: 43.1s\tremaining: 6.84s\n863:\tlearn: 0.0077399\ttest: 0.4510878\tbest: 0.4497892 (607)\ttotal: 43.2s\tremaining: 6.79s\n864:\tlearn: 0.0077304\ttest: 0.4510178\tbest: 0.4497892 (607)\ttotal: 43.2s\tremaining: 6.75s\n865:\tlearn: 0.0077234\ttest: 0.4510881\tbest: 0.4497892 (607)\ttotal: 43.3s\tremaining: 6.69s\n866:\tlearn: 0.0077150\ttest: 0.4510899\tbest: 0.4497892 (607)\ttotal: 43.3s\tremaining: 6.64s\n867:\tlearn: 0.0077052\ttest: 0.4512232\tbest: 0.4497892 (607)\ttotal: 43.4s\tremaining: 6.59s\n868:\tlearn: 0.0076975\ttest: 0.4512810\tbest: 0.4497892 (607)\ttotal: 43.4s\tremaining: 6.54s\n869:\tlearn: 0.0076908\ttest: 0.4513123\tbest: 0.4497892 (607)\ttotal: 43.5s\tremaining: 6.49s\n870:\tlearn: 0.0076786\ttest: 0.4513033\tbest: 0.4497892 (607)\ttotal: 43.5s\tremaining: 6.44s\n871:\tlearn: 0.0076676\ttest: 0.4512564\tbest: 0.4497892 (607)\ttotal: 43.6s\tremaining: 6.39s\n872:\tlearn: 0.0076571\ttest: 0.4513256\tbest: 0.4497892 (607)\ttotal: 43.6s\tremaining: 6.34s\n873:\tlearn: 0.0076476\ttest: 0.4511170\tbest: 0.4497892 (607)\ttotal: 43.7s\tremaining: 6.29s\n874:\tlearn: 0.0076356\ttest: 0.4509593\tbest: 0.4497892 (607)\ttotal: 43.7s\tremaining: 6.25s\n875:\tlearn: 0.0076273\ttest: 0.4511641\tbest: 0.4497892 (607)\ttotal: 43.8s\tremaining: 6.19s\n876:\tlearn: 0.0076206\ttest: 0.4511325\tbest: 0.4497892 (607)\ttotal: 43.8s\tremaining: 6.15s\n877:\tlearn: 0.0076076\ttest: 0.4509627\tbest: 0.4497892 (607)\ttotal: 43.9s\tremaining: 6.09s\n878:\tlearn: 0.0075944\ttest: 0.4510640\tbest: 0.4497892 (607)\ttotal: 43.9s\tremaining: 6.04s\n879:\tlearn: 0.0075836\ttest: 0.4511388\tbest: 0.4497892 (607)\ttotal: 44s\tremaining: 5.99s\n880:\tlearn: 0.0075763\ttest: 0.4512443\tbest: 0.4497892 (607)\ttotal: 44s\tremaining: 5.94s\n881:\tlearn: 0.0075669\ttest: 0.4513296\tbest: 0.4497892 (607)\ttotal: 44.1s\tremaining: 5.9s\n882:\tlearn: 0.0075580\ttest: 0.4512542\tbest: 0.4497892 (607)\ttotal: 44.1s\tremaining: 5.84s\n883:\tlearn: 0.0075498\ttest: 0.4511669\tbest: 0.4497892 (607)\ttotal: 44.2s\tremaining: 5.8s\n884:\tlearn: 0.0075403\ttest: 0.4512467\tbest: 0.4497892 (607)\ttotal: 44.2s\tremaining: 5.74s\n885:\tlearn: 0.0075313\ttest: 0.4514230\tbest: 0.4497892 (607)\ttotal: 44.3s\tremaining: 5.7s\n886:\tlearn: 0.0075234\ttest: 0.4514692\tbest: 0.4497892 (607)\ttotal: 44.3s\tremaining: 5.64s\n887:\tlearn: 0.0075175\ttest: 0.4515127\tbest: 0.4497892 (607)\ttotal: 44.4s\tremaining: 5.6s\n888:\tlearn: 0.0075092\ttest: 0.4513542\tbest: 0.4497892 (607)\ttotal: 44.4s\tremaining: 5.55s\n889:\tlearn: 0.0075006\ttest: 0.4515284\tbest: 0.4497892 (607)\ttotal: 44.5s\tremaining: 5.5s\n890:\tlearn: 0.0074893\ttest: 0.4516330\tbest: 0.4497892 (607)\ttotal: 44.5s\tremaining: 5.45s\n891:\tlearn: 0.0074801\ttest: 0.4518022\tbest: 0.4497892 (607)\ttotal: 44.6s\tremaining: 5.4s\n892:\tlearn: 0.0074713\ttest: 0.4517820\tbest: 0.4497892 (607)\ttotal: 44.6s\tremaining: 5.35s\n893:\tlearn: 0.0074617\ttest: 0.4519122\tbest: 0.4497892 (607)\ttotal: 44.7s\tremaining: 5.3s\n894:\tlearn: 0.0074526\ttest: 0.4519243\tbest: 0.4497892 (607)\ttotal: 44.7s\tremaining: 5.25s\n895:\tlearn: 0.0074428\ttest: 0.4519286\tbest: 0.4497892 (607)\ttotal: 44.8s\tremaining: 5.2s\n896:\tlearn: 0.0074343\ttest: 0.4519682\tbest: 0.4497892 (607)\ttotal: 44.8s\tremaining: 5.15s\n897:\tlearn: 0.0074246\ttest: 0.4519156\tbest: 0.4497892 (607)\ttotal: 44.9s\tremaining: 5.1s\n898:\tlearn: 0.0074178\ttest: 0.4518985\tbest: 0.4497892 (607)\ttotal: 44.9s\tremaining: 5.05s\n899:\tlearn: 0.0074051\ttest: 0.4518644\tbest: 0.4497892 (607)\ttotal: 45s\tremaining: 5s\n900:\tlearn: 0.0073962\ttest: 0.4518749\tbest: 0.4497892 (607)\ttotal: 45s\tremaining: 4.95s\n901:\tlearn: 0.0073874\ttest: 0.4520134\tbest: 0.4497892 (607)\ttotal: 45.1s\tremaining: 4.9s\n902:\tlearn: 0.0073798\ttest: 0.4520871\tbest: 0.4497892 (607)\ttotal: 45.1s\tremaining: 4.85s\n903:\tlearn: 0.0073724\ttest: 0.4519643\tbest: 0.4497892 (607)\ttotal: 45.2s\tremaining: 4.8s\n904:\tlearn: 0.0073598\ttest: 0.4520052\tbest: 0.4497892 (607)\ttotal: 45.2s\tremaining: 4.75s\n905:\tlearn: 0.0073491\ttest: 0.4520752\tbest: 0.4497892 (607)\ttotal: 45.3s\tremaining: 4.7s\n906:\tlearn: 0.0073406\ttest: 0.4519987\tbest: 0.4497892 (607)\ttotal: 45.3s\tremaining: 4.65s\n907:\tlearn: 0.0073318\ttest: 0.4520996\tbest: 0.4497892 (607)\ttotal: 45.4s\tremaining: 4.6s\n908:\tlearn: 0.0073192\ttest: 0.4524239\tbest: 0.4497892 (607)\ttotal: 45.4s\tremaining: 4.55s\n909:\tlearn: 0.0073080\ttest: 0.4524828\tbest: 0.4497892 (607)\ttotal: 45.5s\tremaining: 4.5s\n910:\tlearn: 0.0072978\ttest: 0.4525387\tbest: 0.4497892 (607)\ttotal: 45.5s\tremaining: 4.45s\n911:\tlearn: 0.0072912\ttest: 0.4526459\tbest: 0.4497892 (607)\ttotal: 45.6s\tremaining: 4.4s\n912:\tlearn: 0.0072823\ttest: 0.4526168\tbest: 0.4497892 (607)\ttotal: 45.6s\tremaining: 4.35s\n913:\tlearn: 0.0072711\ttest: 0.4524174\tbest: 0.4497892 (607)\ttotal: 45.7s\tremaining: 4.3s\n914:\tlearn: 0.0072609\ttest: 0.4523176\tbest: 0.4497892 (607)\ttotal: 45.7s\tremaining: 4.25s\n915:\tlearn: 0.0072512\ttest: 0.4523698\tbest: 0.4497892 (607)\ttotal: 45.8s\tremaining: 4.2s\n916:\tlearn: 0.0072412\ttest: 0.4521584\tbest: 0.4497892 (607)\ttotal: 45.8s\tremaining: 4.15s\n917:\tlearn: 0.0072275\ttest: 0.4525004\tbest: 0.4497892 (607)\ttotal: 45.9s\tremaining: 4.1s\n918:\tlearn: 0.0072215\ttest: 0.4525505\tbest: 0.4497892 (607)\ttotal: 45.9s\tremaining: 4.05s\n919:\tlearn: 0.0072149\ttest: 0.4525319\tbest: 0.4497892 (607)\ttotal: 46s\tremaining: 4s\n920:\tlearn: 0.0072071\ttest: 0.4525846\tbest: 0.4497892 (607)\ttotal: 46s\tremaining: 3.95s\n921:\tlearn: 0.0071998\ttest: 0.4526923\tbest: 0.4497892 (607)\ttotal: 46.1s\tremaining: 3.9s\n922:\tlearn: 0.0071913\ttest: 0.4527507\tbest: 0.4497892 (607)\ttotal: 46.1s\tremaining: 3.85s\n923:\tlearn: 0.0071856\ttest: 0.4526439\tbest: 0.4497892 (607)\ttotal: 46.2s\tremaining: 3.8s\n924:\tlearn: 0.0071746\ttest: 0.4526060\tbest: 0.4497892 (607)\ttotal: 46.3s\tremaining: 3.75s\n925:\tlearn: 0.0071681\ttest: 0.4525056\tbest: 0.4497892 (607)\ttotal: 46.3s\tremaining: 3.7s\n926:\tlearn: 0.0071603\ttest: 0.4526098\tbest: 0.4497892 (607)\ttotal: 46.4s\tremaining: 3.65s\n927:\tlearn: 0.0071544\ttest: 0.4526204\tbest: 0.4497892 (607)\ttotal: 46.4s\tremaining: 3.6s\n928:\tlearn: 0.0071458\ttest: 0.4526408\tbest: 0.4497892 (607)\ttotal: 46.5s\tremaining: 3.55s\n929:\tlearn: 0.0071387\ttest: 0.4526693\tbest: 0.4497892 (607)\ttotal: 46.5s\tremaining: 3.5s\n930:\tlearn: 0.0071319\ttest: 0.4526281\tbest: 0.4497892 (607)\ttotal: 46.6s\tremaining: 3.45s\n931:\tlearn: 0.0071214\ttest: 0.4524010\tbest: 0.4497892 (607)\ttotal: 46.6s\tremaining: 3.4s\n932:\tlearn: 0.0071135\ttest: 0.4523965\tbest: 0.4497892 (607)\ttotal: 46.7s\tremaining: 3.35s\n933:\tlearn: 0.0071067\ttest: 0.4522785\tbest: 0.4497892 (607)\ttotal: 46.7s\tremaining: 3.3s\n934:\tlearn: 0.0070978\ttest: 0.4521270\tbest: 0.4497892 (607)\ttotal: 46.8s\tremaining: 3.25s\n935:\tlearn: 0.0070905\ttest: 0.4521068\tbest: 0.4497892 (607)\ttotal: 46.8s\tremaining: 3.2s\n936:\tlearn: 0.0070838\ttest: 0.4520774\tbest: 0.4497892 (607)\ttotal: 46.9s\tremaining: 3.15s\n937:\tlearn: 0.0070755\ttest: 0.4518868\tbest: 0.4497892 (607)\ttotal: 46.9s\tremaining: 3.1s\n938:\tlearn: 0.0070694\ttest: 0.4518943\tbest: 0.4497892 (607)\ttotal: 47s\tremaining: 3.05s\n939:\tlearn: 0.0070644\ttest: 0.4518242\tbest: 0.4497892 (607)\ttotal: 47s\tremaining: 3s\n940:\tlearn: 0.0070559\ttest: 0.4518082\tbest: 0.4497892 (607)\ttotal: 47.1s\tremaining: 2.95s\n941:\tlearn: 0.0070499\ttest: 0.4518003\tbest: 0.4497892 (607)\ttotal: 47.1s\tremaining: 2.9s\n942:\tlearn: 0.0070437\ttest: 0.4518672\tbest: 0.4497892 (607)\ttotal: 47.2s\tremaining: 2.85s\n943:\tlearn: 0.0070382\ttest: 0.4519369\tbest: 0.4497892 (607)\ttotal: 47.3s\tremaining: 2.8s\n944:\tlearn: 0.0070284\ttest: 0.4516521\tbest: 0.4497892 (607)\ttotal: 47.3s\tremaining: 2.75s\n945:\tlearn: 0.0070202\ttest: 0.4516985\tbest: 0.4497892 (607)\ttotal: 47.4s\tremaining: 2.7s\n946:\tlearn: 0.0070144\ttest: 0.4516125\tbest: 0.4497892 (607)\ttotal: 47.4s\tremaining: 2.65s\n947:\tlearn: 0.0070047\ttest: 0.4516504\tbest: 0.4497892 (607)\ttotal: 47.5s\tremaining: 2.6s\n948:\tlearn: 0.0069983\ttest: 0.4515463\tbest: 0.4497892 (607)\ttotal: 47.5s\tremaining: 2.55s\n949:\tlearn: 0.0069901\ttest: 0.4514216\tbest: 0.4497892 (607)\ttotal: 47.6s\tremaining: 2.5s\n950:\tlearn: 0.0069836\ttest: 0.4514695\tbest: 0.4497892 (607)\ttotal: 47.6s\tremaining: 2.45s\n951:\tlearn: 0.0069750\ttest: 0.4514842\tbest: 0.4497892 (607)\ttotal: 47.7s\tremaining: 2.4s\n952:\tlearn: 0.0069645\ttest: 0.4514210\tbest: 0.4497892 (607)\ttotal: 47.7s\tremaining: 2.35s\n953:\tlearn: 0.0069588\ttest: 0.4514653\tbest: 0.4497892 (607)\ttotal: 47.8s\tremaining: 2.3s\n954:\tlearn: 0.0069519\ttest: 0.4514775\tbest: 0.4497892 (607)\ttotal: 47.8s\tremaining: 2.25s\n955:\tlearn: 0.0069459\ttest: 0.4513623\tbest: 0.4497892 (607)\ttotal: 47.9s\tremaining: 2.2s\n956:\tlearn: 0.0069362\ttest: 0.4512999\tbest: 0.4497892 (607)\ttotal: 47.9s\tremaining: 2.15s\n957:\tlearn: 0.0069280\ttest: 0.4512807\tbest: 0.4497892 (607)\ttotal: 48s\tremaining: 2.1s\n958:\tlearn: 0.0069219\ttest: 0.4513288\tbest: 0.4497892 (607)\ttotal: 48s\tremaining: 2.05s\n959:\tlearn: 0.0069153\ttest: 0.4513530\tbest: 0.4497892 (607)\ttotal: 48.1s\tremaining: 2s\n960:\tlearn: 0.0069087\ttest: 0.4513765\tbest: 0.4497892 (607)\ttotal: 48.1s\tremaining: 1.95s\n961:\tlearn: 0.0069019\ttest: 0.4513749\tbest: 0.4497892 (607)\ttotal: 48.2s\tremaining: 1.9s\n962:\tlearn: 0.0068940\ttest: 0.4515584\tbest: 0.4497892 (607)\ttotal: 48.3s\tremaining: 1.85s\n963:\tlearn: 0.0068878\ttest: 0.4515280\tbest: 0.4497892 (607)\ttotal: 48.3s\tremaining: 1.8s\n964:\tlearn: 0.0068818\ttest: 0.4514965\tbest: 0.4497892 (607)\ttotal: 48.4s\tremaining: 1.75s\n965:\tlearn: 0.0068733\ttest: 0.4515581\tbest: 0.4497892 (607)\ttotal: 48.4s\tremaining: 1.7s\n966:\tlearn: 0.0068663\ttest: 0.4516170\tbest: 0.4497892 (607)\ttotal: 48.5s\tremaining: 1.65s\n967:\tlearn: 0.0068575\ttest: 0.4516802\tbest: 0.4497892 (607)\ttotal: 48.5s\tremaining: 1.6s\n968:\tlearn: 0.0068503\ttest: 0.4516182\tbest: 0.4497892 (607)\ttotal: 48.6s\tremaining: 1.55s\n969:\tlearn: 0.0068384\ttest: 0.4518853\tbest: 0.4497892 (607)\ttotal: 48.6s\tremaining: 1.5s\n970:\tlearn: 0.0068315\ttest: 0.4519620\tbest: 0.4497892 (607)\ttotal: 48.7s\tremaining: 1.45s\n971:\tlearn: 0.0068228\ttest: 0.4521069\tbest: 0.4497892 (607)\ttotal: 48.7s\tremaining: 1.4s\n972:\tlearn: 0.0068181\ttest: 0.4520460\tbest: 0.4497892 (607)\ttotal: 48.8s\tremaining: 1.35s\n973:\tlearn: 0.0068107\ttest: 0.4519584\tbest: 0.4497892 (607)\ttotal: 48.8s\tremaining: 1.3s\n974:\tlearn: 0.0068043\ttest: 0.4519502\tbest: 0.4497892 (607)\ttotal: 48.9s\tremaining: 1.25s\n975:\tlearn: 0.0067985\ttest: 0.4519397\tbest: 0.4497892 (607)\ttotal: 48.9s\tremaining: 1.2s\n976:\tlearn: 0.0067920\ttest: 0.4519084\tbest: 0.4497892 (607)\ttotal: 49s\tremaining: 1.15s\n977:\tlearn: 0.0067843\ttest: 0.4520510\tbest: 0.4497892 (607)\ttotal: 49s\tremaining: 1.1s\n978:\tlearn: 0.0067748\ttest: 0.4519991\tbest: 0.4497892 (607)\ttotal: 49.1s\tremaining: 1.05s\n979:\tlearn: 0.0067673\ttest: 0.4520131\tbest: 0.4497892 (607)\ttotal: 49.1s\tremaining: 1s\n980:\tlearn: 0.0067620\ttest: 0.4520737\tbest: 0.4497892 (607)\ttotal: 49.2s\tremaining: 952ms\n981:\tlearn: 0.0067538\ttest: 0.4520273\tbest: 0.4497892 (607)\ttotal: 49.2s\tremaining: 902ms\n982:\tlearn: 0.0067488\ttest: 0.4519571\tbest: 0.4497892 (607)\ttotal: 49.3s\tremaining: 852ms\n983:\tlearn: 0.0067423\ttest: 0.4519258\tbest: 0.4497892 (607)\ttotal: 49.3s\tremaining: 802ms\n984:\tlearn: 0.0067334\ttest: 0.4520409\tbest: 0.4497892 (607)\ttotal: 49.4s\tremaining: 752ms\n985:\tlearn: 0.0067263\ttest: 0.4520700\tbest: 0.4497892 (607)\ttotal: 49.4s\tremaining: 701ms\n986:\tlearn: 0.0067186\ttest: 0.4521965\tbest: 0.4497892 (607)\ttotal: 49.5s\tremaining: 651ms\n987:\tlearn: 0.0067128\ttest: 0.4521176\tbest: 0.4497892 (607)\ttotal: 49.5s\tremaining: 601ms\n988:\tlearn: 0.0067051\ttest: 0.4520733\tbest: 0.4497892 (607)\ttotal: 49.6s\tremaining: 551ms\n989:\tlearn: 0.0066981\ttest: 0.4520930\tbest: 0.4497892 (607)\ttotal: 49.6s\tremaining: 501ms\n990:\tlearn: 0.0066909\ttest: 0.4522429\tbest: 0.4497892 (607)\ttotal: 49.7s\tremaining: 451ms\n991:\tlearn: 0.0066814\ttest: 0.4521190\tbest: 0.4497892 (607)\ttotal: 49.7s\tremaining: 401ms\n992:\tlearn: 0.0066742\ttest: 0.4521461\tbest: 0.4497892 (607)\ttotal: 49.8s\tremaining: 351ms\n993:\tlearn: 0.0066671\ttest: 0.4522953\tbest: 0.4497892 (607)\ttotal: 49.8s\tremaining: 301ms\n994:\tlearn: 0.0066606\ttest: 0.4525076\tbest: 0.4497892 (607)\ttotal: 49.9s\tremaining: 251ms\n995:\tlearn: 0.0066555\ttest: 0.4523950\tbest: 0.4497892 (607)\ttotal: 49.9s\tremaining: 200ms\n996:\tlearn: 0.0066493\ttest: 0.4524172\tbest: 0.4497892 (607)\ttotal: 50s\tremaining: 150ms\n997:\tlearn: 0.0066415\ttest: 0.4524625\tbest: 0.4497892 (607)\ttotal: 50s\tremaining: 100ms\n998:\tlearn: 0.0066350\ttest: 0.4524396\tbest: 0.4497892 (607)\ttotal: 50.1s\tremaining: 50.1ms\n999:\tlearn: 0.0066279\ttest: 0.4525929\tbest: 0.4497892 (607)\ttotal: 50.1s\tremaining: 0us\n\nbestTest = 0.4497892348\nbestIteration = 607\n\nShrink model to first 608 iterations.\n",
          "output_type": "stream"
        },
        {
          "output_type": "execute_result",
          "execution_count": 39,
          "data": {
            "text/plain": "<catboost.core.CatBoostClassifier at 0x7f0f02914d30>"
          },
          "metadata": {}
        }
      ]
    },
    {
      "cell_type": "code",
      "metadata": {
        "tags": [],
        "cell_id": "00017-4eec8447-f027-4d56-8cc8-6095f9fae96e",
        "deepnote_to_be_reexecuted": false,
        "source_hash": "e9bd354c",
        "execution_start": 1617980040632,
        "execution_millis": 68,
        "deepnote_cell_type": "code"
      },
      "source": "CBC.get_feature_importance(prettified=True)",
      "execution_count": 40,
      "outputs": [
        {
          "output_type": "execute_result",
          "execution_count": 40,
          "data": {
            "application/vnd.deepnote.dataframe.v2+json": {
              "row_count": 2834,
              "column_count": 2,
              "columns": [
                {
                  "name": "Feature Id",
                  "dtype": "object",
                  "stats": {
                    "unique_count": 2834,
                    "nan_count": 0,
                    "categories": [
                      {
                        "name": "2184",
                        "count": 1
                      },
                      {
                        "name": "672",
                        "count": 1
                      },
                      {
                        "name": "2832 others",
                        "count": 2832
                      }
                    ]
                  }
                },
                {
                  "name": "Importances",
                  "dtype": "float64",
                  "stats": {
                    "unique_count": 999,
                    "nan_count": 0,
                    "min": 0,
                    "max": 28.928687741019964,
                    "histogram": [
                      {
                        "bin_start": 0,
                        "bin_end": 2.8928687741019963,
                        "count": 2833
                      },
                      {
                        "bin_start": 2.8928687741019963,
                        "bin_end": 5.7857375482039926,
                        "count": 0
                      },
                      {
                        "bin_start": 5.7857375482039926,
                        "bin_end": 8.678606322305988,
                        "count": 0
                      },
                      {
                        "bin_start": 8.678606322305988,
                        "bin_end": 11.571475096407985,
                        "count": 0
                      },
                      {
                        "bin_start": 11.571475096407985,
                        "bin_end": 14.464343870509982,
                        "count": 0
                      },
                      {
                        "bin_start": 14.464343870509982,
                        "bin_end": 17.357212644611977,
                        "count": 0
                      },
                      {
                        "bin_start": 17.357212644611977,
                        "bin_end": 20.250081418713975,
                        "count": 0
                      },
                      {
                        "bin_start": 20.250081418713975,
                        "bin_end": 23.14295019281597,
                        "count": 0
                      },
                      {
                        "bin_start": 23.14295019281597,
                        "bin_end": 26.035818966917965,
                        "count": 0
                      },
                      {
                        "bin_start": 26.035818966917965,
                        "bin_end": 28.928687741019964,
                        "count": 1
                      }
                    ]
                  }
                },
                {
                  "name": "_deepnote_index_column",
                  "dtype": "int64"
                }
              ],
              "rows_top": [
                {
                  "Feature Id": "2184",
                  "Importances": 28.928687741019964,
                  "_deepnote_index_column": 0
                },
                {
                  "Feature Id": "672",
                  "Importances": 1.6483035850723577,
                  "_deepnote_index_column": 1
                },
                {
                  "Feature Id": "1687",
                  "Importances": 1.5832371782253465,
                  "_deepnote_index_column": 2
                },
                {
                  "Feature Id": "833",
                  "Importances": 1.4551889174284252,
                  "_deepnote_index_column": 3
                },
                {
                  "Feature Id": "1656",
                  "Importances": 1.437725910856413,
                  "_deepnote_index_column": 4
                },
                {
                  "Feature Id": "167",
                  "Importances": 1.4223458846550419,
                  "_deepnote_index_column": 5
                },
                {
                  "Feature Id": "1140",
                  "Importances": 1.4129735643464574,
                  "_deepnote_index_column": 6
                },
                {
                  "Feature Id": "1655",
                  "Importances": 1.168822356727898,
                  "_deepnote_index_column": 7
                },
                {
                  "Feature Id": "2021",
                  "Importances": 1.1333840255428345,
                  "_deepnote_index_column": 8
                },
                {
                  "Feature Id": "1315",
                  "Importances": 1.068566367462794,
                  "_deepnote_index_column": 9
                },
                {
                  "Feature Id": "1882",
                  "Importances": 1.0004875341180122,
                  "_deepnote_index_column": 10
                },
                {
                  "Feature Id": "1000",
                  "Importances": 0.9104241097099607,
                  "_deepnote_index_column": 11
                },
                {
                  "Feature Id": "851",
                  "Importances": 0.8627050443355451,
                  "_deepnote_index_column": 12
                },
                {
                  "Feature Id": "396",
                  "Importances": 0.7690857801913004,
                  "_deepnote_index_column": 13
                },
                {
                  "Feature Id": "1305",
                  "Importances": 0.7140596688118016,
                  "_deepnote_index_column": 14
                },
                {
                  "Feature Id": "2734",
                  "Importances": 0.7085484330301053,
                  "_deepnote_index_column": 15
                },
                {
                  "Feature Id": "386",
                  "Importances": 0.6911494718114539,
                  "_deepnote_index_column": 16
                },
                {
                  "Feature Id": "509",
                  "Importances": 0.6836981308311882,
                  "_deepnote_index_column": 17
                },
                {
                  "Feature Id": "2214",
                  "Importances": 0.6699447977960149,
                  "_deepnote_index_column": 18
                },
                {
                  "Feature Id": "1422",
                  "Importances": 0.6685771264929157,
                  "_deepnote_index_column": 19
                },
                {
                  "Feature Id": "2030",
                  "Importances": 0.6200584627231049,
                  "_deepnote_index_column": 20
                },
                {
                  "Feature Id": "29",
                  "Importances": 0.6028407588947744,
                  "_deepnote_index_column": 21
                },
                {
                  "Feature Id": "904",
                  "Importances": 0.5617956357243594,
                  "_deepnote_index_column": 22
                },
                {
                  "Feature Id": "1902",
                  "Importances": 0.5503846845689465,
                  "_deepnote_index_column": 23
                },
                {
                  "Feature Id": "171",
                  "Importances": 0.5451724721098491,
                  "_deepnote_index_column": 24
                },
                {
                  "Feature Id": "2025",
                  "Importances": 0.5325457485801797,
                  "_deepnote_index_column": 25
                },
                {
                  "Feature Id": "192",
                  "Importances": 0.5189134627064729,
                  "_deepnote_index_column": 26
                },
                {
                  "Feature Id": "74",
                  "Importances": 0.5155775497807193,
                  "_deepnote_index_column": 27
                },
                {
                  "Feature Id": "2383",
                  "Importances": 0.5145701866387703,
                  "_deepnote_index_column": 28
                },
                {
                  "Feature Id": "2034",
                  "Importances": 0.5119152517758674,
                  "_deepnote_index_column": 29
                },
                {
                  "Feature Id": "169",
                  "Importances": 0.46333831970860234,
                  "_deepnote_index_column": 30
                },
                {
                  "Feature Id": "783",
                  "Importances": 0.4605443234884568,
                  "_deepnote_index_column": 31
                },
                {
                  "Feature Id": "2206",
                  "Importances": 0.45309807380974737,
                  "_deepnote_index_column": 32
                },
                {
                  "Feature Id": "511",
                  "Importances": 0.42462267847879565,
                  "_deepnote_index_column": 33
                },
                {
                  "Feature Id": "1174",
                  "Importances": 0.4196104563331274,
                  "_deepnote_index_column": 34
                },
                {
                  "Feature Id": "1652",
                  "Importances": 0.4190768230686956,
                  "_deepnote_index_column": 35
                },
                {
                  "Feature Id": "480",
                  "Importances": 0.4188033898641266,
                  "_deepnote_index_column": 36
                },
                {
                  "Feature Id": "2732",
                  "Importances": 0.4001948779486997,
                  "_deepnote_index_column": 37
                },
                {
                  "Feature Id": "2405",
                  "Importances": 0.39123347761577004,
                  "_deepnote_index_column": 38
                },
                {
                  "Feature Id": "2052",
                  "Importances": 0.3779957555049539,
                  "_deepnote_index_column": 39
                },
                {
                  "Feature Id": "274",
                  "Importances": 0.3663266964494132,
                  "_deepnote_index_column": 40
                },
                {
                  "Feature Id": "2749",
                  "Importances": 0.359084980003853,
                  "_deepnote_index_column": 41
                },
                {
                  "Feature Id": "2152",
                  "Importances": 0.3571298714842281,
                  "_deepnote_index_column": 42
                },
                {
                  "Feature Id": "2742",
                  "Importances": 0.34844354113156895,
                  "_deepnote_index_column": 43
                },
                {
                  "Feature Id": "2764",
                  "Importances": 0.3482942181563349,
                  "_deepnote_index_column": 44
                },
                {
                  "Feature Id": "67",
                  "Importances": 0.3464325097016944,
                  "_deepnote_index_column": 45
                },
                {
                  "Feature Id": "230",
                  "Importances": 0.34419654486776724,
                  "_deepnote_index_column": 46
                },
                {
                  "Feature Id": "1919",
                  "Importances": 0.3410992211038335,
                  "_deepnote_index_column": 47
                },
                {
                  "Feature Id": "843",
                  "Importances": 0.3341427395270802,
                  "_deepnote_index_column": 48
                },
                {
                  "Feature Id": "2616",
                  "Importances": 0.3150349021164491,
                  "_deepnote_index_column": 49
                },
                {
                  "Feature Id": "162",
                  "Importances": 0.31330584964851543,
                  "_deepnote_index_column": 50
                },
                {
                  "Feature Id": "2408",
                  "Importances": 0.3058499068453141,
                  "_deepnote_index_column": 51
                },
                {
                  "Feature Id": "1654",
                  "Importances": 0.2963359694342225,
                  "_deepnote_index_column": 52
                },
                {
                  "Feature Id": "465",
                  "Importances": 0.2960118417827933,
                  "_deepnote_index_column": 53
                },
                {
                  "Feature Id": "2060",
                  "Importances": 0.29377201852930895,
                  "_deepnote_index_column": 54
                },
                {
                  "Feature Id": "683",
                  "Importances": 0.2893025332825897,
                  "_deepnote_index_column": 55
                },
                {
                  "Feature Id": "1965",
                  "Importances": 0.28542968729975116,
                  "_deepnote_index_column": 56
                },
                {
                  "Feature Id": "2055",
                  "Importances": 0.2840456755679324,
                  "_deepnote_index_column": 57
                },
                {
                  "Feature Id": "1660",
                  "Importances": 0.2733202040607533,
                  "_deepnote_index_column": 58
                },
                {
                  "Feature Id": "489",
                  "Importances": 0.2724305605710315,
                  "_deepnote_index_column": 59
                },
                {
                  "Feature Id": "892",
                  "Importances": 0.26761000546103886,
                  "_deepnote_index_column": 60
                },
                {
                  "Feature Id": "2255",
                  "Importances": 0.2670103864552596,
                  "_deepnote_index_column": 61
                },
                {
                  "Feature Id": "2300",
                  "Importances": 0.2651820164747463,
                  "_deepnote_index_column": 62
                },
                {
                  "Feature Id": "1091",
                  "Importances": 0.26493441671211226,
                  "_deepnote_index_column": 63
                },
                {
                  "Feature Id": "2625",
                  "Importances": 0.26256334802431464,
                  "_deepnote_index_column": 64
                },
                {
                  "Feature Id": "2266",
                  "Importances": 0.2623930091136964,
                  "_deepnote_index_column": 65
                },
                {
                  "Feature Id": "719",
                  "Importances": 0.26154227791213214,
                  "_deepnote_index_column": 66
                },
                {
                  "Feature Id": "2219",
                  "Importances": 0.25963211893244986,
                  "_deepnote_index_column": 67
                },
                {
                  "Feature Id": "441",
                  "Importances": 0.25378377895087967,
                  "_deepnote_index_column": 68
                },
                {
                  "Feature Id": "863",
                  "Importances": 0.25249659699182075,
                  "_deepnote_index_column": 69
                },
                {
                  "Feature Id": "1653",
                  "Importances": 0.2510669283038763,
                  "_deepnote_index_column": 70
                },
                {
                  "Feature Id": "2549",
                  "Importances": 0.24940684167495958,
                  "_deepnote_index_column": 71
                },
                {
                  "Feature Id": "147",
                  "Importances": 0.2410710686188365,
                  "_deepnote_index_column": 72
                },
                {
                  "Feature Id": "1785",
                  "Importances": 0.23956033794853562,
                  "_deepnote_index_column": 73
                },
                {
                  "Feature Id": "2608",
                  "Importances": 0.23140662427435113,
                  "_deepnote_index_column": 74
                },
                {
                  "Feature Id": "1671",
                  "Importances": 0.2300064960005089,
                  "_deepnote_index_column": 75
                },
                {
                  "Feature Id": "1072",
                  "Importances": 0.22933698434471236,
                  "_deepnote_index_column": 76
                },
                {
                  "Feature Id": "985",
                  "Importances": 0.22692660472355367,
                  "_deepnote_index_column": 77
                },
                {
                  "Feature Id": "1667",
                  "Importances": 0.22435955305795668,
                  "_deepnote_index_column": 78
                },
                {
                  "Feature Id": "94",
                  "Importances": 0.22117094761791378,
                  "_deepnote_index_column": 79
                },
                {
                  "Feature Id": "2629",
                  "Importances": 0.22059344035673903,
                  "_deepnote_index_column": 80
                },
                {
                  "Feature Id": "265",
                  "Importances": 0.22020900155950834,
                  "_deepnote_index_column": 81
                },
                {
                  "Feature Id": "1971",
                  "Importances": 0.217201601954692,
                  "_deepnote_index_column": 82
                },
                {
                  "Feature Id": "801",
                  "Importances": 0.2142818441304318,
                  "_deepnote_index_column": 83
                },
                {
                  "Feature Id": "0",
                  "Importances": 0.21389977845933195,
                  "_deepnote_index_column": 84
                },
                {
                  "Feature Id": "620",
                  "Importances": 0.21185445737783704,
                  "_deepnote_index_column": 85
                },
                {
                  "Feature Id": "1279",
                  "Importances": 0.20941173087057544,
                  "_deepnote_index_column": 86
                },
                {
                  "Feature Id": "745",
                  "Importances": 0.2093471697191293,
                  "_deepnote_index_column": 87
                },
                {
                  "Feature Id": "856",
                  "Importances": 0.20852164690869515,
                  "_deepnote_index_column": 88
                },
                {
                  "Feature Id": "1402",
                  "Importances": 0.20724464411242755,
                  "_deepnote_index_column": 89
                },
                {
                  "Feature Id": "2002",
                  "Importances": 0.20199181439955163,
                  "_deepnote_index_column": 90
                },
                {
                  "Feature Id": "860",
                  "Importances": 0.20159367099252343,
                  "_deepnote_index_column": 91
                },
                {
                  "Feature Id": "137",
                  "Importances": 0.19999910341782928,
                  "_deepnote_index_column": 92
                },
                {
                  "Feature Id": "7",
                  "Importances": 0.19638903726791176,
                  "_deepnote_index_column": 93
                },
                {
                  "Feature Id": "1948",
                  "Importances": 0.19576608475942553,
                  "_deepnote_index_column": 94
                },
                {
                  "Feature Id": "1257",
                  "Importances": 0.19524734264814506,
                  "_deepnote_index_column": 95
                },
                {
                  "Feature Id": "120",
                  "Importances": 0.19271593417133842,
                  "_deepnote_index_column": 96
                },
                {
                  "Feature Id": "170",
                  "Importances": 0.19199111047814768,
                  "_deepnote_index_column": 97
                },
                {
                  "Feature Id": "194",
                  "Importances": 0.19027459603808972,
                  "_deepnote_index_column": 98
                },
                {
                  "Feature Id": "1127",
                  "Importances": 0.19017301675960913,
                  "_deepnote_index_column": 99
                },
                {
                  "Feature Id": "1346",
                  "Importances": 0.18885023666656314,
                  "_deepnote_index_column": 100
                },
                {
                  "Feature Id": "1411",
                  "Importances": 0.18879196335102846,
                  "_deepnote_index_column": 101
                },
                {
                  "Feature Id": "778",
                  "Importances": 0.18664999513750366,
                  "_deepnote_index_column": 102
                },
                {
                  "Feature Id": "1113",
                  "Importances": 0.1864294310250587,
                  "_deepnote_index_column": 103
                },
                {
                  "Feature Id": "1065",
                  "Importances": 0.18510314896236765,
                  "_deepnote_index_column": 104
                },
                {
                  "Feature Id": "1266",
                  "Importances": 0.17850089548329257,
                  "_deepnote_index_column": 105
                },
                {
                  "Feature Id": "208",
                  "Importances": 0.17722275555892136,
                  "_deepnote_index_column": 106
                },
                {
                  "Feature Id": "1160",
                  "Importances": 0.17564111727151657,
                  "_deepnote_index_column": 107
                },
                {
                  "Feature Id": "2241",
                  "Importances": 0.1755628261810116,
                  "_deepnote_index_column": 108
                },
                {
                  "Feature Id": "633",
                  "Importances": 0.17477058239727095,
                  "_deepnote_index_column": 109
                },
                {
                  "Feature Id": "70",
                  "Importances": 0.17389213505413526,
                  "_deepnote_index_column": 110
                },
                {
                  "Feature Id": "844",
                  "Importances": 0.17262028591335168,
                  "_deepnote_index_column": 111
                },
                {
                  "Feature Id": "210",
                  "Importances": 0.1725221022045024,
                  "_deepnote_index_column": 112
                },
                {
                  "Feature Id": "440",
                  "Importances": 0.17201218140481206,
                  "_deepnote_index_column": 113
                },
                {
                  "Feature Id": "2209",
                  "Importances": 0.1687572049927795,
                  "_deepnote_index_column": 114
                },
                {
                  "Feature Id": "2741",
                  "Importances": 0.16543174131969632,
                  "_deepnote_index_column": 115
                },
                {
                  "Feature Id": "2024",
                  "Importances": 0.16365611386903856,
                  "_deepnote_index_column": 116
                },
                {
                  "Feature Id": "2347",
                  "Importances": 0.16132813915087954,
                  "_deepnote_index_column": 117
                },
                {
                  "Feature Id": "496",
                  "Importances": 0.16065106206486382,
                  "_deepnote_index_column": 118
                },
                {
                  "Feature Id": "2033",
                  "Importances": 0.15895546264245555,
                  "_deepnote_index_column": 119
                },
                {
                  "Feature Id": "1064",
                  "Importances": 0.15877917937252642,
                  "_deepnote_index_column": 120
                },
                {
                  "Feature Id": "2428",
                  "Importances": 0.15674312361810408,
                  "_deepnote_index_column": 121
                },
                {
                  "Feature Id": "385",
                  "Importances": 0.15490868935526056,
                  "_deepnote_index_column": 122
                },
                {
                  "Feature Id": "1084",
                  "Importances": 0.15457771184640456,
                  "_deepnote_index_column": 123
                },
                {
                  "Feature Id": "1994",
                  "Importances": 0.15440113162228472,
                  "_deepnote_index_column": 124
                },
                {
                  "Feature Id": "981",
                  "Importances": 0.1533744649872041,
                  "_deepnote_index_column": 125
                },
                {
                  "Feature Id": "2384",
                  "Importances": 0.15201161331361576,
                  "_deepnote_index_column": 126
                },
                {
                  "Feature Id": "2724",
                  "Importances": 0.1517222811293123,
                  "_deepnote_index_column": 127
                },
                {
                  "Feature Id": "2029",
                  "Importances": 0.15053107492250523,
                  "_deepnote_index_column": 128
                },
                {
                  "Feature Id": "2392",
                  "Importances": 0.1471523526011158,
                  "_deepnote_index_column": 129
                },
                {
                  "Feature Id": "42",
                  "Importances": 0.146798220936513,
                  "_deepnote_index_column": 130
                },
                {
                  "Feature Id": "1657",
                  "Importances": 0.14667744102061625,
                  "_deepnote_index_column": 131
                },
                {
                  "Feature Id": "1308",
                  "Importances": 0.1451791776569143,
                  "_deepnote_index_column": 132
                },
                {
                  "Feature Id": "2421",
                  "Importances": 0.1437191910017883,
                  "_deepnote_index_column": 133
                },
                {
                  "Feature Id": "800",
                  "Importances": 0.14358869220746767,
                  "_deepnote_index_column": 134
                },
                {
                  "Feature Id": "853",
                  "Importances": 0.14354176256171927,
                  "_deepnote_index_column": 135
                },
                {
                  "Feature Id": "723",
                  "Importances": 0.14326686372205122,
                  "_deepnote_index_column": 136
                },
                {
                  "Feature Id": "48",
                  "Importances": 0.1423377220658438,
                  "_deepnote_index_column": 137
                },
                {
                  "Feature Id": "2352",
                  "Importances": 0.14166541535199062,
                  "_deepnote_index_column": 138
                },
                {
                  "Feature Id": "2415",
                  "Importances": 0.14045469753299508,
                  "_deepnote_index_column": 139
                },
                {
                  "Feature Id": "2032",
                  "Importances": 0.13948901709297815,
                  "_deepnote_index_column": 140
                },
                {
                  "Feature Id": "2382",
                  "Importances": 0.13794741678144526,
                  "_deepnote_index_column": 141
                },
                {
                  "Feature Id": "2374",
                  "Importances": 0.13768236596107605,
                  "_deepnote_index_column": 142
                },
                {
                  "Feature Id": "954",
                  "Importances": 0.13630794475944993,
                  "_deepnote_index_column": 143
                },
                {
                  "Feature Id": "755",
                  "Importances": 0.1362572937590356,
                  "_deepnote_index_column": 144
                },
                {
                  "Feature Id": "1061",
                  "Importances": 0.13561578096743188,
                  "_deepnote_index_column": 145
                },
                {
                  "Feature Id": "75",
                  "Importances": 0.13444849332760628,
                  "_deepnote_index_column": 146
                },
                {
                  "Feature Id": "2760",
                  "Importances": 0.1331939456167399,
                  "_deepnote_index_column": 147
                },
                {
                  "Feature Id": "1736",
                  "Importances": 0.13242301834682613,
                  "_deepnote_index_column": 148
                },
                {
                  "Feature Id": "1998",
                  "Importances": 0.13231132809282778,
                  "_deepnote_index_column": 149
                },
                {
                  "Feature Id": "2763",
                  "Importances": 0.1310985295247219,
                  "_deepnote_index_column": 150
                },
                {
                  "Feature Id": "996",
                  "Importances": 0.12953472396786986,
                  "_deepnote_index_column": 151
                },
                {
                  "Feature Id": "1599",
                  "Importances": 0.1289587469859143,
                  "_deepnote_index_column": 152
                },
                {
                  "Feature Id": "1975",
                  "Importances": 0.12606591219120616,
                  "_deepnote_index_column": 153
                },
                {
                  "Feature Id": "2404",
                  "Importances": 0.12603333568727798,
                  "_deepnote_index_column": 154
                },
                {
                  "Feature Id": "176",
                  "Importances": 0.1244820992562829,
                  "_deepnote_index_column": 155
                },
                {
                  "Feature Id": "2439",
                  "Importances": 0.12442684526846125,
                  "_deepnote_index_column": 156
                },
                {
                  "Feature Id": "2511",
                  "Importances": 0.1238951234449166,
                  "_deepnote_index_column": 157
                },
                {
                  "Feature Id": "1328",
                  "Importances": 0.12300982068753832,
                  "_deepnote_index_column": 158
                },
                {
                  "Feature Id": "1190",
                  "Importances": 0.12145433204705211,
                  "_deepnote_index_column": 159
                },
                {
                  "Feature Id": "2622",
                  "Importances": 0.12142211268307244,
                  "_deepnote_index_column": 160
                },
                {
                  "Feature Id": "2765",
                  "Importances": 0.12117687315611352,
                  "_deepnote_index_column": 161
                },
                {
                  "Feature Id": "2651",
                  "Importances": 0.12088130166047342,
                  "_deepnote_index_column": 162
                },
                {
                  "Feature Id": "1301",
                  "Importances": 0.11755603148809947,
                  "_deepnote_index_column": 163
                },
                {
                  "Feature Id": "1907",
                  "Importances": 0.11661287240143459,
                  "_deepnote_index_column": 164
                },
                {
                  "Feature Id": "2750",
                  "Importances": 0.11508306991699578,
                  "_deepnote_index_column": 165
                },
                {
                  "Feature Id": "586",
                  "Importances": 0.1143505094644065,
                  "_deepnote_index_column": 166
                },
                {
                  "Feature Id": "1522",
                  "Importances": 0.11395971558159358,
                  "_deepnote_index_column": 167
                },
                {
                  "Feature Id": "840",
                  "Importances": 0.11338185160877984,
                  "_deepnote_index_column": 168
                },
                {
                  "Feature Id": "1317",
                  "Importances": 0.11327051081643914,
                  "_deepnote_index_column": 169
                },
                {
                  "Feature Id": "1677",
                  "Importances": 0.11276097018803714,
                  "_deepnote_index_column": 170
                },
                {
                  "Feature Id": "1664",
                  "Importances": 0.11123410822549817,
                  "_deepnote_index_column": 171
                },
                {
                  "Feature Id": "2650",
                  "Importances": 0.11067393533011549,
                  "_deepnote_index_column": 172
                },
                {
                  "Feature Id": "2418",
                  "Importances": 0.11023770936716865,
                  "_deepnote_index_column": 173
                },
                {
                  "Feature Id": "2018",
                  "Importances": 0.10901497833754283,
                  "_deepnote_index_column": 174
                },
                {
                  "Feature Id": "2687",
                  "Importances": 0.10826557552257822,
                  "_deepnote_index_column": 175
                },
                {
                  "Feature Id": "1692",
                  "Importances": 0.10808421966740155,
                  "_deepnote_index_column": 176
                },
                {
                  "Feature Id": "1668",
                  "Importances": 0.10786499717008431,
                  "_deepnote_index_column": 177
                },
                {
                  "Feature Id": "613",
                  "Importances": 0.10742672623695157,
                  "_deepnote_index_column": 178
                },
                {
                  "Feature Id": "1049",
                  "Importances": 0.10682900273489238,
                  "_deepnote_index_column": 179
                },
                {
                  "Feature Id": "964",
                  "Importances": 0.10634555350359283,
                  "_deepnote_index_column": 180
                },
                {
                  "Feature Id": "1281",
                  "Importances": 0.10573051463778721,
                  "_deepnote_index_column": 181
                },
                {
                  "Feature Id": "1616",
                  "Importances": 0.1056841094976427,
                  "_deepnote_index_column": 182
                },
                {
                  "Feature Id": "2287",
                  "Importances": 0.10547633459201473,
                  "_deepnote_index_column": 183
                },
                {
                  "Feature Id": "387",
                  "Importances": 0.10499739890713677,
                  "_deepnote_index_column": 184
                },
                {
                  "Feature Id": "177",
                  "Importances": 0.10497315700581908,
                  "_deepnote_index_column": 185
                },
                {
                  "Feature Id": "1910",
                  "Importances": 0.10445371023935951,
                  "_deepnote_index_column": 186
                },
                {
                  "Feature Id": "1670",
                  "Importances": 0.1041538282015915,
                  "_deepnote_index_column": 187
                },
                {
                  "Feature Id": "804",
                  "Importances": 0.10408662906180473,
                  "_deepnote_index_column": 188
                },
                {
                  "Feature Id": "746",
                  "Importances": 0.10395149106482343,
                  "_deepnote_index_column": 189
                },
                {
                  "Feature Id": "1693",
                  "Importances": 0.10365676452437962,
                  "_deepnote_index_column": 190
                },
                {
                  "Feature Id": "2203",
                  "Importances": 0.10340385230706159,
                  "_deepnote_index_column": 191
                },
                {
                  "Feature Id": "188",
                  "Importances": 0.103389514296184,
                  "_deepnote_index_column": 192
                },
                {
                  "Feature Id": "260",
                  "Importances": 0.10312136968101243,
                  "_deepnote_index_column": 193
                },
                {
                  "Feature Id": "2130",
                  "Importances": 0.1028244224401979,
                  "_deepnote_index_column": 194
                },
                {
                  "Feature Id": "395",
                  "Importances": 0.10108429985127586,
                  "_deepnote_index_column": 195
                },
                {
                  "Feature Id": "616",
                  "Importances": 0.10041839548388765,
                  "_deepnote_index_column": 196
                },
                {
                  "Feature Id": "502",
                  "Importances": 0.09935754706560508,
                  "_deepnote_index_column": 197
                },
                {
                  "Feature Id": "97",
                  "Importances": 0.0992834958671091,
                  "_deepnote_index_column": 198
                },
                {
                  "Feature Id": "1748",
                  "Importances": 0.09817479864271933,
                  "_deepnote_index_column": 199
                },
                {
                  "Feature Id": "500",
                  "Importances": 0.0978102284678178,
                  "_deepnote_index_column": 200
                },
                {
                  "Feature Id": "247",
                  "Importances": 0.09760457401486262,
                  "_deepnote_index_column": 201
                },
                {
                  "Feature Id": "1482",
                  "Importances": 0.09710117051190664,
                  "_deepnote_index_column": 202
                },
                {
                  "Feature Id": "25",
                  "Importances": 0.09624744284206174,
                  "_deepnote_index_column": 203
                },
                {
                  "Feature Id": "857",
                  "Importances": 0.09467818960119234,
                  "_deepnote_index_column": 204
                },
                {
                  "Feature Id": "724",
                  "Importances": 0.09458843808522961,
                  "_deepnote_index_column": 205
                },
                {
                  "Feature Id": "490",
                  "Importances": 0.0944242274029458,
                  "_deepnote_index_column": 206
                },
                {
                  "Feature Id": "2026",
                  "Importances": 0.0942689663594472,
                  "_deepnote_index_column": 207
                },
                {
                  "Feature Id": "1984",
                  "Importances": 0.09404723413198583,
                  "_deepnote_index_column": 208
                },
                {
                  "Feature Id": "2493",
                  "Importances": 0.0923029788518714,
                  "_deepnote_index_column": 209
                },
                {
                  "Feature Id": "2326",
                  "Importances": 0.09150294319162025,
                  "_deepnote_index_column": 210
                },
                {
                  "Feature Id": "2395",
                  "Importances": 0.0899474809288309,
                  "_deepnote_index_column": 211
                },
                {
                  "Feature Id": "1745",
                  "Importances": 0.0893944432004991,
                  "_deepnote_index_column": 212
                },
                {
                  "Feature Id": "1862",
                  "Importances": 0.08939444192491536,
                  "_deepnote_index_column": 213
                },
                {
                  "Feature Id": "1876",
                  "Importances": 0.08906422285887645,
                  "_deepnote_index_column": 214
                },
                {
                  "Feature Id": "1204",
                  "Importances": 0.08892602356259972,
                  "_deepnote_index_column": 215
                },
                {
                  "Feature Id": "1659",
                  "Importances": 0.08808061476623798,
                  "_deepnote_index_column": 216
                },
                {
                  "Feature Id": "1087",
                  "Importances": 0.08763965414522845,
                  "_deepnote_index_column": 217
                },
                {
                  "Feature Id": "2105",
                  "Importances": 0.08630210672872994,
                  "_deepnote_index_column": 218
                },
                {
                  "Feature Id": "1663",
                  "Importances": 0.08566763364463799,
                  "_deepnote_index_column": 219
                },
                {
                  "Feature Id": "2746",
                  "Importances": 0.08503071715842281,
                  "_deepnote_index_column": 220
                },
                {
                  "Feature Id": "2816",
                  "Importances": 0.08356129981894718,
                  "_deepnote_index_column": 221
                },
                {
                  "Feature Id": "1010",
                  "Importances": 0.08311450167242403,
                  "_deepnote_index_column": 222
                },
                {
                  "Feature Id": "2547",
                  "Importances": 0.08256796915255415,
                  "_deepnote_index_column": 223
                },
                {
                  "Feature Id": "2624",
                  "Importances": 0.08228935959485793,
                  "_deepnote_index_column": 224
                },
                {
                  "Feature Id": "1055",
                  "Importances": 0.08102311334968967,
                  "_deepnote_index_column": 225
                },
                {
                  "Feature Id": "268",
                  "Importances": 0.08022725828444068,
                  "_deepnote_index_column": 226
                },
                {
                  "Feature Id": "2278",
                  "Importances": 0.07950816059440012,
                  "_deepnote_index_column": 227
                },
                {
                  "Feature Id": "625",
                  "Importances": 0.07801790724384627,
                  "_deepnote_index_column": 228
                },
                {
                  "Feature Id": "1303",
                  "Importances": 0.07680457254617105,
                  "_deepnote_index_column": 229
                },
                {
                  "Feature Id": "718",
                  "Importances": 0.0758266995128291,
                  "_deepnote_index_column": 230
                },
                {
                  "Feature Id": "1200",
                  "Importances": 0.07528631725970156,
                  "_deepnote_index_column": 231
                },
                {
                  "Feature Id": "71",
                  "Importances": 0.07527622859218154,
                  "_deepnote_index_column": 232
                },
                {
                  "Feature Id": "2294",
                  "Importances": 0.07426506847093224,
                  "_deepnote_index_column": 233
                },
                {
                  "Feature Id": "68",
                  "Importances": 0.07390926148637707,
                  "_deepnote_index_column": 234
                },
                {
                  "Feature Id": "20",
                  "Importances": 0.07224360233144357,
                  "_deepnote_index_column": 235
                },
                {
                  "Feature Id": "694",
                  "Importances": 0.07183352905150986,
                  "_deepnote_index_column": 236
                },
                {
                  "Feature Id": "2494",
                  "Importances": 0.07158638045351623,
                  "_deepnote_index_column": 237
                },
                {
                  "Feature Id": "896",
                  "Importances": 0.07046173231135464,
                  "_deepnote_index_column": 238
                },
                {
                  "Feature Id": "2198",
                  "Importances": 0.07011038407856791,
                  "_deepnote_index_column": 239
                },
                {
                  "Feature Id": "415",
                  "Importances": 0.06937952506197294,
                  "_deepnote_index_column": 240
                },
                {
                  "Feature Id": "159",
                  "Importances": 0.06906444045743446,
                  "_deepnote_index_column": 241
                },
                {
                  "Feature Id": "1642",
                  "Importances": 0.06873340980448839,
                  "_deepnote_index_column": 242
                },
                {
                  "Feature Id": "990",
                  "Importances": 0.06830580152808217,
                  "_deepnote_index_column": 243
                },
                {
                  "Feature Id": "168",
                  "Importances": 0.06824046054014558,
                  "_deepnote_index_column": 244
                },
                {
                  "Feature Id": "630",
                  "Importances": 0.0680509487852437,
                  "_deepnote_index_column": 245
                },
                {
                  "Feature Id": "40",
                  "Importances": 0.06695328769484339,
                  "_deepnote_index_column": 246
                },
                {
                  "Feature Id": "2293",
                  "Importances": 0.0668134397261633,
                  "_deepnote_index_column": 247
                },
                {
                  "Feature Id": "2175",
                  "Importances": 0.06580601247425828,
                  "_deepnote_index_column": 248
                },
                {
                  "Feature Id": "2073",
                  "Importances": 0.06555857001242797,
                  "_deepnote_index_column": 249
                }
              ],
              "rows_bottom": [
                {
                  "Feature Id": "2462",
                  "Importances": 0,
                  "_deepnote_index_column": 2584
                },
                {
                  "Feature Id": "2463",
                  "Importances": 0,
                  "_deepnote_index_column": 2585
                },
                {
                  "Feature Id": "2465",
                  "Importances": 0,
                  "_deepnote_index_column": 2586
                },
                {
                  "Feature Id": "2466",
                  "Importances": 0,
                  "_deepnote_index_column": 2587
                },
                {
                  "Feature Id": "2467",
                  "Importances": 0,
                  "_deepnote_index_column": 2588
                },
                {
                  "Feature Id": "2468",
                  "Importances": 0,
                  "_deepnote_index_column": 2589
                },
                {
                  "Feature Id": "2469",
                  "Importances": 0,
                  "_deepnote_index_column": 2590
                },
                {
                  "Feature Id": "2470",
                  "Importances": 0,
                  "_deepnote_index_column": 2591
                },
                {
                  "Feature Id": "2471",
                  "Importances": 0,
                  "_deepnote_index_column": 2592
                },
                {
                  "Feature Id": "2473",
                  "Importances": 0,
                  "_deepnote_index_column": 2593
                },
                {
                  "Feature Id": "2474",
                  "Importances": 0,
                  "_deepnote_index_column": 2594
                },
                {
                  "Feature Id": "2475",
                  "Importances": 0,
                  "_deepnote_index_column": 2595
                },
                {
                  "Feature Id": "2476",
                  "Importances": 0,
                  "_deepnote_index_column": 2596
                },
                {
                  "Feature Id": "2477",
                  "Importances": 0,
                  "_deepnote_index_column": 2597
                },
                {
                  "Feature Id": "2478",
                  "Importances": 0,
                  "_deepnote_index_column": 2598
                },
                {
                  "Feature Id": "2479",
                  "Importances": 0,
                  "_deepnote_index_column": 2599
                },
                {
                  "Feature Id": "2480",
                  "Importances": 0,
                  "_deepnote_index_column": 2600
                },
                {
                  "Feature Id": "2482",
                  "Importances": 0,
                  "_deepnote_index_column": 2601
                },
                {
                  "Feature Id": "2484",
                  "Importances": 0,
                  "_deepnote_index_column": 2602
                },
                {
                  "Feature Id": "2485",
                  "Importances": 0,
                  "_deepnote_index_column": 2603
                },
                {
                  "Feature Id": "2487",
                  "Importances": 0,
                  "_deepnote_index_column": 2604
                },
                {
                  "Feature Id": "2488",
                  "Importances": 0,
                  "_deepnote_index_column": 2605
                },
                {
                  "Feature Id": "2489",
                  "Importances": 0,
                  "_deepnote_index_column": 2606
                },
                {
                  "Feature Id": "2490",
                  "Importances": 0,
                  "_deepnote_index_column": 2607
                },
                {
                  "Feature Id": "2491",
                  "Importances": 0,
                  "_deepnote_index_column": 2608
                },
                {
                  "Feature Id": "2495",
                  "Importances": 0,
                  "_deepnote_index_column": 2609
                },
                {
                  "Feature Id": "2496",
                  "Importances": 0,
                  "_deepnote_index_column": 2610
                },
                {
                  "Feature Id": "2497",
                  "Importances": 0,
                  "_deepnote_index_column": 2611
                },
                {
                  "Feature Id": "2498",
                  "Importances": 0,
                  "_deepnote_index_column": 2612
                },
                {
                  "Feature Id": "2499",
                  "Importances": 0,
                  "_deepnote_index_column": 2613
                },
                {
                  "Feature Id": "2500",
                  "Importances": 0,
                  "_deepnote_index_column": 2614
                },
                {
                  "Feature Id": "2503",
                  "Importances": 0,
                  "_deepnote_index_column": 2615
                },
                {
                  "Feature Id": "2504",
                  "Importances": 0,
                  "_deepnote_index_column": 2616
                },
                {
                  "Feature Id": "2505",
                  "Importances": 0,
                  "_deepnote_index_column": 2617
                },
                {
                  "Feature Id": "2506",
                  "Importances": 0,
                  "_deepnote_index_column": 2618
                },
                {
                  "Feature Id": "2507",
                  "Importances": 0,
                  "_deepnote_index_column": 2619
                },
                {
                  "Feature Id": "2508",
                  "Importances": 0,
                  "_deepnote_index_column": 2620
                },
                {
                  "Feature Id": "2510",
                  "Importances": 0,
                  "_deepnote_index_column": 2621
                },
                {
                  "Feature Id": "2512",
                  "Importances": 0,
                  "_deepnote_index_column": 2622
                },
                {
                  "Feature Id": "2513",
                  "Importances": 0,
                  "_deepnote_index_column": 2623
                },
                {
                  "Feature Id": "2514",
                  "Importances": 0,
                  "_deepnote_index_column": 2624
                },
                {
                  "Feature Id": "2515",
                  "Importances": 0,
                  "_deepnote_index_column": 2625
                },
                {
                  "Feature Id": "2516",
                  "Importances": 0,
                  "_deepnote_index_column": 2626
                },
                {
                  "Feature Id": "2517",
                  "Importances": 0,
                  "_deepnote_index_column": 2627
                },
                {
                  "Feature Id": "2519",
                  "Importances": 0,
                  "_deepnote_index_column": 2628
                },
                {
                  "Feature Id": "2520",
                  "Importances": 0,
                  "_deepnote_index_column": 2629
                },
                {
                  "Feature Id": "2521",
                  "Importances": 0,
                  "_deepnote_index_column": 2630
                },
                {
                  "Feature Id": "2522",
                  "Importances": 0,
                  "_deepnote_index_column": 2631
                },
                {
                  "Feature Id": "2523",
                  "Importances": 0,
                  "_deepnote_index_column": 2632
                },
                {
                  "Feature Id": "2524",
                  "Importances": 0,
                  "_deepnote_index_column": 2633
                },
                {
                  "Feature Id": "2525",
                  "Importances": 0,
                  "_deepnote_index_column": 2634
                },
                {
                  "Feature Id": "2526",
                  "Importances": 0,
                  "_deepnote_index_column": 2635
                },
                {
                  "Feature Id": "2527",
                  "Importances": 0,
                  "_deepnote_index_column": 2636
                },
                {
                  "Feature Id": "2528",
                  "Importances": 0,
                  "_deepnote_index_column": 2637
                },
                {
                  "Feature Id": "2529",
                  "Importances": 0,
                  "_deepnote_index_column": 2638
                },
                {
                  "Feature Id": "2530",
                  "Importances": 0,
                  "_deepnote_index_column": 2639
                },
                {
                  "Feature Id": "2531",
                  "Importances": 0,
                  "_deepnote_index_column": 2640
                },
                {
                  "Feature Id": "2532",
                  "Importances": 0,
                  "_deepnote_index_column": 2641
                },
                {
                  "Feature Id": "2533",
                  "Importances": 0,
                  "_deepnote_index_column": 2642
                },
                {
                  "Feature Id": "2534",
                  "Importances": 0,
                  "_deepnote_index_column": 2643
                },
                {
                  "Feature Id": "2535",
                  "Importances": 0,
                  "_deepnote_index_column": 2644
                },
                {
                  "Feature Id": "2536",
                  "Importances": 0,
                  "_deepnote_index_column": 2645
                },
                {
                  "Feature Id": "2538",
                  "Importances": 0,
                  "_deepnote_index_column": 2646
                },
                {
                  "Feature Id": "2539",
                  "Importances": 0,
                  "_deepnote_index_column": 2647
                },
                {
                  "Feature Id": "2540",
                  "Importances": 0,
                  "_deepnote_index_column": 2648
                },
                {
                  "Feature Id": "2541",
                  "Importances": 0,
                  "_deepnote_index_column": 2649
                },
                {
                  "Feature Id": "2545",
                  "Importances": 0,
                  "_deepnote_index_column": 2650
                },
                {
                  "Feature Id": "2548",
                  "Importances": 0,
                  "_deepnote_index_column": 2651
                },
                {
                  "Feature Id": "2550",
                  "Importances": 0,
                  "_deepnote_index_column": 2652
                },
                {
                  "Feature Id": "2551",
                  "Importances": 0,
                  "_deepnote_index_column": 2653
                },
                {
                  "Feature Id": "2552",
                  "Importances": 0,
                  "_deepnote_index_column": 2654
                },
                {
                  "Feature Id": "2553",
                  "Importances": 0,
                  "_deepnote_index_column": 2655
                },
                {
                  "Feature Id": "2554",
                  "Importances": 0,
                  "_deepnote_index_column": 2656
                },
                {
                  "Feature Id": "2555",
                  "Importances": 0,
                  "_deepnote_index_column": 2657
                },
                {
                  "Feature Id": "2556",
                  "Importances": 0,
                  "_deepnote_index_column": 2658
                },
                {
                  "Feature Id": "2557",
                  "Importances": 0,
                  "_deepnote_index_column": 2659
                },
                {
                  "Feature Id": "2559",
                  "Importances": 0,
                  "_deepnote_index_column": 2660
                },
                {
                  "Feature Id": "2560",
                  "Importances": 0,
                  "_deepnote_index_column": 2661
                },
                {
                  "Feature Id": "2561",
                  "Importances": 0,
                  "_deepnote_index_column": 2662
                },
                {
                  "Feature Id": "2562",
                  "Importances": 0,
                  "_deepnote_index_column": 2663
                },
                {
                  "Feature Id": "2563",
                  "Importances": 0,
                  "_deepnote_index_column": 2664
                },
                {
                  "Feature Id": "2564",
                  "Importances": 0,
                  "_deepnote_index_column": 2665
                },
                {
                  "Feature Id": "2567",
                  "Importances": 0,
                  "_deepnote_index_column": 2666
                },
                {
                  "Feature Id": "2568",
                  "Importances": 0,
                  "_deepnote_index_column": 2667
                },
                {
                  "Feature Id": "2570",
                  "Importances": 0,
                  "_deepnote_index_column": 2668
                },
                {
                  "Feature Id": "2571",
                  "Importances": 0,
                  "_deepnote_index_column": 2669
                },
                {
                  "Feature Id": "2572",
                  "Importances": 0,
                  "_deepnote_index_column": 2670
                },
                {
                  "Feature Id": "2573",
                  "Importances": 0,
                  "_deepnote_index_column": 2671
                },
                {
                  "Feature Id": "2574",
                  "Importances": 0,
                  "_deepnote_index_column": 2672
                },
                {
                  "Feature Id": "2575",
                  "Importances": 0,
                  "_deepnote_index_column": 2673
                },
                {
                  "Feature Id": "2576",
                  "Importances": 0,
                  "_deepnote_index_column": 2674
                },
                {
                  "Feature Id": "2577",
                  "Importances": 0,
                  "_deepnote_index_column": 2675
                },
                {
                  "Feature Id": "2579",
                  "Importances": 0,
                  "_deepnote_index_column": 2676
                },
                {
                  "Feature Id": "2580",
                  "Importances": 0,
                  "_deepnote_index_column": 2677
                },
                {
                  "Feature Id": "2583",
                  "Importances": 0,
                  "_deepnote_index_column": 2678
                },
                {
                  "Feature Id": "2584",
                  "Importances": 0,
                  "_deepnote_index_column": 2679
                },
                {
                  "Feature Id": "2585",
                  "Importances": 0,
                  "_deepnote_index_column": 2680
                },
                {
                  "Feature Id": "2586",
                  "Importances": 0,
                  "_deepnote_index_column": 2681
                },
                {
                  "Feature Id": "2587",
                  "Importances": 0,
                  "_deepnote_index_column": 2682
                },
                {
                  "Feature Id": "2589",
                  "Importances": 0,
                  "_deepnote_index_column": 2683
                },
                {
                  "Feature Id": "2592",
                  "Importances": 0,
                  "_deepnote_index_column": 2684
                },
                {
                  "Feature Id": "2593",
                  "Importances": 0,
                  "_deepnote_index_column": 2685
                },
                {
                  "Feature Id": "2594",
                  "Importances": 0,
                  "_deepnote_index_column": 2686
                },
                {
                  "Feature Id": "2595",
                  "Importances": 0,
                  "_deepnote_index_column": 2687
                },
                {
                  "Feature Id": "2596",
                  "Importances": 0,
                  "_deepnote_index_column": 2688
                },
                {
                  "Feature Id": "2598",
                  "Importances": 0,
                  "_deepnote_index_column": 2689
                },
                {
                  "Feature Id": "2599",
                  "Importances": 0,
                  "_deepnote_index_column": 2690
                },
                {
                  "Feature Id": "2601",
                  "Importances": 0,
                  "_deepnote_index_column": 2691
                },
                {
                  "Feature Id": "2602",
                  "Importances": 0,
                  "_deepnote_index_column": 2692
                },
                {
                  "Feature Id": "2603",
                  "Importances": 0,
                  "_deepnote_index_column": 2693
                },
                {
                  "Feature Id": "2604",
                  "Importances": 0,
                  "_deepnote_index_column": 2694
                },
                {
                  "Feature Id": "2606",
                  "Importances": 0,
                  "_deepnote_index_column": 2695
                },
                {
                  "Feature Id": "2607",
                  "Importances": 0,
                  "_deepnote_index_column": 2696
                },
                {
                  "Feature Id": "2609",
                  "Importances": 0,
                  "_deepnote_index_column": 2697
                },
                {
                  "Feature Id": "2610",
                  "Importances": 0,
                  "_deepnote_index_column": 2698
                },
                {
                  "Feature Id": "2611",
                  "Importances": 0,
                  "_deepnote_index_column": 2699
                },
                {
                  "Feature Id": "2612",
                  "Importances": 0,
                  "_deepnote_index_column": 2700
                },
                {
                  "Feature Id": "2614",
                  "Importances": 0,
                  "_deepnote_index_column": 2701
                },
                {
                  "Feature Id": "2615",
                  "Importances": 0,
                  "_deepnote_index_column": 2702
                },
                {
                  "Feature Id": "2617",
                  "Importances": 0,
                  "_deepnote_index_column": 2703
                },
                {
                  "Feature Id": "2618",
                  "Importances": 0,
                  "_deepnote_index_column": 2704
                },
                {
                  "Feature Id": "2619",
                  "Importances": 0,
                  "_deepnote_index_column": 2705
                },
                {
                  "Feature Id": "2623",
                  "Importances": 0,
                  "_deepnote_index_column": 2706
                },
                {
                  "Feature Id": "2627",
                  "Importances": 0,
                  "_deepnote_index_column": 2707
                },
                {
                  "Feature Id": "2628",
                  "Importances": 0,
                  "_deepnote_index_column": 2708
                },
                {
                  "Feature Id": "2634",
                  "Importances": 0,
                  "_deepnote_index_column": 2709
                },
                {
                  "Feature Id": "2635",
                  "Importances": 0,
                  "_deepnote_index_column": 2710
                },
                {
                  "Feature Id": "2636",
                  "Importances": 0,
                  "_deepnote_index_column": 2711
                },
                {
                  "Feature Id": "2637",
                  "Importances": 0,
                  "_deepnote_index_column": 2712
                },
                {
                  "Feature Id": "2638",
                  "Importances": 0,
                  "_deepnote_index_column": 2713
                },
                {
                  "Feature Id": "2639",
                  "Importances": 0,
                  "_deepnote_index_column": 2714
                },
                {
                  "Feature Id": "2641",
                  "Importances": 0,
                  "_deepnote_index_column": 2715
                },
                {
                  "Feature Id": "2642",
                  "Importances": 0,
                  "_deepnote_index_column": 2716
                },
                {
                  "Feature Id": "2643",
                  "Importances": 0,
                  "_deepnote_index_column": 2717
                },
                {
                  "Feature Id": "2646",
                  "Importances": 0,
                  "_deepnote_index_column": 2718
                },
                {
                  "Feature Id": "2648",
                  "Importances": 0,
                  "_deepnote_index_column": 2719
                },
                {
                  "Feature Id": "2649",
                  "Importances": 0,
                  "_deepnote_index_column": 2720
                },
                {
                  "Feature Id": "2652",
                  "Importances": 0,
                  "_deepnote_index_column": 2721
                },
                {
                  "Feature Id": "2654",
                  "Importances": 0,
                  "_deepnote_index_column": 2722
                },
                {
                  "Feature Id": "2656",
                  "Importances": 0,
                  "_deepnote_index_column": 2723
                },
                {
                  "Feature Id": "2657",
                  "Importances": 0,
                  "_deepnote_index_column": 2724
                },
                {
                  "Feature Id": "2658",
                  "Importances": 0,
                  "_deepnote_index_column": 2725
                },
                {
                  "Feature Id": "2659",
                  "Importances": 0,
                  "_deepnote_index_column": 2726
                },
                {
                  "Feature Id": "2660",
                  "Importances": 0,
                  "_deepnote_index_column": 2727
                },
                {
                  "Feature Id": "2661",
                  "Importances": 0,
                  "_deepnote_index_column": 2728
                },
                {
                  "Feature Id": "2663",
                  "Importances": 0,
                  "_deepnote_index_column": 2729
                },
                {
                  "Feature Id": "2664",
                  "Importances": 0,
                  "_deepnote_index_column": 2730
                },
                {
                  "Feature Id": "2665",
                  "Importances": 0,
                  "_deepnote_index_column": 2731
                },
                {
                  "Feature Id": "2666",
                  "Importances": 0,
                  "_deepnote_index_column": 2732
                },
                {
                  "Feature Id": "2667",
                  "Importances": 0,
                  "_deepnote_index_column": 2733
                },
                {
                  "Feature Id": "2669",
                  "Importances": 0,
                  "_deepnote_index_column": 2734
                },
                {
                  "Feature Id": "2670",
                  "Importances": 0,
                  "_deepnote_index_column": 2735
                },
                {
                  "Feature Id": "2671",
                  "Importances": 0,
                  "_deepnote_index_column": 2736
                },
                {
                  "Feature Id": "2672",
                  "Importances": 0,
                  "_deepnote_index_column": 2737
                },
                {
                  "Feature Id": "2673",
                  "Importances": 0,
                  "_deepnote_index_column": 2738
                },
                {
                  "Feature Id": "2674",
                  "Importances": 0,
                  "_deepnote_index_column": 2739
                },
                {
                  "Feature Id": "2675",
                  "Importances": 0,
                  "_deepnote_index_column": 2740
                },
                {
                  "Feature Id": "2676",
                  "Importances": 0,
                  "_deepnote_index_column": 2741
                },
                {
                  "Feature Id": "2677",
                  "Importances": 0,
                  "_deepnote_index_column": 2742
                },
                {
                  "Feature Id": "2678",
                  "Importances": 0,
                  "_deepnote_index_column": 2743
                },
                {
                  "Feature Id": "2679",
                  "Importances": 0,
                  "_deepnote_index_column": 2744
                },
                {
                  "Feature Id": "2680",
                  "Importances": 0,
                  "_deepnote_index_column": 2745
                },
                {
                  "Feature Id": "2681",
                  "Importances": 0,
                  "_deepnote_index_column": 2746
                },
                {
                  "Feature Id": "2683",
                  "Importances": 0,
                  "_deepnote_index_column": 2747
                },
                {
                  "Feature Id": "2684",
                  "Importances": 0,
                  "_deepnote_index_column": 2748
                },
                {
                  "Feature Id": "2685",
                  "Importances": 0,
                  "_deepnote_index_column": 2749
                },
                {
                  "Feature Id": "2686",
                  "Importances": 0,
                  "_deepnote_index_column": 2750
                },
                {
                  "Feature Id": "2688",
                  "Importances": 0,
                  "_deepnote_index_column": 2751
                },
                {
                  "Feature Id": "2689",
                  "Importances": 0,
                  "_deepnote_index_column": 2752
                },
                {
                  "Feature Id": "2690",
                  "Importances": 0,
                  "_deepnote_index_column": 2753
                },
                {
                  "Feature Id": "2691",
                  "Importances": 0,
                  "_deepnote_index_column": 2754
                },
                {
                  "Feature Id": "2692",
                  "Importances": 0,
                  "_deepnote_index_column": 2755
                },
                {
                  "Feature Id": "2693",
                  "Importances": 0,
                  "_deepnote_index_column": 2756
                },
                {
                  "Feature Id": "2694",
                  "Importances": 0,
                  "_deepnote_index_column": 2757
                },
                {
                  "Feature Id": "2695",
                  "Importances": 0,
                  "_deepnote_index_column": 2758
                },
                {
                  "Feature Id": "2696",
                  "Importances": 0,
                  "_deepnote_index_column": 2759
                },
                {
                  "Feature Id": "2697",
                  "Importances": 0,
                  "_deepnote_index_column": 2760
                },
                {
                  "Feature Id": "2698",
                  "Importances": 0,
                  "_deepnote_index_column": 2761
                },
                {
                  "Feature Id": "2699",
                  "Importances": 0,
                  "_deepnote_index_column": 2762
                },
                {
                  "Feature Id": "2701",
                  "Importances": 0,
                  "_deepnote_index_column": 2763
                },
                {
                  "Feature Id": "2702",
                  "Importances": 0,
                  "_deepnote_index_column": 2764
                },
                {
                  "Feature Id": "2703",
                  "Importances": 0,
                  "_deepnote_index_column": 2765
                },
                {
                  "Feature Id": "2704",
                  "Importances": 0,
                  "_deepnote_index_column": 2766
                },
                {
                  "Feature Id": "2705",
                  "Importances": 0,
                  "_deepnote_index_column": 2767
                },
                {
                  "Feature Id": "2706",
                  "Importances": 0,
                  "_deepnote_index_column": 2768
                },
                {
                  "Feature Id": "2707",
                  "Importances": 0,
                  "_deepnote_index_column": 2769
                },
                {
                  "Feature Id": "2708",
                  "Importances": 0,
                  "_deepnote_index_column": 2770
                },
                {
                  "Feature Id": "2710",
                  "Importances": 0,
                  "_deepnote_index_column": 2771
                },
                {
                  "Feature Id": "2711",
                  "Importances": 0,
                  "_deepnote_index_column": 2772
                },
                {
                  "Feature Id": "2712",
                  "Importances": 0,
                  "_deepnote_index_column": 2773
                },
                {
                  "Feature Id": "2713",
                  "Importances": 0,
                  "_deepnote_index_column": 2774
                },
                {
                  "Feature Id": "2714",
                  "Importances": 0,
                  "_deepnote_index_column": 2775
                },
                {
                  "Feature Id": "2715",
                  "Importances": 0,
                  "_deepnote_index_column": 2776
                },
                {
                  "Feature Id": "2716",
                  "Importances": 0,
                  "_deepnote_index_column": 2777
                },
                {
                  "Feature Id": "2718",
                  "Importances": 0,
                  "_deepnote_index_column": 2778
                },
                {
                  "Feature Id": "2723",
                  "Importances": 0,
                  "_deepnote_index_column": 2779
                },
                {
                  "Feature Id": "2727",
                  "Importances": 0,
                  "_deepnote_index_column": 2780
                },
                {
                  "Feature Id": "2733",
                  "Importances": 0,
                  "_deepnote_index_column": 2781
                },
                {
                  "Feature Id": "2736",
                  "Importances": 0,
                  "_deepnote_index_column": 2782
                },
                {
                  "Feature Id": "2737",
                  "Importances": 0,
                  "_deepnote_index_column": 2783
                },
                {
                  "Feature Id": "2739",
                  "Importances": 0,
                  "_deepnote_index_column": 2784
                },
                {
                  "Feature Id": "2743",
                  "Importances": 0,
                  "_deepnote_index_column": 2785
                },
                {
                  "Feature Id": "2744",
                  "Importances": 0,
                  "_deepnote_index_column": 2786
                },
                {
                  "Feature Id": "2745",
                  "Importances": 0,
                  "_deepnote_index_column": 2787
                },
                {
                  "Feature Id": "2747",
                  "Importances": 0,
                  "_deepnote_index_column": 2788
                },
                {
                  "Feature Id": "2753",
                  "Importances": 0,
                  "_deepnote_index_column": 2789
                },
                {
                  "Feature Id": "2754",
                  "Importances": 0,
                  "_deepnote_index_column": 2790
                },
                {
                  "Feature Id": "2757",
                  "Importances": 0,
                  "_deepnote_index_column": 2791
                },
                {
                  "Feature Id": "2758",
                  "Importances": 0,
                  "_deepnote_index_column": 2792
                },
                {
                  "Feature Id": "2759",
                  "Importances": 0,
                  "_deepnote_index_column": 2793
                },
                {
                  "Feature Id": "2761",
                  "Importances": 0,
                  "_deepnote_index_column": 2794
                },
                {
                  "Feature Id": "2772",
                  "Importances": 0,
                  "_deepnote_index_column": 2795
                },
                {
                  "Feature Id": "2774",
                  "Importances": 0,
                  "_deepnote_index_column": 2796
                },
                {
                  "Feature Id": "2776",
                  "Importances": 0,
                  "_deepnote_index_column": 2797
                },
                {
                  "Feature Id": "2777",
                  "Importances": 0,
                  "_deepnote_index_column": 2798
                },
                {
                  "Feature Id": "2778",
                  "Importances": 0,
                  "_deepnote_index_column": 2799
                },
                {
                  "Feature Id": "2779",
                  "Importances": 0,
                  "_deepnote_index_column": 2800
                },
                {
                  "Feature Id": "2780",
                  "Importances": 0,
                  "_deepnote_index_column": 2801
                },
                {
                  "Feature Id": "2781",
                  "Importances": 0,
                  "_deepnote_index_column": 2802
                },
                {
                  "Feature Id": "2783",
                  "Importances": 0,
                  "_deepnote_index_column": 2803
                },
                {
                  "Feature Id": "2784",
                  "Importances": 0,
                  "_deepnote_index_column": 2804
                },
                {
                  "Feature Id": "2785",
                  "Importances": 0,
                  "_deepnote_index_column": 2805
                },
                {
                  "Feature Id": "2786",
                  "Importances": 0,
                  "_deepnote_index_column": 2806
                },
                {
                  "Feature Id": "2787",
                  "Importances": 0,
                  "_deepnote_index_column": 2807
                },
                {
                  "Feature Id": "2788",
                  "Importances": 0,
                  "_deepnote_index_column": 2808
                },
                {
                  "Feature Id": "2789",
                  "Importances": 0,
                  "_deepnote_index_column": 2809
                },
                {
                  "Feature Id": "2791",
                  "Importances": 0,
                  "_deepnote_index_column": 2810
                },
                {
                  "Feature Id": "2792",
                  "Importances": 0,
                  "_deepnote_index_column": 2811
                },
                {
                  "Feature Id": "2793",
                  "Importances": 0,
                  "_deepnote_index_column": 2812
                },
                {
                  "Feature Id": "2795",
                  "Importances": 0,
                  "_deepnote_index_column": 2813
                },
                {
                  "Feature Id": "2798",
                  "Importances": 0,
                  "_deepnote_index_column": 2814
                },
                {
                  "Feature Id": "2799",
                  "Importances": 0,
                  "_deepnote_index_column": 2815
                },
                {
                  "Feature Id": "2801",
                  "Importances": 0,
                  "_deepnote_index_column": 2816
                },
                {
                  "Feature Id": "2805",
                  "Importances": 0,
                  "_deepnote_index_column": 2817
                },
                {
                  "Feature Id": "2807",
                  "Importances": 0,
                  "_deepnote_index_column": 2818
                },
                {
                  "Feature Id": "2808",
                  "Importances": 0,
                  "_deepnote_index_column": 2819
                },
                {
                  "Feature Id": "2809",
                  "Importances": 0,
                  "_deepnote_index_column": 2820
                },
                {
                  "Feature Id": "2810",
                  "Importances": 0,
                  "_deepnote_index_column": 2821
                },
                {
                  "Feature Id": "2811",
                  "Importances": 0,
                  "_deepnote_index_column": 2822
                },
                {
                  "Feature Id": "2818",
                  "Importances": 0,
                  "_deepnote_index_column": 2823
                },
                {
                  "Feature Id": "2820",
                  "Importances": 0,
                  "_deepnote_index_column": 2824
                },
                {
                  "Feature Id": "2821",
                  "Importances": 0,
                  "_deepnote_index_column": 2825
                },
                {
                  "Feature Id": "2823",
                  "Importances": 0,
                  "_deepnote_index_column": 2826
                },
                {
                  "Feature Id": "2824",
                  "Importances": 0,
                  "_deepnote_index_column": 2827
                },
                {
                  "Feature Id": "2825",
                  "Importances": 0,
                  "_deepnote_index_column": 2828
                },
                {
                  "Feature Id": "2826",
                  "Importances": 0,
                  "_deepnote_index_column": 2829
                },
                {
                  "Feature Id": "2827",
                  "Importances": 0,
                  "_deepnote_index_column": 2830
                },
                {
                  "Feature Id": "2828",
                  "Importances": 0,
                  "_deepnote_index_column": 2831
                },
                {
                  "Feature Id": "2830",
                  "Importances": 0,
                  "_deepnote_index_column": 2832
                },
                {
                  "Feature Id": "2831",
                  "Importances": 0,
                  "_deepnote_index_column": 2833
                }
              ]
            },
            "text/plain": "     Feature Id  Importances\n0          2184    28.928688\n1           672     1.648304\n2          1687     1.583237\n3           833     1.455189\n4          1656     1.437726\n...         ...          ...\n2829       2826     0.000000\n2830       2827     0.000000\n2831       2828     0.000000\n2832       2830     0.000000\n2833       2831     0.000000\n\n[2834 rows x 2 columns]",
            "text/html": "<div>\n<style scoped>\n    .dataframe tbody tr th:only-of-type {\n        vertical-align: middle;\n    }\n\n    .dataframe tbody tr th {\n        vertical-align: top;\n    }\n\n    .dataframe thead th {\n        text-align: right;\n    }\n</style>\n<table border=\"1\" class=\"dataframe\">\n  <thead>\n    <tr style=\"text-align: right;\">\n      <th></th>\n      <th>Feature Id</th>\n      <th>Importances</th>\n    </tr>\n  </thead>\n  <tbody>\n    <tr>\n      <th>0</th>\n      <td>2184</td>\n      <td>28.928688</td>\n    </tr>\n    <tr>\n      <th>1</th>\n      <td>672</td>\n      <td>1.648304</td>\n    </tr>\n    <tr>\n      <th>2</th>\n      <td>1687</td>\n      <td>1.583237</td>\n    </tr>\n    <tr>\n      <th>3</th>\n      <td>833</td>\n      <td>1.455189</td>\n    </tr>\n    <tr>\n      <th>4</th>\n      <td>1656</td>\n      <td>1.437726</td>\n    </tr>\n    <tr>\n      <th>...</th>\n      <td>...</td>\n      <td>...</td>\n    </tr>\n    <tr>\n      <th>2829</th>\n      <td>2826</td>\n      <td>0.000000</td>\n    </tr>\n    <tr>\n      <th>2830</th>\n      <td>2827</td>\n      <td>0.000000</td>\n    </tr>\n    <tr>\n      <th>2831</th>\n      <td>2828</td>\n      <td>0.000000</td>\n    </tr>\n    <tr>\n      <th>2832</th>\n      <td>2830</td>\n      <td>0.000000</td>\n    </tr>\n    <tr>\n      <th>2833</th>\n      <td>2831</td>\n      <td>0.000000</td>\n    </tr>\n  </tbody>\n</table>\n<p>2834 rows × 2 columns</p>\n</div>"
          },
          "metadata": {}
        }
      ]
    },
    {
      "cell_type": "code",
      "source": "y_preds = CBC.predict(eval_set)\ny_preds = np.reshape(y_preds, y_val.values.shape)",
      "metadata": {
        "tags": [],
        "cell_id": "00018-a2d70c85-db38-4cd9-9314-bc3ccb0bec22",
        "deepnote_to_be_reexecuted": false,
        "source_hash": "bed740d1",
        "execution_start": 1617980191457,
        "execution_millis": 0,
        "deepnote_cell_type": "code"
      },
      "outputs": [],
      "execution_count": 41
    },
    {
      "cell_type": "code",
      "source": "f\"{round(100 - len(*np.nonzero(y_preds - y_val.values)) / len(y_preds) * 100)}% Accuracy\"",
      "metadata": {
        "tags": [],
        "cell_id": "00020-d1ac2e68-2cae-4abf-8042-5f7f6ad733be",
        "deepnote_to_be_reexecuted": false,
        "source_hash": "c2a9f539",
        "execution_millis": 23,
        "execution_start": 1617980856725,
        "deepnote_cell_type": "code"
      },
      "outputs": [
        {
          "output_type": "execute_result",
          "execution_count": 64,
          "data": {
            "text/plain": "'79% Accuracy'"
          },
          "metadata": {}
        }
      ],
      "execution_count": 64
    },
    {
      "cell_type": "code",
      "metadata": {
        "tags": [],
        "cell_id": "00018-f7c9a053-6784-47a2-811b-7c5a4d4aebc8",
        "deepnote_cell_type": "code"
      },
      "source": "# my_best_model.save_model('catboost_model.bin')",
      "execution_count": null,
      "outputs": []
    },
    {
      "cell_type": "markdown",
      "source": "### Default CatBoost Test",
      "metadata": {
        "tags": [],
        "cell_id": "00021-44552d57-c330-467d-ad0f-716a87a94760",
        "deepnote_cell_type": "markdown"
      }
    },
    {
      "cell_type": "code",
      "source": "default_CBC = cb.CatBoostClassifier()",
      "metadata": {
        "tags": [],
        "cell_id": "00021-fb421c82-f937-43a6-af6f-96f89ebee882",
        "deepnote_to_be_reexecuted": false,
        "source_hash": "8bf7fa6a",
        "execution_millis": 1,
        "execution_start": 1617981136361,
        "deepnote_cell_type": "code"
      },
      "outputs": [],
      "execution_count": 66
    },
    {
      "cell_type": "code",
      "source": "default_CBC.fit(\n    train_set,\n    eval_set=(X_val, y_val),\n    verbose=False,\n)",
      "metadata": {
        "tags": [],
        "cell_id": "00023-7efe7c1c-bb16-4ceb-9448-d2e089a6b6f2",
        "deepnote_to_be_reexecuted": false,
        "source_hash": "14adbf4d",
        "execution_millis": 52357,
        "execution_start": 1617981252943,
        "deepnote_cell_type": "code"
      },
      "outputs": [
        {
          "output_type": "execute_result",
          "execution_count": 71,
          "data": {
            "text/plain": "<catboost.core.CatBoostClassifier at 0x7f0efe595ca0>"
          },
          "metadata": {}
        }
      ],
      "execution_count": 71
    },
    {
      "cell_type": "code",
      "source": "def_y_preds = default_CBC.predict(eval_set)\ndef_y_preds = np.reshape(def_y_preds, y_val.values.shape)",
      "metadata": {
        "tags": [],
        "cell_id": "00024-a07381f4-4f1a-4f5c-a9b7-062347cf04f6",
        "deepnote_to_be_reexecuted": false,
        "source_hash": "a9476739",
        "execution_millis": 5,
        "execution_start": 1617981336069,
        "deepnote_cell_type": "code"
      },
      "outputs": [],
      "execution_count": 72
    },
    {
      "cell_type": "code",
      "source": "f\"{round(100 - len(*np.nonzero(y_preds - y_val.values)) / len(y_preds) * 100)}% Accuracy\"",
      "metadata": {
        "tags": [],
        "cell_id": "00025-c7e8c098-d27a-4dc2-9f44-6c9f10bbb23e",
        "deepnote_to_be_reexecuted": false,
        "source_hash": "c2a9f539",
        "execution_millis": 3948,
        "execution_start": 1617981337735,
        "deepnote_cell_type": "code"
      },
      "outputs": [
        {
          "output_type": "execute_result",
          "execution_count": 73,
          "data": {
            "text/plain": "'79% Accuracy'"
          },
          "metadata": {}
        }
      ],
      "execution_count": 73
    },
    {
      "cell_type": "markdown",
      "source": "### SKlearn Based GBC",
      "metadata": {
        "tags": [],
        "cell_id": "00013-4417f54d-72d2-43e4-bfb4-f0fb41072eea",
        "deepnote_cell_type": "markdown"
      }
    },
    {
      "cell_type": "code",
      "metadata": {
        "tags": [],
        "cell_id": "00010-dfff88e4-0b49-4282-92ad-ea539dfcb3f5",
        "deepnote_to_be_reexecuted": false,
        "source_hash": "350666cf",
        "execution_millis": 132,
        "execution_start": 1617981377761,
        "deepnote_cell_type": "code"
      },
      "source": "from sklearn.ensemble import GradientBoostingClassifier",
      "execution_count": 74,
      "outputs": []
    },
    {
      "cell_type": "code",
      "metadata": {
        "tags": [],
        "cell_id": "00011-30666a16-7cce-427f-bd0a-eecff881941d",
        "deepnote_to_be_reexecuted": false,
        "source_hash": "92ecb4e1",
        "execution_millis": 5,
        "execution_start": 1617981380514,
        "deepnote_cell_type": "code"
      },
      "source": "hard_params = {'n_estimators': 1000, 'max_leaf_nodes': 4, 'max_depth': None, 'random_state': 2,\n                'min_samples_split': 5}\n\n# intermediate params\n\nparams = dict(hard_params)\n# params.update(inter_params)",
      "execution_count": 75,
      "outputs": []
    },
    {
      "cell_type": "code",
      "metadata": {
        "tags": [],
        "cell_id": "00002-df2576a6-099a-46e2-87fb-d1f40864668f",
        "deepnote_to_be_reexecuted": false,
        "source_hash": "a93c5dd5",
        "execution_millis": 23428,
        "execution_start": 1617981409084,
        "deepnote_cell_type": "code"
      },
      "source": "# X_trainset, X_val, y_trainset, y_val\nGBC = GradientBoostingClassifier(**params)\nGBC.fit(X_trainset, y_trainset)",
      "execution_count": 76,
      "outputs": [
        {
          "output_type": "execute_result",
          "execution_count": 76,
          "data": {
            "text/plain": "GradientBoostingClassifier(max_depth=None, max_leaf_nodes=4,\n                           min_samples_split=5, n_estimators=1000,\n                           random_state=2)"
          },
          "metadata": {}
        }
      ]
    },
    {
      "cell_type": "code",
      "metadata": {
        "tags": [],
        "cell_id": "00013-c79be539-289d-4df1-a4e0-f274c1a882f5",
        "deepnote_to_be_reexecuted": false,
        "source_hash": "88a3b6ef",
        "execution_millis": 27,
        "execution_start": 1617981432508,
        "deepnote_cell_type": "code"
      },
      "source": "GBC.score(X_val, y_val)",
      "execution_count": 77,
      "outputs": [
        {
          "output_type": "execute_result",
          "execution_count": 77,
          "data": {
            "text/plain": "0.8421052631578947"
          },
          "metadata": {}
        }
      ]
    },
    {
      "cell_type": "markdown",
      "source": "## k-fold cross-validation:\nIt seems like you can implement the cross-validation for the train-validation split in this way. (Use to evaluate different models using k-fold CV on the training set\n & pick the final model, which is then used to predict the test set!)",
      "metadata": {
        "tags": [],
        "cell_id": "00024-5f2b3d62-f3ba-4fd7-a334-9206ef608c9e",
        "deepnote_cell_type": "markdown"
      }
    },
    {
      "cell_type": "code",
      "metadata": {
        "tags": [],
        "cell_id": "00024-9241ee9e-0c1b-4e83-9e37-7fea7c2f2d67",
        "deepnote_to_be_reexecuted": false,
        "source_hash": "ffc77694",
        "execution_millis": 191201,
        "execution_start": 1617887713334,
        "deepnote_cell_type": "code"
      },
      "source": "from sklearn.model_selection import KFold\nfrom sklearn.model_selection import cross_val_score\n\nmodel = GBC\nkfold = KFold(n_splits=7,shuffle = True, random_state=10)\nresults = cross_val_score(model, X_trainset, y_trainset, cv=kfold)\nprint(\"Accuracy: %.2f%% (%.2f%%)\" % (results.mean()*100, results.std()*100))",
      "execution_count": null,
      "outputs": [
        {
          "name": "stdout",
          "text": "Accuracy: 81.17% (7.44%)\n",
          "output_type": "stream"
        }
      ]
    },
    {
      "cell_type": "code",
      "metadata": {
        "tags": [],
        "cell_id": "00014-efb265bd-ac4a-47fb-8fef-f57711f846f5",
        "deepnote_cell_type": "code"
      },
      "source": "",
      "execution_count": null,
      "outputs": []
    },
    {
      "cell_type": "markdown",
      "source": "<a style='text-decoration:none;line-height:16px;display:flex;color:#5B5B62;padding:10px;justify-content:end;' href='https://deepnote.com?utm_source=created-in-deepnote-cell&projectId=c915e4f9-60c2-40b5-a522-8a90cb3fd50a' target=\"_blank\">\n<img alt='Created in deepnote.com' style='display:inline;max-height:16px;margin:0px;margin-right:7.5px;' src='data:image/svg+xml;base64,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' > </img>\nCreated in <span style='font-weight:600;margin-left:4px;'>Deepnote</span></a>",
      "metadata": {
        "tags": [],
        "created_in_deepnote_cell": true,
        "deepnote_cell_type": "markdown"
      }
    }
  ],
  "nbformat": 4,
  "nbformat_minor": 2,
  "metadata": {
    "orig_nbformat": 2,
    "deepnote": {
      "is_reactive": false
    },
    "deepnote_notebook_id": "64fbaeb6-3e39-4709-b488-9877f20b5517",
    "deepnote_execution_queue": []
  }
}