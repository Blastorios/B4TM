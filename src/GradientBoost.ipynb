{
  "cells": [
    {
      "cell_type": "markdown",
      "source": "## Imports",
      "metadata": {
        "tags": [],
        "cell_id": "00000-0cb06fd3-4ed4-41ad-bc8f-8dd85cc8d6e7",
        "deepnote_cell_type": "markdown"
      }
    },
    {
      "cell_type": "code",
      "metadata": {
        "tags": [],
        "cell_id": "00000-8da1e318-c932-4bea-9fc9-ed9668dd513f",
        "deepnote_to_be_reexecuted": false,
        "source_hash": "9f793134",
        "execution_millis": 867,
        "execution_start": 1618222141670,
        "deepnote_cell_type": "code"
      },
      "source": "import numpy as np\nimport pandas as pd\nimport sklearn as sk\nimport catboost as cb",
      "execution_count": 1,
      "outputs": []
    },
    {
      "cell_type": "markdown",
      "source": "## Processing",
      "metadata": {
        "tags": [],
        "cell_id": "00003-8696a436-eb72-4604-8673-cc594940b8ae",
        "deepnote_cell_type": "markdown"
      }
    },
    {
      "cell_type": "code",
      "metadata": {
        "tags": [],
        "cell_id": "00002-c6610b96-1c8d-4dd6-9c55-c9861e9ad84d",
        "deepnote_to_be_reexecuted": false,
        "source_hash": "65961b6b",
        "execution_millis": 241,
        "execution_start": 1618222184246,
        "deepnote_cell_type": "code"
      },
      "source": "df = (pd\n    .read_csv(\"./data/superset.csv\")\n    .set_axis([df[\"Unnamed: 0\"]]) \n    .drop([\"Unnamed: 0\"], axis=1)\n)",
      "execution_count": 3,
      "outputs": []
    },
    {
      "cell_type": "code",
      "metadata": {
        "tags": [],
        "cell_id": "00002-5695432f-1782-4fa8-bf27-c4ff3552751e",
        "deepnote_to_be_reexecuted": false,
        "source_hash": "1feee020",
        "execution_millis": 0,
        "execution_start": 1618222208147,
        "deepnote_cell_type": "code"
      },
      "source": "df.Subgroup = df.Subgroup.replace(\n    {cat:num for num, cat in enumerate(df.Subgroup.unique())}\n    ) # Create numerical target (easier for the models to use)",
      "execution_count": 6,
      "outputs": []
    },
    {
      "cell_type": "markdown",
      "source": "## Splitting",
      "metadata": {
        "tags": [],
        "cell_id": "00006-e1fe5b55-e4ee-45cb-81e0-39a6d027f719",
        "deepnote_cell_type": "markdown"
      }
    },
    {
      "cell_type": "code",
      "metadata": {
        "tags": [],
        "cell_id": "00004-8f5cef41-e136-4a6f-800d-df1da3a9a4bc",
        "deepnote_to_be_reexecuted": false,
        "source_hash": "746a4dbc",
        "execution_millis": 105,
        "execution_start": 1618222249798,
        "deepnote_cell_type": "code"
      },
      "source": "from sklearn.model_selection import train_test_split",
      "execution_count": 7,
      "outputs": []
    },
    {
      "cell_type": "code",
      "metadata": {
        "tags": [],
        "cell_id": "00008-f19aa123-d5d4-4e72-9a62-b183d9d4927b",
        "deepnote_to_be_reexecuted": false,
        "source_hash": "ce6a9efe",
        "execution_millis": 9,
        "execution_start": 1618222259987,
        "deepnote_cell_type": "code"
      },
      "source": "X_ = df.drop(columns=[\"Subgroup\"])\ny_ = df.Subgroup\n\n# Initial Datasets\nX_train, X_test, y_train, y_test = train_test_split(X_, y_, test_size=0.25, random_state=42)",
      "execution_count": 8,
      "outputs": []
    },
    {
      "cell_type": "markdown",
      "source": "## Building",
      "metadata": {
        "tags": [],
        "cell_id": "00008-9f238cf3-d9f0-49ae-a096-175b5a50c446",
        "deepnote_cell_type": "markdown"
      }
    },
    {
      "cell_type": "markdown",
      "source": "### CatBoost",
      "metadata": {
        "tags": [],
        "cell_id": "00011-9f1ec009-46ba-4931-94d9-01c41d00b7bc",
        "deepnote_cell_type": "markdown"
      }
    },
    {
      "cell_type": "markdown",
      "source": "https://catboost.ai/docs/concepts/about.html",
      "metadata": {
        "tags": [],
        "cell_id": "00012-80b3160d-3bab-46ee-ac09-966adb33e8fa",
        "deepnote_cell_type": "markdown"
      }
    },
    {
      "cell_type": "code",
      "metadata": {
        "tags": [],
        "cell_id": "00011-afc75c4e-13aa-4828-9b72-5d8545149a53",
        "deepnote_to_be_reexecuted": false,
        "source_hash": "ce3b6c67",
        "execution_millis": 6,
        "execution_start": 1618222267741,
        "deepnote_cell_type": "code"
      },
      "source": "print(cb.__version__) # Consistency",
      "execution_count": 10,
      "outputs": [
        {
          "name": "stdout",
          "text": "0.25.1\n",
          "output_type": "stream"
        }
      ]
    },
    {
      "cell_type": "code",
      "metadata": {
        "tags": [],
        "cell_id": "00014-27f5740a-7e4b-4b16-b5f8-5c55d6ddce03",
        "deepnote_to_be_reexecuted": false,
        "source_hash": "ecb38883",
        "execution_millis": 374,
        "execution_start": 1618222656215,
        "deepnote_cell_type": "code"
      },
      "source": "X_trainset, X_val, y_trainset, y_val = train_test_split(X_train, y_train, test_size=0.25, random_state=42)\n\n# Apply a validation-like training set\ntrain_set = cb.Pool(X_trainset, label=y_trainset)\neval_set = cb.Pool(X_val, label=y_val)\n\nentire_train = cb.Pool(X_train, label=y_train)",
      "execution_count": 13,
      "outputs": []
    },
    {
      "cell_type": "code",
      "metadata": {
        "tags": [],
        "cell_id": "00012-ccd1c75e-2f3b-4a1c-a336-639b88d81e2d",
        "deepnote_to_be_reexecuted": false,
        "source_hash": "fe1b8720",
        "execution_millis": 10,
        "execution_start": 1618222890367,
        "deepnote_cell_type": "code"
      },
      "source": "# Set grid search params\ncbc_params = {\n    'random_seed': 88,\n    'verbose': 10,\n    'loss_function': 'MultiClass'}\n\nCBC = cb.CatBoostClassifier(**cbc_params)\n\ngrid_params ={\n    'iterations': [100,500,1000],\n    'learning_rate': [0.01,0.05,0.1],\n    'l2_leaf_reg': [1,3,5,7,9,11,20],\n    'depth': [6, 8, 10],\n    'random_strength': [0.01, 0.05, 0.1]}\n\n# Grid Search does automatic CV. So we only need to parse the initial training data\nCBC_grid = CBC.grid_search(grid_params, X=entire_train, partition_random_seed=12)",
      "execution_count": 16,
      "outputs": [
        {
          "name": "stdout",
          "text": "0:\tlearn: 1.0885020\ttest: 1.0958680\tbest: 1.0958680 (0)\ttotal: 196ms\tremaining: 19.4s\n10:\tlearn: 0.9826027\ttest: 1.0503633\tbest: 1.0503633 (10)\ttotal: 1.23s\tremaining: 9.95s\n20:\tlearn: 0.8891768\ttest: 1.0058475\tbest: 1.0058475 (20)\ttotal: 2.27s\tremaining: 8.54s\n30:\tlearn: 0.8111748\ttest: 0.9704574\tbest: 0.9704574 (30)\ttotal: 3.32s\tremaining: 7.4s\n40:\tlearn: 0.7443546\ttest: 0.9424778\tbest: 0.9424778 (40)\ttotal: 4.25s\tremaining: 6.11s\n50:\tlearn: 0.6841978\ttest: 0.9128077\tbest: 0.9128077 (50)\ttotal: 5.18s\tremaining: 4.97s\n60:\tlearn: 0.6315727\ttest: 0.8877014\tbest: 0.8877014 (60)\ttotal: 6.13s\tremaining: 3.92s\n70:\tlearn: 0.5836329\ttest: 0.8643433\tbest: 0.8643433 (70)\ttotal: 7.15s\tremaining: 2.92s\n80:\tlearn: 0.5392344\ttest: 0.8478009\tbest: 0.8478009 (80)\ttotal: 8.16s\tremaining: 1.91s\n90:\tlearn: 0.5003690\ttest: 0.8321426\tbest: 0.8320123 (89)\ttotal: 8.97s\tremaining: 887ms\n99:\tlearn: 0.4689253\ttest: 0.8176843\tbest: 0.8176843 (99)\ttotal: 9.71s\tremaining: 0us\n\nbestTest = 0.8176843356\nbestIteration = 99\n\n0:\tloss: 0.8176843\tbest: 0.8176843 (0)\ttotal: 9.95s\tremaining: 1h 33m 53s\n0:\tlearn: 1.0487027\ttest: 1.0853120\tbest: 1.0853120 (0)\ttotal: 118ms\tremaining: 11.7s\n10:\tlearn: 0.6548761\ttest: 0.9123305\tbest: 0.9123305 (10)\ttotal: 1.19s\tremaining: 9.63s\n20:\tlearn: 0.4438841\ttest: 0.8177189\tbest: 0.8160555 (19)\ttotal: 2.12s\tremaining: 7.96s\n30:\tlearn: 0.3186846\ttest: 0.7567033\tbest: 0.7526767 (29)\ttotal: 3.08s\tremaining: 6.85s\n40:\tlearn: 0.2450525\ttest: 0.7362848\tbest: 0.7362848 (40)\ttotal: 4.15s\tremaining: 5.97s\n50:\tlearn: 0.1941260\ttest: 0.7194834\tbest: 0.7170733 (49)\ttotal: 5.02s\tremaining: 4.82s\n60:\tlearn: 0.1557777\ttest: 0.7046865\tbest: 0.7023757 (59)\ttotal: 5.9s\tremaining: 3.77s\n70:\tlearn: 0.1266899\ttest: 0.6927099\tbest: 0.6906037 (69)\ttotal: 6.85s\tremaining: 2.8s\n80:\tlearn: 0.1064724\ttest: 0.6825873\tbest: 0.6776335 (77)\ttotal: 7.78s\tremaining: 1.82s\n90:\tlearn: 0.0920430\ttest: 0.6746274\tbest: 0.6735192 (88)\ttotal: 8.63s\tremaining: 853ms\n99:\tlearn: 0.0811669\ttest: 0.6619455\tbest: 0.6604709 (96)\ttotal: 9.4s\tremaining: 0us\n\nbestTest = 0.6604709277\nbestIteration = 96\n\n1:\tloss: 0.6604709\tbest: 0.6604709 (1)\ttotal: 19.4s\tremaining: 1h 31m 12s\n0:\tlearn: 1.0004249\ttest: 1.0730788\tbest: 1.0730788 (0)\ttotal: 86.9ms\tremaining: 8.6s\n10:\tlearn: 0.4322144\ttest: 0.8401702\tbest: 0.8401702 (10)\ttotal: 1.03s\tremaining: 8.38s\n20:\tlearn: 0.2352573\ttest: 0.7739016\tbest: 0.7714867 (19)\ttotal: 2.01s\tremaining: 7.57s\n30:\tlearn: 0.1542667\ttest: 0.7164066\tbest: 0.7109243 (29)\ttotal: 2.96s\tremaining: 6.6s\n40:\tlearn: 0.1062387\ttest: 0.6866986\tbest: 0.6866986 (40)\ttotal: 3.83s\tremaining: 5.51s\n50:\tlearn: 0.0822697\ttest: 0.6578208\tbest: 0.6570697 (49)\ttotal: 4.73s\tremaining: 4.55s\n60:\tlearn: 0.0637454\ttest: 0.6608874\tbest: 0.6548587 (55)\ttotal: 5.77s\tremaining: 3.69s\n70:\tlearn: 0.0521251\ttest: 0.6582361\tbest: 0.6548587 (55)\ttotal: 6.78s\tremaining: 2.77s\n80:\tlearn: 0.0434769\ttest: 0.6526652\tbest: 0.6490251 (77)\ttotal: 7.79s\tremaining: 1.83s\n90:\tlearn: 0.0374987\ttest: 0.6392356\tbest: 0.6373467 (88)\ttotal: 8.76s\tremaining: 866ms\n99:\tlearn: 0.0334792\ttest: 0.6361771\tbest: 0.6359334 (98)\ttotal: 9.79s\tremaining: 0us\n\nbestTest = 0.6359334396\nbestIteration = 98\n\n2:\tloss: 0.6359334\tbest: 0.6359334 (2)\ttotal: 29.2s\tremaining: 1h 31m 24s\n0:\tlearn: 1.0934728\ttest: 1.0955316\tbest: 1.0955316 (0)\ttotal: 88ms\tremaining: 8.71s\n10:\tlearn: 1.0237813\ttest: 1.0664847\tbest: 1.0664847 (10)\ttotal: 998ms\tremaining: 8.07s\n20:\tlearn: 0.9625872\ttest: 1.0380516\tbest: 1.0380516 (20)\ttotal: 2s\tremaining: 7.52s\n30:\tlearn: 0.9070742\ttest: 1.0148109\tbest: 1.0148109 (30)\ttotal: 3s\tremaining: 6.67s\n40:\tlearn: 0.8513474\ttest: 0.9851295\tbest: 0.9851295 (40)\ttotal: 4.04s\tremaining: 5.81s\n50:\tlearn: 0.8037600\ttest: 0.9641634\tbest: 0.9641634 (50)\ttotal: 5.08s\tremaining: 4.88s\n60:\tlearn: 0.7598099\ttest: 0.9439237\tbest: 0.9439237 (60)\ttotal: 6.17s\tremaining: 3.94s\n70:\tlearn: 0.7208208\ttest: 0.9281727\tbest: 0.9281727 (70)\ttotal: 7.28s\tremaining: 2.97s\n80:\tlearn: 0.6849851\ttest: 0.9085168\tbest: 0.9085168 (80)\ttotal: 8.26s\tremaining: 1.94s\n90:\tlearn: 0.6494128\ttest: 0.8947457\tbest: 0.8947457 (90)\ttotal: 9.26s\tremaining: 916ms\n99:\tlearn: 0.6194036\ttest: 0.8781898\tbest: 0.8781898 (99)\ttotal: 10.1s\tremaining: 0us\n\nbestTest = 0.8781897632\nbestIteration = 99\n\n3:\tloss: 0.8781898\tbest: 0.6359334 (2)\ttotal: 39.3s\tremaining: 1h 32m 13s\n0:\tlearn: 1.0731106\ttest: 1.0833101\tbest: 1.0833101 (0)\ttotal: 104ms\tremaining: 10.2s\n10:\tlearn: 0.7843600\ttest: 0.9678131\tbest: 0.9678131 (10)\ttotal: 1.04s\tremaining: 8.38s\n20:\tlearn: 0.6030090\ttest: 0.8656809\tbest: 0.8656809 (20)\ttotal: 2.04s\tremaining: 7.66s\n30:\tlearn: 0.4870345\ttest: 0.8182740\tbest: 0.8182740 (30)\ttotal: 3.06s\tremaining: 6.81s\n40:\tlearn: 0.3955618\ttest: 0.7572593\tbest: 0.7572593 (40)\ttotal: 4.03s\tremaining: 5.8s\n50:\tlearn: 0.3289896\ttest: 0.7121851\tbest: 0.7121851 (50)\ttotal: 4.99s\tremaining: 4.79s\n60:\tlearn: 0.2831635\ttest: 0.6911076\tbest: 0.6911076 (60)\ttotal: 6.05s\tremaining: 3.87s\n70:\tlearn: 0.2480190\ttest: 0.6762636\tbest: 0.6762636 (70)\ttotal: 7.15s\tremaining: 2.92s\n80:\tlearn: 0.2183432\ttest: 0.6665690\tbest: 0.6665690 (80)\ttotal: 8.02s\tremaining: 1.88s\n90:\tlearn: 0.1939085\ttest: 0.6544964\tbest: 0.6544964 (90)\ttotal: 9.06s\tremaining: 896ms\n99:\tlearn: 0.1768962\ttest: 0.6387540\tbest: 0.6387540 (99)\ttotal: 9.9s\tremaining: 0us\n\nbestTest = 0.6387540446\nbestIteration = 99\n\n4:\tloss: 0.6387540\tbest: 0.6359334 (2)\ttotal: 49.2s\tremaining: 1h 32m 12s\n0:\tlearn: 1.0481024\ttest: 1.0682631\tbest: 1.0682631 (0)\ttotal: 97.7ms\tremaining: 9.67s\n10:\tlearn: 0.6044054\ttest: 0.8872946\tbest: 0.8849511 (9)\ttotal: 1.08s\tremaining: 8.74s\n20:\tlearn: 0.3877506\ttest: 0.7832177\tbest: 0.7804930 (19)\ttotal: 2.08s\tremaining: 7.81s\n30:\tlearn: 0.2793323\ttest: 0.7238179\tbest: 0.7238179 (30)\ttotal: 3.13s\tremaining: 6.96s\n40:\tlearn: 0.2119010\ttest: 0.6933354\tbest: 0.6933354 (40)\ttotal: 4.22s\tremaining: 6.07s\n50:\tlearn: 0.1736898\ttest: 0.6678223\tbest: 0.6678223 (50)\ttotal: 5.27s\tremaining: 5.07s\n60:\tlearn: 0.1453179\ttest: 0.6467747\tbest: 0.6458819 (59)\ttotal: 6.36s\tremaining: 4.07s\n70:\tlearn: 0.1234716\ttest: 0.6255882\tbest: 0.6255882 (70)\ttotal: 7.38s\tremaining: 3.02s\n80:\tlearn: 0.1056793\ttest: 0.6215443\tbest: 0.6198349 (76)\ttotal: 8.41s\tremaining: 1.97s\n90:\tlearn: 0.0933695\ttest: 0.6155586\tbest: 0.6136205 (88)\ttotal: 9.5s\tremaining: 940ms\n99:\tlearn: 0.0841792\ttest: 0.6046997\tbest: 0.6046997 (99)\ttotal: 10.4s\tremaining: 0us\n\nbestTest = 0.6046996842\nbestIteration = 99\n\n5:\tloss: 0.6046997\tbest: 0.6046997 (5)\ttotal: 59.6s\tremaining: 1h 32m 56s\n0:\tlearn: 1.0945978\ttest: 1.0963533\tbest: 1.0963533 (0)\ttotal: 97.9ms\tremaining: 9.69s\n10:\tlearn: 1.0404987\ttest: 1.0713632\tbest: 1.0713632 (10)\ttotal: 1.07s\tremaining: 8.64s\n20:\tlearn: 0.9918636\ttest: 1.0470877\tbest: 1.0470877 (20)\ttotal: 2.04s\tremaining: 7.67s\n30:\tlearn: 0.9464976\ttest: 1.0274133\tbest: 1.0274133 (30)\ttotal: 3.04s\tremaining: 6.78s\n40:\tlearn: 0.9013337\ttest: 1.0060231\tbest: 1.0060231 (40)\ttotal: 4.11s\tremaining: 5.92s\n50:\tlearn: 0.8657074\ttest: 0.9919409\tbest: 0.9919409 (50)\ttotal: 5.16s\tremaining: 4.96s\n60:\tlearn: 0.8296784\ttest: 0.9767909\tbest: 0.9767909 (60)\ttotal: 6.19s\tremaining: 3.96s\n70:\tlearn: 0.7965761\ttest: 0.9650601\tbest: 0.9650601 (70)\ttotal: 7.36s\tremaining: 3.01s\n80:\tlearn: 0.7620160\ttest: 0.9459345\tbest: 0.9459345 (80)\ttotal: 8.43s\tremaining: 1.98s\n90:\tlearn: 0.7311962\ttest: 0.9372818\tbest: 0.9372818 (90)\ttotal: 9.51s\tremaining: 941ms\n99:\tlearn: 0.7047766\ttest: 0.9256239\tbest: 0.9256239 (99)\ttotal: 10.4s\tremaining: 0us\n\nbestTest = 0.9256238721\nbestIteration = 99\n\n6:\tloss: 0.9256239\tbest: 0.6046997 (5)\ttotal: 1m 10s\tremaining: 1h 33m 23s\n0:\tlearn: 1.0786534\ttest: 1.0873939\tbest: 1.0873939 (0)\ttotal: 104ms\tremaining: 10.3s\n10:\tlearn: 0.8476140\ttest: 0.9838198\tbest: 0.9838198 (10)\ttotal: 1.35s\tremaining: 11s\n20:\tlearn: 0.6852896\ttest: 0.9005373\tbest: 0.9005373 (20)\ttotal: 2.72s\tremaining: 10.2s\n30:\tlearn: 0.5814565\ttest: 0.8591935\tbest: 0.8591935 (30)\ttotal: 4.02s\tremaining: 8.95s\n40:\tlearn: 0.4889543\ttest: 0.8104789\tbest: 0.8104789 (40)\ttotal: 4.99s\tremaining: 7.18s\n50:\tlearn: 0.4251190\ttest: 0.7775162\tbest: 0.7775162 (50)\ttotal: 6.01s\tremaining: 5.77s\n60:\tlearn: 0.3789011\ttest: 0.7623853\tbest: 0.7623853 (60)\ttotal: 7.26s\tremaining: 4.64s\n70:\tlearn: 0.3386793\ttest: 0.7478403\tbest: 0.7478403 (70)\ttotal: 8.57s\tremaining: 3.5s\n80:\tlearn: 0.3002662\ttest: 0.7264654\tbest: 0.7264654 (80)\ttotal: 9.78s\tremaining: 2.29s\n90:\tlearn: 0.2730847\ttest: 0.7149598\tbest: 0.7149598 (90)\ttotal: 11.2s\tremaining: 1.11s\n99:\tlearn: 0.2524418\ttest: 0.6987215\tbest: 0.6987215 (99)\ttotal: 12.7s\tremaining: 0us\n\nbestTest = 0.6987214605\nbestIteration = 99\n\n7:\tloss: 0.6987215\tbest: 0.6046997 (5)\ttotal: 1m 22s\tremaining: 1h 36m 25s\n0:\tlearn: 1.0589808\ttest: 1.0763684\tbest: 1.0763684 (0)\ttotal: 135ms\tremaining: 13.4s\n10:\tlearn: 0.6816484\ttest: 0.9132177\tbest: 0.9127988 (9)\ttotal: 1.4s\tremaining: 11.4s\n20:\tlearn: 0.4739780\ttest: 0.8074546\tbest: 0.8074546 (20)\ttotal: 2.38s\tremaining: 8.94s\n30:\tlearn: 0.3647594\ttest: 0.7645157\tbest: 0.7640272 (29)\ttotal: 3.31s\tremaining: 7.36s\n40:\tlearn: 0.2934017\ttest: 0.7220961\tbest: 0.7220961 (40)\ttotal: 4.38s\tremaining: 6.3s\n50:\tlearn: 0.2516532\ttest: 0.7062897\tbest: 0.7041232 (48)\ttotal: 5.38s\tremaining: 5.17s\n60:\tlearn: 0.2161523\ttest: 0.6928626\tbest: 0.6911621 (58)\ttotal: 6.37s\tremaining: 4.07s\n70:\tlearn: 0.1895054\ttest: 0.6757702\tbest: 0.6745778 (69)\ttotal: 7.48s\tremaining: 3.05s\n80:\tlearn: 0.1654055\ttest: 0.6625985\tbest: 0.6616012 (79)\ttotal: 8.44s\tremaining: 1.98s\n90:\tlearn: 0.1480822\ttest: 0.6457249\tbest: 0.6457249 (90)\ttotal: 9.37s\tremaining: 927ms\n99:\tlearn: 0.1338543\ttest: 0.6361849\tbest: 0.6358127 (96)\ttotal: 10.2s\tremaining: 0us\n\nbestTest = 0.6358126508\nbestIteration = 96\n\n8:\tloss: 0.6358127\tbest: 0.6046997 (5)\ttotal: 1m 33s\tremaining: 1h 36m 6s\n0:\tlearn: 1.0954910\ttest: 1.0968711\tbest: 1.0968711 (0)\ttotal: 118ms\tremaining: 11.6s\n10:\tlearn: 1.0523735\ttest: 1.0767124\tbest: 1.0767124 (10)\ttotal: 967ms\tremaining: 7.82s\n20:\tlearn: 1.0126097\ttest: 1.0568118\tbest: 1.0568118 (20)\ttotal: 1.9s\tremaining: 7.16s\n30:\tlearn: 0.9784809\ttest: 1.0431941\tbest: 1.0431941 (30)\ttotal: 2.83s\tremaining: 6.3s\n40:\tlearn: 0.9414163\ttest: 1.0258013\tbest: 1.0258013 (40)\ttotal: 4.15s\tremaining: 5.97s\n50:\tlearn: 0.9097240\ttest: 1.0135568\tbest: 1.0135568 (50)\ttotal: 5.2s\tremaining: 4.99s\n60:\tlearn: 0.8765410\ttest: 1.0018661\tbest: 1.0018661 (60)\ttotal: 6.18s\tremaining: 3.95s\n70:\tlearn: 0.8458076\ttest: 0.9912594\tbest: 0.9912594 (70)\ttotal: 7.61s\tremaining: 3.11s\n80:\tlearn: 0.8165115\ttest: 0.9775126\tbest: 0.9775126 (80)\ttotal: 8.71s\tremaining: 2.04s\n90:\tlearn: 0.7896787\ttest: 0.9666497\tbest: 0.9666497 (90)\ttotal: 9.86s\tremaining: 975ms\n99:\tlearn: 0.7666394\ttest: 0.9556364\tbest: 0.9556364 (99)\ttotal: 10.9s\tremaining: 0us\n\nbestTest = 0.9556363997\nbestIteration = 99\n\n9:\tloss: 0.9556364\tbest: 0.6046997 (5)\ttotal: 1m 43s\tremaining: 1h 36m 30s\n0:\tlearn: 1.0830753\ttest: 1.0899527\tbest: 1.0899527 (0)\ttotal: 107ms\tremaining: 10.6s\n10:\tlearn: 0.8917367\ttest: 1.0028450\tbest: 1.0028450 (10)\ttotal: 981ms\tremaining: 7.93s\n20:\tlearn: 0.7504591\ttest: 0.9312917\tbest: 0.9312917 (20)\ttotal: 1.97s\tremaining: 7.4s\n30:\tlearn: 0.6552580\ttest: 0.8911925\tbest: 0.8911925 (30)\ttotal: 3.34s\tremaining: 7.43s\n40:\tlearn: 0.5686103\ttest: 0.8518864\tbest: 0.8518864 (40)\ttotal: 4.17s\tremaining: 6.01s\n50:\tlearn: 0.4982343\ttest: 0.8204342\tbest: 0.8204342 (50)\ttotal: 5.11s\tremaining: 4.91s\n60:\tlearn: 0.4459332\ttest: 0.8027087\tbest: 0.8027087 (60)\ttotal: 6.13s\tremaining: 3.92s\n70:\tlearn: 0.3996981\ttest: 0.7826633\tbest: 0.7826633 (70)\ttotal: 7.09s\tremaining: 2.9s\n80:\tlearn: 0.3632803\ttest: 0.7689844\tbest: 0.7689844 (80)\ttotal: 8.06s\tremaining: 1.89s\n90:\tlearn: 0.3301558\ttest: 0.7574786\tbest: 0.7574786 (90)\ttotal: 9.2s\tremaining: 910ms\n99:\tlearn: 0.3086443\ttest: 0.7450227\tbest: 0.7450227 (99)\ttotal: 10s\tremaining: 0us\n\nbestTest = 0.7450226666\nbestIteration = 99\n\n10:\tloss: 0.7450227\tbest: 0.6046997 (5)\ttotal: 1m 53s\tremaining: 1h 36m 1s\n0:\tlearn: 1.0677137\ttest: 1.0814093\tbest: 1.0814093 (0)\ttotal: 78.7ms\tremaining: 7.79s\n10:\tlearn: 0.7371153\ttest: 0.9370579\tbest: 0.9370579 (10)\ttotal: 1.05s\tremaining: 8.52s\n",
          "output_type": "stream"
        }
      ]
    },
    {
      "cell_type": "code",
      "metadata": {
        "tags": [],
        "cell_id": "00017-4eec8447-f027-4d56-8cc8-6095f9fae96e",
        "deepnote_to_be_reexecuted": true,
        "source_hash": "d79cdb46",
        "execution_millis": 68,
        "deepnote_cell_type": "code"
      },
      "source": "CBC_grid.params",
      "execution_count": null,
      "outputs": [
        {
          "output_type": "execute_result",
          "execution_count": 40,
          "data": {
            "application/vnd.deepnote.dataframe.v2+json": {
              "row_count": 2834,
              "column_count": 2,
              "columns": [
                {
                  "name": "Feature Id",
                  "dtype": "object",
                  "stats": {
                    "unique_count": 2834,
                    "nan_count": 0,
                    "categories": [
                      {
                        "name": "2184",
                        "count": 1
                      },
                      {
                        "name": "672",
                        "count": 1
                      },
                      {
                        "name": "2832 others",
                        "count": 2832
                      }
                    ]
                  }
                },
                {
                  "name": "Importances",
                  "dtype": "float64",
                  "stats": {
                    "unique_count": 999,
                    "nan_count": 0,
                    "min": 0,
                    "max": 28.928687741019964,
                    "histogram": [
                      {
                        "bin_start": 0,
                        "bin_end": 2.8928687741019963,
                        "count": 2833
                      },
                      {
                        "bin_start": 2.8928687741019963,
                        "bin_end": 5.7857375482039926,
                        "count": 0
                      },
                      {
                        "bin_start": 5.7857375482039926,
                        "bin_end": 8.678606322305988,
                        "count": 0
                      },
                      {
                        "bin_start": 8.678606322305988,
                        "bin_end": 11.571475096407985,
                        "count": 0
                      },
                      {
                        "bin_start": 11.571475096407985,
                        "bin_end": 14.464343870509982,
                        "count": 0
                      },
                      {
                        "bin_start": 14.464343870509982,
                        "bin_end": 17.357212644611977,
                        "count": 0
                      },
                      {
                        "bin_start": 17.357212644611977,
                        "bin_end": 20.250081418713975,
                        "count": 0
                      },
                      {
                        "bin_start": 20.250081418713975,
                        "bin_end": 23.14295019281597,
                        "count": 0
                      },
                      {
                        "bin_start": 23.14295019281597,
                        "bin_end": 26.035818966917965,
                        "count": 0
                      },
                      {
                        "bin_start": 26.035818966917965,
                        "bin_end": 28.928687741019964,
                        "count": 1
                      }
                    ]
                  }
                },
                {
                  "name": "_deepnote_index_column",
                  "dtype": "int64"
                }
              ],
              "rows_top": [
                {
                  "Feature Id": "2184",
                  "Importances": 28.928687741019964,
                  "_deepnote_index_column": 0
                },
                {
                  "Feature Id": "672",
                  "Importances": 1.6483035850723577,
                  "_deepnote_index_column": 1
                },
                {
                  "Feature Id": "1687",
                  "Importances": 1.5832371782253465,
                  "_deepnote_index_column": 2
                },
                {
                  "Feature Id": "833",
                  "Importances": 1.4551889174284252,
                  "_deepnote_index_column": 3
                },
                {
                  "Feature Id": "1656",
                  "Importances": 1.437725910856413,
                  "_deepnote_index_column": 4
                },
                {
                  "Feature Id": "167",
                  "Importances": 1.4223458846550419,
                  "_deepnote_index_column": 5
                },
                {
                  "Feature Id": "1140",
                  "Importances": 1.4129735643464574,
                  "_deepnote_index_column": 6
                },
                {
                  "Feature Id": "1655",
                  "Importances": 1.168822356727898,
                  "_deepnote_index_column": 7
                },
                {
                  "Feature Id": "2021",
                  "Importances": 1.1333840255428345,
                  "_deepnote_index_column": 8
                },
                {
                  "Feature Id": "1315",
                  "Importances": 1.068566367462794,
                  "_deepnote_index_column": 9
                },
                {
                  "Feature Id": "1882",
                  "Importances": 1.0004875341180122,
                  "_deepnote_index_column": 10
                },
                {
                  "Feature Id": "1000",
                  "Importances": 0.9104241097099607,
                  "_deepnote_index_column": 11
                },
                {
                  "Feature Id": "851",
                  "Importances": 0.8627050443355451,
                  "_deepnote_index_column": 12
                },
                {
                  "Feature Id": "396",
                  "Importances": 0.7690857801913004,
                  "_deepnote_index_column": 13
                },
                {
                  "Feature Id": "1305",
                  "Importances": 0.7140596688118016,
                  "_deepnote_index_column": 14
                },
                {
                  "Feature Id": "2734",
                  "Importances": 0.7085484330301053,
                  "_deepnote_index_column": 15
                },
                {
                  "Feature Id": "386",
                  "Importances": 0.6911494718114539,
                  "_deepnote_index_column": 16
                },
                {
                  "Feature Id": "509",
                  "Importances": 0.6836981308311882,
                  "_deepnote_index_column": 17
                },
                {
                  "Feature Id": "2214",
                  "Importances": 0.6699447977960149,
                  "_deepnote_index_column": 18
                },
                {
                  "Feature Id": "1422",
                  "Importances": 0.6685771264929157,
                  "_deepnote_index_column": 19
                },
                {
                  "Feature Id": "2030",
                  "Importances": 0.6200584627231049,
                  "_deepnote_index_column": 20
                },
                {
                  "Feature Id": "29",
                  "Importances": 0.6028407588947744,
                  "_deepnote_index_column": 21
                },
                {
                  "Feature Id": "904",
                  "Importances": 0.5617956357243594,
                  "_deepnote_index_column": 22
                },
                {
                  "Feature Id": "1902",
                  "Importances": 0.5503846845689465,
                  "_deepnote_index_column": 23
                },
                {
                  "Feature Id": "171",
                  "Importances": 0.5451724721098491,
                  "_deepnote_index_column": 24
                },
                {
                  "Feature Id": "2025",
                  "Importances": 0.5325457485801797,
                  "_deepnote_index_column": 25
                },
                {
                  "Feature Id": "192",
                  "Importances": 0.5189134627064729,
                  "_deepnote_index_column": 26
                },
                {
                  "Feature Id": "74",
                  "Importances": 0.5155775497807193,
                  "_deepnote_index_column": 27
                },
                {
                  "Feature Id": "2383",
                  "Importances": 0.5145701866387703,
                  "_deepnote_index_column": 28
                },
                {
                  "Feature Id": "2034",
                  "Importances": 0.5119152517758674,
                  "_deepnote_index_column": 29
                },
                {
                  "Feature Id": "169",
                  "Importances": 0.46333831970860234,
                  "_deepnote_index_column": 30
                },
                {
                  "Feature Id": "783",
                  "Importances": 0.4605443234884568,
                  "_deepnote_index_column": 31
                },
                {
                  "Feature Id": "2206",
                  "Importances": 0.45309807380974737,
                  "_deepnote_index_column": 32
                },
                {
                  "Feature Id": "511",
                  "Importances": 0.42462267847879565,
                  "_deepnote_index_column": 33
                },
                {
                  "Feature Id": "1174",
                  "Importances": 0.4196104563331274,
                  "_deepnote_index_column": 34
                },
                {
                  "Feature Id": "1652",
                  "Importances": 0.4190768230686956,
                  "_deepnote_index_column": 35
                },
                {
                  "Feature Id": "480",
                  "Importances": 0.4188033898641266,
                  "_deepnote_index_column": 36
                },
                {
                  "Feature Id": "2732",
                  "Importances": 0.4001948779486997,
                  "_deepnote_index_column": 37
                },
                {
                  "Feature Id": "2405",
                  "Importances": 0.39123347761577004,
                  "_deepnote_index_column": 38
                },
                {
                  "Feature Id": "2052",
                  "Importances": 0.3779957555049539,
                  "_deepnote_index_column": 39
                },
                {
                  "Feature Id": "274",
                  "Importances": 0.3663266964494132,
                  "_deepnote_index_column": 40
                },
                {
                  "Feature Id": "2749",
                  "Importances": 0.359084980003853,
                  "_deepnote_index_column": 41
                },
                {
                  "Feature Id": "2152",
                  "Importances": 0.3571298714842281,
                  "_deepnote_index_column": 42
                },
                {
                  "Feature Id": "2742",
                  "Importances": 0.34844354113156895,
                  "_deepnote_index_column": 43
                },
                {
                  "Feature Id": "2764",
                  "Importances": 0.3482942181563349,
                  "_deepnote_index_column": 44
                },
                {
                  "Feature Id": "67",
                  "Importances": 0.3464325097016944,
                  "_deepnote_index_column": 45
                },
                {
                  "Feature Id": "230",
                  "Importances": 0.34419654486776724,
                  "_deepnote_index_column": 46
                },
                {
                  "Feature Id": "1919",
                  "Importances": 0.3410992211038335,
                  "_deepnote_index_column": 47
                },
                {
                  "Feature Id": "843",
                  "Importances": 0.3341427395270802,
                  "_deepnote_index_column": 48
                },
                {
                  "Feature Id": "2616",
                  "Importances": 0.3150349021164491,
                  "_deepnote_index_column": 49
                },
                {
                  "Feature Id": "162",
                  "Importances": 0.31330584964851543,
                  "_deepnote_index_column": 50
                },
                {
                  "Feature Id": "2408",
                  "Importances": 0.3058499068453141,
                  "_deepnote_index_column": 51
                },
                {
                  "Feature Id": "1654",
                  "Importances": 0.2963359694342225,
                  "_deepnote_index_column": 52
                },
                {
                  "Feature Id": "465",
                  "Importances": 0.2960118417827933,
                  "_deepnote_index_column": 53
                },
                {
                  "Feature Id": "2060",
                  "Importances": 0.29377201852930895,
                  "_deepnote_index_column": 54
                },
                {
                  "Feature Id": "683",
                  "Importances": 0.2893025332825897,
                  "_deepnote_index_column": 55
                },
                {
                  "Feature Id": "1965",
                  "Importances": 0.28542968729975116,
                  "_deepnote_index_column": 56
                },
                {
                  "Feature Id": "2055",
                  "Importances": 0.2840456755679324,
                  "_deepnote_index_column": 57
                },
                {
                  "Feature Id": "1660",
                  "Importances": 0.2733202040607533,
                  "_deepnote_index_column": 58
                },
                {
                  "Feature Id": "489",
                  "Importances": 0.2724305605710315,
                  "_deepnote_index_column": 59
                },
                {
                  "Feature Id": "892",
                  "Importances": 0.26761000546103886,
                  "_deepnote_index_column": 60
                },
                {
                  "Feature Id": "2255",
                  "Importances": 0.2670103864552596,
                  "_deepnote_index_column": 61
                },
                {
                  "Feature Id": "2300",
                  "Importances": 0.2651820164747463,
                  "_deepnote_index_column": 62
                },
                {
                  "Feature Id": "1091",
                  "Importances": 0.26493441671211226,
                  "_deepnote_index_column": 63
                },
                {
                  "Feature Id": "2625",
                  "Importances": 0.26256334802431464,
                  "_deepnote_index_column": 64
                },
                {
                  "Feature Id": "2266",
                  "Importances": 0.2623930091136964,
                  "_deepnote_index_column": 65
                },
                {
                  "Feature Id": "719",
                  "Importances": 0.26154227791213214,
                  "_deepnote_index_column": 66
                },
                {
                  "Feature Id": "2219",
                  "Importances": 0.25963211893244986,
                  "_deepnote_index_column": 67
                },
                {
                  "Feature Id": "441",
                  "Importances": 0.25378377895087967,
                  "_deepnote_index_column": 68
                },
                {
                  "Feature Id": "863",
                  "Importances": 0.25249659699182075,
                  "_deepnote_index_column": 69
                },
                {
                  "Feature Id": "1653",
                  "Importances": 0.2510669283038763,
                  "_deepnote_index_column": 70
                },
                {
                  "Feature Id": "2549",
                  "Importances": 0.24940684167495958,
                  "_deepnote_index_column": 71
                },
                {
                  "Feature Id": "147",
                  "Importances": 0.2410710686188365,
                  "_deepnote_index_column": 72
                },
                {
                  "Feature Id": "1785",
                  "Importances": 0.23956033794853562,
                  "_deepnote_index_column": 73
                },
                {
                  "Feature Id": "2608",
                  "Importances": 0.23140662427435113,
                  "_deepnote_index_column": 74
                },
                {
                  "Feature Id": "1671",
                  "Importances": 0.2300064960005089,
                  "_deepnote_index_column": 75
                },
                {
                  "Feature Id": "1072",
                  "Importances": 0.22933698434471236,
                  "_deepnote_index_column": 76
                },
                {
                  "Feature Id": "985",
                  "Importances": 0.22692660472355367,
                  "_deepnote_index_column": 77
                },
                {
                  "Feature Id": "1667",
                  "Importances": 0.22435955305795668,
                  "_deepnote_index_column": 78
                },
                {
                  "Feature Id": "94",
                  "Importances": 0.22117094761791378,
                  "_deepnote_index_column": 79
                },
                {
                  "Feature Id": "2629",
                  "Importances": 0.22059344035673903,
                  "_deepnote_index_column": 80
                },
                {
                  "Feature Id": "265",
                  "Importances": 0.22020900155950834,
                  "_deepnote_index_column": 81
                },
                {
                  "Feature Id": "1971",
                  "Importances": 0.217201601954692,
                  "_deepnote_index_column": 82
                },
                {
                  "Feature Id": "801",
                  "Importances": 0.2142818441304318,
                  "_deepnote_index_column": 83
                },
                {
                  "Feature Id": "0",
                  "Importances": 0.21389977845933195,
                  "_deepnote_index_column": 84
                },
                {
                  "Feature Id": "620",
                  "Importances": 0.21185445737783704,
                  "_deepnote_index_column": 85
                },
                {
                  "Feature Id": "1279",
                  "Importances": 0.20941173087057544,
                  "_deepnote_index_column": 86
                },
                {
                  "Feature Id": "745",
                  "Importances": 0.2093471697191293,
                  "_deepnote_index_column": 87
                },
                {
                  "Feature Id": "856",
                  "Importances": 0.20852164690869515,
                  "_deepnote_index_column": 88
                },
                {
                  "Feature Id": "1402",
                  "Importances": 0.20724464411242755,
                  "_deepnote_index_column": 89
                },
                {
                  "Feature Id": "2002",
                  "Importances": 0.20199181439955163,
                  "_deepnote_index_column": 90
                },
                {
                  "Feature Id": "860",
                  "Importances": 0.20159367099252343,
                  "_deepnote_index_column": 91
                },
                {
                  "Feature Id": "137",
                  "Importances": 0.19999910341782928,
                  "_deepnote_index_column": 92
                },
                {
                  "Feature Id": "7",
                  "Importances": 0.19638903726791176,
                  "_deepnote_index_column": 93
                },
                {
                  "Feature Id": "1948",
                  "Importances": 0.19576608475942553,
                  "_deepnote_index_column": 94
                },
                {
                  "Feature Id": "1257",
                  "Importances": 0.19524734264814506,
                  "_deepnote_index_column": 95
                },
                {
                  "Feature Id": "120",
                  "Importances": 0.19271593417133842,
                  "_deepnote_index_column": 96
                },
                {
                  "Feature Id": "170",
                  "Importances": 0.19199111047814768,
                  "_deepnote_index_column": 97
                },
                {
                  "Feature Id": "194",
                  "Importances": 0.19027459603808972,
                  "_deepnote_index_column": 98
                },
                {
                  "Feature Id": "1127",
                  "Importances": 0.19017301675960913,
                  "_deepnote_index_column": 99
                },
                {
                  "Feature Id": "1346",
                  "Importances": 0.18885023666656314,
                  "_deepnote_index_column": 100
                },
                {
                  "Feature Id": "1411",
                  "Importances": 0.18879196335102846,
                  "_deepnote_index_column": 101
                },
                {
                  "Feature Id": "778",
                  "Importances": 0.18664999513750366,
                  "_deepnote_index_column": 102
                },
                {
                  "Feature Id": "1113",
                  "Importances": 0.1864294310250587,
                  "_deepnote_index_column": 103
                },
                {
                  "Feature Id": "1065",
                  "Importances": 0.18510314896236765,
                  "_deepnote_index_column": 104
                },
                {
                  "Feature Id": "1266",
                  "Importances": 0.17850089548329257,
                  "_deepnote_index_column": 105
                },
                {
                  "Feature Id": "208",
                  "Importances": 0.17722275555892136,
                  "_deepnote_index_column": 106
                },
                {
                  "Feature Id": "1160",
                  "Importances": 0.17564111727151657,
                  "_deepnote_index_column": 107
                },
                {
                  "Feature Id": "2241",
                  "Importances": 0.1755628261810116,
                  "_deepnote_index_column": 108
                },
                {
                  "Feature Id": "633",
                  "Importances": 0.17477058239727095,
                  "_deepnote_index_column": 109
                },
                {
                  "Feature Id": "70",
                  "Importances": 0.17389213505413526,
                  "_deepnote_index_column": 110
                },
                {
                  "Feature Id": "844",
                  "Importances": 0.17262028591335168,
                  "_deepnote_index_column": 111
                },
                {
                  "Feature Id": "210",
                  "Importances": 0.1725221022045024,
                  "_deepnote_index_column": 112
                },
                {
                  "Feature Id": "440",
                  "Importances": 0.17201218140481206,
                  "_deepnote_index_column": 113
                },
                {
                  "Feature Id": "2209",
                  "Importances": 0.1687572049927795,
                  "_deepnote_index_column": 114
                },
                {
                  "Feature Id": "2741",
                  "Importances": 0.16543174131969632,
                  "_deepnote_index_column": 115
                },
                {
                  "Feature Id": "2024",
                  "Importances": 0.16365611386903856,
                  "_deepnote_index_column": 116
                },
                {
                  "Feature Id": "2347",
                  "Importances": 0.16132813915087954,
                  "_deepnote_index_column": 117
                },
                {
                  "Feature Id": "496",
                  "Importances": 0.16065106206486382,
                  "_deepnote_index_column": 118
                },
                {
                  "Feature Id": "2033",
                  "Importances": 0.15895546264245555,
                  "_deepnote_index_column": 119
                },
                {
                  "Feature Id": "1064",
                  "Importances": 0.15877917937252642,
                  "_deepnote_index_column": 120
                },
                {
                  "Feature Id": "2428",
                  "Importances": 0.15674312361810408,
                  "_deepnote_index_column": 121
                },
                {
                  "Feature Id": "385",
                  "Importances": 0.15490868935526056,
                  "_deepnote_index_column": 122
                },
                {
                  "Feature Id": "1084",
                  "Importances": 0.15457771184640456,
                  "_deepnote_index_column": 123
                },
                {
                  "Feature Id": "1994",
                  "Importances": 0.15440113162228472,
                  "_deepnote_index_column": 124
                },
                {
                  "Feature Id": "981",
                  "Importances": 0.1533744649872041,
                  "_deepnote_index_column": 125
                },
                {
                  "Feature Id": "2384",
                  "Importances": 0.15201161331361576,
                  "_deepnote_index_column": 126
                },
                {
                  "Feature Id": "2724",
                  "Importances": 0.1517222811293123,
                  "_deepnote_index_column": 127
                },
                {
                  "Feature Id": "2029",
                  "Importances": 0.15053107492250523,
                  "_deepnote_index_column": 128
                },
                {
                  "Feature Id": "2392",
                  "Importances": 0.1471523526011158,
                  "_deepnote_index_column": 129
                },
                {
                  "Feature Id": "42",
                  "Importances": 0.146798220936513,
                  "_deepnote_index_column": 130
                },
                {
                  "Feature Id": "1657",
                  "Importances": 0.14667744102061625,
                  "_deepnote_index_column": 131
                },
                {
                  "Feature Id": "1308",
                  "Importances": 0.1451791776569143,
                  "_deepnote_index_column": 132
                },
                {
                  "Feature Id": "2421",
                  "Importances": 0.1437191910017883,
                  "_deepnote_index_column": 133
                },
                {
                  "Feature Id": "800",
                  "Importances": 0.14358869220746767,
                  "_deepnote_index_column": 134
                },
                {
                  "Feature Id": "853",
                  "Importances": 0.14354176256171927,
                  "_deepnote_index_column": 135
                },
                {
                  "Feature Id": "723",
                  "Importances": 0.14326686372205122,
                  "_deepnote_index_column": 136
                },
                {
                  "Feature Id": "48",
                  "Importances": 0.1423377220658438,
                  "_deepnote_index_column": 137
                },
                {
                  "Feature Id": "2352",
                  "Importances": 0.14166541535199062,
                  "_deepnote_index_column": 138
                },
                {
                  "Feature Id": "2415",
                  "Importances": 0.14045469753299508,
                  "_deepnote_index_column": 139
                },
                {
                  "Feature Id": "2032",
                  "Importances": 0.13948901709297815,
                  "_deepnote_index_column": 140
                },
                {
                  "Feature Id": "2382",
                  "Importances": 0.13794741678144526,
                  "_deepnote_index_column": 141
                },
                {
                  "Feature Id": "2374",
                  "Importances": 0.13768236596107605,
                  "_deepnote_index_column": 142
                },
                {
                  "Feature Id": "954",
                  "Importances": 0.13630794475944993,
                  "_deepnote_index_column": 143
                },
                {
                  "Feature Id": "755",
                  "Importances": 0.1362572937590356,
                  "_deepnote_index_column": 144
                },
                {
                  "Feature Id": "1061",
                  "Importances": 0.13561578096743188,
                  "_deepnote_index_column": 145
                },
                {
                  "Feature Id": "75",
                  "Importances": 0.13444849332760628,
                  "_deepnote_index_column": 146
                },
                {
                  "Feature Id": "2760",
                  "Importances": 0.1331939456167399,
                  "_deepnote_index_column": 147
                },
                {
                  "Feature Id": "1736",
                  "Importances": 0.13242301834682613,
                  "_deepnote_index_column": 148
                },
                {
                  "Feature Id": "1998",
                  "Importances": 0.13231132809282778,
                  "_deepnote_index_column": 149
                },
                {
                  "Feature Id": "2763",
                  "Importances": 0.1310985295247219,
                  "_deepnote_index_column": 150
                },
                {
                  "Feature Id": "996",
                  "Importances": 0.12953472396786986,
                  "_deepnote_index_column": 151
                },
                {
                  "Feature Id": "1599",
                  "Importances": 0.1289587469859143,
                  "_deepnote_index_column": 152
                },
                {
                  "Feature Id": "1975",
                  "Importances": 0.12606591219120616,
                  "_deepnote_index_column": 153
                },
                {
                  "Feature Id": "2404",
                  "Importances": 0.12603333568727798,
                  "_deepnote_index_column": 154
                },
                {
                  "Feature Id": "176",
                  "Importances": 0.1244820992562829,
                  "_deepnote_index_column": 155
                },
                {
                  "Feature Id": "2439",
                  "Importances": 0.12442684526846125,
                  "_deepnote_index_column": 156
                },
                {
                  "Feature Id": "2511",
                  "Importances": 0.1238951234449166,
                  "_deepnote_index_column": 157
                },
                {
                  "Feature Id": "1328",
                  "Importances": 0.12300982068753832,
                  "_deepnote_index_column": 158
                },
                {
                  "Feature Id": "1190",
                  "Importances": 0.12145433204705211,
                  "_deepnote_index_column": 159
                },
                {
                  "Feature Id": "2622",
                  "Importances": 0.12142211268307244,
                  "_deepnote_index_column": 160
                },
                {
                  "Feature Id": "2765",
                  "Importances": 0.12117687315611352,
                  "_deepnote_index_column": 161
                },
                {
                  "Feature Id": "2651",
                  "Importances": 0.12088130166047342,
                  "_deepnote_index_column": 162
                },
                {
                  "Feature Id": "1301",
                  "Importances": 0.11755603148809947,
                  "_deepnote_index_column": 163
                },
                {
                  "Feature Id": "1907",
                  "Importances": 0.11661287240143459,
                  "_deepnote_index_column": 164
                },
                {
                  "Feature Id": "2750",
                  "Importances": 0.11508306991699578,
                  "_deepnote_index_column": 165
                },
                {
                  "Feature Id": "586",
                  "Importances": 0.1143505094644065,
                  "_deepnote_index_column": 166
                },
                {
                  "Feature Id": "1522",
                  "Importances": 0.11395971558159358,
                  "_deepnote_index_column": 167
                },
                {
                  "Feature Id": "840",
                  "Importances": 0.11338185160877984,
                  "_deepnote_index_column": 168
                },
                {
                  "Feature Id": "1317",
                  "Importances": 0.11327051081643914,
                  "_deepnote_index_column": 169
                },
                {
                  "Feature Id": "1677",
                  "Importances": 0.11276097018803714,
                  "_deepnote_index_column": 170
                },
                {
                  "Feature Id": "1664",
                  "Importances": 0.11123410822549817,
                  "_deepnote_index_column": 171
                },
                {
                  "Feature Id": "2650",
                  "Importances": 0.11067393533011549,
                  "_deepnote_index_column": 172
                },
                {
                  "Feature Id": "2418",
                  "Importances": 0.11023770936716865,
                  "_deepnote_index_column": 173
                },
                {
                  "Feature Id": "2018",
                  "Importances": 0.10901497833754283,
                  "_deepnote_index_column": 174
                },
                {
                  "Feature Id": "2687",
                  "Importances": 0.10826557552257822,
                  "_deepnote_index_column": 175
                },
                {
                  "Feature Id": "1692",
                  "Importances": 0.10808421966740155,
                  "_deepnote_index_column": 176
                },
                {
                  "Feature Id": "1668",
                  "Importances": 0.10786499717008431,
                  "_deepnote_index_column": 177
                },
                {
                  "Feature Id": "613",
                  "Importances": 0.10742672623695157,
                  "_deepnote_index_column": 178
                },
                {
                  "Feature Id": "1049",
                  "Importances": 0.10682900273489238,
                  "_deepnote_index_column": 179
                },
                {
                  "Feature Id": "964",
                  "Importances": 0.10634555350359283,
                  "_deepnote_index_column": 180
                },
                {
                  "Feature Id": "1281",
                  "Importances": 0.10573051463778721,
                  "_deepnote_index_column": 181
                },
                {
                  "Feature Id": "1616",
                  "Importances": 0.1056841094976427,
                  "_deepnote_index_column": 182
                },
                {
                  "Feature Id": "2287",
                  "Importances": 0.10547633459201473,
                  "_deepnote_index_column": 183
                },
                {
                  "Feature Id": "387",
                  "Importances": 0.10499739890713677,
                  "_deepnote_index_column": 184
                },
                {
                  "Feature Id": "177",
                  "Importances": 0.10497315700581908,
                  "_deepnote_index_column": 185
                },
                {
                  "Feature Id": "1910",
                  "Importances": 0.10445371023935951,
                  "_deepnote_index_column": 186
                },
                {
                  "Feature Id": "1670",
                  "Importances": 0.1041538282015915,
                  "_deepnote_index_column": 187
                },
                {
                  "Feature Id": "804",
                  "Importances": 0.10408662906180473,
                  "_deepnote_index_column": 188
                },
                {
                  "Feature Id": "746",
                  "Importances": 0.10395149106482343,
                  "_deepnote_index_column": 189
                },
                {
                  "Feature Id": "1693",
                  "Importances": 0.10365676452437962,
                  "_deepnote_index_column": 190
                },
                {
                  "Feature Id": "2203",
                  "Importances": 0.10340385230706159,
                  "_deepnote_index_column": 191
                },
                {
                  "Feature Id": "188",
                  "Importances": 0.103389514296184,
                  "_deepnote_index_column": 192
                },
                {
                  "Feature Id": "260",
                  "Importances": 0.10312136968101243,
                  "_deepnote_index_column": 193
                },
                {
                  "Feature Id": "2130",
                  "Importances": 0.1028244224401979,
                  "_deepnote_index_column": 194
                },
                {
                  "Feature Id": "395",
                  "Importances": 0.10108429985127586,
                  "_deepnote_index_column": 195
                },
                {
                  "Feature Id": "616",
                  "Importances": 0.10041839548388765,
                  "_deepnote_index_column": 196
                },
                {
                  "Feature Id": "502",
                  "Importances": 0.09935754706560508,
                  "_deepnote_index_column": 197
                },
                {
                  "Feature Id": "97",
                  "Importances": 0.0992834958671091,
                  "_deepnote_index_column": 198
                },
                {
                  "Feature Id": "1748",
                  "Importances": 0.09817479864271933,
                  "_deepnote_index_column": 199
                },
                {
                  "Feature Id": "500",
                  "Importances": 0.0978102284678178,
                  "_deepnote_index_column": 200
                },
                {
                  "Feature Id": "247",
                  "Importances": 0.09760457401486262,
                  "_deepnote_index_column": 201
                },
                {
                  "Feature Id": "1482",
                  "Importances": 0.09710117051190664,
                  "_deepnote_index_column": 202
                },
                {
                  "Feature Id": "25",
                  "Importances": 0.09624744284206174,
                  "_deepnote_index_column": 203
                },
                {
                  "Feature Id": "857",
                  "Importances": 0.09467818960119234,
                  "_deepnote_index_column": 204
                },
                {
                  "Feature Id": "724",
                  "Importances": 0.09458843808522961,
                  "_deepnote_index_column": 205
                },
                {
                  "Feature Id": "490",
                  "Importances": 0.0944242274029458,
                  "_deepnote_index_column": 206
                },
                {
                  "Feature Id": "2026",
                  "Importances": 0.0942689663594472,
                  "_deepnote_index_column": 207
                },
                {
                  "Feature Id": "1984",
                  "Importances": 0.09404723413198583,
                  "_deepnote_index_column": 208
                },
                {
                  "Feature Id": "2493",
                  "Importances": 0.0923029788518714,
                  "_deepnote_index_column": 209
                },
                {
                  "Feature Id": "2326",
                  "Importances": 0.09150294319162025,
                  "_deepnote_index_column": 210
                },
                {
                  "Feature Id": "2395",
                  "Importances": 0.0899474809288309,
                  "_deepnote_index_column": 211
                },
                {
                  "Feature Id": "1745",
                  "Importances": 0.0893944432004991,
                  "_deepnote_index_column": 212
                },
                {
                  "Feature Id": "1862",
                  "Importances": 0.08939444192491536,
                  "_deepnote_index_column": 213
                },
                {
                  "Feature Id": "1876",
                  "Importances": 0.08906422285887645,
                  "_deepnote_index_column": 214
                },
                {
                  "Feature Id": "1204",
                  "Importances": 0.08892602356259972,
                  "_deepnote_index_column": 215
                },
                {
                  "Feature Id": "1659",
                  "Importances": 0.08808061476623798,
                  "_deepnote_index_column": 216
                },
                {
                  "Feature Id": "1087",
                  "Importances": 0.08763965414522845,
                  "_deepnote_index_column": 217
                },
                {
                  "Feature Id": "2105",
                  "Importances": 0.08630210672872994,
                  "_deepnote_index_column": 218
                },
                {
                  "Feature Id": "1663",
                  "Importances": 0.08566763364463799,
                  "_deepnote_index_column": 219
                },
                {
                  "Feature Id": "2746",
                  "Importances": 0.08503071715842281,
                  "_deepnote_index_column": 220
                },
                {
                  "Feature Id": "2816",
                  "Importances": 0.08356129981894718,
                  "_deepnote_index_column": 221
                },
                {
                  "Feature Id": "1010",
                  "Importances": 0.08311450167242403,
                  "_deepnote_index_column": 222
                },
                {
                  "Feature Id": "2547",
                  "Importances": 0.08256796915255415,
                  "_deepnote_index_column": 223
                },
                {
                  "Feature Id": "2624",
                  "Importances": 0.08228935959485793,
                  "_deepnote_index_column": 224
                },
                {
                  "Feature Id": "1055",
                  "Importances": 0.08102311334968967,
                  "_deepnote_index_column": 225
                },
                {
                  "Feature Id": "268",
                  "Importances": 0.08022725828444068,
                  "_deepnote_index_column": 226
                },
                {
                  "Feature Id": "2278",
                  "Importances": 0.07950816059440012,
                  "_deepnote_index_column": 227
                },
                {
                  "Feature Id": "625",
                  "Importances": 0.07801790724384627,
                  "_deepnote_index_column": 228
                },
                {
                  "Feature Id": "1303",
                  "Importances": 0.07680457254617105,
                  "_deepnote_index_column": 229
                },
                {
                  "Feature Id": "718",
                  "Importances": 0.0758266995128291,
                  "_deepnote_index_column": 230
                },
                {
                  "Feature Id": "1200",
                  "Importances": 0.07528631725970156,
                  "_deepnote_index_column": 231
                },
                {
                  "Feature Id": "71",
                  "Importances": 0.07527622859218154,
                  "_deepnote_index_column": 232
                },
                {
                  "Feature Id": "2294",
                  "Importances": 0.07426506847093224,
                  "_deepnote_index_column": 233
                },
                {
                  "Feature Id": "68",
                  "Importances": 0.07390926148637707,
                  "_deepnote_index_column": 234
                },
                {
                  "Feature Id": "20",
                  "Importances": 0.07224360233144357,
                  "_deepnote_index_column": 235
                },
                {
                  "Feature Id": "694",
                  "Importances": 0.07183352905150986,
                  "_deepnote_index_column": 236
                },
                {
                  "Feature Id": "2494",
                  "Importances": 0.07158638045351623,
                  "_deepnote_index_column": 237
                },
                {
                  "Feature Id": "896",
                  "Importances": 0.07046173231135464,
                  "_deepnote_index_column": 238
                },
                {
                  "Feature Id": "2198",
                  "Importances": 0.07011038407856791,
                  "_deepnote_index_column": 239
                },
                {
                  "Feature Id": "415",
                  "Importances": 0.06937952506197294,
                  "_deepnote_index_column": 240
                },
                {
                  "Feature Id": "159",
                  "Importances": 0.06906444045743446,
                  "_deepnote_index_column": 241
                },
                {
                  "Feature Id": "1642",
                  "Importances": 0.06873340980448839,
                  "_deepnote_index_column": 242
                },
                {
                  "Feature Id": "990",
                  "Importances": 0.06830580152808217,
                  "_deepnote_index_column": 243
                },
                {
                  "Feature Id": "168",
                  "Importances": 0.06824046054014558,
                  "_deepnote_index_column": 244
                },
                {
                  "Feature Id": "630",
                  "Importances": 0.0680509487852437,
                  "_deepnote_index_column": 245
                },
                {
                  "Feature Id": "40",
                  "Importances": 0.06695328769484339,
                  "_deepnote_index_column": 246
                },
                {
                  "Feature Id": "2293",
                  "Importances": 0.0668134397261633,
                  "_deepnote_index_column": 247
                },
                {
                  "Feature Id": "2175",
                  "Importances": 0.06580601247425828,
                  "_deepnote_index_column": 248
                },
                {
                  "Feature Id": "2073",
                  "Importances": 0.06555857001242797,
                  "_deepnote_index_column": 249
                }
              ],
              "rows_bottom": [
                {
                  "Feature Id": "2462",
                  "Importances": 0,
                  "_deepnote_index_column": 2584
                },
                {
                  "Feature Id": "2463",
                  "Importances": 0,
                  "_deepnote_index_column": 2585
                },
                {
                  "Feature Id": "2465",
                  "Importances": 0,
                  "_deepnote_index_column": 2586
                },
                {
                  "Feature Id": "2466",
                  "Importances": 0,
                  "_deepnote_index_column": 2587
                },
                {
                  "Feature Id": "2467",
                  "Importances": 0,
                  "_deepnote_index_column": 2588
                },
                {
                  "Feature Id": "2468",
                  "Importances": 0,
                  "_deepnote_index_column": 2589
                },
                {
                  "Feature Id": "2469",
                  "Importances": 0,
                  "_deepnote_index_column": 2590
                },
                {
                  "Feature Id": "2470",
                  "Importances": 0,
                  "_deepnote_index_column": 2591
                },
                {
                  "Feature Id": "2471",
                  "Importances": 0,
                  "_deepnote_index_column": 2592
                },
                {
                  "Feature Id": "2473",
                  "Importances": 0,
                  "_deepnote_index_column": 2593
                },
                {
                  "Feature Id": "2474",
                  "Importances": 0,
                  "_deepnote_index_column": 2594
                },
                {
                  "Feature Id": "2475",
                  "Importances": 0,
                  "_deepnote_index_column": 2595
                },
                {
                  "Feature Id": "2476",
                  "Importances": 0,
                  "_deepnote_index_column": 2596
                },
                {
                  "Feature Id": "2477",
                  "Importances": 0,
                  "_deepnote_index_column": 2597
                },
                {
                  "Feature Id": "2478",
                  "Importances": 0,
                  "_deepnote_index_column": 2598
                },
                {
                  "Feature Id": "2479",
                  "Importances": 0,
                  "_deepnote_index_column": 2599
                },
                {
                  "Feature Id": "2480",
                  "Importances": 0,
                  "_deepnote_index_column": 2600
                },
                {
                  "Feature Id": "2482",
                  "Importances": 0,
                  "_deepnote_index_column": 2601
                },
                {
                  "Feature Id": "2484",
                  "Importances": 0,
                  "_deepnote_index_column": 2602
                },
                {
                  "Feature Id": "2485",
                  "Importances": 0,
                  "_deepnote_index_column": 2603
                },
                {
                  "Feature Id": "2487",
                  "Importances": 0,
                  "_deepnote_index_column": 2604
                },
                {
                  "Feature Id": "2488",
                  "Importances": 0,
                  "_deepnote_index_column": 2605
                },
                {
                  "Feature Id": "2489",
                  "Importances": 0,
                  "_deepnote_index_column": 2606
                },
                {
                  "Feature Id": "2490",
                  "Importances": 0,
                  "_deepnote_index_column": 2607
                },
                {
                  "Feature Id": "2491",
                  "Importances": 0,
                  "_deepnote_index_column": 2608
                },
                {
                  "Feature Id": "2495",
                  "Importances": 0,
                  "_deepnote_index_column": 2609
                },
                {
                  "Feature Id": "2496",
                  "Importances": 0,
                  "_deepnote_index_column": 2610
                },
                {
                  "Feature Id": "2497",
                  "Importances": 0,
                  "_deepnote_index_column": 2611
                },
                {
                  "Feature Id": "2498",
                  "Importances": 0,
                  "_deepnote_index_column": 2612
                },
                {
                  "Feature Id": "2499",
                  "Importances": 0,
                  "_deepnote_index_column": 2613
                },
                {
                  "Feature Id": "2500",
                  "Importances": 0,
                  "_deepnote_index_column": 2614
                },
                {
                  "Feature Id": "2503",
                  "Importances": 0,
                  "_deepnote_index_column": 2615
                },
                {
                  "Feature Id": "2504",
                  "Importances": 0,
                  "_deepnote_index_column": 2616
                },
                {
                  "Feature Id": "2505",
                  "Importances": 0,
                  "_deepnote_index_column": 2617
                },
                {
                  "Feature Id": "2506",
                  "Importances": 0,
                  "_deepnote_index_column": 2618
                },
                {
                  "Feature Id": "2507",
                  "Importances": 0,
                  "_deepnote_index_column": 2619
                },
                {
                  "Feature Id": "2508",
                  "Importances": 0,
                  "_deepnote_index_column": 2620
                },
                {
                  "Feature Id": "2510",
                  "Importances": 0,
                  "_deepnote_index_column": 2621
                },
                {
                  "Feature Id": "2512",
                  "Importances": 0,
                  "_deepnote_index_column": 2622
                },
                {
                  "Feature Id": "2513",
                  "Importances": 0,
                  "_deepnote_index_column": 2623
                },
                {
                  "Feature Id": "2514",
                  "Importances": 0,
                  "_deepnote_index_column": 2624
                },
                {
                  "Feature Id": "2515",
                  "Importances": 0,
                  "_deepnote_index_column": 2625
                },
                {
                  "Feature Id": "2516",
                  "Importances": 0,
                  "_deepnote_index_column": 2626
                },
                {
                  "Feature Id": "2517",
                  "Importances": 0,
                  "_deepnote_index_column": 2627
                },
                {
                  "Feature Id": "2519",
                  "Importances": 0,
                  "_deepnote_index_column": 2628
                },
                {
                  "Feature Id": "2520",
                  "Importances": 0,
                  "_deepnote_index_column": 2629
                },
                {
                  "Feature Id": "2521",
                  "Importances": 0,
                  "_deepnote_index_column": 2630
                },
                {
                  "Feature Id": "2522",
                  "Importances": 0,
                  "_deepnote_index_column": 2631
                },
                {
                  "Feature Id": "2523",
                  "Importances": 0,
                  "_deepnote_index_column": 2632
                },
                {
                  "Feature Id": "2524",
                  "Importances": 0,
                  "_deepnote_index_column": 2633
                },
                {
                  "Feature Id": "2525",
                  "Importances": 0,
                  "_deepnote_index_column": 2634
                },
                {
                  "Feature Id": "2526",
                  "Importances": 0,
                  "_deepnote_index_column": 2635
                },
                {
                  "Feature Id": "2527",
                  "Importances": 0,
                  "_deepnote_index_column": 2636
                },
                {
                  "Feature Id": "2528",
                  "Importances": 0,
                  "_deepnote_index_column": 2637
                },
                {
                  "Feature Id": "2529",
                  "Importances": 0,
                  "_deepnote_index_column": 2638
                },
                {
                  "Feature Id": "2530",
                  "Importances": 0,
                  "_deepnote_index_column": 2639
                },
                {
                  "Feature Id": "2531",
                  "Importances": 0,
                  "_deepnote_index_column": 2640
                },
                {
                  "Feature Id": "2532",
                  "Importances": 0,
                  "_deepnote_index_column": 2641
                },
                {
                  "Feature Id": "2533",
                  "Importances": 0,
                  "_deepnote_index_column": 2642
                },
                {
                  "Feature Id": "2534",
                  "Importances": 0,
                  "_deepnote_index_column": 2643
                },
                {
                  "Feature Id": "2535",
                  "Importances": 0,
                  "_deepnote_index_column": 2644
                },
                {
                  "Feature Id": "2536",
                  "Importances": 0,
                  "_deepnote_index_column": 2645
                },
                {
                  "Feature Id": "2538",
                  "Importances": 0,
                  "_deepnote_index_column": 2646
                },
                {
                  "Feature Id": "2539",
                  "Importances": 0,
                  "_deepnote_index_column": 2647
                },
                {
                  "Feature Id": "2540",
                  "Importances": 0,
                  "_deepnote_index_column": 2648
                },
                {
                  "Feature Id": "2541",
                  "Importances": 0,
                  "_deepnote_index_column": 2649
                },
                {
                  "Feature Id": "2545",
                  "Importances": 0,
                  "_deepnote_index_column": 2650
                },
                {
                  "Feature Id": "2548",
                  "Importances": 0,
                  "_deepnote_index_column": 2651
                },
                {
                  "Feature Id": "2550",
                  "Importances": 0,
                  "_deepnote_index_column": 2652
                },
                {
                  "Feature Id": "2551",
                  "Importances": 0,
                  "_deepnote_index_column": 2653
                },
                {
                  "Feature Id": "2552",
                  "Importances": 0,
                  "_deepnote_index_column": 2654
                },
                {
                  "Feature Id": "2553",
                  "Importances": 0,
                  "_deepnote_index_column": 2655
                },
                {
                  "Feature Id": "2554",
                  "Importances": 0,
                  "_deepnote_index_column": 2656
                },
                {
                  "Feature Id": "2555",
                  "Importances": 0,
                  "_deepnote_index_column": 2657
                },
                {
                  "Feature Id": "2556",
                  "Importances": 0,
                  "_deepnote_index_column": 2658
                },
                {
                  "Feature Id": "2557",
                  "Importances": 0,
                  "_deepnote_index_column": 2659
                },
                {
                  "Feature Id": "2559",
                  "Importances": 0,
                  "_deepnote_index_column": 2660
                },
                {
                  "Feature Id": "2560",
                  "Importances": 0,
                  "_deepnote_index_column": 2661
                },
                {
                  "Feature Id": "2561",
                  "Importances": 0,
                  "_deepnote_index_column": 2662
                },
                {
                  "Feature Id": "2562",
                  "Importances": 0,
                  "_deepnote_index_column": 2663
                },
                {
                  "Feature Id": "2563",
                  "Importances": 0,
                  "_deepnote_index_column": 2664
                },
                {
                  "Feature Id": "2564",
                  "Importances": 0,
                  "_deepnote_index_column": 2665
                },
                {
                  "Feature Id": "2567",
                  "Importances": 0,
                  "_deepnote_index_column": 2666
                },
                {
                  "Feature Id": "2568",
                  "Importances": 0,
                  "_deepnote_index_column": 2667
                },
                {
                  "Feature Id": "2570",
                  "Importances": 0,
                  "_deepnote_index_column": 2668
                },
                {
                  "Feature Id": "2571",
                  "Importances": 0,
                  "_deepnote_index_column": 2669
                },
                {
                  "Feature Id": "2572",
                  "Importances": 0,
                  "_deepnote_index_column": 2670
                },
                {
                  "Feature Id": "2573",
                  "Importances": 0,
                  "_deepnote_index_column": 2671
                },
                {
                  "Feature Id": "2574",
                  "Importances": 0,
                  "_deepnote_index_column": 2672
                },
                {
                  "Feature Id": "2575",
                  "Importances": 0,
                  "_deepnote_index_column": 2673
                },
                {
                  "Feature Id": "2576",
                  "Importances": 0,
                  "_deepnote_index_column": 2674
                },
                {
                  "Feature Id": "2577",
                  "Importances": 0,
                  "_deepnote_index_column": 2675
                },
                {
                  "Feature Id": "2579",
                  "Importances": 0,
                  "_deepnote_index_column": 2676
                },
                {
                  "Feature Id": "2580",
                  "Importances": 0,
                  "_deepnote_index_column": 2677
                },
                {
                  "Feature Id": "2583",
                  "Importances": 0,
                  "_deepnote_index_column": 2678
                },
                {
                  "Feature Id": "2584",
                  "Importances": 0,
                  "_deepnote_index_column": 2679
                },
                {
                  "Feature Id": "2585",
                  "Importances": 0,
                  "_deepnote_index_column": 2680
                },
                {
                  "Feature Id": "2586",
                  "Importances": 0,
                  "_deepnote_index_column": 2681
                },
                {
                  "Feature Id": "2587",
                  "Importances": 0,
                  "_deepnote_index_column": 2682
                },
                {
                  "Feature Id": "2589",
                  "Importances": 0,
                  "_deepnote_index_column": 2683
                },
                {
                  "Feature Id": "2592",
                  "Importances": 0,
                  "_deepnote_index_column": 2684
                },
                {
                  "Feature Id": "2593",
                  "Importances": 0,
                  "_deepnote_index_column": 2685
                },
                {
                  "Feature Id": "2594",
                  "Importances": 0,
                  "_deepnote_index_column": 2686
                },
                {
                  "Feature Id": "2595",
                  "Importances": 0,
                  "_deepnote_index_column": 2687
                },
                {
                  "Feature Id": "2596",
                  "Importances": 0,
                  "_deepnote_index_column": 2688
                },
                {
                  "Feature Id": "2598",
                  "Importances": 0,
                  "_deepnote_index_column": 2689
                },
                {
                  "Feature Id": "2599",
                  "Importances": 0,
                  "_deepnote_index_column": 2690
                },
                {
                  "Feature Id": "2601",
                  "Importances": 0,
                  "_deepnote_index_column": 2691
                },
                {
                  "Feature Id": "2602",
                  "Importances": 0,
                  "_deepnote_index_column": 2692
                },
                {
                  "Feature Id": "2603",
                  "Importances": 0,
                  "_deepnote_index_column": 2693
                },
                {
                  "Feature Id": "2604",
                  "Importances": 0,
                  "_deepnote_index_column": 2694
                },
                {
                  "Feature Id": "2606",
                  "Importances": 0,
                  "_deepnote_index_column": 2695
                },
                {
                  "Feature Id": "2607",
                  "Importances": 0,
                  "_deepnote_index_column": 2696
                },
                {
                  "Feature Id": "2609",
                  "Importances": 0,
                  "_deepnote_index_column": 2697
                },
                {
                  "Feature Id": "2610",
                  "Importances": 0,
                  "_deepnote_index_column": 2698
                },
                {
                  "Feature Id": "2611",
                  "Importances": 0,
                  "_deepnote_index_column": 2699
                },
                {
                  "Feature Id": "2612",
                  "Importances": 0,
                  "_deepnote_index_column": 2700
                },
                {
                  "Feature Id": "2614",
                  "Importances": 0,
                  "_deepnote_index_column": 2701
                },
                {
                  "Feature Id": "2615",
                  "Importances": 0,
                  "_deepnote_index_column": 2702
                },
                {
                  "Feature Id": "2617",
                  "Importances": 0,
                  "_deepnote_index_column": 2703
                },
                {
                  "Feature Id": "2618",
                  "Importances": 0,
                  "_deepnote_index_column": 2704
                },
                {
                  "Feature Id": "2619",
                  "Importances": 0,
                  "_deepnote_index_column": 2705
                },
                {
                  "Feature Id": "2623",
                  "Importances": 0,
                  "_deepnote_index_column": 2706
                },
                {
                  "Feature Id": "2627",
                  "Importances": 0,
                  "_deepnote_index_column": 2707
                },
                {
                  "Feature Id": "2628",
                  "Importances": 0,
                  "_deepnote_index_column": 2708
                },
                {
                  "Feature Id": "2634",
                  "Importances": 0,
                  "_deepnote_index_column": 2709
                },
                {
                  "Feature Id": "2635",
                  "Importances": 0,
                  "_deepnote_index_column": 2710
                },
                {
                  "Feature Id": "2636",
                  "Importances": 0,
                  "_deepnote_index_column": 2711
                },
                {
                  "Feature Id": "2637",
                  "Importances": 0,
                  "_deepnote_index_column": 2712
                },
                {
                  "Feature Id": "2638",
                  "Importances": 0,
                  "_deepnote_index_column": 2713
                },
                {
                  "Feature Id": "2639",
                  "Importances": 0,
                  "_deepnote_index_column": 2714
                },
                {
                  "Feature Id": "2641",
                  "Importances": 0,
                  "_deepnote_index_column": 2715
                },
                {
                  "Feature Id": "2642",
                  "Importances": 0,
                  "_deepnote_index_column": 2716
                },
                {
                  "Feature Id": "2643",
                  "Importances": 0,
                  "_deepnote_index_column": 2717
                },
                {
                  "Feature Id": "2646",
                  "Importances": 0,
                  "_deepnote_index_column": 2718
                },
                {
                  "Feature Id": "2648",
                  "Importances": 0,
                  "_deepnote_index_column": 2719
                },
                {
                  "Feature Id": "2649",
                  "Importances": 0,
                  "_deepnote_index_column": 2720
                },
                {
                  "Feature Id": "2652",
                  "Importances": 0,
                  "_deepnote_index_column": 2721
                },
                {
                  "Feature Id": "2654",
                  "Importances": 0,
                  "_deepnote_index_column": 2722
                },
                {
                  "Feature Id": "2656",
                  "Importances": 0,
                  "_deepnote_index_column": 2723
                },
                {
                  "Feature Id": "2657",
                  "Importances": 0,
                  "_deepnote_index_column": 2724
                },
                {
                  "Feature Id": "2658",
                  "Importances": 0,
                  "_deepnote_index_column": 2725
                },
                {
                  "Feature Id": "2659",
                  "Importances": 0,
                  "_deepnote_index_column": 2726
                },
                {
                  "Feature Id": "2660",
                  "Importances": 0,
                  "_deepnote_index_column": 2727
                },
                {
                  "Feature Id": "2661",
                  "Importances": 0,
                  "_deepnote_index_column": 2728
                },
                {
                  "Feature Id": "2663",
                  "Importances": 0,
                  "_deepnote_index_column": 2729
                },
                {
                  "Feature Id": "2664",
                  "Importances": 0,
                  "_deepnote_index_column": 2730
                },
                {
                  "Feature Id": "2665",
                  "Importances": 0,
                  "_deepnote_index_column": 2731
                },
                {
                  "Feature Id": "2666",
                  "Importances": 0,
                  "_deepnote_index_column": 2732
                },
                {
                  "Feature Id": "2667",
                  "Importances": 0,
                  "_deepnote_index_column": 2733
                },
                {
                  "Feature Id": "2669",
                  "Importances": 0,
                  "_deepnote_index_column": 2734
                },
                {
                  "Feature Id": "2670",
                  "Importances": 0,
                  "_deepnote_index_column": 2735
                },
                {
                  "Feature Id": "2671",
                  "Importances": 0,
                  "_deepnote_index_column": 2736
                },
                {
                  "Feature Id": "2672",
                  "Importances": 0,
                  "_deepnote_index_column": 2737
                },
                {
                  "Feature Id": "2673",
                  "Importances": 0,
                  "_deepnote_index_column": 2738
                },
                {
                  "Feature Id": "2674",
                  "Importances": 0,
                  "_deepnote_index_column": 2739
                },
                {
                  "Feature Id": "2675",
                  "Importances": 0,
                  "_deepnote_index_column": 2740
                },
                {
                  "Feature Id": "2676",
                  "Importances": 0,
                  "_deepnote_index_column": 2741
                },
                {
                  "Feature Id": "2677",
                  "Importances": 0,
                  "_deepnote_index_column": 2742
                },
                {
                  "Feature Id": "2678",
                  "Importances": 0,
                  "_deepnote_index_column": 2743
                },
                {
                  "Feature Id": "2679",
                  "Importances": 0,
                  "_deepnote_index_column": 2744
                },
                {
                  "Feature Id": "2680",
                  "Importances": 0,
                  "_deepnote_index_column": 2745
                },
                {
                  "Feature Id": "2681",
                  "Importances": 0,
                  "_deepnote_index_column": 2746
                },
                {
                  "Feature Id": "2683",
                  "Importances": 0,
                  "_deepnote_index_column": 2747
                },
                {
                  "Feature Id": "2684",
                  "Importances": 0,
                  "_deepnote_index_column": 2748
                },
                {
                  "Feature Id": "2685",
                  "Importances": 0,
                  "_deepnote_index_column": 2749
                },
                {
                  "Feature Id": "2686",
                  "Importances": 0,
                  "_deepnote_index_column": 2750
                },
                {
                  "Feature Id": "2688",
                  "Importances": 0,
                  "_deepnote_index_column": 2751
                },
                {
                  "Feature Id": "2689",
                  "Importances": 0,
                  "_deepnote_index_column": 2752
                },
                {
                  "Feature Id": "2690",
                  "Importances": 0,
                  "_deepnote_index_column": 2753
                },
                {
                  "Feature Id": "2691",
                  "Importances": 0,
                  "_deepnote_index_column": 2754
                },
                {
                  "Feature Id": "2692",
                  "Importances": 0,
                  "_deepnote_index_column": 2755
                },
                {
                  "Feature Id": "2693",
                  "Importances": 0,
                  "_deepnote_index_column": 2756
                },
                {
                  "Feature Id": "2694",
                  "Importances": 0,
                  "_deepnote_index_column": 2757
                },
                {
                  "Feature Id": "2695",
                  "Importances": 0,
                  "_deepnote_index_column": 2758
                },
                {
                  "Feature Id": "2696",
                  "Importances": 0,
                  "_deepnote_index_column": 2759
                },
                {
                  "Feature Id": "2697",
                  "Importances": 0,
                  "_deepnote_index_column": 2760
                },
                {
                  "Feature Id": "2698",
                  "Importances": 0,
                  "_deepnote_index_column": 2761
                },
                {
                  "Feature Id": "2699",
                  "Importances": 0,
                  "_deepnote_index_column": 2762
                },
                {
                  "Feature Id": "2701",
                  "Importances": 0,
                  "_deepnote_index_column": 2763
                },
                {
                  "Feature Id": "2702",
                  "Importances": 0,
                  "_deepnote_index_column": 2764
                },
                {
                  "Feature Id": "2703",
                  "Importances": 0,
                  "_deepnote_index_column": 2765
                },
                {
                  "Feature Id": "2704",
                  "Importances": 0,
                  "_deepnote_index_column": 2766
                },
                {
                  "Feature Id": "2705",
                  "Importances": 0,
                  "_deepnote_index_column": 2767
                },
                {
                  "Feature Id": "2706",
                  "Importances": 0,
                  "_deepnote_index_column": 2768
                },
                {
                  "Feature Id": "2707",
                  "Importances": 0,
                  "_deepnote_index_column": 2769
                },
                {
                  "Feature Id": "2708",
                  "Importances": 0,
                  "_deepnote_index_column": 2770
                },
                {
                  "Feature Id": "2710",
                  "Importances": 0,
                  "_deepnote_index_column": 2771
                },
                {
                  "Feature Id": "2711",
                  "Importances": 0,
                  "_deepnote_index_column": 2772
                },
                {
                  "Feature Id": "2712",
                  "Importances": 0,
                  "_deepnote_index_column": 2773
                },
                {
                  "Feature Id": "2713",
                  "Importances": 0,
                  "_deepnote_index_column": 2774
                },
                {
                  "Feature Id": "2714",
                  "Importances": 0,
                  "_deepnote_index_column": 2775
                },
                {
                  "Feature Id": "2715",
                  "Importances": 0,
                  "_deepnote_index_column": 2776
                },
                {
                  "Feature Id": "2716",
                  "Importances": 0,
                  "_deepnote_index_column": 2777
                },
                {
                  "Feature Id": "2718",
                  "Importances": 0,
                  "_deepnote_index_column": 2778
                },
                {
                  "Feature Id": "2723",
                  "Importances": 0,
                  "_deepnote_index_column": 2779
                },
                {
                  "Feature Id": "2727",
                  "Importances": 0,
                  "_deepnote_index_column": 2780
                },
                {
                  "Feature Id": "2733",
                  "Importances": 0,
                  "_deepnote_index_column": 2781
                },
                {
                  "Feature Id": "2736",
                  "Importances": 0,
                  "_deepnote_index_column": 2782
                },
                {
                  "Feature Id": "2737",
                  "Importances": 0,
                  "_deepnote_index_column": 2783
                },
                {
                  "Feature Id": "2739",
                  "Importances": 0,
                  "_deepnote_index_column": 2784
                },
                {
                  "Feature Id": "2743",
                  "Importances": 0,
                  "_deepnote_index_column": 2785
                },
                {
                  "Feature Id": "2744",
                  "Importances": 0,
                  "_deepnote_index_column": 2786
                },
                {
                  "Feature Id": "2745",
                  "Importances": 0,
                  "_deepnote_index_column": 2787
                },
                {
                  "Feature Id": "2747",
                  "Importances": 0,
                  "_deepnote_index_column": 2788
                },
                {
                  "Feature Id": "2753",
                  "Importances": 0,
                  "_deepnote_index_column": 2789
                },
                {
                  "Feature Id": "2754",
                  "Importances": 0,
                  "_deepnote_index_column": 2790
                },
                {
                  "Feature Id": "2757",
                  "Importances": 0,
                  "_deepnote_index_column": 2791
                },
                {
                  "Feature Id": "2758",
                  "Importances": 0,
                  "_deepnote_index_column": 2792
                },
                {
                  "Feature Id": "2759",
                  "Importances": 0,
                  "_deepnote_index_column": 2793
                },
                {
                  "Feature Id": "2761",
                  "Importances": 0,
                  "_deepnote_index_column": 2794
                },
                {
                  "Feature Id": "2772",
                  "Importances": 0,
                  "_deepnote_index_column": 2795
                },
                {
                  "Feature Id": "2774",
                  "Importances": 0,
                  "_deepnote_index_column": 2796
                },
                {
                  "Feature Id": "2776",
                  "Importances": 0,
                  "_deepnote_index_column": 2797
                },
                {
                  "Feature Id": "2777",
                  "Importances": 0,
                  "_deepnote_index_column": 2798
                },
                {
                  "Feature Id": "2778",
                  "Importances": 0,
                  "_deepnote_index_column": 2799
                },
                {
                  "Feature Id": "2779",
                  "Importances": 0,
                  "_deepnote_index_column": 2800
                },
                {
                  "Feature Id": "2780",
                  "Importances": 0,
                  "_deepnote_index_column": 2801
                },
                {
                  "Feature Id": "2781",
                  "Importances": 0,
                  "_deepnote_index_column": 2802
                },
                {
                  "Feature Id": "2783",
                  "Importances": 0,
                  "_deepnote_index_column": 2803
                },
                {
                  "Feature Id": "2784",
                  "Importances": 0,
                  "_deepnote_index_column": 2804
                },
                {
                  "Feature Id": "2785",
                  "Importances": 0,
                  "_deepnote_index_column": 2805
                },
                {
                  "Feature Id": "2786",
                  "Importances": 0,
                  "_deepnote_index_column": 2806
                },
                {
                  "Feature Id": "2787",
                  "Importances": 0,
                  "_deepnote_index_column": 2807
                },
                {
                  "Feature Id": "2788",
                  "Importances": 0,
                  "_deepnote_index_column": 2808
                },
                {
                  "Feature Id": "2789",
                  "Importances": 0,
                  "_deepnote_index_column": 2809
                },
                {
                  "Feature Id": "2791",
                  "Importances": 0,
                  "_deepnote_index_column": 2810
                },
                {
                  "Feature Id": "2792",
                  "Importances": 0,
                  "_deepnote_index_column": 2811
                },
                {
                  "Feature Id": "2793",
                  "Importances": 0,
                  "_deepnote_index_column": 2812
                },
                {
                  "Feature Id": "2795",
                  "Importances": 0,
                  "_deepnote_index_column": 2813
                },
                {
                  "Feature Id": "2798",
                  "Importances": 0,
                  "_deepnote_index_column": 2814
                },
                {
                  "Feature Id": "2799",
                  "Importances": 0,
                  "_deepnote_index_column": 2815
                },
                {
                  "Feature Id": "2801",
                  "Importances": 0,
                  "_deepnote_index_column": 2816
                },
                {
                  "Feature Id": "2805",
                  "Importances": 0,
                  "_deepnote_index_column": 2817
                },
                {
                  "Feature Id": "2807",
                  "Importances": 0,
                  "_deepnote_index_column": 2818
                },
                {
                  "Feature Id": "2808",
                  "Importances": 0,
                  "_deepnote_index_column": 2819
                },
                {
                  "Feature Id": "2809",
                  "Importances": 0,
                  "_deepnote_index_column": 2820
                },
                {
                  "Feature Id": "2810",
                  "Importances": 0,
                  "_deepnote_index_column": 2821
                },
                {
                  "Feature Id": "2811",
                  "Importances": 0,
                  "_deepnote_index_column": 2822
                },
                {
                  "Feature Id": "2818",
                  "Importances": 0,
                  "_deepnote_index_column": 2823
                },
                {
                  "Feature Id": "2820",
                  "Importances": 0,
                  "_deepnote_index_column": 2824
                },
                {
                  "Feature Id": "2821",
                  "Importances": 0,
                  "_deepnote_index_column": 2825
                },
                {
                  "Feature Id": "2823",
                  "Importances": 0,
                  "_deepnote_index_column": 2826
                },
                {
                  "Feature Id": "2824",
                  "Importances": 0,
                  "_deepnote_index_column": 2827
                },
                {
                  "Feature Id": "2825",
                  "Importances": 0,
                  "_deepnote_index_column": 2828
                },
                {
                  "Feature Id": "2826",
                  "Importances": 0,
                  "_deepnote_index_column": 2829
                },
                {
                  "Feature Id": "2827",
                  "Importances": 0,
                  "_deepnote_index_column": 2830
                },
                {
                  "Feature Id": "2828",
                  "Importances": 0,
                  "_deepnote_index_column": 2831
                },
                {
                  "Feature Id": "2830",
                  "Importances": 0,
                  "_deepnote_index_column": 2832
                },
                {
                  "Feature Id": "2831",
                  "Importances": 0,
                  "_deepnote_index_column": 2833
                }
              ]
            },
            "text/plain": "     Feature Id  Importances\n0          2184    28.928688\n1           672     1.648304\n2          1687     1.583237\n3           833     1.455189\n4          1656     1.437726\n...         ...          ...\n2829       2826     0.000000\n2830       2827     0.000000\n2831       2828     0.000000\n2832       2830     0.000000\n2833       2831     0.000000\n\n[2834 rows x 2 columns]",
            "text/html": "<div>\n<style scoped>\n    .dataframe tbody tr th:only-of-type {\n        vertical-align: middle;\n    }\n\n    .dataframe tbody tr th {\n        vertical-align: top;\n    }\n\n    .dataframe thead th {\n        text-align: right;\n    }\n</style>\n<table border=\"1\" class=\"dataframe\">\n  <thead>\n    <tr style=\"text-align: right;\">\n      <th></th>\n      <th>Feature Id</th>\n      <th>Importances</th>\n    </tr>\n  </thead>\n  <tbody>\n    <tr>\n      <th>0</th>\n      <td>2184</td>\n      <td>28.928688</td>\n    </tr>\n    <tr>\n      <th>1</th>\n      <td>672</td>\n      <td>1.648304</td>\n    </tr>\n    <tr>\n      <th>2</th>\n      <td>1687</td>\n      <td>1.583237</td>\n    </tr>\n    <tr>\n      <th>3</th>\n      <td>833</td>\n      <td>1.455189</td>\n    </tr>\n    <tr>\n      <th>4</th>\n      <td>1656</td>\n      <td>1.437726</td>\n    </tr>\n    <tr>\n      <th>...</th>\n      <td>...</td>\n      <td>...</td>\n    </tr>\n    <tr>\n      <th>2829</th>\n      <td>2826</td>\n      <td>0.000000</td>\n    </tr>\n    <tr>\n      <th>2830</th>\n      <td>2827</td>\n      <td>0.000000</td>\n    </tr>\n    <tr>\n      <th>2831</th>\n      <td>2828</td>\n      <td>0.000000</td>\n    </tr>\n    <tr>\n      <th>2832</th>\n      <td>2830</td>\n      <td>0.000000</td>\n    </tr>\n    <tr>\n      <th>2833</th>\n      <td>2831</td>\n      <td>0.000000</td>\n    </tr>\n  </tbody>\n</table>\n<p>2834 rows × 2 columns</p>\n</div>"
          },
          "metadata": {}
        }
      ]
    },
    {
      "cell_type": "code",
      "source": "FCBC = cb.CatBoostClassifier(**CBC_grid.params)\nFCBC.fit(train_set)",
      "metadata": {
        "tags": [],
        "cell_id": "00015-586065dc-0c85-4fa4-b4d1-eba74027f0d5",
        "deepnote_cell_type": "code"
      },
      "outputs": [],
      "execution_count": null
    },
    {
      "cell_type": "code",
      "metadata": {
        "tags": [],
        "cell_id": "00018-a2d70c85-db38-4cd9-9314-bc3ccb0bec22",
        "deepnote_to_be_reexecuted": true,
        "source_hash": "56523c20",
        "execution_millis": 0,
        "deepnote_cell_type": "code"
      },
      "source": "final_y_preds = FCBC.predict(eval_set)\nfinal_y_preds = np.reshape(y_preds, y_val.values.shape)",
      "execution_count": null,
      "outputs": []
    },
    {
      "cell_type": "code",
      "metadata": {
        "tags": [],
        "cell_id": "00020-d1ac2e68-2cae-4abf-8042-5f7f6ad733be",
        "deepnote_to_be_reexecuted": true,
        "source_hash": "c2a9f539",
        "execution_millis": 23,
        "deepnote_cell_type": "code"
      },
      "source": "f\"{round(100 - len(*np.nonzero(y_preds - y_val.values)) / len(y_preds) * 100)}% Accuracy\"",
      "execution_count": null,
      "outputs": [
        {
          "output_type": "execute_result",
          "execution_count": 64,
          "data": {
            "text/plain": "'79% Accuracy'"
          },
          "metadata": {}
        }
      ]
    },
    {
      "cell_type": "code",
      "metadata": {
        "tags": [],
        "cell_id": "00018-f7c9a053-6784-47a2-811b-7c5a4d4aebc8",
        "deepnote_to_be_reexecuted": true,
        "source_hash": "544a0556",
        "deepnote_cell_type": "code"
      },
      "source": "# my_best_model.save_model('catboost_model.bin')",
      "execution_count": null,
      "outputs": []
    },
    {
      "cell_type": "markdown",
      "source": "### Default CatBoost Test",
      "metadata": {
        "tags": [],
        "cell_id": "00021-44552d57-c330-467d-ad0f-716a87a94760",
        "deepnote_cell_type": "markdown"
      }
    },
    {
      "cell_type": "code",
      "metadata": {
        "tags": [],
        "cell_id": "00021-fb421c82-f937-43a6-af6f-96f89ebee882",
        "deepnote_to_be_reexecuted": false,
        "source_hash": "8bf7fa6a",
        "execution_millis": 1,
        "execution_start": 1618143960066,
        "deepnote_cell_type": "code"
      },
      "source": "default_CBC = cb.CatBoostClassifier()",
      "execution_count": null,
      "outputs": []
    },
    {
      "cell_type": "code",
      "metadata": {
        "tags": [],
        "cell_id": "00023-7efe7c1c-bb16-4ceb-9448-d2e089a6b6f2",
        "deepnote_to_be_reexecuted": false,
        "source_hash": "14adbf4d",
        "execution_millis": 7511,
        "execution_start": 1618143960704,
        "deepnote_cell_type": "code"
      },
      "source": "default_CBC.fit(\n    train_set,\n    eval_set=(X_val, y_val),\n    verbose=False,\n)",
      "execution_count": null,
      "outputs": [
        {
          "output_type": "error",
          "ename": "KeyboardInterrupt",
          "evalue": "",
          "traceback": [
            "\u001b[0;31m---------------------------------------------------------------------------\u001b[0m",
            "\u001b[0;31mKeyboardInterrupt\u001b[0m                         Traceback (most recent call last)",
            "\u001b[0;32m<ipython-input-21-e76fc7b522e6>\u001b[0m in \u001b[0;36m<module>\u001b[0;34m\u001b[0m\n\u001b[0;32m----> 1\u001b[0;31m default_CBC.fit(\n\u001b[0m\u001b[1;32m      2\u001b[0m     \u001b[0mtrain_set\u001b[0m\u001b[0;34m,\u001b[0m\u001b[0;34m\u001b[0m\u001b[0;34m\u001b[0m\u001b[0m\n\u001b[1;32m      3\u001b[0m     \u001b[0meval_set\u001b[0m\u001b[0;34m=\u001b[0m\u001b[0;34m(\u001b[0m\u001b[0mX_val\u001b[0m\u001b[0;34m,\u001b[0m \u001b[0my_val\u001b[0m\u001b[0;34m)\u001b[0m\u001b[0;34m,\u001b[0m\u001b[0;34m\u001b[0m\u001b[0;34m\u001b[0m\u001b[0m\n\u001b[1;32m      4\u001b[0m     \u001b[0mverbose\u001b[0m\u001b[0;34m=\u001b[0m\u001b[0;32mFalse\u001b[0m\u001b[0;34m,\u001b[0m\u001b[0;34m\u001b[0m\u001b[0;34m\u001b[0m\u001b[0m\n\u001b[1;32m      5\u001b[0m )\n",
            "\u001b[0;32m~/venv/lib/python3.8/site-packages/catboost/core.py\u001b[0m in \u001b[0;36mfit\u001b[0;34m(self, X, y, cat_features, text_features, embedding_features, sample_weight, baseline, use_best_model, eval_set, verbose, logging_level, plot, column_description, verbose_eval, metric_period, silent, early_stopping_rounds, save_snapshot, snapshot_file, snapshot_interval, init_model)\u001b[0m\n\u001b[1;32m   4537\u001b[0m             \u001b[0mself\u001b[0m\u001b[0;34m.\u001b[0m\u001b[0m_check_is_classification_objective\u001b[0m\u001b[0;34m(\u001b[0m\u001b[0mparams\u001b[0m\u001b[0;34m[\u001b[0m\u001b[0;34m'loss_function'\u001b[0m\u001b[0;34m]\u001b[0m\u001b[0;34m)\u001b[0m\u001b[0;34m\u001b[0m\u001b[0;34m\u001b[0m\u001b[0m\n\u001b[1;32m   4538\u001b[0m \u001b[0;34m\u001b[0m\u001b[0m\n\u001b[0;32m-> 4539\u001b[0;31m         self._fit(X, y, cat_features, text_features, embedding_features, None, sample_weight, None, None, None, None, baseline, use_best_model,\n\u001b[0m\u001b[1;32m   4540\u001b[0m                   \u001b[0meval_set\u001b[0m\u001b[0;34m,\u001b[0m \u001b[0mverbose\u001b[0m\u001b[0;34m,\u001b[0m \u001b[0mlogging_level\u001b[0m\u001b[0;34m,\u001b[0m \u001b[0mplot\u001b[0m\u001b[0;34m,\u001b[0m \u001b[0mcolumn_description\u001b[0m\u001b[0;34m,\u001b[0m \u001b[0mverbose_eval\u001b[0m\u001b[0;34m,\u001b[0m \u001b[0mmetric_period\u001b[0m\u001b[0;34m,\u001b[0m\u001b[0;34m\u001b[0m\u001b[0;34m\u001b[0m\u001b[0m\n\u001b[1;32m   4541\u001b[0m                   silent, early_stopping_rounds, save_snapshot, snapshot_file, snapshot_interval, init_model)\n",
            "\u001b[0;32m~/venv/lib/python3.8/site-packages/catboost/core.py\u001b[0m in \u001b[0;36m_fit\u001b[0;34m(self, X, y, cat_features, text_features, embedding_features, pairs, sample_weight, group_id, group_weight, subgroup_id, pairs_weight, baseline, use_best_model, eval_set, verbose, logging_level, plot, column_description, verbose_eval, metric_period, silent, early_stopping_rounds, save_snapshot, snapshot_file, snapshot_interval, init_model)\u001b[0m\n\u001b[1;32m   1916\u001b[0m \u001b[0;34m\u001b[0m\u001b[0m\n\u001b[1;32m   1917\u001b[0m         \u001b[0;32mwith\u001b[0m \u001b[0mlog_fixup\u001b[0m\u001b[0;34m(\u001b[0m\u001b[0;34m)\u001b[0m\u001b[0;34m,\u001b[0m \u001b[0mplot_wrapper\u001b[0m\u001b[0;34m(\u001b[0m\u001b[0mplot\u001b[0m\u001b[0;34m,\u001b[0m \u001b[0;34m[\u001b[0m\u001b[0m_get_train_dir\u001b[0m\u001b[0;34m(\u001b[0m\u001b[0mself\u001b[0m\u001b[0;34m.\u001b[0m\u001b[0mget_params\u001b[0m\u001b[0;34m(\u001b[0m\u001b[0;34m)\u001b[0m\u001b[0;34m)\u001b[0m\u001b[0;34m]\u001b[0m\u001b[0;34m)\u001b[0m\u001b[0;34m:\u001b[0m\u001b[0;34m\u001b[0m\u001b[0;34m\u001b[0m\u001b[0m\n\u001b[0;32m-> 1918\u001b[0;31m             self._train(\n\u001b[0m\u001b[1;32m   1919\u001b[0m                 \u001b[0mtrain_pool\u001b[0m\u001b[0;34m,\u001b[0m\u001b[0;34m\u001b[0m\u001b[0;34m\u001b[0m\u001b[0m\n\u001b[1;32m   1920\u001b[0m                 \u001b[0mtrain_params\u001b[0m\u001b[0;34m[\u001b[0m\u001b[0;34m\"eval_sets\"\u001b[0m\u001b[0;34m]\u001b[0m\u001b[0;34m,\u001b[0m\u001b[0;34m\u001b[0m\u001b[0;34m\u001b[0m\u001b[0m\n",
            "\u001b[0;32m~/venv/lib/python3.8/site-packages/catboost/core.py\u001b[0m in \u001b[0;36m_train\u001b[0;34m(self, train_pool, test_pool, params, allow_clear_pool, init_model)\u001b[0m\n\u001b[1;32m   1364\u001b[0m \u001b[0;34m\u001b[0m\u001b[0m\n\u001b[1;32m   1365\u001b[0m     \u001b[0;32mdef\u001b[0m \u001b[0m_train\u001b[0m\u001b[0;34m(\u001b[0m\u001b[0mself\u001b[0m\u001b[0;34m,\u001b[0m \u001b[0mtrain_pool\u001b[0m\u001b[0;34m,\u001b[0m \u001b[0mtest_pool\u001b[0m\u001b[0;34m,\u001b[0m \u001b[0mparams\u001b[0m\u001b[0;34m,\u001b[0m \u001b[0mallow_clear_pool\u001b[0m\u001b[0;34m,\u001b[0m \u001b[0minit_model\u001b[0m\u001b[0;34m)\u001b[0m\u001b[0;34m:\u001b[0m\u001b[0;34m\u001b[0m\u001b[0;34m\u001b[0m\u001b[0m\n\u001b[0;32m-> 1366\u001b[0;31m         \u001b[0mself\u001b[0m\u001b[0;34m.\u001b[0m\u001b[0m_object\u001b[0m\u001b[0;34m.\u001b[0m\u001b[0m_train\u001b[0m\u001b[0;34m(\u001b[0m\u001b[0mtrain_pool\u001b[0m\u001b[0;34m,\u001b[0m \u001b[0mtest_pool\u001b[0m\u001b[0;34m,\u001b[0m \u001b[0mparams\u001b[0m\u001b[0;34m,\u001b[0m \u001b[0mallow_clear_pool\u001b[0m\u001b[0;34m,\u001b[0m \u001b[0minit_model\u001b[0m\u001b[0;34m.\u001b[0m\u001b[0m_object\u001b[0m \u001b[0;32mif\u001b[0m \u001b[0minit_model\u001b[0m \u001b[0;32melse\u001b[0m \u001b[0;32mNone\u001b[0m\u001b[0;34m)\u001b[0m\u001b[0;34m\u001b[0m\u001b[0;34m\u001b[0m\u001b[0m\n\u001b[0m\u001b[1;32m   1367\u001b[0m         \u001b[0mself\u001b[0m\u001b[0;34m.\u001b[0m\u001b[0m_set_trained_model_attributes\u001b[0m\u001b[0;34m(\u001b[0m\u001b[0;34m)\u001b[0m\u001b[0;34m\u001b[0m\u001b[0;34m\u001b[0m\u001b[0m\n\u001b[1;32m   1368\u001b[0m \u001b[0;34m\u001b[0m\u001b[0m\n",
            "\u001b[0;32m_catboost.pyx\u001b[0m in \u001b[0;36m_catboost._CatBoost._train\u001b[0;34m()\u001b[0m\n",
            "\u001b[0;32m_catboost.pyx\u001b[0m in \u001b[0;36m_catboost._CatBoost._train\u001b[0;34m()\u001b[0m\n",
            "\u001b[0;31mKeyboardInterrupt\u001b[0m: "
          ]
        }
      ]
    },
    {
      "cell_type": "code",
      "metadata": {
        "tags": [],
        "cell_id": "00024-a07381f4-4f1a-4f5c-a9b7-062347cf04f6",
        "deepnote_to_be_reexecuted": true,
        "source_hash": "a9476739",
        "execution_millis": 5,
        "deepnote_cell_type": "code"
      },
      "source": "def_y_preds = default_CBC.predict(eval_set)\ndef_y_preds = np.reshape(def_y_preds, y_val.values.shape)",
      "execution_count": null,
      "outputs": []
    },
    {
      "cell_type": "code",
      "metadata": {
        "tags": [],
        "cell_id": "00025-c7e8c098-d27a-4dc2-9f44-6c9f10bbb23e",
        "deepnote_to_be_reexecuted": true,
        "source_hash": "c2a9f539",
        "execution_millis": 3948,
        "deepnote_cell_type": "code"
      },
      "source": "f\"{round(100 - len(*np.nonzero(y_preds - y_val.values)) / len(y_preds) * 100)}% Accuracy\"",
      "execution_count": null,
      "outputs": [
        {
          "output_type": "execute_result",
          "execution_count": 73,
          "data": {
            "text/plain": "'79% Accuracy'"
          },
          "metadata": {}
        }
      ]
    },
    {
      "cell_type": "markdown",
      "source": "### Default CatBoost Decomp",
      "metadata": {
        "tags": [],
        "cell_id": "00026-a0b2db04-e7df-4cfe-af0e-9a1316a2a07c",
        "deepnote_cell_type": "markdown"
      }
    },
    {
      "cell_type": "code",
      "metadata": {
        "tags": [],
        "cell_id": "00027-fe2a9ec6-d007-4dca-97b4-a1f4b07396e4",
        "deepnote_to_be_reexecuted": true,
        "source_hash": "20a39eef",
        "execution_millis": 8,
        "deepnote_cell_type": "code"
      },
      "source": "y_trainset.values.shape",
      "execution_count": null,
      "outputs": [
        {
          "output_type": "execute_result",
          "execution_count": 91,
          "data": {
            "text/plain": "(56,)"
          },
          "metadata": {}
        }
      ]
    },
    {
      "cell_type": "code",
      "metadata": {
        "tags": [],
        "cell_id": "00027-fb0e434d-80ad-4a9b-bc4a-5311c078b026",
        "deepnote_to_be_reexecuted": true,
        "source_hash": "6d7c9256",
        "execution_millis": 29,
        "deepnote_cell_type": "code"
      },
      "source": "y_val.values.shape",
      "execution_count": null,
      "outputs": [
        {
          "output_type": "execute_result",
          "execution_count": 94,
          "data": {
            "text/plain": "(19,)"
          },
          "metadata": {}
        }
      ]
    },
    {
      "cell_type": "code",
      "metadata": {
        "tags": [],
        "cell_id": "00026-f571fb3e-a781-4994-a9be-ea1fb18d99f7",
        "deepnote_to_be_reexecuted": true,
        "source_hash": "20e29972",
        "execution_millis": 76697,
        "deepnote_cell_type": "code"
      },
      "source": "avg_expected_loss_CBC, avg_bias_CBC, avg_var_CBC = bias_variance_decomp(\n        default_CBC, X_trainset.values, y_trainset.values, X_val, y_val, # Used .values since mlxtend extracts better from numpy arrays than pandas dfs\n        loss='0-1_loss',\n        random_seed=66)\n\nprint(f'Average expected loss: {avg_expected_loss_CBC}')\nprint(f'Average bias: {avg_bias_CBC}')\nprint(f'Average variance: {avg_var_CBC}')",
      "execution_count": null,
      "outputs": [
        {
          "name": "stdout",
          "text": "1:\tlearn: 1.0426174\ttotal: 151ms\tremaining: 1m 15s\n2:\tlearn: 1.0160193\ttotal: 230ms\tremaining: 1m 16s\n3:\tlearn: 1.0011996\ttotal: 294ms\tremaining: 1m 13s\n4:\tlearn: 0.9774458\ttotal: 381ms\tremaining: 1m 15s\n5:\tlearn: 0.9461042\ttotal: 456ms\tremaining: 1m 15s\n6:\tlearn: 0.9244746\ttotal: 529ms\tremaining: 1m 15s\n7:\tlearn: 0.9097368\ttotal: 600ms\tremaining: 1m 14s\n8:\tlearn: 0.8876313\ttotal: 676ms\tremaining: 1m 14s\n9:\tlearn: 0.8647059\ttotal: 750ms\tremaining: 1m 14s\n10:\tlearn: 0.8488065\ttotal: 829ms\tremaining: 1m 14s\n11:\tlearn: 0.8320039\ttotal: 899ms\tremaining: 1m 13s\n12:\tlearn: 0.8142801\ttotal: 981ms\tremaining: 1m 14s\n13:\tlearn: 0.7965193\ttotal: 1.06s\tremaining: 1m 14s\n14:\tlearn: 0.7805144\ttotal: 1.13s\tremaining: 1m 14s\n15:\tlearn: 0.7692651\ttotal: 1.22s\tremaining: 1m 14s\n16:\tlearn: 0.7545986\ttotal: 1.28s\tremaining: 1m 13s\n17:\tlearn: 0.7379340\ttotal: 1.35s\tremaining: 1m 13s\n18:\tlearn: 0.7162706\ttotal: 1.43s\tremaining: 1m 14s\n19:\tlearn: 0.7063683\ttotal: 1.51s\tremaining: 1m 14s\n20:\tlearn: 0.6923661\ttotal: 1.58s\tremaining: 1m 13s\n21:\tlearn: 0.6806851\ttotal: 1.67s\tremaining: 1m 14s\n22:\tlearn: 0.6706343\ttotal: 1.74s\tremaining: 1m 13s\n23:\tlearn: 0.6599911\ttotal: 1.8s\tremaining: 1m 13s\n24:\tlearn: 0.6474435\ttotal: 1.88s\tremaining: 1m 13s\n25:\tlearn: 0.6372493\ttotal: 1.95s\tremaining: 1m 13s\n26:\tlearn: 0.6248886\ttotal: 2.04s\tremaining: 1m 13s\n27:\tlearn: 0.6129920\ttotal: 2.12s\tremaining: 1m 13s\n28:\tlearn: 0.6000191\ttotal: 2.19s\tremaining: 1m 13s\n29:\tlearn: 0.5805727\ttotal: 2.28s\tremaining: 1m 13s\n30:\tlearn: 0.5710937\ttotal: 2.35s\tremaining: 1m 13s\n31:\tlearn: 0.5586910\ttotal: 2.42s\tremaining: 1m 13s\n32:\tlearn: 0.5509621\ttotal: 2.49s\tremaining: 1m 12s\n33:\tlearn: 0.5447737\ttotal: 2.59s\tremaining: 1m 13s\n34:\tlearn: 0.5397215\ttotal: 2.65s\tremaining: 1m 13s\n35:\tlearn: 0.5341534\ttotal: 2.75s\tremaining: 1m 13s\n36:\tlearn: 0.5268626\ttotal: 2.85s\tremaining: 1m 14s\n37:\tlearn: 0.5184568\ttotal: 2.95s\tremaining: 1m 14s\n38:\tlearn: 0.5094431\ttotal: 3.03s\tremaining: 1m 14s\n39:\tlearn: 0.4988471\ttotal: 3.12s\tremaining: 1m 14s\n40:\tlearn: 0.4938114\ttotal: 3.19s\tremaining: 1m 14s\n41:\tlearn: 0.4819373\ttotal: 3.26s\tremaining: 1m 14s\n42:\tlearn: 0.4746443\ttotal: 3.34s\tremaining: 1m 14s\n43:\tlearn: 0.4666622\ttotal: 3.42s\tremaining: 1m 14s\n44:\tlearn: 0.4577391\ttotal: 3.49s\tremaining: 1m 13s\n45:\tlearn: 0.4474085\ttotal: 3.57s\tremaining: 1m 14s\n46:\tlearn: 0.4373497\ttotal: 3.65s\tremaining: 1m 13s\n47:\tlearn: 0.4289441\ttotal: 3.72s\tremaining: 1m 13s\n48:\tlearn: 0.4218453\ttotal: 3.81s\tremaining: 1m 13s\n49:\tlearn: 0.4153841\ttotal: 3.88s\tremaining: 1m 13s\n50:\tlearn: 0.4103145\ttotal: 3.96s\tremaining: 1m 13s\n51:\tlearn: 0.4022513\ttotal: 4.03s\tremaining: 1m 13s\n52:\tlearn: 0.3958662\ttotal: 4.12s\tremaining: 1m 13s\n53:\tlearn: 0.3873241\ttotal: 4.2s\tremaining: 1m 13s\n54:\tlearn: 0.3763172\ttotal: 4.28s\tremaining: 1m 13s\n55:\tlearn: 0.3716517\ttotal: 4.37s\tremaining: 1m 13s\n56:\tlearn: 0.3657533\ttotal: 4.44s\tremaining: 1m 13s\n57:\tlearn: 0.3597256\ttotal: 4.51s\tremaining: 1m 13s\n58:\tlearn: 0.3538881\ttotal: 4.57s\tremaining: 1m 12s\n59:\tlearn: 0.3484080\ttotal: 4.66s\tremaining: 1m 12s\n60:\tlearn: 0.3427792\ttotal: 4.74s\tremaining: 1m 12s\n61:\tlearn: 0.3366472\ttotal: 4.82s\tremaining: 1m 12s\n62:\tlearn: 0.3314077\ttotal: 4.88s\tremaining: 1m 12s\n63:\tlearn: 0.3257262\ttotal: 4.96s\tremaining: 1m 12s\n64:\tlearn: 0.3218819\ttotal: 5.05s\tremaining: 1m 12s\n65:\tlearn: 0.3181381\ttotal: 5.12s\tremaining: 1m 12s\n66:\tlearn: 0.3098014\ttotal: 5.2s\tremaining: 1m 12s\n67:\tlearn: 0.3037523\ttotal: 5.27s\tremaining: 1m 12s\n68:\tlearn: 0.2955726\ttotal: 5.34s\tremaining: 1m 12s\n69:\tlearn: 0.2908748\ttotal: 5.41s\tremaining: 1m 11s\n70:\tlearn: 0.2864727\ttotal: 5.48s\tremaining: 1m 11s\n71:\tlearn: 0.2793165\ttotal: 5.57s\tremaining: 1m 11s\n72:\tlearn: 0.2739071\ttotal: 5.64s\tremaining: 1m 11s\n73:\tlearn: 0.2692264\ttotal: 5.72s\tremaining: 1m 11s\n74:\tlearn: 0.2649844\ttotal: 5.78s\tremaining: 1m 11s\n75:\tlearn: 0.2609573\ttotal: 5.86s\tremaining: 1m 11s\n76:\tlearn: 0.2568247\ttotal: 5.94s\tremaining: 1m 11s\n77:\tlearn: 0.2519305\ttotal: 5.98s\tremaining: 1m 10s\n78:\tlearn: 0.2479783\ttotal: 6.06s\tremaining: 1m 10s\n79:\tlearn: 0.2436643\ttotal: 6.13s\tremaining: 1m 10s\n80:\tlearn: 0.2399088\ttotal: 6.22s\tremaining: 1m 10s\n81:\tlearn: 0.2369402\ttotal: 6.3s\tremaining: 1m 10s\n82:\tlearn: 0.2332652\ttotal: 6.37s\tremaining: 1m 10s\n83:\tlearn: 0.2291884\ttotal: 6.45s\tremaining: 1m 10s\n84:\tlearn: 0.2248794\ttotal: 6.52s\tremaining: 1m 10s\n85:\tlearn: 0.2225715\ttotal: 6.6s\tremaining: 1m 10s\n86:\tlearn: 0.2187014\ttotal: 6.66s\tremaining: 1m 9s\n87:\tlearn: 0.2149795\ttotal: 6.75s\tremaining: 1m 9s\n88:\tlearn: 0.2121370\ttotal: 6.82s\tremaining: 1m 9s\n89:\tlearn: 0.2087689\ttotal: 6.9s\tremaining: 1m 9s\n90:\tlearn: 0.2065065\ttotal: 6.97s\tremaining: 1m 9s\n91:\tlearn: 0.2030444\ttotal: 7.06s\tremaining: 1m 9s\n92:\tlearn: 0.2005395\ttotal: 7.13s\tremaining: 1m 9s\n93:\tlearn: 0.1969151\ttotal: 7.21s\tremaining: 1m 9s\n94:\tlearn: 0.1934138\ttotal: 7.3s\tremaining: 1m 9s\n95:\tlearn: 0.1910985\ttotal: 7.36s\tremaining: 1m 9s\n96:\tlearn: 0.1880735\ttotal: 7.44s\tremaining: 1m 9s\n97:\tlearn: 0.1855076\ttotal: 7.52s\tremaining: 1m 9s\n98:\tlearn: 0.1833305\ttotal: 7.58s\tremaining: 1m 9s\n99:\tlearn: 0.1810295\ttotal: 7.65s\tremaining: 1m 8s\n100:\tlearn: 0.1780804\ttotal: 7.74s\tremaining: 1m 8s\n101:\tlearn: 0.1755587\ttotal: 7.8s\tremaining: 1m 8s\n102:\tlearn: 0.1733397\ttotal: 7.87s\tremaining: 1m 8s\n103:\tlearn: 0.1710629\ttotal: 7.96s\tremaining: 1m 8s\n104:\tlearn: 0.1686869\ttotal: 8.03s\tremaining: 1m 8s\n105:\tlearn: 0.1656392\ttotal: 8.11s\tremaining: 1m 8s\n106:\tlearn: 0.1629478\ttotal: 8.17s\tremaining: 1m 8s\n107:\tlearn: 0.1607182\ttotal: 8.25s\tremaining: 1m 8s\n108:\tlearn: 0.1590144\ttotal: 8.32s\tremaining: 1m 8s\n109:\tlearn: 0.1562469\ttotal: 8.4s\tremaining: 1m 8s\n110:\tlearn: 0.1542125\ttotal: 8.47s\tremaining: 1m 7s\n111:\tlearn: 0.1524273\ttotal: 8.54s\tremaining: 1m 7s\n112:\tlearn: 0.1510153\ttotal: 8.62s\tremaining: 1m 7s\n113:\tlearn: 0.1481616\ttotal: 8.7s\tremaining: 1m 7s\n114:\tlearn: 0.1464574\ttotal: 8.76s\tremaining: 1m 7s\n115:\tlearn: 0.1451131\ttotal: 8.84s\tremaining: 1m 7s\n116:\tlearn: 0.1435912\ttotal: 8.92s\tremaining: 1m 7s\n117:\tlearn: 0.1407827\ttotal: 9s\tremaining: 1m 7s\n118:\tlearn: 0.1391129\ttotal: 9.09s\tremaining: 1m 7s\n119:\tlearn: 0.1372706\ttotal: 9.16s\tremaining: 1m 7s\n120:\tlearn: 0.1357910\ttotal: 9.24s\tremaining: 1m 7s\n121:\tlearn: 0.1343737\ttotal: 9.31s\tremaining: 1m 7s\n122:\tlearn: 0.1331277\ttotal: 9.4s\tremaining: 1m 7s\n123:\tlearn: 0.1313764\ttotal: 9.46s\tremaining: 1m 6s\n124:\tlearn: 0.1298283\ttotal: 9.54s\tremaining: 1m 6s\n125:\tlearn: 0.1283712\ttotal: 9.61s\tremaining: 1m 6s\n126:\tlearn: 0.1273062\ttotal: 9.69s\tremaining: 1m 6s\n127:\tlearn: 0.1262016\ttotal: 9.76s\tremaining: 1m 6s\n128:\tlearn: 0.1249085\ttotal: 9.84s\tremaining: 1m 6s\n129:\tlearn: 0.1235195\ttotal: 9.91s\tremaining: 1m 6s\n130:\tlearn: 0.1222574\ttotal: 10s\tremaining: 1m 6s\n131:\tlearn: 0.1206660\ttotal: 10.1s\tremaining: 1m 6s\n132:\tlearn: 0.1196096\ttotal: 10.1s\tremaining: 1m 6s\n133:\tlearn: 0.1185145\ttotal: 10.2s\tremaining: 1m 6s\n134:\tlearn: 0.1171828\ttotal: 10.3s\tremaining: 1m 5s\n135:\tlearn: 0.1157066\ttotal: 10.4s\tremaining: 1m 5s\n136:\tlearn: 0.1143017\ttotal: 10.4s\tremaining: 1m 5s\n137:\tlearn: 0.1129994\ttotal: 10.5s\tremaining: 1m 5s\n138:\tlearn: 0.1119460\ttotal: 10.6s\tremaining: 1m 5s\n139:\tlearn: 0.1106732\ttotal: 10.7s\tremaining: 1m 5s\n140:\tlearn: 0.1095316\ttotal: 10.7s\tremaining: 1m 5s\n141:\tlearn: 0.1079186\ttotal: 10.8s\tremaining: 1m 5s\n142:\tlearn: 0.1067363\ttotal: 10.9s\tremaining: 1m 5s\n143:\tlearn: 0.1057503\ttotal: 10.9s\tremaining: 1m 5s\n144:\tlearn: 0.1046435\ttotal: 11s\tremaining: 1m 5s\n145:\tlearn: 0.1034912\ttotal: 11.1s\tremaining: 1m 4s\n146:\tlearn: 0.1027820\ttotal: 11.2s\tremaining: 1m 4s\n147:\tlearn: 0.1018249\ttotal: 11.3s\tremaining: 1m 4s\n148:\tlearn: 0.1007297\ttotal: 11.3s\tremaining: 1m 4s\n149:\tlearn: 0.0997193\ttotal: 11.4s\tremaining: 1m 4s\n150:\tlearn: 0.0986076\ttotal: 11.5s\tremaining: 1m 4s\n151:\tlearn: 0.0975154\ttotal: 11.6s\tremaining: 1m 4s\n152:\tlearn: 0.0967576\ttotal: 11.6s\tremaining: 1m 4s\n153:\tlearn: 0.0958141\ttotal: 11.7s\tremaining: 1m 4s\n154:\tlearn: 0.0949275\ttotal: 11.8s\tremaining: 1m 4s\n155:\tlearn: 0.0939625\ttotal: 11.9s\tremaining: 1m 4s\n156:\tlearn: 0.0932336\ttotal: 11.9s\tremaining: 1m 4s\n157:\tlearn: 0.0922374\ttotal: 12s\tremaining: 1m 3s\n158:\tlearn: 0.0914906\ttotal: 12.1s\tremaining: 1m 3s\n159:\tlearn: 0.0906542\ttotal: 12.2s\tremaining: 1m 3s\n160:\tlearn: 0.0897489\ttotal: 12.2s\tremaining: 1m 3s\n161:\tlearn: 0.0890219\ttotal: 12.3s\tremaining: 1m 3s\n162:\tlearn: 0.0880289\ttotal: 12.4s\tremaining: 1m 3s\n163:\tlearn: 0.0874643\ttotal: 12.5s\tremaining: 1m 3s\n164:\tlearn: 0.0866706\ttotal: 12.6s\tremaining: 1m 3s\n165:\tlearn: 0.0856982\ttotal: 12.7s\tremaining: 1m 3s\n166:\tlearn: 0.0848856\ttotal: 12.8s\tremaining: 1m 3s\n167:\tlearn: 0.0841254\ttotal: 12.8s\tremaining: 1m 3s\n168:\tlearn: 0.0834359\ttotal: 12.9s\tremaining: 1m 3s\n169:\tlearn: 0.0825939\ttotal: 13s\tremaining: 1m 3s\n170:\tlearn: 0.0818548\ttotal: 13.1s\tremaining: 1m 3s\n171:\tlearn: 0.0813088\ttotal: 13.1s\tremaining: 1m 3s\n172:\tlearn: 0.0808582\ttotal: 13.2s\tremaining: 1m 3s\n173:\tlearn: 0.0801622\ttotal: 13.3s\tremaining: 1m 3s\n174:\tlearn: 0.0796511\ttotal: 13.4s\tremaining: 1m 2s\n175:\tlearn: 0.0789085\ttotal: 13.4s\tremaining: 1m 2s\n176:\tlearn: 0.0782605\ttotal: 13.5s\tremaining: 1m 2s\n177:\tlearn: 0.0777720\ttotal: 13.6s\tremaining: 1m 2s\n178:\tlearn: 0.0770986\ttotal: 13.7s\tremaining: 1m 2s\n179:\tlearn: 0.0764768\ttotal: 13.7s\tremaining: 1m 2s\n180:\tlearn: 0.0758625\ttotal: 13.8s\tremaining: 1m 2s\n181:\tlearn: 0.0751944\ttotal: 13.9s\tremaining: 1m 2s\n182:\tlearn: 0.0746193\ttotal: 14s\tremaining: 1m 2s\n183:\tlearn: 0.0739088\ttotal: 14s\tremaining: 1m 2s\n184:\tlearn: 0.0733721\ttotal: 14.1s\tremaining: 1m 2s\n185:\tlearn: 0.0727331\ttotal: 14.2s\tremaining: 1m 2s\n186:\tlearn: 0.0722211\ttotal: 14.3s\tremaining: 1m 2s\n187:\tlearn: 0.0716295\ttotal: 14.4s\tremaining: 1m 2s\n188:\tlearn: 0.0712080\ttotal: 14.5s\tremaining: 1m 2s\n189:\tlearn: 0.0707681\ttotal: 14.5s\tremaining: 1m 1s\n190:\tlearn: 0.0702351\ttotal: 14.6s\tremaining: 1m 1s\n191:\tlearn: 0.0694971\ttotal: 14.7s\tremaining: 1m 1s\n192:\tlearn: 0.0690389\ttotal: 14.8s\tremaining: 1m 1s\n193:\tlearn: 0.0686381\ttotal: 14.8s\tremaining: 1m 1s\n194:\tlearn: 0.0680934\ttotal: 14.9s\tremaining: 1m 1s\n195:\tlearn: 0.0674620\ttotal: 15s\tremaining: 1m 1s\n196:\tlearn: 0.0670185\ttotal: 15.1s\tremaining: 1m 1s\n197:\tlearn: 0.0666103\ttotal: 15.1s\tremaining: 1m 1s\n198:\tlearn: 0.0658807\ttotal: 15.2s\tremaining: 1m 1s\n199:\tlearn: 0.0654177\ttotal: 15.3s\tremaining: 1m 1s\n200:\tlearn: 0.0649633\ttotal: 15.4s\tremaining: 1m 1s\n201:\tlearn: 0.0644896\ttotal: 15.4s\tremaining: 1m\n202:\tlearn: 0.0640810\ttotal: 15.5s\tremaining: 1m\n203:\tlearn: 0.0635765\ttotal: 15.6s\tremaining: 1m\n204:\tlearn: 0.0631274\ttotal: 15.7s\tremaining: 1m\n205:\tlearn: 0.0627271\ttotal: 15.7s\tremaining: 1m\n206:\tlearn: 0.0624437\ttotal: 15.8s\tremaining: 1m\n207:\tlearn: 0.0619916\ttotal: 15.9s\tremaining: 1m\n208:\tlearn: 0.0614757\ttotal: 15.9s\tremaining: 1m\n209:\tlearn: 0.0609828\ttotal: 16s\tremaining: 1m\n210:\tlearn: 0.0605477\ttotal: 16.1s\tremaining: 1m\n211:\tlearn: 0.0601824\ttotal: 16.2s\tremaining: 1m\n212:\tlearn: 0.0598464\ttotal: 16.2s\tremaining: 1m\n213:\tlearn: 0.0595485\ttotal: 16.3s\tremaining: 60s\n214:\tlearn: 0.0592335\ttotal: 16.4s\tremaining: 59.9s\n215:\tlearn: 0.0588331\ttotal: 16.5s\tremaining: 59.8s\n216:\tlearn: 0.0585514\ttotal: 16.5s\tremaining: 59.7s\n217:\tlearn: 0.0581779\ttotal: 16.6s\tremaining: 59.6s\n218:\tlearn: 0.0578584\ttotal: 16.7s\tremaining: 59.6s\n219:\tlearn: 0.0575341\ttotal: 16.8s\tremaining: 59.5s\n220:\tlearn: 0.0570712\ttotal: 16.8s\tremaining: 59.4s\n221:\tlearn: 0.0566971\ttotal: 16.9s\tremaining: 59.3s\n222:\tlearn: 0.0564127\ttotal: 17s\tremaining: 59.3s\n223:\tlearn: 0.0560612\ttotal: 17.1s\tremaining: 59.2s\n224:\tlearn: 0.0557547\ttotal: 17.2s\tremaining: 59.1s\n225:\tlearn: 0.0554377\ttotal: 17.2s\tremaining: 59s\n226:\tlearn: 0.0552084\ttotal: 17.3s\tremaining: 58.9s\n227:\tlearn: 0.0549391\ttotal: 17.4s\tremaining: 58.8s\n228:\tlearn: 0.0545880\ttotal: 17.4s\tremaining: 58.7s\n229:\tlearn: 0.0542449\ttotal: 17.5s\tremaining: 58.7s\n230:\tlearn: 0.0539462\ttotal: 17.6s\tremaining: 58.6s\n231:\tlearn: 0.0536433\ttotal: 17.7s\tremaining: 58.6s\n232:\tlearn: 0.0533771\ttotal: 17.8s\tremaining: 58.5s\n233:\tlearn: 0.0530506\ttotal: 17.8s\tremaining: 58.4s\n234:\tlearn: 0.0528067\ttotal: 17.9s\tremaining: 58.3s\n235:\tlearn: 0.0523890\ttotal: 18s\tremaining: 58.2s\n236:\tlearn: 0.0520793\ttotal: 18.1s\tremaining: 58.1s\n237:\tlearn: 0.0518362\ttotal: 18.1s\tremaining: 58s\n238:\tlearn: 0.0515647\ttotal: 18.2s\tremaining: 58s\n239:\tlearn: 0.0513018\ttotal: 18.3s\tremaining: 57.9s\n240:\tlearn: 0.0509387\ttotal: 18.4s\tremaining: 57.9s\n241:\tlearn: 0.0506883\ttotal: 18.4s\tremaining: 57.7s\n242:\tlearn: 0.0504441\ttotal: 18.5s\tremaining: 57.7s\n243:\tlearn: 0.0501196\ttotal: 18.6s\tremaining: 57.6s\n244:\tlearn: 0.0498612\ttotal: 18.7s\tremaining: 57.6s\n245:\tlearn: 0.0495924\ttotal: 18.8s\tremaining: 57.5s\n246:\tlearn: 0.0493030\ttotal: 18.8s\tremaining: 57.4s\n247:\tlearn: 0.0489474\ttotal: 18.9s\tremaining: 57.3s\n248:\tlearn: 0.0487238\ttotal: 19s\tremaining: 57.3s\n249:\tlearn: 0.0484623\ttotal: 19.1s\tremaining: 57.2s\n250:\tlearn: 0.0481634\ttotal: 19.1s\tremaining: 57.1s\n251:\tlearn: 0.0478774\ttotal: 19.2s\tremaining: 57s\n252:\tlearn: 0.0476296\ttotal: 19.3s\tremaining: 56.9s\n253:\tlearn: 0.0473573\ttotal: 19.4s\tremaining: 56.8s\n254:\tlearn: 0.0470513\ttotal: 19.4s\tremaining: 56.8s\n255:\tlearn: 0.0467916\ttotal: 19.5s\tremaining: 56.7s\n256:\tlearn: 0.0464692\ttotal: 19.6s\tremaining: 56.6s\n257:\tlearn: 0.0462004\ttotal: 19.7s\tremaining: 56.5s\n258:\tlearn: 0.0459794\ttotal: 19.7s\tremaining: 56.5s\n259:\tlearn: 0.0457518\ttotal: 19.8s\tremaining: 56.4s\n260:\tlearn: 0.0454405\ttotal: 19.9s\tremaining: 56.3s\n261:\tlearn: 0.0451100\ttotal: 20s\tremaining: 56.2s\n262:\tlearn: 0.0449059\ttotal: 20s\tremaining: 56.1s\n263:\tlearn: 0.0447423\ttotal: 20.1s\tremaining: 56.1s\n264:\tlearn: 0.0445578\ttotal: 20.2s\tremaining: 56s\n265:\tlearn: 0.0444103\ttotal: 20.2s\tremaining: 55.9s\n266:\tlearn: 0.0442257\ttotal: 20.3s\tremaining: 55.8s\n267:\tlearn: 0.0440016\ttotal: 20.4s\tremaining: 55.8s\n268:\tlearn: 0.0437511\ttotal: 20.5s\tremaining: 55.7s\n269:\tlearn: 0.0435774\ttotal: 20.6s\tremaining: 55.6s\n270:\tlearn: 0.0433812\ttotal: 20.6s\tremaining: 55.5s\n271:\tlearn: 0.0432096\ttotal: 20.7s\tremaining: 55.4s\n272:\tlearn: 0.0429705\ttotal: 20.8s\tremaining: 55.3s\n273:\tlearn: 0.0427793\ttotal: 20.8s\tremaining: 55.2s\n274:\tlearn: 0.0426123\ttotal: 20.9s\tremaining: 55.2s\n275:\tlearn: 0.0423985\ttotal: 21s\tremaining: 55.1s\n276:\tlearn: 0.0421559\ttotal: 21.1s\tremaining: 55s\n277:\tlearn: 0.0419981\ttotal: 21.2s\tremaining: 55s\n278:\tlearn: 0.0418019\ttotal: 21.2s\tremaining: 54.9s\n279:\tlearn: 0.0416278\ttotal: 21.3s\tremaining: 54.8s\n280:\tlearn: 0.0414728\ttotal: 21.4s\tremaining: 54.7s\n281:\tlearn: 0.0412800\ttotal: 21.4s\tremaining: 54.6s\n282:\tlearn: 0.0410707\ttotal: 21.5s\tremaining: 54.5s\n283:\tlearn: 0.0408940\ttotal: 21.6s\tremaining: 54.5s\n284:\tlearn: 0.0407438\ttotal: 21.7s\tremaining: 54.4s\n285:\tlearn: 0.0405653\ttotal: 21.7s\tremaining: 54.3s\n286:\tlearn: 0.0403864\ttotal: 21.8s\tremaining: 54.2s\n287:\tlearn: 0.0402156\ttotal: 21.9s\tremaining: 54.1s\n288:\tlearn: 0.0400600\ttotal: 22s\tremaining: 54.1s\n289:\tlearn: 0.0399091\ttotal: 22.1s\tremaining: 54s\n290:\tlearn: 0.0397379\ttotal: 22.1s\tremaining: 53.9s\n291:\tlearn: 0.0395155\ttotal: 22.2s\tremaining: 53.8s\n292:\tlearn: 0.0393339\ttotal: 22.3s\tremaining: 53.7s\n293:\tlearn: 0.0391671\ttotal: 22.4s\tremaining: 53.7s\n294:\tlearn: 0.0389078\ttotal: 22.4s\tremaining: 53.6s\n295:\tlearn: 0.0387309\ttotal: 22.5s\tremaining: 53.6s\n296:\tlearn: 0.0385584\ttotal: 22.6s\tremaining: 53.5s\n297:\tlearn: 0.0383642\ttotal: 22.7s\tremaining: 53.5s\n298:\tlearn: 0.0381746\ttotal: 22.8s\tremaining: 53.4s\n299:\tlearn: 0.0379758\ttotal: 22.8s\tremaining: 53.3s\n300:\tlearn: 0.0378269\ttotal: 22.9s\tremaining: 53.2s\n301:\tlearn: 0.0376822\ttotal: 23s\tremaining: 53.2s\n302:\tlearn: 0.0375352\ttotal: 23.1s\tremaining: 53.1s\n303:\tlearn: 0.0372910\ttotal: 23.2s\tremaining: 53s\n304:\tlearn: 0.0371661\ttotal: 23.2s\tremaining: 52.9s\n305:\tlearn: 0.0370028\ttotal: 23.3s\tremaining: 52.8s\n306:\tlearn: 0.0368165\ttotal: 23.4s\tremaining: 52.8s\n307:\tlearn: 0.0366915\ttotal: 23.5s\tremaining: 52.7s\n308:\tlearn: 0.0365145\ttotal: 23.5s\tremaining: 52.6s\n309:\tlearn: 0.0363912\ttotal: 23.6s\tremaining: 52.6s\n310:\tlearn: 0.0362144\ttotal: 23.7s\tremaining: 52.5s\n311:\tlearn: 0.0360697\ttotal: 23.8s\tremaining: 52.4s\n312:\tlearn: 0.0359376\ttotal: 23.8s\tremaining: 52.3s\n313:\tlearn: 0.0357865\ttotal: 23.9s\tremaining: 52.2s\n314:\tlearn: 0.0356697\ttotal: 24s\tremaining: 52.2s\n315:\tlearn: 0.0355075\ttotal: 24.1s\tremaining: 52.1s\n316:\tlearn: 0.0353602\ttotal: 24.2s\tremaining: 52.1s\n317:\tlearn: 0.0352432\ttotal: 24.2s\tremaining: 52s\n318:\tlearn: 0.0350329\ttotal: 24.3s\tremaining: 51.9s\n319:\tlearn: 0.0348928\ttotal: 24.4s\tremaining: 51.8s\n320:\tlearn: 0.0347473\ttotal: 24.5s\tremaining: 51.8s\n321:\tlearn: 0.0346145\ttotal: 24.5s\tremaining: 51.7s\n322:\tlearn: 0.0344314\ttotal: 24.6s\tremaining: 51.6s\n323:\tlearn: 0.0343017\ttotal: 24.7s\tremaining: 51.5s\n324:\tlearn: 0.0341455\ttotal: 24.8s\tremaining: 51.4s\n325:\tlearn: 0.0340298\ttotal: 24.8s\tremaining: 51.4s\n326:\tlearn: 0.0338147\ttotal: 24.9s\tremaining: 51.3s\n327:\tlearn: 0.0336890\ttotal: 25s\tremaining: 51.2s\n328:\tlearn: 0.0335587\ttotal: 25.1s\tremaining: 51.2s\n329:\tlearn: 0.0334300\ttotal: 25.1s\tremaining: 51.1s\n330:\tlearn: 0.0332507\ttotal: 25.2s\tremaining: 51s\n331:\tlearn: 0.0331320\ttotal: 25.3s\tremaining: 50.9s\n332:\tlearn: 0.0330028\ttotal: 25.4s\tremaining: 50.8s\n333:\tlearn: 0.0328227\ttotal: 25.4s\tremaining: 50.7s\n334:\tlearn: 0.0327193\ttotal: 25.5s\tremaining: 50.7s\n335:\tlearn: 0.0325841\ttotal: 25.6s\tremaining: 50.6s\n336:\tlearn: 0.0324408\ttotal: 25.7s\tremaining: 50.5s\n337:\tlearn: 0.0322908\ttotal: 25.7s\tremaining: 50.4s\n338:\tlearn: 0.0321894\ttotal: 25.8s\tremaining: 50.3s\n339:\tlearn: 0.0320737\ttotal: 25.9s\tremaining: 50.2s\n340:\tlearn: 0.0319283\ttotal: 26s\tremaining: 50.2s\n341:\tlearn: 0.0318178\ttotal: 26s\tremaining: 50.1s\n342:\tlearn: 0.0316924\ttotal: 26.1s\tremaining: 50s\n343:\tlearn: 0.0316056\ttotal: 26.2s\tremaining: 49.9s\n344:\tlearn: 0.0314679\ttotal: 26.3s\tremaining: 49.9s\n345:\tlearn: 0.0313572\ttotal: 26.3s\tremaining: 49.8s\n346:\tlearn: 0.0312694\ttotal: 26.4s\tremaining: 49.7s\n347:\tlearn: 0.0311678\ttotal: 26.5s\tremaining: 49.6s\n348:\tlearn: 0.0310488\ttotal: 26.6s\tremaining: 49.6s\n349:\tlearn: 0.0309389\ttotal: 26.7s\tremaining: 49.5s\n350:\tlearn: 0.0308178\ttotal: 26.7s\tremaining: 49.4s\n351:\tlearn: 0.0306685\ttotal: 26.8s\tremaining: 49.3s\n352:\tlearn: 0.0305549\ttotal: 26.9s\tremaining: 49.3s\n353:\tlearn: 0.0304618\ttotal: 27s\tremaining: 49.2s\n354:\tlearn: 0.0303261\ttotal: 27s\tremaining: 49.1s\n355:\tlearn: 0.0302398\ttotal: 27.1s\tremaining: 49s\n356:\tlearn: 0.0301495\ttotal: 27.2s\tremaining: 48.9s\n357:\tlearn: 0.0300680\ttotal: 27.2s\tremaining: 48.9s\n358:\tlearn: 0.0299745\ttotal: 27.3s\tremaining: 48.8s\n359:\tlearn: 0.0298365\ttotal: 27.4s\tremaining: 48.7s\n360:\tlearn: 0.0297275\ttotal: 27.5s\tremaining: 48.7s\n361:\tlearn: 0.0296194\ttotal: 27.6s\tremaining: 48.6s\n362:\tlearn: 0.0295292\ttotal: 27.7s\tremaining: 48.5s\n363:\tlearn: 0.0294240\ttotal: 27.7s\tremaining: 48.5s\n364:\tlearn: 0.0293365\ttotal: 27.8s\tremaining: 48.4s\n365:\tlearn: 0.0292611\ttotal: 27.9s\tremaining: 48.3s\n366:\tlearn: 0.0291509\ttotal: 27.9s\tremaining: 48.2s\n367:\tlearn: 0.0290009\ttotal: 28s\tremaining: 48.1s\n368:\tlearn: 0.0289053\ttotal: 28.1s\tremaining: 48s\n369:\tlearn: 0.0288153\ttotal: 28.2s\tremaining: 47.9s\n370:\tlearn: 0.0286902\ttotal: 28.2s\tremaining: 47.9s\n371:\tlearn: 0.0286051\ttotal: 28.3s\tremaining: 47.8s\n372:\tlearn: 0.0284971\ttotal: 28.4s\tremaining: 47.7s\n373:\tlearn: 0.0284112\ttotal: 28.5s\tremaining: 47.6s\n374:\tlearn: 0.0283212\ttotal: 28.5s\tremaining: 47.6s\n375:\tlearn: 0.0281868\ttotal: 28.6s\tremaining: 47.5s\n376:\tlearn: 0.0280584\ttotal: 28.7s\tremaining: 47.4s\n377:\tlearn: 0.0279480\ttotal: 28.8s\tremaining: 47.3s\n378:\tlearn: 0.0278345\ttotal: 28.8s\tremaining: 47.3s\n379:\tlearn: 0.0277541\ttotal: 28.9s\tremaining: 47.2s\n380:\tlearn: 0.0276735\ttotal: 29s\tremaining: 47.1s\n381:\tlearn: 0.0275911\ttotal: 29.1s\tremaining: 47s\n382:\tlearn: 0.0274878\ttotal: 29.1s\tremaining: 46.9s\n383:\tlearn: 0.0273683\ttotal: 29.2s\tremaining: 46.9s\n384:\tlearn: 0.0272821\ttotal: 29.3s\tremaining: 46.8s\n385:\tlearn: 0.0271811\ttotal: 29.4s\tremaining: 46.7s\n386:\tlearn: 0.0270801\ttotal: 29.4s\tremaining: 46.6s\n387:\tlearn: 0.0269905\ttotal: 29.5s\tremaining: 46.5s\n388:\tlearn: 0.0268977\ttotal: 29.6s\tremaining: 46.5s\n389:\tlearn: 0.0268020\ttotal: 29.7s\tremaining: 46.4s\n390:\tlearn: 0.0267405\ttotal: 29.7s\tremaining: 46.3s\n391:\tlearn: 0.0266770\ttotal: 29.8s\tremaining: 46.2s\n392:\tlearn: 0.0265957\ttotal: 29.9s\tremaining: 46.2s\n393:\tlearn: 0.0265172\ttotal: 30s\tremaining: 46.1s\n394:\tlearn: 0.0264343\ttotal: 30s\tremaining: 46s\n395:\tlearn: 0.0263484\ttotal: 30.1s\tremaining: 45.9s\n396:\tlearn: 0.0262685\ttotal: 30.2s\tremaining: 45.8s\n397:\tlearn: 0.0261682\ttotal: 30.3s\tremaining: 45.8s\n398:\tlearn: 0.0260646\ttotal: 30.3s\tremaining: 45.7s\n399:\tlearn: 0.0259859\ttotal: 30.4s\tremaining: 45.6s\n400:\tlearn: 0.0258983\ttotal: 30.5s\tremaining: 45.5s\n401:\tlearn: 0.0258148\ttotal: 30.6s\tremaining: 45.5s\n402:\tlearn: 0.0257267\ttotal: 30.6s\tremaining: 45.4s\n403:\tlearn: 0.0256634\ttotal: 30.7s\tremaining: 45.3s\n404:\tlearn: 0.0255956\ttotal: 30.8s\tremaining: 45.2s\n405:\tlearn: 0.0255344\ttotal: 30.8s\tremaining: 45.1s\n406:\tlearn: 0.0254445\ttotal: 30.9s\tremaining: 45s\n407:\tlearn: 0.0253592\ttotal: 31s\tremaining: 45s\n408:\tlearn: 0.0252942\ttotal: 31.1s\tremaining: 44.9s\n409:\tlearn: 0.0252199\ttotal: 31.1s\tremaining: 44.8s\n410:\tlearn: 0.0251494\ttotal: 31.2s\tremaining: 44.7s\n411:\tlearn: 0.0250715\ttotal: 31.3s\tremaining: 44.7s\n412:\tlearn: 0.0249777\ttotal: 31.4s\tremaining: 44.6s\n413:\tlearn: 0.0249023\ttotal: 31.4s\tremaining: 44.5s\n414:\tlearn: 0.0248475\ttotal: 31.5s\tremaining: 44.4s\n415:\tlearn: 0.0247598\ttotal: 31.6s\tremaining: 44.4s\n416:\tlearn: 0.0247039\ttotal: 31.7s\tremaining: 44.3s\n417:\tlearn: 0.0246274\ttotal: 31.7s\tremaining: 44.2s\n418:\tlearn: 0.0245398\ttotal: 31.8s\tremaining: 44.1s\n419:\tlearn: 0.0244772\ttotal: 31.9s\tremaining: 44s\n420:\tlearn: 0.0244154\ttotal: 32s\tremaining: 44s\n421:\tlearn: 0.0243428\ttotal: 32s\tremaining: 43.9s\n422:\tlearn: 0.0242672\ttotal: 32.1s\tremaining: 43.8s\n423:\tlearn: 0.0241886\ttotal: 32.2s\tremaining: 43.7s\n424:\tlearn: 0.0241278\ttotal: 32.3s\tremaining: 43.7s\n425:\tlearn: 0.0240395\ttotal: 32.3s\tremaining: 43.6s\n426:\tlearn: 0.0239681\ttotal: 32.4s\tremaining: 43.5s\n427:\tlearn: 0.0239147\ttotal: 32.5s\tremaining: 43.5s\n428:\tlearn: 0.0238548\ttotal: 32.6s\tremaining: 43.4s\n429:\tlearn: 0.0238033\ttotal: 32.7s\tremaining: 43.4s\n430:\tlearn: 0.0237337\ttotal: 32.8s\tremaining: 43.3s\n431:\tlearn: 0.0236684\ttotal: 32.9s\tremaining: 43.3s\n432:\tlearn: 0.0236017\ttotal: 33s\tremaining: 43.2s\n433:\tlearn: 0.0235446\ttotal: 33.1s\tremaining: 43.1s\n434:\tlearn: 0.0234647\ttotal: 33.1s\tremaining: 43s\n435:\tlearn: 0.0233979\ttotal: 33.2s\tremaining: 43s\n436:\tlearn: 0.0233097\ttotal: 33.3s\tremaining: 42.9s\n437:\tlearn: 0.0232524\ttotal: 33.4s\tremaining: 42.8s\n438:\tlearn: 0.0231883\ttotal: 33.4s\tremaining: 42.7s\n439:\tlearn: 0.0231247\ttotal: 33.5s\tremaining: 42.6s\n440:\tlearn: 0.0230477\ttotal: 33.6s\tremaining: 42.6s\n441:\tlearn: 0.0229917\ttotal: 33.7s\tremaining: 42.5s\n442:\tlearn: 0.0229238\ttotal: 33.8s\tremaining: 42.4s\n443:\tlearn: 0.0228373\ttotal: 33.8s\tremaining: 42.4s\n444:\tlearn: 0.0227777\ttotal: 33.9s\tremaining: 42.3s\n445:\tlearn: 0.0226989\ttotal: 34s\tremaining: 42.2s\n446:\tlearn: 0.0226304\ttotal: 34.1s\tremaining: 42.1s\n447:\tlearn: 0.0225664\ttotal: 34.1s\tremaining: 42.1s\n448:\tlearn: 0.0225129\ttotal: 34.2s\tremaining: 42s\n449:\tlearn: 0.0224549\ttotal: 34.3s\tremaining: 41.9s\n450:\tlearn: 0.0224075\ttotal: 34.4s\tremaining: 41.8s\n451:\tlearn: 0.0223607\ttotal: 34.5s\tremaining: 41.8s\n452:\tlearn: 0.0223010\ttotal: 34.5s\tremaining: 41.7s\n453:\tlearn: 0.0222137\ttotal: 34.6s\tremaining: 41.6s\n454:\tlearn: 0.0221686\ttotal: 34.7s\tremaining: 41.5s\n455:\tlearn: 0.0220844\ttotal: 34.8s\tremaining: 41.5s\n456:\tlearn: 0.0220260\ttotal: 34.8s\tremaining: 41.4s\n457:\tlearn: 0.0219793\ttotal: 34.9s\tremaining: 41.3s\n458:\tlearn: 0.0219299\ttotal: 35s\tremaining: 41.2s\n459:\tlearn: 0.0218727\ttotal: 35.1s\tremaining: 41.1s\n460:\tlearn: 0.0218089\ttotal: 35.1s\tremaining: 41.1s\n461:\tlearn: 0.0217602\ttotal: 35.2s\tremaining: 41s\n462:\tlearn: 0.0217176\ttotal: 35.3s\tremaining: 40.9s\n463:\tlearn: 0.0216567\ttotal: 35.3s\tremaining: 40.8s\n464:\tlearn: 0.0215955\ttotal: 35.4s\tremaining: 40.7s\n465:\tlearn: 0.0215269\ttotal: 35.5s\tremaining: 40.7s\n466:\tlearn: 0.0214671\ttotal: 35.6s\tremaining: 40.6s\n467:\tlearn: 0.0214203\ttotal: 35.6s\tremaining: 40.5s\n468:\tlearn: 0.0213568\ttotal: 35.7s\tremaining: 40.4s\n469:\tlearn: 0.0213092\ttotal: 35.8s\tremaining: 40.4s\n470:\tlearn: 0.0212529\ttotal: 35.9s\tremaining: 40.3s\n471:\tlearn: 0.0211940\ttotal: 36s\tremaining: 40.2s\n472:\tlearn: 0.0211454\ttotal: 36s\tremaining: 40.1s\n473:\tlearn: 0.0210811\ttotal: 36.1s\tremaining: 40.1s\n474:\tlearn: 0.0210245\ttotal: 36.2s\tremaining: 40s\n475:\tlearn: 0.0209649\ttotal: 36.3s\tremaining: 39.9s\n476:\tlearn: 0.0209069\ttotal: 36.3s\tremaining: 39.8s\n477:\tlearn: 0.0208554\ttotal: 36.4s\tremaining: 39.8s\n478:\tlearn: 0.0208022\ttotal: 36.5s\tremaining: 39.7s\n479:\tlearn: 0.0207539\ttotal: 36.6s\tremaining: 39.6s\n480:\tlearn: 0.0206839\ttotal: 36.6s\tremaining: 39.5s\n481:\tlearn: 0.0206346\ttotal: 36.7s\tremaining: 39.5s\n482:\tlearn: 0.0205757\ttotal: 36.8s\tremaining: 39.4s\n483:\tlearn: 0.0205301\ttotal: 36.9s\tremaining: 39.3s\n484:\tlearn: 0.0204788\ttotal: 37s\tremaining: 39.2s\n485:\tlearn: 0.0204322\ttotal: 37s\tremaining: 39.2s\n486:\tlearn: 0.0203720\ttotal: 37.1s\tremaining: 39.1s\n487:\tlearn: 0.0203157\ttotal: 37.2s\tremaining: 39s\n488:\tlearn: 0.0202770\ttotal: 37.2s\tremaining: 38.9s\n489:\tlearn: 0.0202297\ttotal: 37.3s\tremaining: 38.8s\n490:\tlearn: 0.0201686\ttotal: 37.4s\tremaining: 38.7s\n491:\tlearn: 0.0201169\ttotal: 37.5s\tremaining: 38.7s\n492:\tlearn: 0.0200714\ttotal: 37.5s\tremaining: 38.6s\n493:\tlearn: 0.0200296\ttotal: 37.6s\tremaining: 38.5s\n494:\tlearn: 0.0199794\ttotal: 37.7s\tremaining: 38.5s\n495:\tlearn: 0.0199271\ttotal: 37.8s\tremaining: 38.4s\n496:\tlearn: 0.0198767\ttotal: 37.8s\tremaining: 38.3s\n497:\tlearn: 0.0198339\ttotal: 37.9s\tremaining: 38.2s\n498:\tlearn: 0.0197821\ttotal: 38s\tremaining: 38.1s\n499:\tlearn: 0.0197374\ttotal: 38.1s\tremaining: 38.1s\n500:\tlearn: 0.0196985\ttotal: 38.1s\tremaining: 38s\n501:\tlearn: 0.0196631\ttotal: 38.2s\tremaining: 37.9s\n502:\tlearn: 0.0196227\ttotal: 38.3s\tremaining: 37.8s\n503:\tlearn: 0.0195761\ttotal: 38.4s\tremaining: 37.8s\n504:\tlearn: 0.0195355\ttotal: 38.4s\tremaining: 37.7s\n505:\tlearn: 0.0194886\ttotal: 38.5s\tremaining: 37.6s\n506:\tlearn: 0.0194313\ttotal: 38.6s\tremaining: 37.5s\n507:\tlearn: 0.0193797\ttotal: 38.7s\tremaining: 37.4s\n508:\tlearn: 0.0193287\ttotal: 38.8s\tremaining: 37.4s\n509:\tlearn: 0.0192861\ttotal: 38.8s\tremaining: 37.3s\n510:\tlearn: 0.0192375\ttotal: 38.9s\tremaining: 37.2s\n511:\tlearn: 0.0192074\ttotal: 39s\tremaining: 37.2s\n512:\tlearn: 0.0191694\ttotal: 39.1s\tremaining: 37.1s\n513:\tlearn: 0.0191327\ttotal: 39.1s\tremaining: 37s\n514:\tlearn: 0.0190963\ttotal: 39.2s\tremaining: 36.9s\n515:\tlearn: 0.0190575\ttotal: 39.3s\tremaining: 36.8s\n516:\tlearn: 0.0190133\ttotal: 39.4s\tremaining: 36.8s\n517:\tlearn: 0.0189678\ttotal: 39.4s\tremaining: 36.7s\n518:\tlearn: 0.0189276\ttotal: 39.5s\tremaining: 36.6s\n519:\tlearn: 0.0188831\ttotal: 39.6s\tremaining: 36.5s\n520:\tlearn: 0.0188458\ttotal: 39.7s\tremaining: 36.5s\n521:\tlearn: 0.0187999\ttotal: 39.7s\tremaining: 36.4s\n522:\tlearn: 0.0187639\ttotal: 39.8s\tremaining: 36.3s\n523:\tlearn: 0.0187297\ttotal: 39.9s\tremaining: 36.2s\n524:\tlearn: 0.0186722\ttotal: 40s\tremaining: 36.1s\n525:\tlearn: 0.0186351\ttotal: 40s\tremaining: 36.1s\n526:\tlearn: 0.0185985\ttotal: 40.1s\tremaining: 36s\n527:\tlearn: 0.0185463\ttotal: 40.2s\tremaining: 35.9s\n528:\tlearn: 0.0185020\ttotal: 40.3s\tremaining: 35.8s\n529:\tlearn: 0.0184600\ttotal: 40.3s\tremaining: 35.8s\n530:\tlearn: 0.0184237\ttotal: 40.4s\tremaining: 35.7s\n531:\tlearn: 0.0183886\ttotal: 40.5s\tremaining: 35.6s\n532:\tlearn: 0.0183503\ttotal: 40.6s\tremaining: 35.5s\n533:\tlearn: 0.0183111\ttotal: 40.6s\tremaining: 35.5s\n534:\tlearn: 0.0182769\ttotal: 40.7s\tremaining: 35.4s\n535:\tlearn: 0.0182352\ttotal: 40.8s\tremaining: 35.3s\n536:\tlearn: 0.0182048\ttotal: 40.9s\tremaining: 35.2s\n537:\tlearn: 0.0181640\ttotal: 40.9s\tremaining: 35.2s\n538:\tlearn: 0.0181296\ttotal: 41s\tremaining: 35.1s\n539:\tlearn: 0.0180948\ttotal: 41.1s\tremaining: 35s\n540:\tlearn: 0.0180531\ttotal: 41.2s\tremaining: 34.9s\n541:\tlearn: 0.0180038\ttotal: 41.2s\tremaining: 34.8s\n542:\tlearn: 0.0179605\ttotal: 41.3s\tremaining: 34.8s\n543:\tlearn: 0.0179142\ttotal: 41.4s\tremaining: 34.7s\n544:\tlearn: 0.0178789\ttotal: 41.4s\tremaining: 34.6s\n545:\tlearn: 0.0178481\ttotal: 41.5s\tremaining: 34.5s\n546:\tlearn: 0.0178123\ttotal: 41.6s\tremaining: 34.5s\n547:\tlearn: 0.0177759\ttotal: 41.7s\tremaining: 34.4s\n548:\tlearn: 0.0177334\ttotal: 41.8s\tremaining: 34.3s\n549:\tlearn: 0.0176916\ttotal: 41.8s\tremaining: 34.2s\n550:\tlearn: 0.0176565\ttotal: 41.9s\tremaining: 34.2s\n551:\tlearn: 0.0176286\ttotal: 42s\tremaining: 34.1s\n552:\tlearn: 0.0175839\ttotal: 42.1s\tremaining: 34s\n553:\tlearn: 0.0175440\ttotal: 42.1s\tremaining: 33.9s\n554:\tlearn: 0.0175104\ttotal: 42.2s\tremaining: 33.9s\n555:\tlearn: 0.0174587\ttotal: 42.3s\tremaining: 33.8s\n556:\tlearn: 0.0174313\ttotal: 42.4s\tremaining: 33.7s\n557:\tlearn: 0.0174043\ttotal: 42.5s\tremaining: 33.6s\n558:\tlearn: 0.0173683\ttotal: 42.6s\tremaining: 33.6s\n559:\tlearn: 0.0173375\ttotal: 42.6s\tremaining: 33.5s\n560:\tlearn: 0.0173046\ttotal: 42.7s\tremaining: 33.4s\n561:\tlearn: 0.0172699\ttotal: 42.8s\tremaining: 33.3s\n562:\tlearn: 0.0172280\ttotal: 42.9s\tremaining: 33.3s\n563:\tlearn: 0.0172022\ttotal: 42.9s\tremaining: 33.2s\n564:\tlearn: 0.0171686\ttotal: 43s\tremaining: 33.1s\n565:\tlearn: 0.0171404\ttotal: 43.1s\tremaining: 33s\n566:\tlearn: 0.0171121\ttotal: 43.1s\tremaining: 33s\n567:\tlearn: 0.0170811\ttotal: 43.2s\tremaining: 32.9s\n568:\tlearn: 0.0170546\ttotal: 43.3s\tremaining: 32.8s\n569:\tlearn: 0.0170178\ttotal: 43.4s\tremaining: 32.7s\n570:\tlearn: 0.0169851\ttotal: 43.4s\tremaining: 32.6s\n571:\tlearn: 0.0169486\ttotal: 43.5s\tremaining: 32.6s\n572:\tlearn: 0.0169167\ttotal: 43.6s\tremaining: 32.5s\n573:\tlearn: 0.0168864\ttotal: 43.7s\tremaining: 32.4s\n574:\tlearn: 0.0168541\ttotal: 43.7s\tremaining: 32.3s\n575:\tlearn: 0.0168160\ttotal: 43.8s\tremaining: 32.3s\n576:\tlearn: 0.0167815\ttotal: 43.9s\tremaining: 32.2s\n577:\tlearn: 0.0167585\ttotal: 44s\tremaining: 32.1s\n578:\tlearn: 0.0167268\ttotal: 44.1s\tremaining: 32s\n579:\tlearn: 0.0166826\ttotal: 44.2s\tremaining: 32s\n580:\tlearn: 0.0166490\ttotal: 44.2s\tremaining: 31.9s\n581:\tlearn: 0.0166156\ttotal: 44.3s\tremaining: 31.8s\n582:\tlearn: 0.0165664\ttotal: 44.4s\tremaining: 31.7s\n583:\tlearn: 0.0165417\ttotal: 44.4s\tremaining: 31.7s\n584:\tlearn: 0.0164971\ttotal: 44.5s\tremaining: 31.6s\n585:\tlearn: 0.0164601\ttotal: 44.6s\tremaining: 31.5s\n586:\tlearn: 0.0164258\ttotal: 44.7s\tremaining: 31.4s\n587:\tlearn: 0.0163797\ttotal: 44.7s\tremaining: 31.4s\n588:\tlearn: 0.0163518\ttotal: 44.8s\tremaining: 31.3s\n589:\tlearn: 0.0163121\ttotal: 44.9s\tremaining: 31.2s\n590:\tlearn: 0.0162808\ttotal: 45s\tremaining: 31.1s\n591:\tlearn: 0.0162561\ttotal: 45.1s\tremaining: 31.1s\n592:\tlearn: 0.0162234\ttotal: 45.1s\tremaining: 31s\n593:\tlearn: 0.0161822\ttotal: 45.2s\tremaining: 30.9s\n594:\tlearn: 0.0161518\ttotal: 45.3s\tremaining: 30.8s\n595:\tlearn: 0.0161132\ttotal: 45.4s\tremaining: 30.8s\n596:\tlearn: 0.0160863\ttotal: 45.4s\tremaining: 30.7s\n597:\tlearn: 0.0160609\ttotal: 45.5s\tremaining: 30.6s\n598:\tlearn: 0.0160321\ttotal: 45.6s\tremaining: 30.5s\n599:\tlearn: 0.0159928\ttotal: 45.7s\tremaining: 30.4s\n600:\tlearn: 0.0159651\ttotal: 45.7s\tremaining: 30.4s\n601:\tlearn: 0.0159296\ttotal: 45.8s\tremaining: 30.3s\n602:\tlearn: 0.0158954\ttotal: 45.9s\tremaining: 30.2s\n603:\tlearn: 0.0158641\ttotal: 46s\tremaining: 30.1s\n604:\tlearn: 0.0158288\ttotal: 46s\tremaining: 30.1s\n605:\tlearn: 0.0157969\ttotal: 46.1s\tremaining: 30s\n606:\tlearn: 0.0157731\ttotal: 46.2s\tremaining: 29.9s\n607:\tlearn: 0.0157463\ttotal: 46.3s\tremaining: 29.8s\n608:\tlearn: 0.0157098\ttotal: 46.3s\tremaining: 29.8s\n609:\tlearn: 0.0156741\ttotal: 46.4s\tremaining: 29.7s\n610:\tlearn: 0.0156479\ttotal: 46.5s\tremaining: 29.6s\n611:\tlearn: 0.0156228\ttotal: 46.6s\tremaining: 29.5s\n612:\tlearn: 0.0155978\ttotal: 46.6s\tremaining: 29.4s\n613:\tlearn: 0.0155629\ttotal: 46.7s\tremaining: 29.4s\n614:\tlearn: 0.0155314\ttotal: 46.8s\tremaining: 29.3s\n615:\tlearn: 0.0155056\ttotal: 46.9s\tremaining: 29.2s\n616:\tlearn: 0.0154791\ttotal: 47s\tremaining: 29.1s\n617:\tlearn: 0.0154447\ttotal: 47s\tremaining: 29.1s\n618:\tlearn: 0.0154142\ttotal: 47.1s\tremaining: 29s\n619:\tlearn: 0.0153757\ttotal: 47.2s\tremaining: 28.9s\n620:\tlearn: 0.0153400\ttotal: 47.2s\tremaining: 28.8s\n621:\tlearn: 0.0153083\ttotal: 47.3s\tremaining: 28.8s\n622:\tlearn: 0.0152751\ttotal: 47.4s\tremaining: 28.7s\n623:\tlearn: 0.0152436\ttotal: 47.5s\tremaining: 28.6s\n624:\tlearn: 0.0152175\ttotal: 47.5s\tremaining: 28.5s\n625:\tlearn: 0.0151925\ttotal: 47.6s\tremaining: 28.4s\n626:\tlearn: 0.0151659\ttotal: 47.7s\tremaining: 28.4s\n627:\tlearn: 0.0151376\ttotal: 47.8s\tremaining: 28.3s\n628:\tlearn: 0.0150950\ttotal: 47.8s\tremaining: 28.2s\n629:\tlearn: 0.0150698\ttotal: 47.9s\tremaining: 28.1s\n630:\tlearn: 0.0150423\ttotal: 48s\tremaining: 28.1s\n631:\tlearn: 0.0150152\ttotal: 48.1s\tremaining: 28s\n632:\tlearn: 0.0149867\ttotal: 48.2s\tremaining: 27.9s\n633:\tlearn: 0.0149639\ttotal: 48.2s\tremaining: 27.8s\n634:\tlearn: 0.0149353\ttotal: 48.3s\tremaining: 27.8s\n635:\tlearn: 0.0149052\ttotal: 48.4s\tremaining: 27.7s\n636:\tlearn: 0.0148810\ttotal: 48.4s\tremaining: 27.6s\n637:\tlearn: 0.0148614\ttotal: 48.5s\tremaining: 27.5s\n638:\tlearn: 0.0148361\ttotal: 48.6s\tremaining: 27.4s\n639:\tlearn: 0.0148069\ttotal: 48.7s\tremaining: 27.4s\n640:\tlearn: 0.0147796\ttotal: 48.7s\tremaining: 27.3s\n641:\tlearn: 0.0147519\ttotal: 48.8s\tremaining: 27.2s\n642:\tlearn: 0.0147144\ttotal: 48.9s\tremaining: 27.1s\n643:\tlearn: 0.0146903\ttotal: 49s\tremaining: 27.1s\n644:\tlearn: 0.0146645\ttotal: 49.1s\tremaining: 27s\n645:\tlearn: 0.0146340\ttotal: 49.1s\tremaining: 26.9s\n646:\tlearn: 0.0145968\ttotal: 49.2s\tremaining: 26.8s\n647:\tlearn: 0.0145697\ttotal: 49.3s\tremaining: 26.8s\n648:\tlearn: 0.0145490\ttotal: 49.3s\tremaining: 26.7s\n649:\tlearn: 0.0145276\ttotal: 49.4s\tremaining: 26.6s\n650:\tlearn: 0.0145060\ttotal: 49.5s\tremaining: 26.5s\n651:\tlearn: 0.0144854\ttotal: 49.6s\tremaining: 26.5s\n652:\tlearn: 0.0144597\ttotal: 49.6s\tremaining: 26.4s\n653:\tlearn: 0.0144378\ttotal: 49.7s\tremaining: 26.3s\n654:\tlearn: 0.0144079\ttotal: 49.8s\tremaining: 26.2s\n655:\tlearn: 0.0143851\ttotal: 49.9s\tremaining: 26.1s\n656:\tlearn: 0.0143588\ttotal: 49.9s\tremaining: 26.1s\n657:\tlearn: 0.0143390\ttotal: 50s\tremaining: 26s\n658:\tlearn: 0.0142983\ttotal: 50.1s\tremaining: 25.9s\n659:\tlearn: 0.0142767\ttotal: 50.2s\tremaining: 25.8s\n660:\tlearn: 0.0142519\ttotal: 50.2s\tremaining: 25.8s\n661:\tlearn: 0.0142289\ttotal: 50.3s\tremaining: 25.7s\n662:\tlearn: 0.0142100\ttotal: 50.4s\tremaining: 25.6s\n663:\tlearn: 0.0141892\ttotal: 50.5s\tremaining: 25.5s\n664:\tlearn: 0.0141648\ttotal: 50.5s\tremaining: 25.5s\n665:\tlearn: 0.0141387\ttotal: 50.6s\tremaining: 25.4s\n666:\tlearn: 0.0141191\ttotal: 50.7s\tremaining: 25.3s\n667:\tlearn: 0.0140955\ttotal: 50.8s\tremaining: 25.2s\n668:\tlearn: 0.0140774\ttotal: 50.8s\tremaining: 25.1s\n669:\tlearn: 0.0140603\ttotal: 50.9s\tremaining: 25.1s\n670:\tlearn: 0.0140364\ttotal: 51s\tremaining: 25s\n671:\tlearn: 0.0140077\ttotal: 51.1s\tremaining: 24.9s\n672:\tlearn: 0.0139910\ttotal: 51.2s\tremaining: 24.9s\n673:\tlearn: 0.0139703\ttotal: 51.2s\tremaining: 24.8s\n674:\tlearn: 0.0139496\ttotal: 51.3s\tremaining: 24.7s\n675:\tlearn: 0.0139195\ttotal: 51.4s\tremaining: 24.6s\n676:\tlearn: 0.0138975\ttotal: 51.5s\tremaining: 24.5s\n677:\tlearn: 0.0138800\ttotal: 51.5s\tremaining: 24.5s\n678:\tlearn: 0.0138542\ttotal: 51.6s\tremaining: 24.4s\n679:\tlearn: 0.0138342\ttotal: 51.7s\tremaining: 24.3s\n680:\tlearn: 0.0138051\ttotal: 51.8s\tremaining: 24.2s\n681:\tlearn: 0.0137777\ttotal: 51.8s\tremaining: 24.2s\n682:\tlearn: 0.0137555\ttotal: 51.9s\tremaining: 24.1s\n683:\tlearn: 0.0137293\ttotal: 52s\tremaining: 24s\n684:\tlearn: 0.0137062\ttotal: 52.1s\tremaining: 23.9s\n685:\tlearn: 0.0136861\ttotal: 52.1s\tremaining: 23.9s\n686:\tlearn: 0.0136667\ttotal: 52.2s\tremaining: 23.8s\n687:\tlearn: 0.0136440\ttotal: 52.3s\tremaining: 23.7s\n688:\tlearn: 0.0136226\ttotal: 52.4s\tremaining: 23.6s\n689:\tlearn: 0.0135996\ttotal: 52.5s\tremaining: 23.6s\n690:\tlearn: 0.0135759\ttotal: 52.5s\tremaining: 23.5s\n691:\tlearn: 0.0135508\ttotal: 52.6s\tremaining: 23.4s\n692:\tlearn: 0.0135247\ttotal: 52.7s\tremaining: 23.3s\n693:\tlearn: 0.0134989\ttotal: 52.8s\tremaining: 23.3s\n694:\tlearn: 0.0134775\ttotal: 52.9s\tremaining: 23.2s\n695:\tlearn: 0.0134548\ttotal: 52.9s\tremaining: 23.1s\n696:\tlearn: 0.0134338\ttotal: 53s\tremaining: 23s\n697:\tlearn: 0.0134176\ttotal: 53.1s\tremaining: 23s\n698:\tlearn: 0.0133936\ttotal: 53.2s\tremaining: 22.9s\n699:\tlearn: 0.0133690\ttotal: 53.2s\tremaining: 22.8s\n700:\tlearn: 0.0133437\ttotal: 53.3s\tremaining: 22.7s\n701:\tlearn: 0.0133268\ttotal: 53.4s\tremaining: 22.7s\n702:\tlearn: 0.0133046\ttotal: 53.5s\tremaining: 22.6s\n703:\tlearn: 0.0132886\ttotal: 53.5s\tremaining: 22.5s\n704:\tlearn: 0.0132679\ttotal: 53.6s\tremaining: 22.4s\n705:\tlearn: 0.0132382\ttotal: 53.7s\tremaining: 22.4s\n706:\tlearn: 0.0132194\ttotal: 53.8s\tremaining: 22.3s\n707:\tlearn: 0.0132009\ttotal: 53.8s\tremaining: 22.2s\n708:\tlearn: 0.0131776\ttotal: 53.9s\tremaining: 22.1s\n709:\tlearn: 0.0131569\ttotal: 54s\tremaining: 22.1s\n710:\tlearn: 0.0131389\ttotal: 54.1s\tremaining: 22s\n711:\tlearn: 0.0131140\ttotal: 54.2s\tremaining: 21.9s\n712:\tlearn: 0.0130944\ttotal: 54.3s\tremaining: 21.8s\n713:\tlearn: 0.0130708\ttotal: 54.4s\tremaining: 21.8s\n714:\tlearn: 0.0130516\ttotal: 54.4s\tremaining: 21.7s\n715:\tlearn: 0.0130334\ttotal: 54.5s\tremaining: 21.6s\n716:\tlearn: 0.0130161\ttotal: 54.6s\tremaining: 21.5s\n717:\tlearn: 0.0129998\ttotal: 54.6s\tremaining: 21.5s\n718:\tlearn: 0.0129774\ttotal: 54.7s\tremaining: 21.4s\n719:\tlearn: 0.0129544\ttotal: 54.8s\tremaining: 21.3s\n720:\tlearn: 0.0129335\ttotal: 54.9s\tremaining: 21.2s\n721:\tlearn: 0.0129114\ttotal: 55s\tremaining: 21.2s\n722:\tlearn: 0.0128939\ttotal: 55s\tremaining: 21.1s\n723:\tlearn: 0.0128747\ttotal: 55.1s\tremaining: 21s\n724:\tlearn: 0.0128557\ttotal: 55.2s\tremaining: 20.9s\n725:\tlearn: 0.0128278\ttotal: 55.3s\tremaining: 20.9s\n726:\tlearn: 0.0128011\ttotal: 55.3s\tremaining: 20.8s\n727:\tlearn: 0.0127841\ttotal: 55.4s\tremaining: 20.7s\n728:\tlearn: 0.0127660\ttotal: 55.5s\tremaining: 20.6s\n729:\tlearn: 0.0127475\ttotal: 55.6s\tremaining: 20.5s\n730:\tlearn: 0.0127278\ttotal: 55.6s\tremaining: 20.5s\n731:\tlearn: 0.0127135\ttotal: 55.7s\tremaining: 20.4s\n732:\tlearn: 0.0126902\ttotal: 55.8s\tremaining: 20.3s\n733:\tlearn: 0.0126649\ttotal: 55.8s\tremaining: 20.2s\n734:\tlearn: 0.0126403\ttotal: 55.9s\tremaining: 20.2s\n735:\tlearn: 0.0126169\ttotal: 56s\tremaining: 20.1s\n736:\tlearn: 0.0125999\ttotal: 56.1s\tremaining: 20s\n737:\tlearn: 0.0125816\ttotal: 56.1s\tremaining: 19.9s\n738:\tlearn: 0.0125596\ttotal: 56.2s\tremaining: 19.9s\n739:\tlearn: 0.0125417\ttotal: 56.3s\tremaining: 19.8s\n740:\tlearn: 0.0125236\ttotal: 56.4s\tremaining: 19.7s\n741:\tlearn: 0.0125039\ttotal: 56.5s\tremaining: 19.6s\n742:\tlearn: 0.0124885\ttotal: 56.5s\tremaining: 19.5s\n743:\tlearn: 0.0124719\ttotal: 56.6s\tremaining: 19.5s\n744:\tlearn: 0.0124506\ttotal: 56.7s\tremaining: 19.4s\n745:\tlearn: 0.0124268\ttotal: 56.8s\tremaining: 19.3s\n746:\tlearn: 0.0124107\ttotal: 56.8s\tremaining: 19.2s\n747:\tlearn: 0.0123921\ttotal: 56.9s\tremaining: 19.2s\n748:\tlearn: 0.0123787\ttotal: 57s\tremaining: 19.1s\n749:\tlearn: 0.0123542\ttotal: 57s\tremaining: 19s\n750:\tlearn: 0.0123334\ttotal: 57.1s\tremaining: 18.9s\n751:\tlearn: 0.0123184\ttotal: 57.2s\tremaining: 18.9s\n752:\tlearn: 0.0123010\ttotal: 57.3s\tremaining: 18.8s\n753:\tlearn: 0.0122860\ttotal: 57.4s\tremaining: 18.7s\n754:\tlearn: 0.0122676\ttotal: 57.4s\tremaining: 18.6s\n755:\tlearn: 0.0122508\ttotal: 57.5s\tremaining: 18.6s\n756:\tlearn: 0.0122271\ttotal: 57.6s\tremaining: 18.5s\n757:\tlearn: 0.0122092\ttotal: 57.7s\tremaining: 18.4s\n758:\tlearn: 0.0121843\ttotal: 57.7s\tremaining: 18.3s\n759:\tlearn: 0.0121673\ttotal: 57.8s\tremaining: 18.3s\n760:\tlearn: 0.0121474\ttotal: 57.9s\tremaining: 18.2s\n761:\tlearn: 0.0121245\ttotal: 58s\tremaining: 18.1s\n762:\tlearn: 0.0121057\ttotal: 58s\tremaining: 18s\n763:\tlearn: 0.0120819\ttotal: 58.1s\tremaining: 18s\n764:\tlearn: 0.0120539\ttotal: 58.2s\tremaining: 17.9s\n765:\tlearn: 0.0120368\ttotal: 58.3s\tremaining: 17.8s\n766:\tlearn: 0.0120178\ttotal: 58.4s\tremaining: 17.7s\n767:\tlearn: 0.0119991\ttotal: 58.4s\tremaining: 17.6s\n768:\tlearn: 0.0119751\ttotal: 58.5s\tremaining: 17.6s\n769:\tlearn: 0.0119567\ttotal: 58.6s\tremaining: 17.5s\n770:\tlearn: 0.0119345\ttotal: 58.7s\tremaining: 17.4s\n771:\tlearn: 0.0119181\ttotal: 58.7s\tremaining: 17.3s\n772:\tlearn: 0.0118992\ttotal: 58.8s\tremaining: 17.3s\n773:\tlearn: 0.0118790\ttotal: 58.9s\tremaining: 17.2s\n774:\tlearn: 0.0118654\ttotal: 59s\tremaining: 17.1s\n775:\tlearn: 0.0118456\ttotal: 59.1s\tremaining: 17s\n776:\tlearn: 0.0118299\ttotal: 59.1s\tremaining: 17s\n777:\tlearn: 0.0118094\ttotal: 59.2s\tremaining: 16.9s\n778:\tlearn: 0.0117830\ttotal: 59.3s\tremaining: 16.8s\n779:\tlearn: 0.0117600\ttotal: 59.4s\tremaining: 16.8s\n780:\tlearn: 0.0117415\ttotal: 59.5s\tremaining: 16.7s\n781:\tlearn: 0.0117230\ttotal: 59.5s\tremaining: 16.6s\n782:\tlearn: 0.0117083\ttotal: 59.6s\tremaining: 16.5s\n783:\tlearn: 0.0116917\ttotal: 59.7s\tremaining: 16.4s\n784:\tlearn: 0.0116777\ttotal: 59.8s\tremaining: 16.4s\n785:\tlearn: 0.0116575\ttotal: 59.8s\tremaining: 16.3s\n786:\tlearn: 0.0116335\ttotal: 59.9s\tremaining: 16.2s\n787:\tlearn: 0.0116187\ttotal: 60s\tremaining: 16.1s\n788:\tlearn: 0.0115997\ttotal: 1m\tremaining: 16.1s\n789:\tlearn: 0.0115806\ttotal: 1m\tremaining: 16s\n790:\tlearn: 0.0115621\ttotal: 1m\tremaining: 15.9s\n791:\tlearn: 0.0115470\ttotal: 1m\tremaining: 15.8s\n792:\tlearn: 0.0115323\ttotal: 1m\tremaining: 15.8s\n793:\tlearn: 0.0115140\ttotal: 1m\tremaining: 15.7s\n794:\tlearn: 0.0114988\ttotal: 1m\tremaining: 15.6s\n795:\tlearn: 0.0114847\ttotal: 1m\tremaining: 15.5s\n796:\tlearn: 0.0114650\ttotal: 1m\tremaining: 15.4s\n797:\tlearn: 0.0114440\ttotal: 1m\tremaining: 15.4s\n798:\tlearn: 0.0114288\ttotal: 1m\tremaining: 15.3s\n799:\tlearn: 0.0114104\ttotal: 1m\tremaining: 15.2s\n800:\tlearn: 0.0113923\ttotal: 1m\tremaining: 15.1s\n801:\tlearn: 0.0113750\ttotal: 1m 1s\tremaining: 15.1s\n802:\tlearn: 0.0113624\ttotal: 1m 1s\tremaining: 15s\n803:\tlearn: 0.0113423\ttotal: 1m 1s\tremaining: 14.9s\n804:\tlearn: 0.0113265\ttotal: 1m 1s\tremaining: 14.8s\n805:\tlearn: 0.0113108\ttotal: 1m 1s\tremaining: 14.8s\n806:\tlearn: 0.0112963\ttotal: 1m 1s\tremaining: 14.7s\n807:\tlearn: 0.0112829\ttotal: 1m 1s\tremaining: 14.6s\n808:\tlearn: 0.0112636\ttotal: 1m 1s\tremaining: 14.5s\n809:\tlearn: 0.0112484\ttotal: 1m 1s\tremaining: 14.5s\n810:\tlearn: 0.0112345\ttotal: 1m 1s\tremaining: 14.4s\n811:\tlearn: 0.0112200\ttotal: 1m 1s\tremaining: 14.3s\n812:\tlearn: 0.0112056\ttotal: 1m 1s\tremaining: 14.2s\n813:\tlearn: 0.0111844\ttotal: 1m 1s\tremaining: 14.2s\n814:\tlearn: 0.0111697\ttotal: 1m 2s\tremaining: 14.1s\n815:\tlearn: 0.0111501\ttotal: 1m 2s\tremaining: 14s\n816:\tlearn: 0.0111279\ttotal: 1m 2s\tremaining: 13.9s\n817:\tlearn: 0.0111149\ttotal: 1m 2s\tremaining: 13.8s\n818:\tlearn: 0.0111009\ttotal: 1m 2s\tremaining: 13.8s\n819:\tlearn: 0.0110874\ttotal: 1m 2s\tremaining: 13.7s\n820:\tlearn: 0.0110746\ttotal: 1m 2s\tremaining: 13.6s\n821:\tlearn: 0.0110548\ttotal: 1m 2s\tremaining: 13.6s\n822:\tlearn: 0.0110417\ttotal: 1m 2s\tremaining: 13.5s\n823:\tlearn: 0.0110273\ttotal: 1m 2s\tremaining: 13.4s\n824:\tlearn: 0.0110123\ttotal: 1m 2s\tremaining: 13.3s\n825:\tlearn: 0.0109953\ttotal: 1m 2s\tremaining: 13.3s\n826:\tlearn: 0.0109784\ttotal: 1m 3s\tremaining: 13.2s\n827:\tlearn: 0.0109567\ttotal: 1m 3s\tremaining: 13.1s\n828:\tlearn: 0.0109422\ttotal: 1m 3s\tremaining: 13s\n829:\tlearn: 0.0109256\ttotal: 1m 3s\tremaining: 13s\n830:\tlearn: 0.0109066\ttotal: 1m 3s\tremaining: 12.9s\n831:\tlearn: 0.0108907\ttotal: 1m 3s\tremaining: 12.8s\n832:\tlearn: 0.0108757\ttotal: 1m 3s\tremaining: 12.7s\n833:\tlearn: 0.0108628\ttotal: 1m 3s\tremaining: 12.6s\n834:\tlearn: 0.0108504\ttotal: 1m 3s\tremaining: 12.6s\n835:\tlearn: 0.0108368\ttotal: 1m 3s\tremaining: 12.5s\n836:\tlearn: 0.0108204\ttotal: 1m 3s\tremaining: 12.4s\n837:\tlearn: 0.0108044\ttotal: 1m 3s\tremaining: 12.3s\n838:\tlearn: 0.0107849\ttotal: 1m 3s\tremaining: 12.3s\n839:\tlearn: 0.0107692\ttotal: 1m 4s\tremaining: 12.2s\n840:\tlearn: 0.0107563\ttotal: 1m 4s\tremaining: 12.1s\n841:\tlearn: 0.0107418\ttotal: 1m 4s\tremaining: 12.1s\n842:\tlearn: 0.0107274\ttotal: 1m 4s\tremaining: 12s\n843:\tlearn: 0.0107126\ttotal: 1m 4s\tremaining: 11.9s\n844:\tlearn: 0.0106980\ttotal: 1m 4s\tremaining: 11.8s\n845:\tlearn: 0.0106849\ttotal: 1m 4s\tremaining: 11.7s\n846:\tlearn: 0.0106681\ttotal: 1m 4s\tremaining: 11.7s\n847:\tlearn: 0.0106562\ttotal: 1m 4s\tremaining: 11.6s\n848:\tlearn: 0.0106405\ttotal: 1m 4s\tremaining: 11.5s\n849:\tlearn: 0.0106300\ttotal: 1m 4s\tremaining: 11.4s\n850:\tlearn: 0.0106147\ttotal: 1m 4s\tremaining: 11.4s\n851:\tlearn: 0.0105990\ttotal: 1m 4s\tremaining: 11.3s\n852:\tlearn: 0.0105826\ttotal: 1m 5s\tremaining: 11.2s\n853:\tlearn: 0.0105631\ttotal: 1m 5s\tremaining: 11.1s\n854:\tlearn: 0.0105507\ttotal: 1m 5s\tremaining: 11.1s\n855:\tlearn: 0.0105382\ttotal: 1m 5s\tremaining: 11s\n856:\tlearn: 0.0105203\ttotal: 1m 5s\tremaining: 10.9s\n857:\tlearn: 0.0105029\ttotal: 1m 5s\tremaining: 10.8s\n858:\tlearn: 0.0104884\ttotal: 1m 5s\tremaining: 10.7s\n859:\tlearn: 0.0104775\ttotal: 1m 5s\tremaining: 10.7s\n860:\tlearn: 0.0104629\ttotal: 1m 5s\tremaining: 10.6s\n861:\tlearn: 0.0104496\ttotal: 1m 5s\tremaining: 10.5s\n862:\tlearn: 0.0104389\ttotal: 1m 5s\tremaining: 10.4s\n863:\tlearn: 0.0104236\ttotal: 1m 5s\tremaining: 10.4s\n864:\tlearn: 0.0104067\ttotal: 1m 5s\tremaining: 10.3s\n865:\tlearn: 0.0103915\ttotal: 1m 6s\tremaining: 10.2s\n866:\tlearn: 0.0103766\ttotal: 1m 6s\tremaining: 10.1s\n867:\tlearn: 0.0103624\ttotal: 1m 6s\tremaining: 10.1s\n868:\tlearn: 0.0103506\ttotal: 1m 6s\tremaining: 9.98s\n869:\tlearn: 0.0103358\ttotal: 1m 6s\tremaining: 9.91s\n870:\tlearn: 0.0103189\ttotal: 1m 6s\tremaining: 9.83s\n871:\tlearn: 0.0103029\ttotal: 1m 6s\tremaining: 9.76s\n872:\tlearn: 0.0102951\ttotal: 1m 6s\tremaining: 9.68s\n873:\tlearn: 0.0102743\ttotal: 1m 6s\tremaining: 9.6s\n874:\tlearn: 0.0102559\ttotal: 1m 6s\tremaining: 9.53s\n875:\tlearn: 0.0102451\ttotal: 1m 6s\tremaining: 9.45s\n876:\tlearn: 0.0102297\ttotal: 1m 6s\tremaining: 9.38s\n877:\tlearn: 0.0102183\ttotal: 1m 6s\tremaining: 9.3s\n878:\tlearn: 0.0102068\ttotal: 1m 7s\tremaining: 9.22s\n879:\tlearn: 0.0101876\ttotal: 1m 7s\tremaining: 9.14s\n880:\tlearn: 0.0101768\ttotal: 1m 7s\tremaining: 9.07s\n881:\tlearn: 0.0101672\ttotal: 1m 7s\tremaining: 8.99s\n882:\tlearn: 0.0101495\ttotal: 1m 7s\tremaining: 8.91s\n883:\tlearn: 0.0101349\ttotal: 1m 7s\tremaining: 8.84s\n884:\tlearn: 0.0101227\ttotal: 1m 7s\tremaining: 8.76s\n885:\tlearn: 0.0101104\ttotal: 1m 7s\tremaining: 8.69s\n886:\tlearn: 0.0101007\ttotal: 1m 7s\tremaining: 8.61s\n887:\tlearn: 0.0100898\ttotal: 1m 7s\tremaining: 8.53s\n888:\tlearn: 0.0100779\ttotal: 1m 7s\tremaining: 8.46s\n889:\tlearn: 0.0100673\ttotal: 1m 7s\tremaining: 8.38s\n890:\tlearn: 0.0100559\ttotal: 1m 7s\tremaining: 8.31s\n891:\tlearn: 0.0100449\ttotal: 1m 7s\tremaining: 8.23s\n892:\tlearn: 0.0100322\ttotal: 1m 8s\tremaining: 8.15s\n893:\tlearn: 0.0100200\ttotal: 1m 8s\tremaining: 8.08s\n894:\tlearn: 0.0100069\ttotal: 1m 8s\tremaining: 8s\n895:\tlearn: 0.0099912\ttotal: 1m 8s\tremaining: 7.92s\n896:\tlearn: 0.0099752\ttotal: 1m 8s\tremaining: 7.85s\n897:\tlearn: 0.0099655\ttotal: 1m 8s\tremaining: 7.77s\n898:\tlearn: 0.0099530\ttotal: 1m 8s\tremaining: 7.7s\n899:\tlearn: 0.0099435\ttotal: 1m 8s\tremaining: 7.62s\n900:\tlearn: 0.0099317\ttotal: 1m 8s\tremaining: 7.54s\n901:\tlearn: 0.0099207\ttotal: 1m 8s\tremaining: 7.47s\n902:\tlearn: 0.0099076\ttotal: 1m 8s\tremaining: 7.39s\n903:\tlearn: 0.0098979\ttotal: 1m 8s\tremaining: 7.32s\n904:\tlearn: 0.0098866\ttotal: 1m 8s\tremaining: 7.24s\n905:\tlearn: 0.0098709\ttotal: 1m 9s\tremaining: 7.16s\n906:\tlearn: 0.0098571\ttotal: 1m 9s\tremaining: 7.09s\n907:\tlearn: 0.0098440\ttotal: 1m 9s\tremaining: 7.01s\n908:\tlearn: 0.0098314\ttotal: 1m 9s\tremaining: 6.93s\n909:\tlearn: 0.0098133\ttotal: 1m 9s\tremaining: 6.86s\n910:\tlearn: 0.0097995\ttotal: 1m 9s\tremaining: 6.78s\n911:\tlearn: 0.0097866\ttotal: 1m 9s\tremaining: 6.7s\n912:\tlearn: 0.0097757\ttotal: 1m 9s\tremaining: 6.63s\n913:\tlearn: 0.0097607\ttotal: 1m 9s\tremaining: 6.55s\n914:\tlearn: 0.0097513\ttotal: 1m 9s\tremaining: 6.48s\n915:\tlearn: 0.0097423\ttotal: 1m 9s\tremaining: 6.4s\n916:\tlearn: 0.0097263\ttotal: 1m 9s\tremaining: 6.32s\n917:\tlearn: 0.0097139\ttotal: 1m 9s\tremaining: 6.25s\n918:\tlearn: 0.0096997\ttotal: 1m 10s\tremaining: 6.17s\n919:\tlearn: 0.0096854\ttotal: 1m 10s\tremaining: 6.1s\n920:\tlearn: 0.0096753\ttotal: 1m 10s\tremaining: 6.02s\n921:\tlearn: 0.0096616\ttotal: 1m 10s\tremaining: 5.94s\n922:\tlearn: 0.0096476\ttotal: 1m 10s\tremaining: 5.87s\n923:\tlearn: 0.0096327\ttotal: 1m 10s\tremaining: 5.79s\n924:\tlearn: 0.0096198\ttotal: 1m 10s\tremaining: 5.71s\n925:\tlearn: 0.0096056\ttotal: 1m 10s\tremaining: 5.64s\n926:\tlearn: 0.0095959\ttotal: 1m 10s\tremaining: 5.56s\n927:\tlearn: 0.0095844\ttotal: 1m 10s\tremaining: 5.49s\n928:\tlearn: 0.0095723\ttotal: 1m 10s\tremaining: 5.41s\n929:\tlearn: 0.0095614\ttotal: 1m 10s\tremaining: 5.33s\n930:\tlearn: 0.0095512\ttotal: 1m 10s\tremaining: 5.26s\n931:\tlearn: 0.0095392\ttotal: 1m 11s\tremaining: 5.18s\n932:\tlearn: 0.0095298\ttotal: 1m 11s\tremaining: 5.11s\n933:\tlearn: 0.0095193\ttotal: 1m 11s\tremaining: 5.03s\n934:\tlearn: 0.0095089\ttotal: 1m 11s\tremaining: 4.95s\n935:\tlearn: 0.0094987\ttotal: 1m 11s\tremaining: 4.88s\n936:\tlearn: 0.0094859\ttotal: 1m 11s\tremaining: 4.8s\n937:\tlearn: 0.0094718\ttotal: 1m 11s\tremaining: 4.72s\n938:\tlearn: 0.0094635\ttotal: 1m 11s\tremaining: 4.65s\n939:\tlearn: 0.0094533\ttotal: 1m 11s\tremaining: 4.57s\n940:\tlearn: 0.0094433\ttotal: 1m 11s\tremaining: 4.5s\n941:\tlearn: 0.0094327\ttotal: 1m 11s\tremaining: 4.42s\n942:\tlearn: 0.0094205\ttotal: 1m 11s\tremaining: 4.34s\n943:\tlearn: 0.0094101\ttotal: 1m 11s\tremaining: 4.27s\n944:\tlearn: 0.0093969\ttotal: 1m 12s\tremaining: 4.19s\n945:\tlearn: 0.0093885\ttotal: 1m 12s\tremaining: 4.12s\n946:\tlearn: 0.0093795\ttotal: 1m 12s\tremaining: 4.04s\n947:\tlearn: 0.0093694\ttotal: 1m 12s\tremaining: 3.96s\n948:\tlearn: 0.0093597\ttotal: 1m 12s\tremaining: 3.89s\n949:\tlearn: 0.0093491\ttotal: 1m 12s\tremaining: 3.81s\n950:\tlearn: 0.0093386\ttotal: 1m 12s\tremaining: 3.74s\n951:\tlearn: 0.0093291\ttotal: 1m 12s\tremaining: 3.66s\n952:\tlearn: 0.0093203\ttotal: 1m 12s\tremaining: 3.58s\n953:\tlearn: 0.0093118\ttotal: 1m 12s\tremaining: 3.51s\n954:\tlearn: 0.0092987\ttotal: 1m 12s\tremaining: 3.43s\n955:\tlearn: 0.0092848\ttotal: 1m 12s\tremaining: 3.35s\n956:\tlearn: 0.0092743\ttotal: 1m 12s\tremaining: 3.28s\n957:\tlearn: 0.0092643\ttotal: 1m 13s\tremaining: 3.2s\n958:\tlearn: 0.0092549\ttotal: 1m 13s\tremaining: 3.13s\n959:\tlearn: 0.0092422\ttotal: 1m 13s\tremaining: 3.05s\n960:\tlearn: 0.0092340\ttotal: 1m 13s\tremaining: 2.97s\n961:\tlearn: 0.0092164\ttotal: 1m 13s\tremaining: 2.9s\n962:\tlearn: 0.0092067\ttotal: 1m 13s\tremaining: 2.82s\n963:\tlearn: 0.0091849\ttotal: 1m 13s\tremaining: 2.75s\n964:\tlearn: 0.0091765\ttotal: 1m 13s\tremaining: 2.67s\n965:\tlearn: 0.0091672\ttotal: 1m 13s\tremaining: 2.59s\n966:\tlearn: 0.0091550\ttotal: 1m 13s\tremaining: 2.52s\n967:\tlearn: 0.0091449\ttotal: 1m 13s\tremaining: 2.44s\n968:\tlearn: 0.0091358\ttotal: 1m 13s\tremaining: 2.36s\n969:\tlearn: 0.0091257\ttotal: 1m 14s\tremaining: 2.29s\n970:\tlearn: 0.0091185\ttotal: 1m 14s\tremaining: 2.21s\n971:\tlearn: 0.0091117\ttotal: 1m 14s\tremaining: 2.14s\n972:\tlearn: 0.0091006\ttotal: 1m 14s\tremaining: 2.06s\n973:\tlearn: 0.0090841\ttotal: 1m 14s\tremaining: 1.98s\n974:\tlearn: 0.0090724\ttotal: 1m 14s\tremaining: 1.91s\n975:\tlearn: 0.0090599\ttotal: 1m 14s\tremaining: 1.83s\n976:\tlearn: 0.0090513\ttotal: 1m 14s\tremaining: 1.75s\n977:\tlearn: 0.0090423\ttotal: 1m 14s\tremaining: 1.68s\n978:\tlearn: 0.0090327\ttotal: 1m 14s\tremaining: 1.6s\n979:\tlearn: 0.0090258\ttotal: 1m 14s\tremaining: 1.52s\n980:\tlearn: 0.0090128\ttotal: 1m 14s\tremaining: 1.45s\n981:\tlearn: 0.0090051\ttotal: 1m 14s\tremaining: 1.37s\n982:\tlearn: 0.0089967\ttotal: 1m 15s\tremaining: 1.3s\n983:\tlearn: 0.0089836\ttotal: 1m 15s\tremaining: 1.22s\n984:\tlearn: 0.0089737\ttotal: 1m 15s\tremaining: 1.14s\n985:\tlearn: 0.0089638\ttotal: 1m 15s\tremaining: 1.07s\n986:\tlearn: 0.0089517\ttotal: 1m 15s\tremaining: 992ms\n987:\tlearn: 0.0089401\ttotal: 1m 15s\tremaining: 915ms\n988:\tlearn: 0.0089277\ttotal: 1m 15s\tremaining: 839ms\n989:\tlearn: 0.0089179\ttotal: 1m 15s\tremaining: 763ms\n990:\tlearn: 0.0089071\ttotal: 1m 15s\tremaining: 687ms\n991:\tlearn: 0.0088945\ttotal: 1m 15s\tremaining: 610ms\n992:\tlearn: 0.0088842\ttotal: 1m 15s\tremaining: 534ms\n993:\tlearn: 0.0088769\ttotal: 1m 15s\tremaining: 458ms\n994:\tlearn: 0.0088646\ttotal: 1m 15s\tremaining: 381ms\n995:\tlearn: 0.0088513\ttotal: 1m 15s\tremaining: 305ms\n996:\tlearn: 0.0088418\ttotal: 1m 16s\tremaining: 229ms\n997:\tlearn: 0.0088336\ttotal: 1m 16s\tremaining: 153ms\n998:\tlearn: 0.0088246\ttotal: 1m 16s\tremaining: 76.3ms\n999:\tlearn: 0.0088158\ttotal: 1m 16s\tremaining: 0us\n",
          "output_type": "stream"
        },
        {
          "output_type": "error",
          "ename": "ValueError",
          "evalue": "could not broadcast input array from shape (19,1) into shape (19)",
          "traceback": [
            "\u001b[0;31m---------------------------------------------------------------------------\u001b[0m",
            "\u001b[0;31mValueError\u001b[0m                                Traceback (most recent call last)",
            "\u001b[0;32m<ipython-input-85-5cddfd0ccbed>\u001b[0m in \u001b[0;36m<module>\u001b[0;34m\u001b[0m\n\u001b[0;32m----> 1\u001b[0;31m avg_expected_loss_CBC, avg_bias_CBC, avg_var_CBC = bias_variance_decomp(\n\u001b[0m\u001b[1;32m      2\u001b[0m         \u001b[0mdefault_CBC\u001b[0m\u001b[0;34m,\u001b[0m \u001b[0mX_trainset\u001b[0m\u001b[0;34m.\u001b[0m\u001b[0mvalues\u001b[0m\u001b[0;34m,\u001b[0m \u001b[0my_trainset\u001b[0m\u001b[0;34m.\u001b[0m\u001b[0mvalues\u001b[0m\u001b[0;34m,\u001b[0m \u001b[0mX_val\u001b[0m\u001b[0;34m,\u001b[0m \u001b[0my_val\u001b[0m\u001b[0;34m,\u001b[0m \u001b[0;31m# Used .values since mlxtend extracts better from numpy arrays than pandas dfs\u001b[0m\u001b[0;34m\u001b[0m\u001b[0;34m\u001b[0m\u001b[0m\n\u001b[1;32m      3\u001b[0m         \u001b[0mloss\u001b[0m\u001b[0;34m=\u001b[0m\u001b[0;34m'0-1_loss'\u001b[0m\u001b[0;34m,\u001b[0m\u001b[0;34m\u001b[0m\u001b[0;34m\u001b[0m\u001b[0m\n\u001b[1;32m      4\u001b[0m         random_seed=66)\n\u001b[1;32m      5\u001b[0m \u001b[0;34m\u001b[0m\u001b[0m\n",
            "\u001b[0;32m~/venv/lib/python3.8/site-packages/mlxtend/evaluate/bias_variance_decomp.py\u001b[0m in \u001b[0;36mbias_variance_decomp\u001b[0;34m(estimator, X_train, y_train, X_test, y_test, loss, num_rounds, random_seed, **fit_params)\u001b[0m\n\u001b[1;32m    109\u001b[0m             pred = estimator.fit(\n\u001b[1;32m    110\u001b[0m                 X_boot, y_boot, **fit_params).predict(X_test)\n\u001b[0;32m--> 111\u001b[0;31m         \u001b[0mall_pred\u001b[0m\u001b[0;34m[\u001b[0m\u001b[0mi\u001b[0m\u001b[0;34m]\u001b[0m \u001b[0;34m=\u001b[0m \u001b[0mpred\u001b[0m\u001b[0;34m\u001b[0m\u001b[0;34m\u001b[0m\u001b[0m\n\u001b[0m\u001b[1;32m    112\u001b[0m \u001b[0;34m\u001b[0m\u001b[0m\n\u001b[1;32m    113\u001b[0m     \u001b[0;32mif\u001b[0m \u001b[0mloss\u001b[0m \u001b[0;34m==\u001b[0m \u001b[0;34m'0-1_loss'\u001b[0m\u001b[0;34m:\u001b[0m\u001b[0;34m\u001b[0m\u001b[0;34m\u001b[0m\u001b[0m\n",
            "\u001b[0;31mValueError\u001b[0m: could not broadcast input array from shape (19,1) into shape (19)"
          ]
        }
      ]
    },
    {
      "cell_type": "markdown",
      "source": "### SKlearn Based GBC",
      "metadata": {
        "tags": [],
        "cell_id": "00013-4417f54d-72d2-43e4-bfb4-f0fb41072eea",
        "deepnote_cell_type": "markdown"
      }
    },
    {
      "cell_type": "code",
      "metadata": {
        "tags": [],
        "cell_id": "00010-dfff88e4-0b49-4282-92ad-ea539dfcb3f5",
        "deepnote_to_be_reexecuted": false,
        "source_hash": "350666cf",
        "execution_millis": 221,
        "execution_start": 1618143983750,
        "deepnote_cell_type": "code"
      },
      "source": "from sklearn.ensemble import GradientBoostingClassifier",
      "execution_count": null,
      "outputs": []
    },
    {
      "cell_type": "code",
      "metadata": {
        "tags": [],
        "cell_id": "00011-30666a16-7cce-427f-bd0a-eecff881941d",
        "deepnote_to_be_reexecuted": false,
        "source_hash": "92ecb4e1",
        "execution_millis": 1,
        "execution_start": 1618143984401,
        "deepnote_cell_type": "code"
      },
      "source": "hard_params = {'n_estimators': 1000, 'max_leaf_nodes': 4, 'max_depth': None, 'random_state': 2,\n                'min_samples_split': 5}\n\n# intermediate params\n\nparams = dict(hard_params)\n# params.update(inter_params)",
      "execution_count": null,
      "outputs": []
    },
    {
      "cell_type": "code",
      "metadata": {
        "tags": [],
        "cell_id": "00002-df2576a6-099a-46e2-87fb-d1f40864668f",
        "deepnote_to_be_reexecuted": false,
        "source_hash": "a93c5dd5",
        "execution_millis": 24884,
        "execution_start": 1618143985891,
        "deepnote_cell_type": "code"
      },
      "source": "# X_trainset, X_val, y_trainset, y_val\nGBC = GradientBoostingClassifier(**params)\nGBC.fit(X_trainset, y_trainset)",
      "execution_count": null,
      "outputs": [
        {
          "output_type": "execute_result",
          "execution_count": 24,
          "data": {
            "text/plain": "GradientBoostingClassifier(max_depth=None, max_leaf_nodes=4,\n                           min_samples_split=5, n_estimators=1000,\n                           random_state=2)"
          },
          "metadata": {}
        }
      ]
    },
    {
      "cell_type": "code",
      "metadata": {
        "tags": [],
        "cell_id": "00013-c79be539-289d-4df1-a4e0-f274c1a882f5",
        "deepnote_to_be_reexecuted": false,
        "source_hash": "88a3b6ef",
        "execution_millis": 9,
        "execution_start": 1618144010766,
        "deepnote_cell_type": "code"
      },
      "source": "GBC.score(X_val, y_val)",
      "execution_count": null,
      "outputs": [
        {
          "output_type": "execute_result",
          "execution_count": 25,
          "data": {
            "text/plain": "0.8421052631578947"
          },
          "metadata": {}
        }
      ]
    },
    {
      "cell_type": "code",
      "metadata": {
        "tags": [],
        "cell_id": "00035-329ba6f2-e636-4e8b-b204-5e608233d801",
        "deepnote_to_be_reexecuted": false,
        "source_hash": "7c790c1f",
        "execution_millis": 21,
        "execution_start": 1618146094609,
        "deepnote_cell_type": "code"
      },
      "source": "# WIP\n# attempt to plot the training process(https://scikit-learn.org/stable/auto_examples/ensemble/plot_gradient_boosting_regression.html)\n# training vs validation deviance\n\n\ny_val_list = y_val.to_numpy()\n\n\n\ntest_score = np.zeros((params['n_estimators'],), dtype=np.float64)\nfor i, y_pred in enumerate(GBC.staged_predict(X_val)):\n    test_score[i] = GBC.loss_(y_val_list, y_pred)\n\nfig = plt.figure(figsize=(6, 6))\nplt.subplot(1, 1, 1)\nplt.title('Deviance')\nplt.plot(np.arange(params['n_estimators']) + 1, reg.train_score_, 'b-',\n         label='Training Set Deviance')\nplt.plot(np.arange(params['n_estimators']) + 1, test_score, 'r-',\n         label='Test Set Deviance')\nplt.legend(loc='upper right')\nplt.xlabel('Boosting Iterations')\nplt.ylabel('Deviance')\nfig.tight_layout()\nplt.show()\n",
      "execution_count": null,
      "outputs": [
        {
          "output_type": "error",
          "ename": "ValueError",
          "evalue": "operands could not be broadcast together with shapes (19,3) (19,) ",
          "traceback": [
            "\u001b[0;31m---------------------------------------------------------------------------\u001b[0m",
            "\u001b[0;31mValueError\u001b[0m                                Traceback (most recent call last)",
            "\u001b[0;32m<ipython-input-73-6b2add63af4f>\u001b[0m in \u001b[0;36m<module>\u001b[0;34m\u001b[0m\n\u001b[1;32m      9\u001b[0m \u001b[0mtest_score\u001b[0m \u001b[0;34m=\u001b[0m \u001b[0mnp\u001b[0m\u001b[0;34m.\u001b[0m\u001b[0mzeros\u001b[0m\u001b[0;34m(\u001b[0m\u001b[0;34m(\u001b[0m\u001b[0mparams\u001b[0m\u001b[0;34m[\u001b[0m\u001b[0;34m'n_estimators'\u001b[0m\u001b[0;34m]\u001b[0m\u001b[0;34m,\u001b[0m\u001b[0;34m)\u001b[0m\u001b[0;34m,\u001b[0m \u001b[0mdtype\u001b[0m\u001b[0;34m=\u001b[0m\u001b[0mnp\u001b[0m\u001b[0;34m.\u001b[0m\u001b[0mfloat64\u001b[0m\u001b[0;34m)\u001b[0m\u001b[0;34m\u001b[0m\u001b[0;34m\u001b[0m\u001b[0m\n\u001b[1;32m     10\u001b[0m \u001b[0;32mfor\u001b[0m \u001b[0mi\u001b[0m\u001b[0;34m,\u001b[0m \u001b[0my_pred\u001b[0m \u001b[0;32min\u001b[0m \u001b[0menumerate\u001b[0m\u001b[0;34m(\u001b[0m\u001b[0mGBC\u001b[0m\u001b[0;34m.\u001b[0m\u001b[0mstaged_predict\u001b[0m\u001b[0;34m(\u001b[0m\u001b[0mX_val\u001b[0m\u001b[0;34m)\u001b[0m\u001b[0;34m)\u001b[0m\u001b[0;34m:\u001b[0m\u001b[0;34m\u001b[0m\u001b[0;34m\u001b[0m\u001b[0m\n\u001b[0;32m---> 11\u001b[0;31m     \u001b[0mtest_score\u001b[0m\u001b[0;34m[\u001b[0m\u001b[0mi\u001b[0m\u001b[0;34m]\u001b[0m \u001b[0;34m=\u001b[0m \u001b[0mGBC\u001b[0m\u001b[0;34m.\u001b[0m\u001b[0mloss_\u001b[0m\u001b[0;34m(\u001b[0m\u001b[0my_val_list\u001b[0m\u001b[0;34m,\u001b[0m \u001b[0my_pred\u001b[0m\u001b[0;34m)\u001b[0m\u001b[0;34m\u001b[0m\u001b[0;34m\u001b[0m\u001b[0m\n\u001b[0m\u001b[1;32m     12\u001b[0m \u001b[0;34m\u001b[0m\u001b[0m\n\u001b[1;32m     13\u001b[0m \u001b[0mfig\u001b[0m \u001b[0;34m=\u001b[0m \u001b[0mplt\u001b[0m\u001b[0;34m.\u001b[0m\u001b[0mfigure\u001b[0m\u001b[0;34m(\u001b[0m\u001b[0mfigsize\u001b[0m\u001b[0;34m=\u001b[0m\u001b[0;34m(\u001b[0m\u001b[0;36m6\u001b[0m\u001b[0;34m,\u001b[0m \u001b[0;36m6\u001b[0m\u001b[0;34m)\u001b[0m\u001b[0;34m)\u001b[0m\u001b[0;34m\u001b[0m\u001b[0;34m\u001b[0m\u001b[0m\n",
            "\u001b[0;32m/shared-libs/python3.8/py/lib/python3.8/site-packages/sklearn/ensemble/_gb_losses.py\u001b[0m in \u001b[0;36m__call__\u001b[0;34m(self, y, raw_predictions, sample_weight)\u001b[0m\n\u001b[1;32m    697\u001b[0m \u001b[0;34m\u001b[0m\u001b[0m\n\u001b[1;32m    698\u001b[0m         return np.average(\n\u001b[0;32m--> 699\u001b[0;31m             \u001b[0;34m-\u001b[0m\u001b[0;36m1\u001b[0m \u001b[0;34m*\u001b[0m \u001b[0;34m(\u001b[0m\u001b[0mY\u001b[0m \u001b[0;34m*\u001b[0m \u001b[0mraw_predictions\u001b[0m\u001b[0;34m)\u001b[0m\u001b[0;34m.\u001b[0m\u001b[0msum\u001b[0m\u001b[0;34m(\u001b[0m\u001b[0maxis\u001b[0m\u001b[0;34m=\u001b[0m\u001b[0;36m1\u001b[0m\u001b[0;34m)\u001b[0m \u001b[0;34m+\u001b[0m\u001b[0;34m\u001b[0m\u001b[0;34m\u001b[0m\u001b[0m\n\u001b[0m\u001b[1;32m    700\u001b[0m             \u001b[0mlogsumexp\u001b[0m\u001b[0;34m(\u001b[0m\u001b[0mraw_predictions\u001b[0m\u001b[0;34m,\u001b[0m \u001b[0maxis\u001b[0m\u001b[0;34m=\u001b[0m\u001b[0;36m1\u001b[0m\u001b[0;34m)\u001b[0m\u001b[0;34m,\u001b[0m\u001b[0;34m\u001b[0m\u001b[0;34m\u001b[0m\u001b[0m\n\u001b[1;32m    701\u001b[0m             \u001b[0mweights\u001b[0m\u001b[0;34m=\u001b[0m\u001b[0msample_weight\u001b[0m\u001b[0;34m\u001b[0m\u001b[0;34m\u001b[0m\u001b[0m\n",
            "\u001b[0;31mValueError\u001b[0m: operands could not be broadcast together with shapes (19,3) (19,) "
          ]
        }
      ]
    },
    {
      "cell_type": "markdown",
      "source": "### SKlearn decomposition",
      "metadata": {
        "tags": [],
        "cell_id": "00031-49753e10-30e1-4913-af99-502a57f8caf5",
        "deepnote_cell_type": "markdown"
      }
    },
    {
      "cell_type": "code",
      "metadata": {
        "tags": [],
        "cell_id": "00031-b7147c1c-93b8-4a88-8656-3db6785aef51",
        "deepnote_to_be_reexecuted": true,
        "source_hash": "665220e1",
        "execution_millis": 1,
        "deepnote_cell_type": "code"
      },
      "source": "from mlxtend.evaluate import bias_variance_decomp",
      "execution_count": null,
      "outputs": []
    },
    {
      "cell_type": "code",
      "metadata": {
        "tags": [],
        "cell_id": "00031-037e49bf-e596-48d2-8c66-b0b1e1536a42",
        "deepnote_to_be_reexecuted": true,
        "source_hash": "30aeb642",
        "execution_millis": 4847274,
        "deepnote_cell_type": "code"
      },
      "source": "def_GBC = GradientBoostingClassifier(**params)\n\navg_expected_loss_GBC, avg_bias_GBC, avg_var_GBC = bias_variance_decomp(\n        def_GBC, X_trainset.values, y_trainset.values, X_val, y_val, # Used .values since mlxtend extracts better from numpy arrays than pandas dfs\n        loss='0-1_loss',\n        random_seed=56)\n\nprint(f'Average expected loss: {avg_expected_loss_GBC}')\nprint(f'Average bias: {avg_bias_GBC}')\nprint(f'Average variance: {avg_var_GBC}')",
      "execution_count": null,
      "outputs": [
        {
          "name": "stdout",
          "text": "Average expected loss: 0.22289473684210523\nAverage bias: 0.15789473684210525\nAverage variance: 0.16210526315789475\n",
          "output_type": "stream"
        }
      ]
    },
    {
      "cell_type": "markdown",
      "source": "## k-fold cross-validation:\nIt seems like you can implement the cross-validation for the train-validation split in this way. (Use to evaluate different models using k-fold CV on the training set\n & pick the final model, which is then used to predict the test set!)\n\n *Question*: ",
      "metadata": {
        "tags": [],
        "cell_id": "00024-5f2b3d62-f3ba-4fd7-a334-9206ef608c9e",
        "deepnote_cell_type": "markdown"
      }
    },
    {
      "cell_type": "code",
      "metadata": {
        "tags": [],
        "cell_id": "00024-9241ee9e-0c1b-4e83-9e37-7fea7c2f2d67",
        "deepnote_to_be_reexecuted": false,
        "source_hash": "ffc77694",
        "execution_millis": 345790,
        "execution_start": 1618146911202,
        "deepnote_cell_type": "code"
      },
      "source": "from sklearn.model_selection import KFold\nfrom sklearn.model_selection import cross_val_score\n\nmodel = GBC\nkfold = KFold(n_splits=7,shuffle = True, random_state=10)\nresults = cross_val_score(model, X_trainset, y_trainset, cv=kfold)\nprint(\"Accuracy: %.2f%% (%.2f%%)\" % (results.mean()*100, results.std()*100))",
      "execution_count": null,
      "outputs": [
        {
          "name": "stdout",
          "text": "Accuracy: 76.79% (12.37%)\n",
          "output_type": "stream"
        }
      ]
    },
    {
      "cell_type": "code",
      "metadata": {
        "tags": [],
        "cell_id": "00014-efb265bd-ac4a-47fb-8fef-f57711f846f5",
        "deepnote_to_be_reexecuted": true,
        "source_hash": "b623e53d",
        "deepnote_cell_type": "code"
      },
      "source": "",
      "execution_count": null,
      "outputs": []
    },
    {
      "cell_type": "markdown",
      "source": "<a style='text-decoration:none;line-height:16px;display:flex;color:#5B5B62;padding:10px;justify-content:end;' href='https://deepnote.com?utm_source=created-in-deepnote-cell&projectId=c915e4f9-60c2-40b5-a522-8a90cb3fd50a' target=\"_blank\">\n<img alt='Created in deepnote.com' style='display:inline;max-height:16px;margin:0px;margin-right:7.5px;' src='data:image/svg+xml;base64,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' > </img>\nCreated in <span style='font-weight:600;margin-left:4px;'>Deepnote</span></a>",
      "metadata": {
        "tags": [],
        "created_in_deepnote_cell": true,
        "deepnote_cell_type": "markdown"
      }
    }
  ],
  "nbformat": 4,
  "nbformat_minor": 2,
  "metadata": {
    "orig_nbformat": 2,
    "deepnote": {
      "is_reactive": false
    },
    "deepnote_notebook_id": "64fbaeb6-3e39-4709-b488-9877f20b5517",
    "deepnote_execution_queue": [
      {
        "cellId": "00012-ccd1c75e-2f3b-4a1c-a336-639b88d81e2d",
        "sessionId": "f3509906-4f69-4c9a-824b-345ad749023f",
        "msgId": "ed68ba5a-6135-4eea-bb95-9872de112693"
      },
      {
        "cellId": "00017-4eec8447-f027-4d56-8cc8-6095f9fae96e",
        "sessionId": "f3509906-4f69-4c9a-824b-345ad749023f",
        "msgId": "cc8420f8-3660-40a8-96b1-2342f6e385ff"
      }
    ]
  }
}