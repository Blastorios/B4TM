{
  "cells": [
    {
      "cell_type": "markdown",
      "source": "## Imports",
      "metadata": {
        "tags": [],
        "cell_id": "00000-0cb06fd3-4ed4-41ad-bc8f-8dd85cc8d6e7",
        "deepnote_cell_type": "markdown"
      }
    },
    {
      "cell_type": "code",
      "metadata": {
        "tags": [],
        "cell_id": "00000-8da1e318-c932-4bea-9fc9-ed9668dd513f",
        "deepnote_to_be_reexecuted": false,
        "source_hash": "9f793134",
        "execution_millis": 867,
        "execution_start": 1618222141670,
        "deepnote_cell_type": "code"
      },
      "source": "import numpy as np\nimport pandas as pd\nimport sklearn as sk\nimport catboost as cb",
      "execution_count": 1,
      "outputs": []
    },
    {
      "cell_type": "markdown",
      "source": "## Processing",
      "metadata": {
        "tags": [],
        "cell_id": "00003-8696a436-eb72-4604-8673-cc594940b8ae",
        "deepnote_cell_type": "markdown"
      }
    },
    {
      "cell_type": "code",
      "metadata": {
        "tags": [],
        "cell_id": "00002-c6610b96-1c8d-4dd6-9c55-c9861e9ad84d",
        "deepnote_to_be_reexecuted": false,
        "source_hash": "65961b6b",
        "execution_millis": 241,
        "execution_start": 1618222184246,
        "deepnote_cell_type": "code"
      },
      "source": "df = (pd\n    .read_csv(\"./data/superset.csv\")\n    .set_axis([df[\"Unnamed: 0\"]]) \n    .drop([\"Unnamed: 0\"], axis=1)\n)",
      "execution_count": 3,
      "outputs": []
    },
    {
      "cell_type": "code",
      "metadata": {
        "tags": [],
        "cell_id": "00002-5695432f-1782-4fa8-bf27-c4ff3552751e",
        "deepnote_to_be_reexecuted": false,
        "source_hash": "1feee020",
        "execution_millis": 0,
        "execution_start": 1618222208147,
        "deepnote_cell_type": "code"
      },
      "source": "df.Subgroup = df.Subgroup.replace(\n    {cat:num for num, cat in enumerate(df.Subgroup.unique())}\n    ) # Create numerical target (easier for the models to use)",
      "execution_count": 6,
      "outputs": []
    },
    {
      "cell_type": "markdown",
      "source": "## Splitting",
      "metadata": {
        "tags": [],
        "cell_id": "00006-e1fe5b55-e4ee-45cb-81e0-39a6d027f719",
        "deepnote_cell_type": "markdown"
      }
    },
    {
      "cell_type": "code",
      "metadata": {
        "tags": [],
        "cell_id": "00004-8f5cef41-e136-4a6f-800d-df1da3a9a4bc",
        "deepnote_to_be_reexecuted": false,
        "source_hash": "746a4dbc",
        "execution_millis": 105,
        "execution_start": 1618222249798,
        "deepnote_cell_type": "code"
      },
      "source": "from sklearn.model_selection import train_test_split",
      "execution_count": 7,
      "outputs": []
    },
    {
      "cell_type": "code",
      "metadata": {
        "tags": [],
        "cell_id": "00008-f19aa123-d5d4-4e72-9a62-b183d9d4927b",
        "deepnote_to_be_reexecuted": false,
        "source_hash": "ce6a9efe",
        "execution_millis": 9,
        "execution_start": 1618222259987,
        "deepnote_cell_type": "code"
      },
      "source": "X_ = df.drop(columns=[\"Subgroup\"])\ny_ = df.Subgroup\n\n# Initial Datasets\nX_train, X_test, y_train, y_test = train_test_split(X_, y_, test_size=0.25, random_state=42)",
      "execution_count": 8,
      "outputs": []
    },
    {
      "cell_type": "markdown",
      "source": "## Building",
      "metadata": {
        "tags": [],
        "cell_id": "00008-9f238cf3-d9f0-49ae-a096-175b5a50c446",
        "deepnote_cell_type": "markdown"
      }
    },
    {
      "cell_type": "markdown",
      "source": "### CatBoost",
      "metadata": {
        "tags": [],
        "cell_id": "00011-9f1ec009-46ba-4931-94d9-01c41d00b7bc",
        "deepnote_cell_type": "markdown"
      }
    },
    {
      "cell_type": "markdown",
      "source": "https://catboost.ai/docs/concepts/about.html",
      "metadata": {
        "tags": [],
        "cell_id": "00012-80b3160d-3bab-46ee-ac09-966adb33e8fa",
        "deepnote_cell_type": "markdown"
      }
    },
    {
      "cell_type": "code",
      "metadata": {
        "tags": [],
        "cell_id": "00011-afc75c4e-13aa-4828-9b72-5d8545149a53",
        "deepnote_to_be_reexecuted": false,
        "source_hash": "ce3b6c67",
        "execution_millis": 6,
        "execution_start": 1618222267741,
        "deepnote_cell_type": "code"
      },
      "source": "print(cb.__version__) # Consistency",
      "execution_count": 10,
      "outputs": [
        {
          "name": "stdout",
          "text": "0.25.1\n",
          "output_type": "stream"
        }
      ]
    },
    {
      "cell_type": "code",
      "metadata": {
        "tags": [],
        "cell_id": "00014-27f5740a-7e4b-4b16-b5f8-5c55d6ddce03",
        "deepnote_to_be_reexecuted": false,
        "source_hash": "ecb38883",
        "execution_millis": 374,
        "execution_start": 1618222656215,
        "deepnote_cell_type": "code"
      },
      "source": "X_trainset, X_val, y_trainset, y_val = train_test_split(X_train, y_train, test_size=0.25, random_state=42)\n\n# Apply a validation-like training set\ntrain_set = cb.Pool(X_trainset, label=y_trainset)\neval_set = cb.Pool(X_val, label=y_val)\n\nentire_train = cb.Pool(X_train, label=y_train)",
      "execution_count": 13,
      "outputs": []
    },
    {
      "cell_type": "code",
      "metadata": {
        "tags": [],
        "cell_id": "00012-ccd1c75e-2f3b-4a1c-a336-639b88d81e2d",
        "deepnote_to_be_reexecuted": false,
        "source_hash": "fe1b8720",
        "execution_millis": 10,
        "execution_start": 1618222890367,
        "deepnote_cell_type": "code"
      },
      "source": "# Set grid search params\ncbc_params = {\n    'random_seed': 88,\n    'verbose': 10,\n    'loss_function': 'MultiClass'}\n\nCBC = cb.CatBoostClassifier(**cbc_params)\n\ngrid_params ={\n    'iterations': [100,500,1000],\n    'learning_rate': [0.01,0.05,0.1],\n    'l2_leaf_reg': [1,3,5,7,9,11,20],\n    'depth': [6, 8, 10],\n    'random_strength': [0.01, 0.05, 0.1]}\n\n# Grid Search does automatic CV. So we only need to parse the initial training data\nCBC_grid = CBC.grid_search(grid_params, X=entire_train, partition_random_seed=12)",
      "execution_count": 16,
      "outputs": [
        {
          "name": "stdout",
          "text": "330:\tlearn: 0.0366226\ttest: 0.5515693\tbest: 0.5515693 (330)\ttotal: 25.6s\tremaining: 13.1s\n340:\tlearn: 0.0354084\ttest: 0.5485445\tbest: 0.5484990 (339)\ttotal: 26.4s\tremaining: 12.3s\n350:\tlearn: 0.0341918\ttest: 0.5462328\tbest: 0.5457299 (347)\ttotal: 27.2s\tremaining: 11.5s\n360:\tlearn: 0.0330496\ttest: 0.5466947\tbest: 0.5457299 (347)\ttotal: 28s\tremaining: 10.8s\n370:\tlearn: 0.0321555\ttest: 0.5439941\tbest: 0.5439941 (370)\ttotal: 28.8s\tremaining: 10s\n380:\tlearn: 0.0311775\ttest: 0.5422310\tbest: 0.5418757 (378)\ttotal: 29.5s\tremaining: 9.23s\n390:\tlearn: 0.0304271\ttest: 0.5439746\tbest: 0.5418757 (378)\ttotal: 30.3s\tremaining: 8.44s\n400:\tlearn: 0.0296431\ttest: 0.5433384\tbest: 0.5418757 (378)\ttotal: 31.1s\tremaining: 7.67s\n410:\tlearn: 0.0288073\ttest: 0.5429789\tbest: 0.5418757 (378)\ttotal: 31.9s\tremaining: 6.9s\n420:\tlearn: 0.0281301\ttest: 0.5415842\tbest: 0.5415842 (420)\ttotal: 32.7s\tremaining: 6.13s\n430:\tlearn: 0.0274486\ttest: 0.5412600\tbest: 0.5405381 (426)\ttotal: 33.4s\tremaining: 5.35s\n440:\tlearn: 0.0268573\ttest: 0.5417212\tbest: 0.5405381 (426)\ttotal: 34.2s\tremaining: 4.57s\n450:\tlearn: 0.0261960\ttest: 0.5430643\tbest: 0.5405381 (426)\ttotal: 35s\tremaining: 3.8s\n460:\tlearn: 0.0255821\ttest: 0.5445431\tbest: 0.5405381 (426)\ttotal: 35.7s\tremaining: 3.02s\n470:\tlearn: 0.0249954\ttest: 0.5438937\tbest: 0.5405381 (426)\ttotal: 36.5s\tremaining: 2.25s\n480:\tlearn: 0.0244036\ttest: 0.5441996\tbest: 0.5405381 (426)\ttotal: 37.3s\tremaining: 1.47s\n490:\tlearn: 0.0238526\ttest: 0.5432392\tbest: 0.5405381 (426)\ttotal: 38s\tremaining: 697ms\n499:\tlearn: 0.0233996\ttest: 0.5427378\tbest: 0.5405381 (426)\ttotal: 38.7s\tremaining: 0us\n\nbestTest = 0.54053814\nbestIteration = 426\n\n92:\tloss: 0.5405381\tbest: 0.5405381 (92)\ttotal: 54m 41s\tremaining: 4h 38m 45s\n0:\tlearn: 1.0958492\ttest: 1.0967210\tbest: 1.0967210 (0)\ttotal: 33.4ms\tremaining: 16.7s\n10:\tlearn: 1.0500356\ttest: 1.0736232\tbest: 1.0736232 (10)\ttotal: 811ms\tremaining: 36.1s\n20:\tlearn: 1.0057030\ttest: 1.0509737\tbest: 1.0509737 (20)\ttotal: 1.53s\tremaining: 34.8s\n30:\tlearn: 0.9654904\ttest: 1.0346111\tbest: 1.0346111 (30)\ttotal: 2.31s\tremaining: 34.9s\n40:\tlearn: 0.9288116\ttest: 1.0166665\tbest: 1.0166665 (40)\ttotal: 3.09s\tremaining: 34.6s\n50:\tlearn: 0.8992317\ttest: 1.0017634\tbest: 1.0017634 (50)\ttotal: 3.82s\tremaining: 33.7s\n60:\tlearn: 0.8695838\ttest: 0.9893784\tbest: 0.9893784 (60)\ttotal: 4.59s\tremaining: 33.1s\n70:\tlearn: 0.8377294\ttest: 0.9760531\tbest: 0.9760531 (70)\ttotal: 5.31s\tremaining: 32.1s\n80:\tlearn: 0.8050187\ttest: 0.9596572\tbest: 0.9596572 (80)\ttotal: 6.09s\tremaining: 31.5s\n90:\tlearn: 0.7817074\ttest: 0.9495687\tbest: 0.9495687 (90)\ttotal: 6.82s\tremaining: 30.6s\n100:\tlearn: 0.7546121\ttest: 0.9387717\tbest: 0.9387717 (100)\ttotal: 7.59s\tremaining: 30s\n110:\tlearn: 0.7296082\ttest: 0.9273428\tbest: 0.9273428 (110)\ttotal: 8.32s\tremaining: 29.2s\n120:\tlearn: 0.7076795\ttest: 0.9165886\tbest: 0.9165886 (120)\ttotal: 9.11s\tremaining: 28.5s\n130:\tlearn: 0.6880839\ttest: 0.9079750\tbest: 0.9079750 (130)\ttotal: 9.9s\tremaining: 27.9s\n140:\tlearn: 0.6701895\ttest: 0.8980917\tbest: 0.8980917 (140)\ttotal: 10.6s\tremaining: 27s\n150:\tlearn: 0.6508112\ttest: 0.8876892\tbest: 0.8876892 (150)\ttotal: 11.4s\tremaining: 26.3s\n160:\tlearn: 0.6312586\ttest: 0.8782061\tbest: 0.8782061 (160)\ttotal: 12.1s\tremaining: 25.5s\n170:\tlearn: 0.6141542\ttest: 0.8729200\tbest: 0.8729200 (170)\ttotal: 12.9s\tremaining: 24.8s\n180:\tlearn: 0.5970957\ttest: 0.8646110\tbest: 0.8646110 (180)\ttotal: 13.6s\tremaining: 24s\n190:\tlearn: 0.5822569\ttest: 0.8587295\tbest: 0.8587295 (190)\ttotal: 14.4s\tremaining: 23.3s\n200:\tlearn: 0.5691785\ttest: 0.8525615\tbest: 0.8525615 (200)\ttotal: 15.2s\tremaining: 22.6s\n210:\tlearn: 0.5550512\ttest: 0.8454415\tbest: 0.8454415 (210)\ttotal: 15.9s\tremaining: 21.8s\n220:\tlearn: 0.5433601\ttest: 0.8405168\tbest: 0.8405168 (220)\ttotal: 16.7s\tremaining: 21.1s\n230:\tlearn: 0.5292071\ttest: 0.8331337\tbest: 0.8331337 (230)\ttotal: 17.5s\tremaining: 20.4s\n240:\tlearn: 0.5175168\ttest: 0.8253930\tbest: 0.8253930 (240)\ttotal: 18.2s\tremaining: 19.6s\n250:\tlearn: 0.5063501\ttest: 0.8212654\tbest: 0.8212654 (250)\ttotal: 19s\tremaining: 18.9s\n260:\tlearn: 0.4937385\ttest: 0.8139213\tbest: 0.8139213 (260)\ttotal: 19.8s\tremaining: 18.1s\n270:\tlearn: 0.4824205\ttest: 0.8064475\tbest: 0.8064475 (270)\ttotal: 20.6s\tremaining: 17.4s\n280:\tlearn: 0.4707701\ttest: 0.8006261\tbest: 0.8006261 (280)\ttotal: 21.3s\tremaining: 16.6s\n290:\tlearn: 0.4592296\ttest: 0.7952166\tbest: 0.7952166 (290)\ttotal: 22.1s\tremaining: 15.9s\n300:\tlearn: 0.4487092\ttest: 0.7895541\tbest: 0.7895541 (300)\ttotal: 22.8s\tremaining: 15.1s\n310:\tlearn: 0.4398228\ttest: 0.7840859\tbest: 0.7840859 (310)\ttotal: 23.6s\tremaining: 14.3s\n320:\tlearn: 0.4311420\ttest: 0.7807917\tbest: 0.7807917 (320)\ttotal: 24.4s\tremaining: 13.6s\n330:\tlearn: 0.4226766\ttest: 0.7784898\tbest: 0.7783487 (329)\ttotal: 25.1s\tremaining: 12.8s\n340:\tlearn: 0.4145575\ttest: 0.7755048\tbest: 0.7755048 (340)\ttotal: 25.9s\tremaining: 12.1s\n350:\tlearn: 0.4063719\ttest: 0.7712159\tbest: 0.7712159 (350)\ttotal: 26.7s\tremaining: 11.3s\n360:\tlearn: 0.3985059\ttest: 0.7692874\tbest: 0.7692874 (360)\ttotal: 27.4s\tremaining: 10.6s\n370:\tlearn: 0.3904888\ttest: 0.7645604\tbest: 0.7645604 (370)\ttotal: 28.2s\tremaining: 9.8s\n380:\tlearn: 0.3831486\ttest: 0.7632940\tbest: 0.7631266 (376)\ttotal: 29s\tremaining: 9.05s\n390:\tlearn: 0.3759188\ttest: 0.7605277\tbest: 0.7605277 (390)\ttotal: 29.8s\tremaining: 8.3s\n400:\tlearn: 0.3683806\ttest: 0.7574480\tbest: 0.7572570 (399)\ttotal: 30.5s\tremaining: 7.53s\n410:\tlearn: 0.3615011\ttest: 0.7536959\tbest: 0.7536959 (410)\ttotal: 31.3s\tremaining: 6.77s\n420:\tlearn: 0.3558577\ttest: 0.7519253\tbest: 0.7519253 (420)\ttotal: 32s\tremaining: 6s\n430:\tlearn: 0.3503069\ttest: 0.7499631\tbest: 0.7499631 (430)\ttotal: 32.8s\tremaining: 5.25s\n440:\tlearn: 0.3447391\ttest: 0.7475490\tbest: 0.7475490 (440)\ttotal: 33.6s\tremaining: 4.49s\n450:\tlearn: 0.3389049\ttest: 0.7444567\tbest: 0.7444336 (449)\ttotal: 34.4s\tremaining: 3.73s\n460:\tlearn: 0.3333691\ttest: 0.7415188\tbest: 0.7415188 (460)\ttotal: 35.1s\tremaining: 2.97s\n470:\tlearn: 0.3277561\ttest: 0.7383365\tbest: 0.7383365 (470)\ttotal: 35.9s\tremaining: 2.21s\n480:\tlearn: 0.3221253\ttest: 0.7355110\tbest: 0.7355110 (480)\ttotal: 36.7s\tremaining: 1.45s\n490:\tlearn: 0.3170533\ttest: 0.7340581\tbest: 0.7336730 (489)\ttotal: 37.4s\tremaining: 686ms\n499:\tlearn: 0.3127669\ttest: 0.7320189\tbest: 0.7320189 (499)\ttotal: 38.1s\tremaining: 0us\n\nbestTest = 0.7320189376\nbestIteration = 499\n\n93:\tloss: 0.7320189\tbest: 0.5405381 (92)\ttotal: 55m 19s\tremaining: 4h 38m 24s\n0:\tlearn: 1.0848601\ttest: 1.0892077\tbest: 1.0892077 (0)\ttotal: 88.7ms\tremaining: 44.3s\n10:\tlearn: 0.8868410\ttest: 0.9873548\tbest: 0.9873548 (10)\ttotal: 804ms\tremaining: 35.7s\n20:\tlearn: 0.7341743\ttest: 0.9061313\tbest: 0.9061313 (20)\ttotal: 1.57s\tremaining: 35.8s\n30:\tlearn: 0.6224819\ttest: 0.8522626\tbest: 0.8522626 (30)\ttotal: 2.3s\tremaining: 34.8s\n40:\tlearn: 0.5404703\ttest: 0.8112676\tbest: 0.8097721 (39)\ttotal: 3.06s\tremaining: 34.3s\n50:\tlearn: 0.4795754\ttest: 0.7848257\tbest: 0.7848257 (50)\ttotal: 3.79s\tremaining: 33.4s\n60:\tlearn: 0.4324695\ttest: 0.7588704\tbest: 0.7588704 (60)\ttotal: 4.57s\tremaining: 32.9s\n70:\tlearn: 0.3908529\ttest: 0.7419314\tbest: 0.7419314 (70)\ttotal: 5.29s\tremaining: 32s\n80:\tlearn: 0.3546376\ttest: 0.7147562\tbest: 0.7147562 (80)\ttotal: 6.08s\tremaining: 31.5s\n90:\tlearn: 0.3214303\ttest: 0.6983084\tbest: 0.6983084 (90)\ttotal: 6.86s\tremaining: 30.9s\n100:\tlearn: 0.2960440\ttest: 0.6906665\tbest: 0.6906665 (100)\ttotal: 7.59s\tremaining: 30s\n110:\tlearn: 0.2724648\ttest: 0.6751289\tbest: 0.6751289 (110)\ttotal: 8.38s\tremaining: 29.4s\n120:\tlearn: 0.2536184\ttest: 0.6614723\tbest: 0.6614723 (120)\ttotal: 9.16s\tremaining: 28.7s\n130:\tlearn: 0.2373030\ttest: 0.6549765\tbest: 0.6548826 (129)\ttotal: 9.9s\tremaining: 27.9s\n140:\tlearn: 0.2234808\ttest: 0.6474124\tbest: 0.6474124 (140)\ttotal: 10.7s\tremaining: 27.2s\n150:\tlearn: 0.2115902\ttest: 0.6446676\tbest: 0.6446676 (150)\ttotal: 11.5s\tremaining: 26.5s\n160:\tlearn: 0.2006482\ttest: 0.6357616\tbest: 0.6357616 (160)\ttotal: 12.3s\tremaining: 25.8s\n170:\tlearn: 0.1904039\ttest: 0.6291512\tbest: 0.6291459 (169)\ttotal: 13.1s\tremaining: 25.1s\n180:\tlearn: 0.1814665\ttest: 0.6248835\tbest: 0.6248835 (180)\ttotal: 13.8s\tremaining: 24.3s\n190:\tlearn: 0.1738247\ttest: 0.6198007\tbest: 0.6198007 (190)\ttotal: 14.6s\tremaining: 23.6s\n200:\tlearn: 0.1657703\ttest: 0.6148955\tbest: 0.6148955 (200)\ttotal: 15.4s\tremaining: 22.9s\n210:\tlearn: 0.1575802\ttest: 0.6110701\tbest: 0.6110701 (210)\ttotal: 16.2s\tremaining: 22.1s\n220:\tlearn: 0.1512100\ttest: 0.6061197\tbest: 0.6059392 (219)\ttotal: 16.9s\tremaining: 21.3s\n230:\tlearn: 0.1456200\ttest: 0.6039196\tbest: 0.6034700 (229)\ttotal: 17.7s\tremaining: 20.6s\n240:\tlearn: 0.1394222\ttest: 0.5991951\tbest: 0.5991951 (240)\ttotal: 18.5s\tremaining: 19.9s\n250:\tlearn: 0.1341687\ttest: 0.5948094\tbest: 0.5948094 (250)\ttotal: 19.3s\tremaining: 19.1s\n260:\tlearn: 0.1298068\ttest: 0.5921256\tbest: 0.5921256 (260)\ttotal: 20s\tremaining: 18.3s\n270:\tlearn: 0.1255283\ttest: 0.5892058\tbest: 0.5891655 (269)\ttotal: 20.8s\tremaining: 17.6s\n280:\tlearn: 0.1207724\ttest: 0.5860160\tbest: 0.5853180 (278)\ttotal: 21.6s\tremaining: 16.8s\n290:\tlearn: 0.1161171\ttest: 0.5860288\tbest: 0.5848291 (284)\ttotal: 22.4s\tremaining: 16.1s\n300:\tlearn: 0.1126099\ttest: 0.5855704\tbest: 0.5848291 (284)\ttotal: 23.1s\tremaining: 15.3s\n310:\tlearn: 0.1086135\ttest: 0.5846869\tbest: 0.5843529 (305)\ttotal: 23.9s\tremaining: 14.5s\n320:\tlearn: 0.1050343\ttest: 0.5820071\tbest: 0.5820071 (320)\ttotal: 24.7s\tremaining: 13.7s\n330:\tlearn: 0.1019507\ttest: 0.5789635\tbest: 0.5785565 (328)\ttotal: 25.4s\tremaining: 13s\n340:\tlearn: 0.0990358\ttest: 0.5756184\tbest: 0.5756184 (340)\ttotal: 26.2s\tremaining: 12.2s\n350:\tlearn: 0.0959486\ttest: 0.5754016\tbest: 0.5748868 (349)\ttotal: 26.9s\tremaining: 11.4s\n360:\tlearn: 0.0930077\ttest: 0.5749243\tbest: 0.5747481 (351)\ttotal: 27.7s\tremaining: 10.7s\n370:\tlearn: 0.0905915\ttest: 0.5715856\tbest: 0.5715856 (370)\ttotal: 28.5s\tremaining: 9.9s\n380:\tlearn: 0.0880893\ttest: 0.5686439\tbest: 0.5682952 (379)\ttotal: 29.2s\tremaining: 9.13s\n390:\tlearn: 0.0860131\ttest: 0.5670365\tbest: 0.5670365 (390)\ttotal: 30s\tremaining: 8.36s\n400:\tlearn: 0.0840305\ttest: 0.5651012\tbest: 0.5651012 (400)\ttotal: 30.8s\tremaining: 7.59s\n410:\tlearn: 0.0819923\ttest: 0.5643437\tbest: 0.5643437 (410)\ttotal: 31.6s\tremaining: 6.83s\n420:\tlearn: 0.0801685\ttest: 0.5627561\tbest: 0.5625486 (417)\ttotal: 32.3s\tremaining: 6.06s\n430:\tlearn: 0.0783228\ttest: 0.5619565\tbest: 0.5618449 (423)\ttotal: 33.1s\tremaining: 5.29s\n440:\tlearn: 0.0766552\ttest: 0.5611045\tbest: 0.5611045 (440)\ttotal: 33.9s\tremaining: 4.53s\n450:\tlearn: 0.0746672\ttest: 0.5593707\tbest: 0.5593707 (450)\ttotal: 34.6s\tremaining: 3.76s\n460:\tlearn: 0.0727424\ttest: 0.5598724\tbest: 0.5590609 (451)\ttotal: 35.4s\tremaining: 2.99s\n470:\tlearn: 0.0712555\ttest: 0.5602081\tbest: 0.5590609 (451)\ttotal: 36.2s\tremaining: 2.23s\n480:\tlearn: 0.0696731\ttest: 0.5593758\tbest: 0.5590609 (451)\ttotal: 36.9s\tremaining: 1.46s\n490:\tlearn: 0.0681615\ttest: 0.5579058\tbest: 0.5578700 (487)\ttotal: 37.7s\tremaining: 691ms\n499:\tlearn: 0.0669203\ttest: 0.5573428\tbest: 0.5572786 (492)\ttotal: 38.4s\tremaining: 0us\n\nbestTest = 0.5572785802\nbestIteration = 492\n\n94:\tloss: 0.5572786\tbest: 0.5405381 (92)\ttotal: 55m 58s\tremaining: 4h 38m 4s\n0:\tlearn: 1.0712664\ttest: 1.0799331\tbest: 1.0799331 (0)\ttotal: 87.9ms\tremaining: 43.8s\n10:\tlearn: 0.7397618\ttest: 0.9123976\tbest: 0.9123976 (10)\ttotal: 797ms\tremaining: 35.4s\n20:\tlearn: 0.5450645\ttest: 0.7955006\tbest: 0.7955006 (20)\ttotal: 1.57s\tremaining: 35.8s\n30:\tlearn: 0.4254178\ttest: 0.7255551\tbest: 0.7235650 (29)\ttotal: 2.31s\tremaining: 34.9s\n40:\tlearn: 0.3500281\ttest: 0.6812214\tbest: 0.6812214 (40)\ttotal: 3.07s\tremaining: 34.4s\n50:\tlearn: 0.2990556\ttest: 0.6653550\tbest: 0.6653550 (50)\ttotal: 3.8s\tremaining: 33.5s\n60:\tlearn: 0.2606092\ttest: 0.6595155\tbest: 0.6595155 (60)\ttotal: 4.58s\tremaining: 33s\n70:\tlearn: 0.2299426\ttest: 0.6541693\tbest: 0.6535220 (69)\ttotal: 5.38s\tremaining: 32.5s\n80:\tlearn: 0.2062839\ttest: 0.6453267\tbest: 0.6453267 (80)\ttotal: 6.17s\tremaining: 31.9s\n90:\tlearn: 0.1869011\ttest: 0.6391796\tbest: 0.6391532 (89)\ttotal: 6.96s\tremaining: 31.3s\n100:\tlearn: 0.1688685\ttest: 0.6306861\tbest: 0.6294838 (99)\ttotal: 7.7s\tremaining: 30.4s\n110:\tlearn: 0.1549509\ttest: 0.6204240\tbest: 0.6204240 (110)\ttotal: 8.48s\tremaining: 29.7s\n120:\tlearn: 0.1428805\ttest: 0.6156874\tbest: 0.6142302 (118)\ttotal: 9.28s\tremaining: 29.1s\n130:\tlearn: 0.1317462\ttest: 0.6194794\tbest: 0.6142302 (118)\ttotal: 10.1s\tremaining: 28.4s\n140:\tlearn: 0.1223679\ttest: 0.6215143\tbest: 0.6142302 (118)\ttotal: 10.9s\tremaining: 27.6s\n150:\tlearn: 0.1144585\ttest: 0.6168733\tbest: 0.6142302 (118)\ttotal: 11.6s\tremaining: 26.8s\n160:\tlearn: 0.1082710\ttest: 0.6172024\tbest: 0.6142302 (118)\ttotal: 12.4s\tremaining: 26s\n170:\tlearn: 0.1007438\ttest: 0.6168982\tbest: 0.6142302 (118)\ttotal: 13.2s\tremaining: 25.3s\n180:\tlearn: 0.0948789\ttest: 0.6126883\tbest: 0.6126883 (180)\ttotal: 14s\tremaining: 24.6s\n190:\tlearn: 0.0901564\ttest: 0.6109877\tbest: 0.6109877 (190)\ttotal: 14.7s\tremaining: 23.7s\n200:\tlearn: 0.0857167\ttest: 0.6131193\tbest: 0.6099398 (192)\ttotal: 15.5s\tremaining: 23s\n210:\tlearn: 0.0816716\ttest: 0.6156122\tbest: 0.6099398 (192)\ttotal: 16.3s\tremaining: 22.3s\n220:\tlearn: 0.0779019\ttest: 0.6169929\tbest: 0.6099398 (192)\ttotal: 17.1s\tremaining: 21.5s\n230:\tlearn: 0.0741198\ttest: 0.6104357\tbest: 0.6099398 (192)\ttotal: 17.9s\tremaining: 20.8s\n240:\tlearn: 0.0707440\ttest: 0.6065164\tbest: 0.6055960 (238)\ttotal: 18.6s\tremaining: 20s\n250:\tlearn: 0.0677263\ttest: 0.6075616\tbest: 0.6053513 (243)\ttotal: 19.4s\tremaining: 19.2s\n260:\tlearn: 0.0649002\ttest: 0.6113782\tbest: 0.6053513 (243)\ttotal: 20.2s\tremaining: 18.5s\n270:\tlearn: 0.0622705\ttest: 0.6104544\tbest: 0.6053513 (243)\ttotal: 21s\tremaining: 17.7s\n280:\tlearn: 0.0599485\ttest: 0.6107023\tbest: 0.6053513 (243)\ttotal: 21.7s\tremaining: 16.9s\n290:\tlearn: 0.0578821\ttest: 0.6046968\tbest: 0.6046968 (290)\ttotal: 22.5s\tremaining: 16.1s\n300:\tlearn: 0.0560044\ttest: 0.6036964\tbest: 0.6033196 (296)\ttotal: 23.3s\tremaining: 15.4s\n310:\tlearn: 0.0539636\ttest: 0.6023066\tbest: 0.6010918 (306)\ttotal: 24s\tremaining: 14.6s\n320:\tlearn: 0.0522424\ttest: 0.6011531\tbest: 0.6010629 (316)\ttotal: 24.8s\tremaining: 13.8s\n330:\tlearn: 0.0504697\ttest: 0.5993968\tbest: 0.5993530 (329)\ttotal: 25.6s\tremaining: 13.1s\n340:\tlearn: 0.0488878\ttest: 0.5987135\tbest: 0.5980367 (335)\ttotal: 26.4s\tremaining: 12.3s\n350:\tlearn: 0.0474699\ttest: 0.5973934\tbest: 0.5973934 (350)\ttotal: 27.1s\tremaining: 11.5s\n360:\tlearn: 0.0459165\ttest: 0.5960738\tbest: 0.5960738 (360)\ttotal: 27.9s\tremaining: 10.7s\n370:\tlearn: 0.0444063\ttest: 0.5976178\tbest: 0.5960738 (360)\ttotal: 28.7s\tremaining: 9.96s\n380:\tlearn: 0.0431426\ttest: 0.5966421\tbest: 0.5953836 (377)\ttotal: 29.4s\tremaining: 9.2s\n390:\tlearn: 0.0419513\ttest: 0.5958601\tbest: 0.5953836 (377)\ttotal: 30.2s\tremaining: 8.41s\n400:\tlearn: 0.0407911\ttest: 0.5958776\tbest: 0.5948122 (399)\ttotal: 31s\tremaining: 7.64s\n410:\tlearn: 0.0398434\ttest: 0.5951975\tbest: 0.5948122 (399)\ttotal: 31.8s\tremaining: 6.88s\n420:\tlearn: 0.0387756\ttest: 0.5944604\tbest: 0.5938688 (417)\ttotal: 32.5s\tremaining: 6.11s\n430:\tlearn: 0.0379046\ttest: 0.5943994\tbest: 0.5935522 (428)\ttotal: 33.3s\tremaining: 5.33s\n440:\tlearn: 0.0371180\ttest: 0.5948740\tbest: 0.5934051 (433)\ttotal: 34.1s\tremaining: 4.56s\n450:\tlearn: 0.0361908\ttest: 0.5948728\tbest: 0.5934051 (433)\ttotal: 34.9s\tremaining: 3.79s\n460:\tlearn: 0.0352684\ttest: 0.5924703\tbest: 0.5924093 (459)\ttotal: 35.7s\tremaining: 3.02s\n470:\tlearn: 0.0345236\ttest: 0.5926124\tbest: 0.5924093 (459)\ttotal: 36.4s\tremaining: 2.24s\n480:\tlearn: 0.0336924\ttest: 0.5914577\tbest: 0.5914577 (480)\ttotal: 37.2s\tremaining: 1.47s\n490:\tlearn: 0.0329164\ttest: 0.5886963\tbest: 0.5886271 (489)\ttotal: 38s\tremaining: 696ms\n499:\tlearn: 0.0322896\ttest: 0.5889620\tbest: 0.5880259 (492)\ttotal: 38.7s\tremaining: 0us\n\nbestTest = 0.5880258959\nbestIteration = 492\n\n95:\tloss: 0.5880259\tbest: 0.5405381 (92)\ttotal: 56m 36s\tremaining: 4h 37m 45s\n0:\tlearn: 1.0963476\ttest: 1.0970719\tbest: 1.0970719 (0)\ttotal: 89.2ms\tremaining: 44.5s\n10:\tlearn: 1.0588847\ttest: 1.0783126\tbest: 1.0783126 (10)\ttotal: 863ms\tremaining: 38.3s\n20:\tlearn: 1.0214090\ttest: 1.0587119\tbest: 1.0587119 (20)\ttotal: 1.57s\tremaining: 35.9s\n30:\tlearn: 0.9886082\ttest: 1.0457087\tbest: 1.0457087 (30)\ttotal: 2.3s\tremaining: 34.8s\n40:\tlearn: 0.9554119\ttest: 1.0299860\tbest: 1.0299860 (40)\ttotal: 3.1s\tremaining: 34.8s\n50:\tlearn: 0.9289829\ttest: 1.0159643\tbest: 1.0159643 (50)\ttotal: 3.88s\tremaining: 34.2s\n60:\tlearn: 0.9006675\ttest: 1.0045566\tbest: 1.0045566 (60)\ttotal: 4.66s\tremaining: 33.5s\n70:\tlearn: 0.8710325\ttest: 0.9934987\tbest: 0.9934987 (70)\ttotal: 5.38s\tremaining: 32.5s\n80:\tlearn: 0.8421209\ttest: 0.9789342\tbest: 0.9789342 (80)\ttotal: 6.17s\tremaining: 31.9s\n90:\tlearn: 0.8158053\ttest: 0.9674257\tbest: 0.9674257 (90)\ttotal: 6.89s\tremaining: 31s\n100:\tlearn: 0.7939784\ttest: 0.9580550\tbest: 0.9580550 (100)\ttotal: 7.69s\tremaining: 30.4s\n110:\tlearn: 0.7715919\ttest: 0.9481123\tbest: 0.9481123 (110)\ttotal: 8.47s\tremaining: 29.7s\n120:\tlearn: 0.7526557\ttest: 0.9389348\tbest: 0.9389348 (120)\ttotal: 9.27s\tremaining: 29s\n130:\tlearn: 0.7326430\ttest: 0.9307391\tbest: 0.9307391 (130)\ttotal: 10.1s\tremaining: 28.3s\n140:\tlearn: 0.7151377\ttest: 0.9213293\tbest: 0.9213293 (140)\ttotal: 10.8s\tremaining: 27.5s\n150:\tlearn: 0.6943263\ttest: 0.9126900\tbest: 0.9126900 (150)\ttotal: 11.6s\tremaining: 26.7s\n160:\tlearn: 0.6758555\ttest: 0.9040378\tbest: 0.9040378 (160)\ttotal: 12.3s\tremaining: 25.9s\n170:\tlearn: 0.6584551\ttest: 0.8956074\tbest: 0.8956074 (170)\ttotal: 13.1s\tremaining: 25.1s\n180:\tlearn: 0.6422626\ttest: 0.8907170\tbest: 0.8907170 (180)\ttotal: 13.9s\tremaining: 24.4s\n190:\tlearn: 0.6260049\ttest: 0.8812890\tbest: 0.8812890 (190)\ttotal: 14.6s\tremaining: 23.5s\n200:\tlearn: 0.6109129\ttest: 0.8741484\tbest: 0.8741484 (200)\ttotal: 15.3s\tremaining: 22.7s\n210:\tlearn: 0.5950810\ttest: 0.8674535\tbest: 0.8674535 (210)\ttotal: 16s\tremaining: 21.9s\n220:\tlearn: 0.5829226\ttest: 0.8624625\tbest: 0.8624625 (220)\ttotal: 16.8s\tremaining: 21.2s\n230:\tlearn: 0.5696266\ttest: 0.8577249\tbest: 0.8577249 (230)\ttotal: 17.5s\tremaining: 20.4s\n240:\tlearn: 0.5565255\ttest: 0.8514598\tbest: 0.8514598 (240)\ttotal: 18.3s\tremaining: 19.6s\n250:\tlearn: 0.5443527\ttest: 0.8480666\tbest: 0.8480666 (250)\ttotal: 19s\tremaining: 18.8s\n260:\tlearn: 0.5323837\ttest: 0.8422295\tbest: 0.8422295 (260)\ttotal: 19.8s\tremaining: 18.1s\n270:\tlearn: 0.5210979\ttest: 0.8363220\tbest: 0.8363220 (270)\ttotal: 20.5s\tremaining: 17.3s\n280:\tlearn: 0.5104541\ttest: 0.8298973\tbest: 0.8298973 (280)\ttotal: 21.3s\tremaining: 16.6s\n290:\tlearn: 0.5013990\ttest: 0.8262773\tbest: 0.8262773 (290)\ttotal: 22.1s\tremaining: 15.8s\n300:\tlearn: 0.4916578\ttest: 0.8237166\tbest: 0.8237166 (300)\ttotal: 22.8s\tremaining: 15.1s\n310:\tlearn: 0.4823719\ttest: 0.8176745\tbest: 0.8176745 (310)\ttotal: 23.6s\tremaining: 14.3s\n320:\tlearn: 0.4742826\ttest: 0.8135109\tbest: 0.8135109 (320)\ttotal: 24.4s\tremaining: 13.6s\n330:\tlearn: 0.4668731\ttest: 0.8100939\tbest: 0.8100939 (330)\ttotal: 25.2s\tremaining: 12.9s\n340:\tlearn: 0.4579965\ttest: 0.8058198\tbest: 0.8056965 (339)\ttotal: 26s\tremaining: 12.1s\n350:\tlearn: 0.4489716\ttest: 0.8011918\tbest: 0.8011918 (350)\ttotal: 26.8s\tremaining: 11.4s\n360:\tlearn: 0.4421822\ttest: 0.7980916\tbest: 0.7980916 (360)\ttotal: 27.6s\tremaining: 10.6s\n370:\tlearn: 0.4346015\ttest: 0.7959581\tbest: 0.7956935 (369)\ttotal: 28.4s\tremaining: 9.87s\n380:\tlearn: 0.4269763\ttest: 0.7922579\tbest: 0.7922579 (380)\ttotal: 29.2s\tremaining: 9.12s\n390:\tlearn: 0.4209623\ttest: 0.7911683\tbest: 0.7911683 (390)\ttotal: 30.1s\tremaining: 8.38s\n400:\tlearn: 0.4136676\ttest: 0.7873580\tbest: 0.7872938 (399)\ttotal: 30.9s\tremaining: 7.62s\n410:\tlearn: 0.4074859\ttest: 0.7853935\tbest: 0.7853935 (410)\ttotal: 31.6s\tremaining: 6.85s\n420:\tlearn: 0.4016037\ttest: 0.7822538\tbest: 0.7822538 (420)\ttotal: 32.4s\tremaining: 6.08s\n430:\tlearn: 0.3958265\ttest: 0.7797999\tbest: 0.7797999 (430)\ttotal: 33.2s\tremaining: 5.32s\n440:\tlearn: 0.3895618\ttest: 0.7779741\tbest: 0.7775404 (439)\ttotal: 34s\tremaining: 4.54s\n450:\tlearn: 0.3840946\ttest: 0.7743102\tbest: 0.7743102 (450)\ttotal: 34.7s\tremaining: 3.77s\n460:\tlearn: 0.3782001\ttest: 0.7727987\tbest: 0.7727987 (460)\ttotal: 35.5s\tremaining: 3.01s\n470:\tlearn: 0.3729730\ttest: 0.7697027\tbest: 0.7697027 (470)\ttotal: 36.3s\tremaining: 2.23s\n480:\tlearn: 0.3677114\ttest: 0.7685052\tbest: 0.7682443 (476)\ttotal: 37.1s\tremaining: 1.46s\n490:\tlearn: 0.3623951\ttest: 0.7655317\tbest: 0.7654747 (489)\ttotal: 37.9s\tremaining: 694ms\n499:\tlearn: 0.3577518\ttest: 0.7631672\tbest: 0.7631672 (499)\ttotal: 38.6s\tremaining: 0us\n\nbestTest = 0.7631672269\nbestIteration = 499\n\n96:\tloss: 0.7631672\tbest: 0.5405381 (92)\ttotal: 57m 15s\tremaining: 4h 37m 25s\n0:\tlearn: 1.0873316\ttest: 1.0909450\tbest: 1.0909450 (0)\ttotal: 44ms\tremaining: 21.9s\n10:\tlearn: 0.9223850\ttest: 1.0082458\tbest: 1.0082458 (10)\ttotal: 832ms\tremaining: 37s\n20:\tlearn: 0.7842816\ttest: 0.9381428\tbest: 0.9381428 (20)\ttotal: 1.6s\tremaining: 36.5s\n30:\tlearn: 0.6832463\ttest: 0.8961312\tbest: 0.8961312 (30)\ttotal: 2.34s\tremaining: 35.4s\n40:\tlearn: 0.6095094\ttest: 0.8536968\tbest: 0.8536968 (40)\ttotal: 3.12s\tremaining: 34.9s\n50:\tlearn: 0.5439250\ttest: 0.8379859\tbest: 0.8379859 (50)\ttotal: 3.83s\tremaining: 33.7s\n60:\tlearn: 0.4905554\ttest: 0.8111253\tbest: 0.8111253 (60)\ttotal: 4.62s\tremaining: 33.2s\n70:\tlearn: 0.4479329\ttest: 0.7932252\tbest: 0.7932252 (70)\ttotal: 5.33s\tremaining: 32.2s\n80:\tlearn: 0.4133025\ttest: 0.7750294\tbest: 0.7750294 (80)\ttotal: 6.11s\tremaining: 31.6s\n90:\tlearn: 0.3808557\ttest: 0.7628780\tbest: 0.7628780 (90)\ttotal: 6.9s\tremaining: 31s\n100:\tlearn: 0.3547268\ttest: 0.7498678\tbest: 0.7498678 (100)\ttotal: 7.7s\tremaining: 30.4s\n110:\tlearn: 0.3328770\ttest: 0.7372636\tbest: 0.7372636 (110)\ttotal: 8.51s\tremaining: 29.8s\n120:\tlearn: 0.3100480\ttest: 0.7267420\tbest: 0.7267420 (120)\ttotal: 9.3s\tremaining: 29.1s\n130:\tlearn: 0.2939746\ttest: 0.7200723\tbest: 0.7200723 (130)\ttotal: 10.1s\tremaining: 28.4s\n140:\tlearn: 0.2770292\ttest: 0.7110335\tbest: 0.7110335 (140)\ttotal: 10.8s\tremaining: 27.6s\n150:\tlearn: 0.2623976\ttest: 0.7064290\tbest: 0.7064290 (150)\ttotal: 11.6s\tremaining: 26.8s\n160:\tlearn: 0.2510512\ttest: 0.6987874\tbest: 0.6987857 (159)\ttotal: 12.4s\tremaining: 26.1s\n170:\tlearn: 0.2399655\ttest: 0.6909206\tbest: 0.6909206 (170)\ttotal: 13.1s\tremaining: 25.3s\n180:\tlearn: 0.2296288\ttest: 0.6904817\tbest: 0.6904817 (180)\ttotal: 13.9s\tremaining: 24.5s\n190:\tlearn: 0.2200097\ttest: 0.6837221\tbest: 0.6837221 (190)\ttotal: 14.7s\tremaining: 23.8s\n200:\tlearn: 0.2104243\ttest: 0.6779153\tbest: 0.6779153 (200)\ttotal: 15.4s\tremaining: 23s\n210:\tlearn: 0.2014871\ttest: 0.6709414\tbest: 0.6709414 (210)\ttotal: 16.2s\tremaining: 22.2s\n220:\tlearn: 0.1939293\ttest: 0.6670528\tbest: 0.6670528 (220)\ttotal: 17s\tremaining: 21.5s\n230:\tlearn: 0.1870667\ttest: 0.6653180\tbest: 0.6653180 (230)\ttotal: 17.8s\tremaining: 20.7s\n240:\tlearn: 0.1792337\ttest: 0.6599715\tbest: 0.6599715 (240)\ttotal: 18.5s\tremaining: 19.9s\n250:\tlearn: 0.1732108\ttest: 0.6563749\tbest: 0.6563749 (250)\ttotal: 19.3s\tremaining: 19.2s\n260:\tlearn: 0.1668421\ttest: 0.6500285\tbest: 0.6500285 (260)\ttotal: 20.1s\tremaining: 18.4s\n270:\tlearn: 0.1609518\ttest: 0.6465304\tbest: 0.6463584 (269)\ttotal: 20.8s\tremaining: 17.6s\n280:\tlearn: 0.1556900\ttest: 0.6429785\tbest: 0.6429785 (280)\ttotal: 21.6s\tremaining: 16.8s\n290:\tlearn: 0.1505382\ttest: 0.6424037\tbest: 0.6420661 (288)\ttotal: 22.4s\tremaining: 16.1s\n300:\tlearn: 0.1460761\ttest: 0.6415080\tbest: 0.6415080 (300)\ttotal: 23.1s\tremaining: 15.3s\n310:\tlearn: 0.1416398\ttest: 0.6381029\tbest: 0.6381029 (310)\ttotal: 23.9s\tremaining: 14.5s\n320:\tlearn: 0.1367105\ttest: 0.6373434\tbest: 0.6370041 (314)\ttotal: 24.7s\tremaining: 13.8s\n330:\tlearn: 0.1322009\ttest: 0.6363570\tbest: 0.6357165 (328)\ttotal: 25.4s\tremaining: 13s\n340:\tlearn: 0.1286459\ttest: 0.6338882\tbest: 0.6331792 (334)\ttotal: 26.2s\tremaining: 12.2s\n350:\tlearn: 0.1250376\ttest: 0.6346574\tbest: 0.6331792 (334)\ttotal: 27s\tremaining: 11.5s\n360:\tlearn: 0.1215358\ttest: 0.6347324\tbest: 0.6331792 (334)\ttotal: 27.8s\tremaining: 10.7s\n370:\tlearn: 0.1185131\ttest: 0.6343693\tbest: 0.6331792 (334)\ttotal: 28.6s\tremaining: 9.94s\n380:\tlearn: 0.1152762\ttest: 0.6340412\tbest: 0.6331792 (334)\ttotal: 29.3s\tremaining: 9.16s\n390:\tlearn: 0.1125135\ttest: 0.6314072\tbest: 0.6314072 (390)\ttotal: 30.1s\tremaining: 8.39s\n400:\tlearn: 0.1099474\ttest: 0.6297042\tbest: 0.6292855 (399)\ttotal: 30.9s\tremaining: 7.63s\n410:\tlearn: 0.1070328\ttest: 0.6307626\tbest: 0.6292855 (399)\ttotal: 31.7s\tremaining: 6.86s\n420:\tlearn: 0.1042291\ttest: 0.6282528\tbest: 0.6282528 (420)\ttotal: 32.4s\tremaining: 6.09s\n430:\tlearn: 0.1016774\ttest: 0.6287688\tbest: 0.6277543 (425)\ttotal: 33.2s\tremaining: 5.32s\n440:\tlearn: 0.0993155\ttest: 0.6277413\tbest: 0.6265831 (436)\ttotal: 34s\tremaining: 4.55s\n450:\tlearn: 0.0970704\ttest: 0.6273075\tbest: 0.6265831 (436)\ttotal: 34.7s\tremaining: 3.77s\n460:\tlearn: 0.0948593\ttest: 0.6274703\tbest: 0.6265831 (436)\ttotal: 35.5s\tremaining: 3s\n470:\tlearn: 0.0928677\ttest: 0.6257926\tbest: 0.6250743 (467)\ttotal: 36.3s\tremaining: 2.23s\n480:\tlearn: 0.0909055\ttest: 0.6255389\tbest: 0.6250743 (467)\ttotal: 37.1s\tremaining: 1.46s\n490:\tlearn: 0.0889806\ttest: 0.6233005\tbest: 0.6233005 (490)\ttotal: 37.8s\tremaining: 693ms\n499:\tlearn: 0.0874275\ttest: 0.6218982\tbest: 0.6217177 (498)\ttotal: 38.6s\tremaining: 0us\n\nbestTest = 0.6217177214\nbestIteration = 498\n\n97:\tloss: 0.6217177\tbest: 0.5405381 (92)\ttotal: 57m 54s\tremaining: 4h 37m 5s\n0:\tlearn: 1.0761587\ttest: 1.0833648\tbest: 1.0833648 (0)\ttotal: 42.1ms\tremaining: 21s\n10:\tlearn: 0.7859597\ttest: 0.9412473\tbest: 0.9412473 (10)\ttotal: 810ms\tremaining: 36s\n20:\tlearn: 0.6137712\ttest: 0.8397323\tbest: 0.8397323 (20)\ttotal: 1.6s\tremaining: 36.6s\n30:\tlearn: 0.5068419\ttest: 0.8146154\tbest: 0.8146154 (30)\ttotal: 2.35s\tremaining: 35.6s\n40:\tlearn: 0.4203211\ttest: 0.7697060\tbest: 0.7697060 (40)\ttotal: 3.11s\tremaining: 34.8s\n50:\tlearn: 0.3608949\ttest: 0.7442321\tbest: 0.7442321 (50)\ttotal: 3.85s\tremaining: 33.9s\n60:\tlearn: 0.3170706\ttest: 0.7176019\tbest: 0.7176019 (60)\ttotal: 4.64s\tremaining: 33.4s\n70:\tlearn: 0.2821871\ttest: 0.6980577\tbest: 0.6980577 (70)\ttotal: 5.43s\tremaining: 32.8s\n80:\tlearn: 0.2545832\ttest: 0.6835127\tbest: 0.6824328 (79)\ttotal: 6.22s\tremaining: 32.2s\n90:\tlearn: 0.2314797\ttest: 0.6797497\tbest: 0.6795100 (83)\ttotal: 7s\tremaining: 31.5s\n100:\tlearn: 0.2136163\ttest: 0.6708096\tbest: 0.6708096 (100)\ttotal: 7.79s\tremaining: 30.8s\n110:\tlearn: 0.1975441\ttest: 0.6626101\tbest: 0.6626101 (110)\ttotal: 8.59s\tremaining: 30.1s\n120:\tlearn: 0.1807906\ttest: 0.6503817\tbest: 0.6503817 (120)\ttotal: 9.33s\tremaining: 29.2s\n130:\tlearn: 0.1670190\ttest: 0.6462619\tbest: 0.6462619 (130)\ttotal: 10.1s\tremaining: 28.5s\n140:\tlearn: 0.1563197\ttest: 0.6361845\tbest: 0.6361845 (140)\ttotal: 10.9s\tremaining: 27.8s\n150:\tlearn: 0.1454241\ttest: 0.6292810\tbest: 0.6292810 (150)\ttotal: 11.7s\tremaining: 27s\n160:\tlearn: 0.1371349\ttest: 0.6214030\tbest: 0.6213401 (159)\ttotal: 12.4s\tremaining: 26.2s\n170:\tlearn: 0.1299879\ttest: 0.6163426\tbest: 0.6163426 (170)\ttotal: 13.2s\tremaining: 25.4s\n180:\tlearn: 0.1234405\ttest: 0.6159743\tbest: 0.6153512 (178)\ttotal: 14s\tremaining: 24.7s\n190:\tlearn: 0.1170457\ttest: 0.6119983\tbest: 0.6119983 (190)\ttotal: 14.7s\tremaining: 23.8s\n200:\tlearn: 0.1113111\ttest: 0.6091627\tbest: 0.6084069 (199)\ttotal: 15.5s\tremaining: 23.1s\n210:\tlearn: 0.1064823\ttest: 0.6042062\tbest: 0.6042062 (210)\ttotal: 16.3s\tremaining: 22.3s\n220:\tlearn: 0.1012346\ttest: 0.6060708\tbest: 0.6032903 (215)\ttotal: 17.1s\tremaining: 21.6s\n230:\tlearn: 0.0969933\ttest: 0.6046679\tbest: 0.6032903 (215)\ttotal: 17.8s\tremaining: 20.8s\n240:\tlearn: 0.0932244\ttest: 0.5981838\tbest: 0.5981838 (240)\ttotal: 18.6s\tremaining: 20s\n250:\tlearn: 0.0892294\ttest: 0.5957428\tbest: 0.5957428 (250)\ttotal: 19.4s\tremaining: 19.2s\n260:\tlearn: 0.0854210\ttest: 0.5905861\tbest: 0.5899274 (258)\ttotal: 20.2s\tremaining: 18.5s\n270:\tlearn: 0.0820317\ttest: 0.5866465\tbest: 0.5866465 (270)\ttotal: 21s\tremaining: 17.7s\n280:\tlearn: 0.0791458\ttest: 0.5866855\tbest: 0.5866465 (270)\ttotal: 21.8s\tremaining: 17s\n290:\tlearn: 0.0760439\ttest: 0.5859197\tbest: 0.5855325 (289)\ttotal: 22.5s\tremaining: 16.2s\n300:\tlearn: 0.0734250\ttest: 0.5856923\tbest: 0.5852191 (299)\ttotal: 23.3s\tremaining: 15.4s\n310:\tlearn: 0.0707723\ttest: 0.5833399\tbest: 0.5833399 (310)\ttotal: 24.1s\tremaining: 14.6s\n320:\tlearn: 0.0685315\ttest: 0.5833181\tbest: 0.5827500 (318)\ttotal: 24.8s\tremaining: 13.8s\n330:\tlearn: 0.0663297\ttest: 0.5824192\tbest: 0.5820181 (321)\ttotal: 25.6s\tremaining: 13.1s\n340:\tlearn: 0.0643042\ttest: 0.5826334\tbest: 0.5816913 (338)\ttotal: 26.4s\tremaining: 12.3s\n350:\tlearn: 0.0624988\ttest: 0.5802165\tbest: 0.5802165 (350)\ttotal: 27.1s\tremaining: 11.5s\n360:\tlearn: 0.0606010\ttest: 0.5796087\tbest: 0.5796087 (360)\ttotal: 27.9s\tremaining: 10.8s\n370:\tlearn: 0.0588248\ttest: 0.5800653\tbest: 0.5787797 (364)\ttotal: 28.7s\tremaining: 9.98s\n380:\tlearn: 0.0570526\ttest: 0.5768986\tbest: 0.5768986 (380)\ttotal: 29.5s\tremaining: 9.21s\n390:\tlearn: 0.0554933\ttest: 0.5749529\tbest: 0.5749529 (390)\ttotal: 30.3s\tremaining: 8.44s\n400:\tlearn: 0.0540147\ttest: 0.5743891\tbest: 0.5737263 (395)\ttotal: 31.1s\tremaining: 7.67s\n410:\tlearn: 0.0525804\ttest: 0.5738112\tbest: 0.5737263 (395)\ttotal: 31.8s\tremaining: 6.89s\n420:\tlearn: 0.0510608\ttest: 0.5730346\tbest: 0.5720301 (415)\ttotal: 32.6s\tremaining: 6.12s\n430:\tlearn: 0.0495772\ttest: 0.5715229\tbest: 0.5713450 (429)\ttotal: 33.4s\tremaining: 5.35s\n440:\tlearn: 0.0483167\ttest: 0.5707546\tbest: 0.5704714 (434)\ttotal: 34.2s\tremaining: 4.58s\n450:\tlearn: 0.0472490\ttest: 0.5710053\tbest: 0.5700671 (447)\ttotal: 35s\tremaining: 3.8s\n460:\tlearn: 0.0461546\ttest: 0.5707804\tbest: 0.5699742 (457)\ttotal: 35.8s\tremaining: 3.03s\n470:\tlearn: 0.0450359\ttest: 0.5686578\tbest: 0.5682625 (469)\ttotal: 36.5s\tremaining: 2.25s\n480:\tlearn: 0.0441319\ttest: 0.5663663\tbest: 0.5663008 (476)\ttotal: 37.3s\tremaining: 1.47s\n490:\tlearn: 0.0431318\ttest: 0.5663723\tbest: 0.5661009 (484)\ttotal: 38.1s\tremaining: 698ms\n499:\tlearn: 0.0422260\ttest: 0.5656906\tbest: 0.5655618 (498)\ttotal: 38.8s\tremaining: 0us\n\nbestTest = 0.5655617941\nbestIteration = 498\n\n98:\tloss: 0.5655618\tbest: 0.5405381 (92)\ttotal: 58m 32s\tremaining: 4h 36m 46s\n0:\tlearn: 1.0966928\ttest: 1.0973127\tbest: 1.0973127 (0)\ttotal: 91.1ms\tremaining: 45.5s\n10:\tlearn: 1.0642230\ttest: 1.0815928\tbest: 1.0815928 (10)\ttotal: 809ms\tremaining: 36s\n20:\tlearn: 1.0315185\ttest: 1.0644011\tbest: 1.0644011 (20)\ttotal: 1.56s\tremaining: 35.7s\n30:\tlearn: 1.0023113\ttest: 1.0520624\tbest: 1.0520624 (30)\ttotal: 2.3s\tremaining: 34.9s\n40:\tlearn: 0.9748002\ttest: 1.0395753\tbest: 1.0395753 (40)\ttotal: 3.1s\tremaining: 34.7s\n50:\tlearn: 0.9494649\ttest: 1.0252002\tbest: 1.0252002 (50)\ttotal: 3.88s\tremaining: 34.2s\n60:\tlearn: 0.9247931\ttest: 1.0138226\tbest: 1.0138226 (60)\ttotal: 4.6s\tremaining: 33.1s\n70:\tlearn: 0.8985500\ttest: 1.0014704\tbest: 1.0014704 (70)\ttotal: 5.36s\tremaining: 32.4s\n80:\tlearn: 0.8745417\ttest: 0.9909715\tbest: 0.9909715 (80)\ttotal: 6.09s\tremaining: 31.5s\n90:\tlearn: 0.8487847\ttest: 0.9784932\tbest: 0.9784932 (90)\ttotal: 6.86s\tremaining: 30.8s\n100:\tlearn: 0.8262267\ttest: 0.9684125\tbest: 0.9684125 (100)\ttotal: 7.6s\tremaining: 30s\n110:\tlearn: 0.8050126\ttest: 0.9586248\tbest: 0.9586248 (110)\ttotal: 8.38s\tremaining: 29.4s\n120:\tlearn: 0.7856498\ttest: 0.9497983\tbest: 0.9497983 (120)\ttotal: 9.16s\tremaining: 28.7s\n130:\tlearn: 0.7678585\ttest: 0.9426585\tbest: 0.9426585 (130)\ttotal: 9.95s\tremaining: 28s\n140:\tlearn: 0.7517701\ttest: 0.9341623\tbest: 0.9341623 (140)\ttotal: 10.7s\tremaining: 27.2s\n150:\tlearn: 0.7321350\ttest: 0.9255792\tbest: 0.9255792 (150)\ttotal: 11.5s\tremaining: 26.5s\n160:\tlearn: 0.7148845\ttest: 0.9176144\tbest: 0.9176144 (160)\ttotal: 12.2s\tremaining: 25.7s\n170:\tlearn: 0.6985448\ttest: 0.9096991\tbest: 0.9096991 (170)\ttotal: 13s\tremaining: 24.9s\n180:\tlearn: 0.6841623\ttest: 0.9037666\tbest: 0.9037666 (180)\ttotal: 13.7s\tremaining: 24.1s\n190:\tlearn: 0.6716535\ttest: 0.9000106\tbest: 0.9000106 (190)\ttotal: 14.5s\tremaining: 23.4s\n200:\tlearn: 0.6589398\ttest: 0.8930938\tbest: 0.8930938 (200)\ttotal: 15.3s\tremaining: 22.7s\n210:\tlearn: 0.6474564\ttest: 0.8892960\tbest: 0.8892960 (210)\ttotal: 16s\tremaining: 21.9s\n220:\tlearn: 0.6334088\ttest: 0.8840512\tbest: 0.8840512 (220)\ttotal: 16.8s\tremaining: 21.2s\n230:\tlearn: 0.6210152\ttest: 0.8782302\tbest: 0.8782302 (230)\ttotal: 17.5s\tremaining: 20.4s\n240:\tlearn: 0.6102735\ttest: 0.8716310\tbest: 0.8716310 (240)\ttotal: 18.3s\tremaining: 19.6s\n250:\tlearn: 0.5990722\ttest: 0.8651498\tbest: 0.8651498 (250)\ttotal: 19.1s\tremaining: 18.9s\n260:\tlearn: 0.5864066\ttest: 0.8583905\tbest: 0.8583905 (260)\ttotal: 19.9s\tremaining: 18.2s\n270:\tlearn: 0.5751952\ttest: 0.8528510\tbest: 0.8528510 (270)\ttotal: 20.6s\tremaining: 17.4s\n280:\tlearn: 0.5658728\ttest: 0.8478960\tbest: 0.8478960 (280)\ttotal: 21.4s\tremaining: 16.7s\n290:\tlearn: 0.5567622\ttest: 0.8444535\tbest: 0.8444535 (290)\ttotal: 22.2s\tremaining: 15.9s\n300:\tlearn: 0.5472485\ttest: 0.8406002\tbest: 0.8406002 (300)\ttotal: 22.9s\tremaining: 15.2s\n310:\tlearn: 0.5372743\ttest: 0.8346253\tbest: 0.8346253 (310)\ttotal: 23.7s\tremaining: 14.4s\n320:\tlearn: 0.5298838\ttest: 0.8312406\tbest: 0.8312406 (320)\ttotal: 24.5s\tremaining: 13.6s\n330:\tlearn: 0.5216549\ttest: 0.8272209\tbest: 0.8272209 (330)\ttotal: 25.3s\tremaining: 12.9s\n340:\tlearn: 0.5124093\ttest: 0.8239427\tbest: 0.8239427 (340)\ttotal: 26.1s\tremaining: 12.2s\n350:\tlearn: 0.5028742\ttest: 0.8188701\tbest: 0.8188701 (350)\ttotal: 26.8s\tremaining: 11.4s\n360:\tlearn: 0.4955023\ttest: 0.8159956\tbest: 0.8159956 (360)\ttotal: 27.6s\tremaining: 10.6s\n370:\tlearn: 0.4871836\ttest: 0.8132136\tbest: 0.8132136 (370)\ttotal: 28.4s\tremaining: 9.88s\n380:\tlearn: 0.4794491\ttest: 0.8100942\tbest: 0.8100895 (379)\ttotal: 29.2s\tremaining: 9.11s\n390:\tlearn: 0.4719047\ttest: 0.8073632\tbest: 0.8073632 (390)\ttotal: 30s\tremaining: 8.35s\n400:\tlearn: 0.4649488\ttest: 0.8040094\tbest: 0.8040094 (400)\ttotal: 30.7s\tremaining: 7.59s\n410:\tlearn: 0.4583113\ttest: 0.8013828\tbest: 0.8013828 (410)\ttotal: 31.5s\tremaining: 6.82s\n420:\tlearn: 0.4514712\ttest: 0.7986004\tbest: 0.7986004 (420)\ttotal: 32.3s\tremaining: 6.06s\n430:\tlearn: 0.4459624\ttest: 0.7959114\tbest: 0.7959114 (430)\ttotal: 33.1s\tremaining: 5.29s\n440:\tlearn: 0.4394158\ttest: 0.7938072\tbest: 0.7938072 (440)\ttotal: 33.9s\tremaining: 4.53s\n450:\tlearn: 0.4334285\ttest: 0.7909012\tbest: 0.7909012 (450)\ttotal: 34.6s\tremaining: 3.76s\n460:\tlearn: 0.4269651\ttest: 0.7892048\tbest: 0.7892048 (460)\ttotal: 35.4s\tremaining: 3s\n470:\tlearn: 0.4215911\ttest: 0.7849861\tbest: 0.7849861 (470)\ttotal: 36.2s\tremaining: 2.23s\n480:\tlearn: 0.4157780\ttest: 0.7828737\tbest: 0.7828737 (480)\ttotal: 37s\tremaining: 1.46s\n490:\tlearn: 0.4104397\ttest: 0.7799001\tbest: 0.7799001 (490)\ttotal: 37.8s\tremaining: 692ms\n499:\tlearn: 0.4055822\ttest: 0.7780072\tbest: 0.7780072 (499)\ttotal: 38.5s\tremaining: 0us\n\nbestTest = 0.7780072438\nbestIteration = 499\n\n99:\tloss: 0.7780072\tbest: 0.5405381 (92)\ttotal: 59m 11s\tremaining: 4h 36m 25s\n0:\tlearn: 1.0890461\ttest: 1.0921392\tbest: 1.0921392 (0)\ttotal: 87.5ms\tremaining: 43.7s\n10:\tlearn: 0.9377208\ttest: 1.0191278\tbest: 1.0191278 (10)\ttotal: 871ms\tremaining: 38.7s\n20:\tlearn: 0.8159610\ttest: 0.9547912\tbest: 0.9547912 (20)\ttotal: 1.59s\tremaining: 36.2s\n30:\tlearn: 0.7216550\ttest: 0.9154795\tbest: 0.9154795 (30)\ttotal: 2.38s\tremaining: 36s\n40:\tlearn: 0.6501538\ttest: 0.8768480\tbest: 0.8768480 (40)\ttotal: 3.1s\tremaining: 34.8s\n50:\tlearn: 0.5844603\ttest: 0.8564471\tbest: 0.8564471 (50)\ttotal: 3.87s\tremaining: 34.1s\n60:\tlearn: 0.5314148\ttest: 0.8342601\tbest: 0.8342601 (60)\ttotal: 4.61s\tremaining: 33.1s\n70:\tlearn: 0.4872148\ttest: 0.8157100\tbest: 0.8157100 (70)\ttotal: 5.38s\tremaining: 32.5s\n80:\tlearn: 0.4540704\ttest: 0.7988799\tbest: 0.7988799 (80)\ttotal: 6.11s\tremaining: 31.6s\n90:\tlearn: 0.4212043\ttest: 0.7862905\tbest: 0.7862905 (90)\ttotal: 6.89s\tremaining: 31s\n100:\tlearn: 0.3947667\ttest: 0.7734908\tbest: 0.7734908 (100)\ttotal: 7.68s\tremaining: 30.4s\n110:\tlearn: 0.3742627\ttest: 0.7603695\tbest: 0.7603695 (110)\ttotal: 8.47s\tremaining: 29.7s\n120:\tlearn: 0.3509088\ttest: 0.7514216\tbest: 0.7514216 (120)\ttotal: 9.26s\tremaining: 29s\n130:\tlearn: 0.3351286\ttest: 0.7467493\tbest: 0.7467493 (130)\ttotal: 10s\tremaining: 28.2s\n140:\tlearn: 0.3178536\ttest: 0.7380250\tbest: 0.7380250 (140)\ttotal: 10.8s\tremaining: 27.5s\n150:\tlearn: 0.3028389\ttest: 0.7294218\tbest: 0.7294218 (150)\ttotal: 11.6s\tremaining: 26.8s\n160:\tlearn: 0.2898739\ttest: 0.7214662\tbest: 0.7214662 (160)\ttotal: 12.4s\tremaining: 26.1s\n170:\tlearn: 0.2771802\ttest: 0.7108957\tbest: 0.7108957 (170)\ttotal: 13.2s\tremaining: 25.3s\n180:\tlearn: 0.2645482\ttest: 0.7058551\tbest: 0.7058551 (180)\ttotal: 13.9s\tremaining: 24.5s\n190:\tlearn: 0.2536900\ttest: 0.7000271\tbest: 0.7000271 (190)\ttotal: 14.7s\tremaining: 23.8s\n200:\tlearn: 0.2438442\ttest: 0.6944560\tbest: 0.6944560 (200)\ttotal: 15.5s\tremaining: 23s\n210:\tlearn: 0.2346841\ttest: 0.6868574\tbest: 0.6868574 (210)\ttotal: 16.3s\tremaining: 22.3s\n220:\tlearn: 0.2259152\ttest: 0.6833971\tbest: 0.6833971 (220)\ttotal: 17s\tremaining: 21.5s\n230:\tlearn: 0.2181238\ttest: 0.6808088\tbest: 0.6808088 (230)\ttotal: 17.8s\tremaining: 20.7s\n240:\tlearn: 0.2098257\ttest: 0.6750665\tbest: 0.6750665 (240)\ttotal: 18.6s\tremaining: 20s\n250:\tlearn: 0.2032131\ttest: 0.6724894\tbest: 0.6724894 (250)\ttotal: 19.4s\tremaining: 19.2s\n260:\tlearn: 0.1964422\ttest: 0.6666724\tbest: 0.6666724 (260)\ttotal: 20.1s\tremaining: 18.4s\n270:\tlearn: 0.1897682\ttest: 0.6621663\tbest: 0.6620513 (269)\ttotal: 20.9s\tremaining: 17.6s\n280:\tlearn: 0.1840923\ttest: 0.6592039\tbest: 0.6592039 (280)\ttotal: 21.7s\tremaining: 16.9s\n290:\tlearn: 0.1783424\ttest: 0.6583581\tbest: 0.6581435 (288)\ttotal: 22.5s\tremaining: 16.1s\n300:\tlearn: 0.1733193\ttest: 0.6570494\tbest: 0.6570494 (300)\ttotal: 23.2s\tremaining: 15.3s\n310:\tlearn: 0.1680999\ttest: 0.6545050\tbest: 0.6545050 (310)\ttotal: 24s\tremaining: 14.6s\n320:\tlearn: 0.1629894\ttest: 0.6522102\tbest: 0.6522102 (320)\ttotal: 24.8s\tremaining: 13.8s\n330:\tlearn: 0.1579412\ttest: 0.6498254\tbest: 0.6494608 (329)\ttotal: 25.5s\tremaining: 13s\n340:\tlearn: 0.1539574\ttest: 0.6458511\tbest: 0.6458511 (340)\ttotal: 26.3s\tremaining: 12.3s\n350:\tlearn: 0.1498739\ttest: 0.6420636\tbest: 0.6420636 (350)\ttotal: 27.1s\tremaining: 11.5s\n360:\tlearn: 0.1458590\ttest: 0.6413454\tbest: 0.6401246 (353)\ttotal: 27.9s\tremaining: 10.7s\n370:\tlearn: 0.1420989\ttest: 0.6398876\tbest: 0.6398104 (367)\ttotal: 28.6s\tremaining: 9.94s\n380:\tlearn: 0.1381573\ttest: 0.6392820\tbest: 0.6392222 (377)\ttotal: 29.4s\tremaining: 9.18s\n390:\tlearn: 0.1349052\ttest: 0.6363405\tbest: 0.6363405 (390)\ttotal: 30.2s\tremaining: 8.41s\n400:\tlearn: 0.1318567\ttest: 0.6366381\tbest: 0.6354616 (398)\ttotal: 31s\tremaining: 7.64s\n410:\tlearn: 0.1286135\ttest: 0.6372370\tbest: 0.6354616 (398)\ttotal: 31.8s\tremaining: 6.88s\n420:\tlearn: 0.1251384\ttest: 0.6343636\tbest: 0.6342014 (419)\ttotal: 32.5s\tremaining: 6.09s\n430:\tlearn: 0.1222253\ttest: 0.6347500\tbest: 0.6336559 (425)\ttotal: 33.3s\tremaining: 5.33s\n440:\tlearn: 0.1196337\ttest: 0.6333408\tbest: 0.6332176 (434)\ttotal: 34.1s\tremaining: 4.56s\n450:\tlearn: 0.1170213\ttest: 0.6322693\tbest: 0.6322693 (450)\ttotal: 34.9s\tremaining: 3.79s\n460:\tlearn: 0.1144905\ttest: 0.6314719\tbest: 0.6309694 (458)\ttotal: 35.7s\tremaining: 3.02s\n470:\tlearn: 0.1121586\ttest: 0.6273594\tbest: 0.6267348 (468)\ttotal: 36.4s\tremaining: 2.24s\n480:\tlearn: 0.1097726\ttest: 0.6263877\tbest: 0.6262561 (478)\ttotal: 37.2s\tremaining: 1.47s\n490:\tlearn: 0.1075576\ttest: 0.6243565\tbest: 0.6243565 (490)\ttotal: 38s\tremaining: 696ms\n499:\tlearn: 0.1056192\ttest: 0.6234642\tbest: 0.6234423 (493)\ttotal: 38.7s\tremaining: 0us\n\nbestTest = 0.6234422716\nbestIteration = 493\n\n100:\tloss: 0.6234423\tbest: 0.5405381 (92)\ttotal: 59m 50s\tremaining: 4h 36m 4s\n0:\tlearn: 1.0795580\ttest: 1.0857286\tbest: 1.0857286 (0)\ttotal: 79.1ms\tremaining: 39.4s\n10:\tlearn: 0.8101804\ttest: 0.9594802\tbest: 0.9594802 (10)\ttotal: 799ms\tremaining: 35.5s\n20:\tlearn: 0.6560702\ttest: 0.8697618\tbest: 0.8697618 (20)\ttotal: 1.58s\tremaining: 36s\n30:\tlearn: 0.5543405\ttest: 0.8407573\tbest: 0.8407573 (30)\ttotal: 2.31s\tremaining: 35s\n40:\tlearn: 0.4622289\ttest: 0.8102550\tbest: 0.8102550 (40)\ttotal: 3.08s\tremaining: 34.5s\n50:\tlearn: 0.4011748\ttest: 0.7864251\tbest: 0.7864251 (50)\ttotal: 3.81s\tremaining: 33.5s\n60:\tlearn: 0.3602925\ttest: 0.7698829\tbest: 0.7698829 (60)\ttotal: 4.6s\tremaining: 33.1s\n70:\tlearn: 0.3190772\ttest: 0.7453140\tbest: 0.7450123 (69)\ttotal: 5.38s\tremaining: 32.5s\n80:\tlearn: 0.2893150\ttest: 0.7295729\tbest: 0.7295297 (79)\ttotal: 6.1s\tremaining: 31.6s\n90:\tlearn: 0.2644632\ttest: 0.7180953\tbest: 0.7180953 (90)\ttotal: 6.89s\tremaining: 31s\n100:\tlearn: 0.2435606\ttest: 0.7076025\tbest: 0.7072511 (99)\ttotal: 7.67s\tremaining: 30.3s\n110:\tlearn: 0.2215196\ttest: 0.7003226\tbest: 0.7003226 (110)\ttotal: 8.4s\tremaining: 29.4s\n120:\tlearn: 0.2057480\ttest: 0.6921243\tbest: 0.6921243 (120)\ttotal: 9.18s\tremaining: 28.8s\n130:\tlearn: 0.1897041\ttest: 0.6907118\tbest: 0.6902951 (124)\ttotal: 9.91s\tremaining: 27.9s\n140:\tlearn: 0.1788273\ttest: 0.6846237\tbest: 0.6836872 (139)\ttotal: 10.7s\tremaining: 27.2s\n150:\tlearn: 0.1686961\ttest: 0.6767830\tbest: 0.6767830 (150)\ttotal: 11.5s\tremaining: 26.5s\n160:\tlearn: 0.1600170\ttest: 0.6718661\tbest: 0.6711141 (157)\ttotal: 12.3s\tremaining: 25.8s\n170:\tlearn: 0.1497081\ttest: 0.6678837\tbest: 0.6678837 (170)\ttotal: 13s\tremaining: 25.1s\n180:\tlearn: 0.1418932\ttest: 0.6613124\tbest: 0.6613124 (180)\ttotal: 13.8s\tremaining: 24.3s\n190:\tlearn: 0.1353937\ttest: 0.6562515\tbest: 0.6562515 (190)\ttotal: 14.6s\tremaining: 23.6s\n200:\tlearn: 0.1292696\ttest: 0.6552885\tbest: 0.6552885 (200)\ttotal: 15.4s\tremaining: 22.9s\n210:\tlearn: 0.1233312\ttest: 0.6545528\tbest: 0.6533530 (203)\ttotal: 16.1s\tremaining: 22.1s\n220:\tlearn: 0.1184659\ttest: 0.6525396\tbest: 0.6522167 (219)\ttotal: 16.9s\tremaining: 21.3s\n230:\tlearn: 0.1130808\ttest: 0.6522157\tbest: 0.6517607 (229)\ttotal: 17.7s\tremaining: 20.6s\n240:\tlearn: 0.1079267\ttest: 0.6485020\tbest: 0.6475523 (238)\ttotal: 18.4s\tremaining: 19.8s\n250:\tlearn: 0.1036991\ttest: 0.6496935\tbest: 0.6475523 (238)\ttotal: 19.2s\tremaining: 19s\n260:\tlearn: 0.1001634\ttest: 0.6464990\tbest: 0.6464990 (260)\ttotal: 20s\tremaining: 18.3s\n270:\tlearn: 0.0962223\ttest: 0.6414862\tbest: 0.6414862 (270)\ttotal: 20.7s\tremaining: 17.5s\n280:\tlearn: 0.0928836\ttest: 0.6415566\tbest: 0.6414642 (279)\ttotal: 21.5s\tremaining: 16.8s\n290:\tlearn: 0.0895156\ttest: 0.6348438\tbest: 0.6348438 (290)\ttotal: 22.3s\tremaining: 16s\n300:\tlearn: 0.0866525\ttest: 0.6337387\tbest: 0.6334029 (296)\ttotal: 23.1s\tremaining: 15.3s\n310:\tlearn: 0.0837742\ttest: 0.6289391\tbest: 0.6289391 (310)\ttotal: 23.9s\tremaining: 14.5s\n320:\tlearn: 0.0811750\ttest: 0.6284843\tbest: 0.6283515 (313)\ttotal: 24.7s\tremaining: 13.8s\n330:\tlearn: 0.0786103\ttest: 0.6258451\tbest: 0.6258451 (330)\ttotal: 25.4s\tremaining: 13s\n340:\tlearn: 0.0761915\ttest: 0.6268401\tbest: 0.6258451 (330)\ttotal: 26.2s\tremaining: 12.2s\n350:\tlearn: 0.0739669\ttest: 0.6249234\tbest: 0.6249234 (350)\ttotal: 27s\tremaining: 11.4s\n360:\tlearn: 0.0718710\ttest: 0.6231232\tbest: 0.6231232 (360)\ttotal: 27.7s\tremaining: 10.7s\n370:\tlearn: 0.0698284\ttest: 0.6238458\tbest: 0.6226804 (362)\ttotal: 28.5s\tremaining: 9.9s\n380:\tlearn: 0.0677889\ttest: 0.6192769\tbest: 0.6190181 (379)\ttotal: 29.3s\tremaining: 9.14s\n390:\tlearn: 0.0659264\ttest: 0.6162117\tbest: 0.6162117 (390)\ttotal: 30.1s\tremaining: 8.38s\n400:\tlearn: 0.0642077\ttest: 0.6134079\tbest: 0.6131198 (399)\ttotal: 30.8s\tremaining: 7.6s\n410:\tlearn: 0.0626803\ttest: 0.6116835\tbest: 0.6116835 (410)\ttotal: 31.6s\tremaining: 6.84s\n420:\tlearn: 0.0610737\ttest: 0.6121974\tbest: 0.6116835 (410)\ttotal: 32.4s\tremaining: 6.08s\n430:\tlearn: 0.0597508\ttest: 0.6127459\tbest: 0.6116835 (410)\ttotal: 33.2s\tremaining: 5.31s\n440:\tlearn: 0.0584321\ttest: 0.6124130\tbest: 0.6116835 (410)\ttotal: 34s\tremaining: 4.54s\n450:\tlearn: 0.0571487\ttest: 0.6122312\tbest: 0.6116835 (410)\ttotal: 34.7s\tremaining: 3.77s\n460:\tlearn: 0.0557938\ttest: 0.6113951\tbest: 0.6113951 (460)\ttotal: 35.5s\tremaining: 3s\n470:\tlearn: 0.0546881\ttest: 0.6113552\tbest: 0.6113552 (470)\ttotal: 36.3s\tremaining: 2.23s\n480:\tlearn: 0.0534054\ttest: 0.6105540\tbest: 0.6105540 (480)\ttotal: 37s\tremaining: 1.46s\n490:\tlearn: 0.0523714\ttest: 0.6086816\tbest: 0.6085318 (489)\ttotal: 37.8s\tremaining: 693ms\n499:\tlearn: 0.0514297\ttest: 0.6083307\tbest: 0.6079165 (492)\ttotal: 38.5s\tremaining: 0us\n\nbestTest = 0.6079164685\nbestIteration = 492\n\n101:\tloss: 0.6079165\tbest: 0.5405381 (92)\ttotal: 1h 28s\tremaining: 4h 35m 42s\n0:\tlearn: 1.0974199\ttest: 1.0984349\tbest: 1.0984349 (0)\ttotal: 85.1ms\tremaining: 42.5s\n10:\tlearn: 1.0759014\ttest: 1.0874921\tbest: 1.0874921 (10)\ttotal: 852ms\tremaining: 37.9s\n20:\tlearn: 1.0540401\ttest: 1.0772332\tbest: 1.0772332 (20)\ttotal: 1.56s\tremaining: 35.7s\n30:\tlearn: 1.0328413\ttest: 1.0698575\tbest: 1.0698575 (30)\ttotal: 2.29s\tremaining: 34.7s\n40:\tlearn: 1.0172215\ttest: 1.0620441\tbest: 1.0620441 (40)\ttotal: 3.08s\tremaining: 34.4s\n50:\tlearn: 1.0003223\ttest: 1.0539559\tbest: 1.0539559 (50)\ttotal: 3.85s\tremaining: 33.9s\n60:\tlearn: 0.9825952\ttest: 1.0458635\tbest: 1.0458635 (60)\ttotal: 4.57s\tremaining: 32.9s\n70:\tlearn: 0.9627164\ttest: 1.0373254\tbest: 1.0373254 (70)\ttotal: 5.28s\tremaining: 31.9s\n80:\tlearn: 0.9453639\ttest: 1.0288733\tbest: 1.0288733 (80)\ttotal: 6s\tremaining: 31s\n90:\tlearn: 0.9323619\ttest: 1.0236202\tbest: 1.0236202 (90)\ttotal: 6.78s\tremaining: 30.5s\n100:\tlearn: 0.9166963\ttest: 1.0145863\tbest: 1.0145863 (100)\ttotal: 7.55s\tremaining: 29.8s\n110:\tlearn: 0.9041553\ttest: 1.0084962\tbest: 1.0084962 (110)\ttotal: 8.28s\tremaining: 29s\n120:\tlearn: 0.8885316\ttest: 1.0016716\tbest: 1.0016716 (120)\ttotal: 9.06s\tremaining: 28.4s\n130:\tlearn: 0.8726940\ttest: 0.9938690\tbest: 0.9938690 (130)\ttotal: 9.76s\tremaining: 27.5s\n140:\tlearn: 0.8599366\ttest: 0.9878247\tbest: 0.9878247 (140)\ttotal: 10.5s\tremaining: 26.7s\n150:\tlearn: 0.8479877\ttest: 0.9809864\tbest: 0.9809864 (150)\ttotal: 11.2s\tremaining: 26s\n160:\tlearn: 0.8358581\ttest: 0.9758593\tbest: 0.9758593 (160)\ttotal: 12s\tremaining: 25.2s\n170:\tlearn: 0.8235379\ttest: 0.9699807\tbest: 0.9699807 (170)\ttotal: 12.7s\tremaining: 24.4s\n180:\tlearn: 0.8133447\ttest: 0.9651405\tbest: 0.9651405 (180)\ttotal: 13.5s\tremaining: 23.7s\n190:\tlearn: 0.8041309\ttest: 0.9611143\tbest: 0.9611143 (190)\ttotal: 14.2s\tremaining: 23s\n200:\tlearn: 0.7914784\ttest: 0.9555919\tbest: 0.9555919 (200)\ttotal: 15s\tremaining: 22.3s\n210:\tlearn: 0.7799037\ttest: 0.9498603\tbest: 0.9498603 (210)\ttotal: 15.8s\tremaining: 21.6s\n220:\tlearn: 0.7705469\ttest: 0.9466389\tbest: 0.9466389 (220)\ttotal: 16.5s\tremaining: 20.9s\n230:\tlearn: 0.7580824\ttest: 0.9417093\tbest: 0.9417093 (230)\ttotal: 17.3s\tremaining: 20.1s\n240:\tlearn: 0.7476627\ttest: 0.9374236\tbest: 0.9374236 (240)\ttotal: 18.1s\tremaining: 19.4s\n250:\tlearn: 0.7384187\ttest: 0.9345491\tbest: 0.9345491 (250)\ttotal: 18.8s\tremaining: 18.6s\n260:\tlearn: 0.7298193\ttest: 0.9297642\tbest: 0.9297642 (260)\ttotal: 19.6s\tremaining: 17.9s\n270:\tlearn: 0.7200905\ttest: 0.9256944\tbest: 0.9256944 (270)\ttotal: 20.3s\tremaining: 17.2s\n280:\tlearn: 0.7102612\ttest: 0.9209423\tbest: 0.9209423 (280)\ttotal: 21.1s\tremaining: 16.4s\n290:\tlearn: 0.7000153\ttest: 0.9159441\tbest: 0.9159441 (290)\ttotal: 21.8s\tremaining: 15.7s\n300:\tlearn: 0.6900685\ttest: 0.9117147\tbest: 0.9117147 (300)\ttotal: 22.6s\tremaining: 14.9s\n310:\tlearn: 0.6809494\ttest: 0.9078159\tbest: 0.9078159 (310)\ttotal: 23.4s\tremaining: 14.2s\n320:\tlearn: 0.6716581\ttest: 0.9038446\tbest: 0.9038446 (320)\ttotal: 24.1s\tremaining: 13.4s\n330:\tlearn: 0.6633849\ttest: 0.9009873\tbest: 0.9009873 (330)\ttotal: 24.9s\tremaining: 12.7s\n340:\tlearn: 0.6557892\ttest: 0.8975154\tbest: 0.8975154 (340)\ttotal: 25.7s\tremaining: 12s\n350:\tlearn: 0.6480525\ttest: 0.8946563\tbest: 0.8946563 (350)\ttotal: 26.4s\tremaining: 11.2s\n360:\tlearn: 0.6395141\ttest: 0.8910679\tbest: 0.8910679 (360)\ttotal: 27.2s\tremaining: 10.5s\n370:\tlearn: 0.6320069\ttest: 0.8869549\tbest: 0.8869549 (370)\ttotal: 27.9s\tremaining: 9.72s\n380:\tlearn: 0.6248226\ttest: 0.8833776\tbest: 0.8833776 (380)\ttotal: 28.7s\tremaining: 8.95s\n390:\tlearn: 0.6181247\ttest: 0.8802598\tbest: 0.8802598 (390)\ttotal: 29.4s\tremaining: 8.21s\n400:\tlearn: 0.6123676\ttest: 0.8778066\tbest: 0.8778066 (400)\ttotal: 30.2s\tremaining: 7.46s\n410:\tlearn: 0.6066951\ttest: 0.8753828\tbest: 0.8753828 (410)\ttotal: 31s\tremaining: 6.71s\n420:\tlearn: 0.5992619\ttest: 0.8733828\tbest: 0.8733828 (420)\ttotal: 31.7s\tremaining: 5.96s\n430:\tlearn: 0.5938113\ttest: 0.8716761\tbest: 0.8716761 (430)\ttotal: 32.5s\tremaining: 5.21s\n440:\tlearn: 0.5865150\ttest: 0.8685978\tbest: 0.8685978 (440)\ttotal: 33.3s\tremaining: 4.45s\n450:\tlearn: 0.5807964\ttest: 0.8670623\tbest: 0.8670623 (450)\ttotal: 34.1s\tremaining: 3.7s\n460:\tlearn: 0.5738471\ttest: 0.8643638\tbest: 0.8643638 (460)\ttotal: 34.8s\tremaining: 2.95s\n470:\tlearn: 0.5691542\ttest: 0.8628037\tbest: 0.8628037 (470)\ttotal: 35.6s\tremaining: 2.19s\n480:\tlearn: 0.5631782\ttest: 0.8608116\tbest: 0.8608116 (480)\ttotal: 36.4s\tremaining: 1.44s\n490:\tlearn: 0.5572723\ttest: 0.8582015\tbest: 0.8582015 (490)\ttotal: 37.1s\tremaining: 681ms\n499:\tlearn: 0.5519296\ttest: 0.8555685\tbest: 0.8555685 (499)\ttotal: 37.8s\tremaining: 0us\n\nbestTest = 0.8555685011\nbestIteration = 499\n\n102:\tloss: 0.8555685\tbest: 0.5405381 (92)\ttotal: 1h 1m 6s\tremaining: 4h 35m 16s\n0:\tlearn: 1.0926610\ttest: 1.0977321\tbest: 1.0977321 (0)\ttotal: 37.3ms\tremaining: 18.6s\n10:\tlearn: 0.9906744\ttest: 1.0466105\tbest: 1.0466105 (10)\ttotal: 804ms\tremaining: 35.8s\n20:\tlearn: 0.9044003\ttest: 1.0059589\tbest: 1.0059589 (20)\ttotal: 1.52s\tremaining: 34.6s\n30:\tlearn: 0.8359363\ttest: 0.9842671\tbest: 0.9842671 (30)\ttotal: 2.31s\tremaining: 34.9s\n40:\tlearn: 0.7856517\ttest: 0.9606719\tbest: 0.9606719 (40)\ttotal: 3.02s\tremaining: 33.8s\n50:\tlearn: 0.7350020\ttest: 0.9309550\tbest: 0.9309550 (50)\ttotal: 3.82s\tremaining: 33.6s\n60:\tlearn: 0.6884191\ttest: 0.9172228\tbest: 0.9172228 (60)\ttotal: 4.6s\tremaining: 33.1s\n70:\tlearn: 0.6492474\ttest: 0.9020207\tbest: 0.9020207 (70)\ttotal: 5.38s\tremaining: 32.5s\n80:\tlearn: 0.6176395\ttest: 0.8891311\tbest: 0.8891311 (80)\ttotal: 6.12s\tremaining: 31.6s\n90:\tlearn: 0.5863518\ttest: 0.8760806\tbest: 0.8760806 (90)\ttotal: 6.9s\tremaining: 31s\n100:\tlearn: 0.5560578\ttest: 0.8621420\tbest: 0.8621420 (100)\ttotal: 7.69s\tremaining: 30.4s\n110:\tlearn: 0.5283359\ttest: 0.8531147\tbest: 0.8531147 (110)\ttotal: 8.42s\tremaining: 29.5s\n120:\tlearn: 0.5067182\ttest: 0.8466047\tbest: 0.8466047 (120)\ttotal: 9.2s\tremaining: 28.8s\n130:\tlearn: 0.4852097\ttest: 0.8376446\tbest: 0.8376446 (130)\ttotal: 9.99s\tremaining: 28.1s\n140:\tlearn: 0.4639061\ttest: 0.8284316\tbest: 0.8284316 (140)\ttotal: 10.7s\tremaining: 27.3s\n150:\tlearn: 0.4440124\ttest: 0.8188366\tbest: 0.8188366 (150)\ttotal: 11.5s\tremaining: 26.6s\n160:\tlearn: 0.4294220\ttest: 0.8109614\tbest: 0.8109614 (160)\ttotal: 12.3s\tremaining: 25.9s\n170:\tlearn: 0.4132429\ttest: 0.8046907\tbest: 0.8046907 (170)\ttotal: 13s\tremaining: 25s\n180:\tlearn: 0.3976893\ttest: 0.7977038\tbest: 0.7977038 (180)\ttotal: 13.8s\tremaining: 24.3s\n190:\tlearn: 0.3853055\ttest: 0.7931269\tbest: 0.7931269 (190)\ttotal: 14.6s\tremaining: 23.6s\n200:\tlearn: 0.3724206\ttest: 0.7848969\tbest: 0.7848969 (200)\ttotal: 15.3s\tremaining: 22.8s\n210:\tlearn: 0.3597191\ttest: 0.7772328\tbest: 0.7772328 (210)\ttotal: 16.2s\tremaining: 22.2s\n220:\tlearn: 0.3495200\ttest: 0.7707487\tbest: 0.7707487 (220)\ttotal: 17s\tremaining: 21.4s\n230:\tlearn: 0.3400524\ttest: 0.7655886\tbest: 0.7655886 (230)\ttotal: 17.7s\tremaining: 20.6s\n240:\tlearn: 0.3306928\ttest: 0.7622796\tbest: 0.7621504 (238)\ttotal: 18.5s\tremaining: 19.9s\n250:\tlearn: 0.3216033\ttest: 0.7597061\tbest: 0.7597061 (250)\ttotal: 19.3s\tremaining: 19.1s\n260:\tlearn: 0.3119233\ttest: 0.7538226\tbest: 0.7538226 (260)\ttotal: 20s\tremaining: 18.3s\n270:\tlearn: 0.3037345\ttest: 0.7496244\tbest: 0.7496244 (270)\ttotal: 20.8s\tremaining: 17.6s\n280:\tlearn: 0.2962775\ttest: 0.7465513\tbest: 0.7465513 (280)\ttotal: 21.6s\tremaining: 16.8s\n290:\tlearn: 0.2876987\ttest: 0.7391860\tbest: 0.7391860 (290)\ttotal: 22.4s\tremaining: 16.1s\n300:\tlearn: 0.2810600\ttest: 0.7338198\tbest: 0.7338198 (300)\ttotal: 23.1s\tremaining: 15.3s\n310:\tlearn: 0.2734547\ttest: 0.7289664\tbest: 0.7288427 (307)\ttotal: 23.9s\tremaining: 14.5s\n320:\tlearn: 0.2662116\ttest: 0.7257352\tbest: 0.7257352 (320)\ttotal: 24.7s\tremaining: 13.8s\n330:\tlearn: 0.2602273\ttest: 0.7229844\tbest: 0.7228353 (328)\ttotal: 25.5s\tremaining: 13s\n340:\tlearn: 0.2537006\ttest: 0.7183203\tbest: 0.7183203 (340)\ttotal: 26.3s\tremaining: 12.2s\n350:\tlearn: 0.2483330\ttest: 0.7147066\tbest: 0.7147066 (350)\ttotal: 27.1s\tremaining: 11.5s\n360:\tlearn: 0.2425106\ttest: 0.7119183\tbest: 0.7109232 (357)\ttotal: 27.8s\tremaining: 10.7s\n370:\tlearn: 0.2370094\ttest: 0.7082004\tbest: 0.7081860 (368)\ttotal: 28.6s\tremaining: 9.95s\n380:\tlearn: 0.2318522\ttest: 0.7061500\tbest: 0.7061500 (380)\ttotal: 29.4s\tremaining: 9.18s\n390:\tlearn: 0.2271517\ttest: 0.7037926\tbest: 0.7037926 (390)\ttotal: 30.2s\tremaining: 8.41s\n400:\tlearn: 0.2221989\ttest: 0.7003399\tbest: 0.7003399 (400)\ttotal: 30.9s\tremaining: 7.63s\n410:\tlearn: 0.2180444\ttest: 0.6987483\tbest: 0.6987483 (410)\ttotal: 31.7s\tremaining: 6.87s\n420:\tlearn: 0.2134374\ttest: 0.6951911\tbest: 0.6951599 (418)\ttotal: 32.5s\tremaining: 6.1s\n430:\tlearn: 0.2095507\ttest: 0.6932484\tbest: 0.6932484 (430)\ttotal: 33.3s\tremaining: 5.33s\n440:\tlearn: 0.2049823\ttest: 0.6891581\tbest: 0.6891581 (440)\ttotal: 34.1s\tremaining: 4.56s\n450:\tlearn: 0.2011869\ttest: 0.6859314\tbest: 0.6859314 (450)\ttotal: 34.8s\tremaining: 3.78s\n460:\tlearn: 0.1969325\ttest: 0.6832489\tbest: 0.6832489 (460)\ttotal: 35.6s\tremaining: 3.01s\n470:\tlearn: 0.1932776\ttest: 0.6810422\tbest: 0.6810422 (470)\ttotal: 36.4s\tremaining: 2.24s\n480:\tlearn: 0.1890329\ttest: 0.6779721\tbest: 0.6779721 (480)\ttotal: 37.2s\tremaining: 1.47s\n490:\tlearn: 0.1860835\ttest: 0.6757052\tbest: 0.6757052 (490)\ttotal: 38s\tremaining: 696ms\n499:\tlearn: 0.1832469\ttest: 0.6741698\tbest: 0.6741698 (499)\ttotal: 38.7s\tremaining: 0us\n\nbestTest = 0.6741697785\nbestIteration = 499\n\n103:\tloss: 0.6741698\tbest: 0.5405381 (92)\ttotal: 1h 1m 45s\tremaining: 4h 34m 55s\n0:\tlearn: 1.0867364\ttest: 1.0968688\tbest: 1.0968688 (0)\ttotal: 84.9ms\tremaining: 42.4s\n10:\tlearn: 0.9114031\ttest: 1.0138465\tbest: 1.0138465 (10)\ttotal: 813ms\tremaining: 36.2s\n20:\tlearn: 0.7667917\ttest: 0.9472736\tbest: 0.9472736 (20)\ttotal: 1.58s\tremaining: 36s\n30:\tlearn: 0.6763976\ttest: 0.9257907\tbest: 0.9257907 (30)\ttotal: 2.32s\tremaining: 35.1s\n40:\tlearn: 0.6054008\ttest: 0.8922302\tbest: 0.8922302 (40)\ttotal: 3.09s\tremaining: 34.6s\n50:\tlearn: 0.5458705\ttest: 0.8519133\tbest: 0.8519133 (50)\ttotal: 3.87s\tremaining: 34.1s\n60:\tlearn: 0.4972355\ttest: 0.8346915\tbest: 0.8346915 (60)\ttotal: 4.61s\tremaining: 33.2s\n70:\tlearn: 0.4570352\ttest: 0.8243944\tbest: 0.8243944 (70)\ttotal: 5.4s\tremaining: 32.6s\n80:\tlearn: 0.4188627\ttest: 0.8078647\tbest: 0.8078647 (80)\ttotal: 6.2s\tremaining: 32s\n90:\tlearn: 0.3927895\ttest: 0.8000546\tbest: 0.8000546 (90)\ttotal: 6.92s\tremaining: 31.1s\n100:\tlearn: 0.3639673\ttest: 0.7848558\tbest: 0.7848558 (100)\ttotal: 7.72s\tremaining: 30.5s\n110:\tlearn: 0.3392936\ttest: 0.7729551\tbest: 0.7729551 (110)\ttotal: 8.47s\tremaining: 29.7s\n120:\tlearn: 0.3169266\ttest: 0.7598160\tbest: 0.7598160 (120)\ttotal: 9.25s\tremaining: 29s\n130:\tlearn: 0.3022189\ttest: 0.7552131\tbest: 0.7549071 (129)\ttotal: 10s\tremaining: 28.2s\n140:\tlearn: 0.2850334\ttest: 0.7445555\tbest: 0.7445555 (140)\ttotal: 10.8s\tremaining: 27.6s\n150:\tlearn: 0.2710006\ttest: 0.7382910\tbest: 0.7379163 (149)\ttotal: 11.6s\tremaining: 26.8s\n160:\tlearn: 0.2593721\ttest: 0.7295660\tbest: 0.7295477 (159)\ttotal: 12.3s\tremaining: 26s\n170:\tlearn: 0.2487540\ttest: 0.7239546\tbest: 0.7239546 (170)\ttotal: 13.2s\tremaining: 25.3s\n180:\tlearn: 0.2367046\ttest: 0.7164277\tbest: 0.7164277 (180)\ttotal: 13.9s\tremaining: 24.6s\n190:\tlearn: 0.2279224\ttest: 0.7101557\tbest: 0.7101557 (190)\ttotal: 14.7s\tremaining: 23.8s\n200:\tlearn: 0.2184262\ttest: 0.7048551\tbest: 0.7043388 (197)\ttotal: 15.5s\tremaining: 23s\n210:\tlearn: 0.2090928\ttest: 0.7037077\tbest: 0.7035352 (209)\ttotal: 16.2s\tremaining: 22.2s\n220:\tlearn: 0.2020751\ttest: 0.6962785\tbest: 0.6962785 (220)\ttotal: 17s\tremaining: 21.5s\n230:\tlearn: 0.1954426\ttest: 0.6936196\tbest: 0.6936196 (230)\ttotal: 17.8s\tremaining: 20.8s\n240:\tlearn: 0.1884667\ttest: 0.6910629\tbest: 0.6894496 (234)\ttotal: 18.6s\tremaining: 19.9s\n250:\tlearn: 0.1816983\ttest: 0.6890518\tbest: 0.6890518 (250)\ttotal: 19.3s\tremaining: 19.2s\n260:\tlearn: 0.1749580\ttest: 0.6858606\tbest: 0.6858606 (260)\ttotal: 20.1s\tremaining: 18.4s\n270:\tlearn: 0.1694453\ttest: 0.6834316\tbest: 0.6834243 (268)\ttotal: 20.9s\tremaining: 17.6s\n280:\tlearn: 0.1643861\ttest: 0.6815676\tbest: 0.6815501 (279)\ttotal: 21.6s\tremaining: 16.9s\n290:\tlearn: 0.1589647\ttest: 0.6759231\tbest: 0.6759231 (290)\ttotal: 22.4s\tremaining: 16.1s\n300:\tlearn: 0.1539203\ttest: 0.6708430\tbest: 0.6708430 (300)\ttotal: 23.2s\tremaining: 15.3s\n310:\tlearn: 0.1489156\ttest: 0.6681773\tbest: 0.6666171 (307)\ttotal: 23.9s\tremaining: 14.6s\n320:\tlearn: 0.1442642\ttest: 0.6668472\tbest: 0.6666171 (307)\ttotal: 24.7s\tremaining: 13.8s\n330:\tlearn: 0.1400080\ttest: 0.6652902\tbest: 0.6652081 (329)\ttotal: 25.5s\tremaining: 13s\n340:\tlearn: 0.1363267\ttest: 0.6640328\tbest: 0.6627634 (337)\ttotal: 26.3s\tremaining: 12.3s\n350:\tlearn: 0.1323676\ttest: 0.6613595\tbest: 0.6610728 (348)\ttotal: 27.1s\tremaining: 11.5s\n360:\tlearn: 0.1291428\ttest: 0.6576391\tbest: 0.6570984 (357)\ttotal: 27.9s\tremaining: 10.7s\n370:\tlearn: 0.1260604\ttest: 0.6549591\tbest: 0.6549591 (370)\ttotal: 28.7s\tremaining: 9.97s\n380:\tlearn: 0.1228704\ttest: 0.6538763\tbest: 0.6538082 (374)\ttotal: 29.4s\tremaining: 9.2s\n390:\tlearn: 0.1199852\ttest: 0.6524775\tbest: 0.6524775 (390)\ttotal: 30.2s\tremaining: 8.43s\n400:\tlearn: 0.1174152\ttest: 0.6509794\tbest: 0.6509794 (400)\ttotal: 31s\tremaining: 7.66s\n410:\tlearn: 0.1148504\ttest: 0.6511950\tbest: 0.6509041 (402)\ttotal: 31.7s\tremaining: 6.87s\n420:\tlearn: 0.1120078\ttest: 0.6483032\tbest: 0.6478673 (418)\ttotal: 32.5s\tremaining: 6.1s\n430:\tlearn: 0.1093718\ttest: 0.6482144\tbest: 0.6478673 (418)\ttotal: 33.3s\tremaining: 5.33s\n440:\tlearn: 0.1069940\ttest: 0.6464527\tbest: 0.6464527 (440)\ttotal: 34s\tremaining: 4.55s\n450:\tlearn: 0.1046650\ttest: 0.6442561\tbest: 0.6442561 (450)\ttotal: 34.8s\tremaining: 3.78s\n460:\tlearn: 0.1022248\ttest: 0.6405064\tbest: 0.6405064 (460)\ttotal: 35.6s\tremaining: 3.01s\n470:\tlearn: 0.1000835\ttest: 0.6392340\tbest: 0.6392340 (470)\ttotal: 36.3s\tremaining: 2.24s\n480:\tlearn: 0.0980863\ttest: 0.6378648\tbest: 0.6378648 (480)\ttotal: 37.1s\tremaining: 1.47s\n490:\tlearn: 0.0963253\ttest: 0.6362749\tbest: 0.6362749 (490)\ttotal: 37.9s\tremaining: 695ms\n499:\tlearn: 0.0945605\ttest: 0.6352630\tbest: 0.6351899 (497)\ttotal: 38.6s\tremaining: 0us\n\nbestTest = 0.6351899424\nbestIteration = 497\n\n104:\tloss: 0.6351899\tbest: 0.5405381 (92)\ttotal: 1h 2m 23s\tremaining: 4h 34m 33s\n0:\tlearn: 1.0897032\ttest: 1.0942140\tbest: 1.0942140 (0)\ttotal: 78.3ms\tremaining: 1m 18s\n10:\tlearn: 0.9930473\ttest: 1.0503322\tbest: 1.0503322 (10)\ttotal: 807ms\tremaining: 1m 12s\n20:\tlearn: 0.9068106\ttest: 1.0074482\tbest: 1.0074482 (20)\ttotal: 1.6s\tremaining: 1m 14s\n30:\tlearn: 0.8266165\ttest: 0.9733281\tbest: 0.9733281 (30)\ttotal: 2.39s\tremaining: 1m 14s\n40:\tlearn: 0.7619684\ttest: 0.9418069\tbest: 0.9418069 (40)\ttotal: 3.12s\tremaining: 1m 13s\n50:\tlearn: 0.7042534\ttest: 0.9088911\tbest: 0.9088911 (50)\ttotal: 3.91s\tremaining: 1m 12s\n60:\tlearn: 0.6543756\ttest: 0.8853224\tbest: 0.8853224 (60)\ttotal: 4.68s\tremaining: 1m 12s\n70:\tlearn: 0.6073367\ttest: 0.8644864\tbest: 0.8644864 (70)\ttotal: 5.4s\tremaining: 1m 10s\n80:\tlearn: 0.5649190\ttest: 0.8472610\tbest: 0.8472610 (80)\ttotal: 6.19s\tremaining: 1m 10s\n90:\tlearn: 0.5257460\ttest: 0.8282745\tbest: 0.8282745 (90)\ttotal: 6.97s\tremaining: 1m 9s\n100:\tlearn: 0.4930373\ttest: 0.8138024\tbest: 0.8138024 (100)\ttotal: 7.78s\tremaining: 1m 9s\n110:\tlearn: 0.4623971\ttest: 0.7931178\tbest: 0.7931178 (110)\ttotal: 8.58s\tremaining: 1m 8s\n120:\tlearn: 0.4336514\ttest: 0.7790502\tbest: 0.7790502 (120)\ttotal: 9.37s\tremaining: 1m 8s\n130:\tlearn: 0.4078010\ttest: 0.7665679\tbest: 0.7665679 (130)\ttotal: 10.1s\tremaining: 1m 7s\n140:\tlearn: 0.3833537\ttest: 0.7527845\tbest: 0.7527845 (140)\ttotal: 10.9s\tremaining: 1m 6s\n150:\tlearn: 0.3616613\ttest: 0.7421825\tbest: 0.7418951 (149)\ttotal: 11.7s\tremaining: 1m 5s\n160:\tlearn: 0.3415787\ttest: 0.7292898\tbest: 0.7292898 (160)\ttotal: 12.4s\tremaining: 1m 4s\n170:\tlearn: 0.3224777\ttest: 0.7201989\tbest: 0.7201989 (170)\ttotal: 13.2s\tremaining: 1m 3s\n180:\tlearn: 0.3050058\ttest: 0.7119492\tbest: 0.7119492 (180)\ttotal: 13.9s\tremaining: 1m 2s\n190:\tlearn: 0.2892211\ttest: 0.7068929\tbest: 0.7068863 (189)\ttotal: 14.7s\tremaining: 1m 2s\n200:\tlearn: 0.2747177\ttest: 0.7004048\tbest: 0.6991741 (196)\ttotal: 15.5s\tremaining: 1m 1s\n210:\tlearn: 0.2609875\ttest: 0.6951454\tbest: 0.6951454 (210)\ttotal: 16.2s\tremaining: 1m\n220:\tlearn: 0.2486624\ttest: 0.6867810\tbest: 0.6867810 (220)\ttotal: 17s\tremaining: 59.9s\n230:\tlearn: 0.2373496\ttest: 0.6794206\tbest: 0.6794206 (230)\ttotal: 17.7s\tremaining: 58.9s\n240:\tlearn: 0.2253352\ttest: 0.6717408\tbest: 0.6717408 (240)\ttotal: 18.5s\tremaining: 58.2s\n250:\tlearn: 0.2148004\ttest: 0.6682049\tbest: 0.6682049 (250)\ttotal: 19.3s\tremaining: 57.5s\n260:\tlearn: 0.2059206\ttest: 0.6657605\tbest: 0.6657605 (260)\ttotal: 20.1s\tremaining: 56.8s\n270:\tlearn: 0.1971719\ttest: 0.6617525\tbest: 0.6614229 (268)\ttotal: 20.8s\tremaining: 55.9s\n280:\tlearn: 0.1889551\ttest: 0.6574065\tbest: 0.6572239 (278)\ttotal: 21.6s\tremaining: 55.2s\n290:\tlearn: 0.1814226\ttest: 0.6525225\tbest: 0.6525225 (290)\ttotal: 22.4s\tremaining: 54.5s\n300:\tlearn: 0.1739751\ttest: 0.6512902\tbest: 0.6510285 (299)\ttotal: 23.1s\tremaining: 53.6s\n310:\tlearn: 0.1672738\ttest: 0.6481334\tbest: 0.6476472 (305)\ttotal: 23.9s\tremaining: 52.9s\n320:\tlearn: 0.1610795\ttest: 0.6427729\tbest: 0.6427729 (320)\ttotal: 24.6s\tremaining: 52s\n330:\tlearn: 0.1553799\ttest: 0.6389244\tbest: 0.6389244 (330)\ttotal: 25.4s\tremaining: 51.3s\n340:\tlearn: 0.1495305\ttest: 0.6356466\tbest: 0.6348469 (339)\ttotal: 26.2s\tremaining: 50.6s\n350:\tlearn: 0.1440241\ttest: 0.6327592\tbest: 0.6327592 (350)\ttotal: 26.9s\tremaining: 49.7s\n360:\tlearn: 0.1389339\ttest: 0.6272737\tbest: 0.6272737 (360)\ttotal: 27.7s\tremaining: 49s\n370:\tlearn: 0.1339639\ttest: 0.6232881\tbest: 0.6232881 (370)\ttotal: 28.5s\tremaining: 48.3s\n380:\tlearn: 0.1292458\ttest: 0.6221359\tbest: 0.6206215 (375)\ttotal: 29.3s\tremaining: 47.5s\n390:\tlearn: 0.1250262\ttest: 0.6192000\tbest: 0.6192000 (390)\ttotal: 30s\tremaining: 46.7s\n400:\tlearn: 0.1211743\ttest: 0.6170475\tbest: 0.6170468 (399)\ttotal: 30.8s\tremaining: 46s\n410:\tlearn: 0.1177680\ttest: 0.6172713\tbest: 0.6170468 (399)\ttotal: 31.6s\tremaining: 45.2s\n420:\tlearn: 0.1139158\ttest: 0.6163489\tbest: 0.6163489 (420)\ttotal: 32.3s\tremaining: 44.4s\n430:\tlearn: 0.1104032\ttest: 0.6146318\tbest: 0.6146318 (430)\ttotal: 33.1s\tremaining: 43.7s\n440:\tlearn: 0.1071159\ttest: 0.6125800\tbest: 0.6125800 (440)\ttotal: 33.9s\tremaining: 42.9s\n450:\tlearn: 0.1038582\ttest: 0.6097650\tbest: 0.6097650 (450)\ttotal: 34.7s\tremaining: 42.2s\n460:\tlearn: 0.1008967\ttest: 0.6084482\tbest: 0.6084482 (460)\ttotal: 35.4s\tremaining: 41.4s\n470:\tlearn: 0.0978502\ttest: 0.6064087\tbest: 0.6062884 (469)\ttotal: 36.2s\tremaining: 40.6s\n480:\tlearn: 0.0950441\ttest: 0.6057877\tbest: 0.6057228 (478)\ttotal: 37s\tremaining: 39.9s\n490:\tlearn: 0.0923349\ttest: 0.6031433\tbest: 0.6031433 (490)\ttotal: 37.7s\tremaining: 39.1s\n500:\tlearn: 0.0900482\ttest: 0.6012154\tbest: 0.6012154 (500)\ttotal: 38.5s\tremaining: 38.3s\n510:\tlearn: 0.0878364\ttest: 0.6001213\tbest: 0.6001213 (510)\ttotal: 39.3s\tremaining: 37.6s\n520:\tlearn: 0.0854891\ttest: 0.5999472\tbest: 0.5992418 (518)\ttotal: 40.1s\tremaining: 36.8s\n530:\tlearn: 0.0833096\ttest: 0.5994699\tbest: 0.5990938 (524)\ttotal: 40.9s\tremaining: 36.1s\n540:\tlearn: 0.0811123\ttest: 0.5984437\tbest: 0.5980586 (539)\ttotal: 41.6s\tremaining: 35.3s\n550:\tlearn: 0.0789782\ttest: 0.5975437\tbest: 0.5972773 (549)\ttotal: 42.4s\tremaining: 34.5s\n560:\tlearn: 0.0771066\ttest: 0.5965357\tbest: 0.5961969 (556)\ttotal: 43.1s\tremaining: 33.8s\n570:\tlearn: 0.0751335\ttest: 0.5969807\tbest: 0.5961969 (556)\ttotal: 43.9s\tremaining: 33s\n580:\tlearn: 0.0733816\ttest: 0.5975037\tbest: 0.5961969 (556)\ttotal: 44.7s\tremaining: 32.2s\n590:\tlearn: 0.0718064\ttest: 0.5973313\tbest: 0.5961969 (556)\ttotal: 45.4s\tremaining: 31.5s\n600:\tlearn: 0.0701630\ttest: 0.5970050\tbest: 0.5960416 (592)\ttotal: 46.2s\tremaining: 30.7s\n610:\tlearn: 0.0686679\ttest: 0.5978135\tbest: 0.5960416 (592)\ttotal: 47s\tremaining: 29.9s\n620:\tlearn: 0.0671511\ttest: 0.5970143\tbest: 0.5960416 (592)\ttotal: 47.8s\tremaining: 29.1s\n630:\tlearn: 0.0657305\ttest: 0.5978811\tbest: 0.5960416 (592)\ttotal: 48.5s\tremaining: 28.4s\n640:\tlearn: 0.0642735\ttest: 0.5976603\tbest: 0.5960416 (592)\ttotal: 49.3s\tremaining: 27.6s\n650:\tlearn: 0.0629716\ttest: 0.5975647\tbest: 0.5960416 (592)\ttotal: 50.1s\tremaining: 26.8s\n660:\tlearn: 0.0616447\ttest: 0.5967168\tbest: 0.5960416 (592)\ttotal: 50.9s\tremaining: 26.1s\n670:\tlearn: 0.0604722\ttest: 0.5959466\tbest: 0.5954826 (664)\ttotal: 51.6s\tremaining: 25.3s\n680:\tlearn: 0.0592630\ttest: 0.5957057\tbest: 0.5954826 (664)\ttotal: 52.4s\tremaining: 24.5s\n690:\tlearn: 0.0581476\ttest: 0.5964475\tbest: 0.5954826 (664)\ttotal: 53.2s\tremaining: 23.8s\n700:\tlearn: 0.0570198\ttest: 0.5964066\tbest: 0.5954826 (664)\ttotal: 53.9s\tremaining: 23s\n710:\tlearn: 0.0558654\ttest: 0.5954594\tbest: 0.5952214 (707)\ttotal: 54.7s\tremaining: 22.2s\n720:\tlearn: 0.0547360\ttest: 0.5962686\tbest: 0.5952214 (707)\ttotal: 55.5s\tremaining: 21.5s\n730:\tlearn: 0.0536383\ttest: 0.5960490\tbest: 0.5952214 (707)\ttotal: 56.2s\tremaining: 20.7s\n740:\tlearn: 0.0526825\ttest: 0.5957551\tbest: 0.5952214 (707)\ttotal: 57s\tremaining: 19.9s\n750:\tlearn: 0.0516930\ttest: 0.5956446\tbest: 0.5951013 (745)\ttotal: 57.7s\tremaining: 19.1s\n760:\tlearn: 0.0507324\ttest: 0.5961139\tbest: 0.5951013 (745)\ttotal: 58.5s\tremaining: 18.4s\n770:\tlearn: 0.0498507\ttest: 0.5951691\tbest: 0.5951013 (745)\ttotal: 59.3s\tremaining: 17.6s\n780:\tlearn: 0.0489200\ttest: 0.5946790\tbest: 0.5939398 (773)\ttotal: 1m\tremaining: 16.8s\n790:\tlearn: 0.0480850\ttest: 0.5944686\tbest: 0.5939398 (773)\ttotal: 1m\tremaining: 16.1s\n800:\tlearn: 0.0473725\ttest: 0.5941173\tbest: 0.5939398 (773)\ttotal: 1m 1s\tremaining: 15.3s\n810:\tlearn: 0.0465593\ttest: 0.5926448\tbest: 0.5926448 (810)\ttotal: 1m 2s\tremaining: 14.5s\n820:\tlearn: 0.0456990\ttest: 0.5927390\tbest: 0.5926448 (810)\ttotal: 1m 3s\tremaining: 13.8s\n830:\tlearn: 0.0449021\ttest: 0.5914745\tbest: 0.5914745 (830)\ttotal: 1m 3s\tremaining: 13s\n840:\tlearn: 0.0442065\ttest: 0.5914962\tbest: 0.5906654 (835)\ttotal: 1m 4s\tremaining: 12.2s\n850:\tlearn: 0.0434769\ttest: 0.5903745\tbest: 0.5903745 (850)\ttotal: 1m 5s\tremaining: 11.5s\n860:\tlearn: 0.0427766\ttest: 0.5912922\tbest: 0.5903745 (850)\ttotal: 1m 6s\tremaining: 10.7s\n870:\tlearn: 0.0420770\ttest: 0.5921100\tbest: 0.5903745 (850)\ttotal: 1m 6s\tremaining: 9.92s\n880:\tlearn: 0.0414315\ttest: 0.5917172\tbest: 0.5903745 (850)\ttotal: 1m 7s\tremaining: 9.15s\n890:\tlearn: 0.0407757\ttest: 0.5921287\tbest: 0.5903745 (850)\ttotal: 1m 8s\tremaining: 8.38s\n900:\tlearn: 0.0401557\ttest: 0.5918310\tbest: 0.5903745 (850)\ttotal: 1m 9s\tremaining: 7.61s\n910:\tlearn: 0.0394924\ttest: 0.5923845\tbest: 0.5903745 (850)\ttotal: 1m 10s\tremaining: 6.84s\n920:\tlearn: 0.0389182\ttest: 0.5925937\tbest: 0.5903745 (850)\ttotal: 1m 10s\tremaining: 6.08s\n930:\tlearn: 0.0383182\ttest: 0.5922431\tbest: 0.5903745 (850)\ttotal: 1m 11s\tremaining: 5.3s\n940:\tlearn: 0.0377766\ttest: 0.5925336\tbest: 0.5903745 (850)\ttotal: 1m 12s\tremaining: 4.54s\n950:\tlearn: 0.0372593\ttest: 0.5909195\tbest: 0.5903745 (850)\ttotal: 1m 13s\tremaining: 3.77s\n960:\tlearn: 0.0367380\ttest: 0.5919496\tbest: 0.5903745 (850)\ttotal: 1m 13s\tremaining: 3s\n970:\tlearn: 0.0362370\ttest: 0.5920842\tbest: 0.5903745 (850)\ttotal: 1m 14s\tremaining: 2.23s\n980:\tlearn: 0.0357196\ttest: 0.5903108\tbest: 0.5903108 (980)\ttotal: 1m 15s\tremaining: 1.46s\n990:\tlearn: 0.0352212\ttest: 0.5892431\tbest: 0.5892399 (989)\ttotal: 1m 16s\tremaining: 692ms\n999:\tlearn: 0.0347992\ttest: 0.5880678\tbest: 0.5880678 (999)\ttotal: 1m 16s\tremaining: 0us\n\nbestTest = 0.5880677583\nbestIteration = 999\n\n105:\tloss: 0.5880678\tbest: 0.5405381 (92)\ttotal: 1h 3m 40s\tremaining: 4h 36m 56s\n0:\tlearn: 1.0545761\ttest: 1.0769247\tbest: 1.0769247 (0)\ttotal: 79.2ms\tremaining: 1m 19s\n10:\tlearn: 0.6771079\ttest: 0.9144525\tbest: 0.9144525 (10)\ttotal: 861ms\tremaining: 1m 17s\n20:\tlearn: 0.4647440\ttest: 0.8118676\tbest: 0.8118676 (20)\ttotal: 1.59s\tremaining: 1m 14s\n30:\tlearn: 0.3402669\ttest: 0.7573362\tbest: 0.7512415 (29)\ttotal: 2.37s\tremaining: 1m 14s\n40:\tlearn: 0.2589176\ttest: 0.7049493\tbest: 0.7049493 (40)\ttotal: 3.09s\tremaining: 1m 12s\n50:\tlearn: 0.2048049\ttest: 0.6830003\tbest: 0.6830003 (50)\ttotal: 3.86s\tremaining: 1m 11s\n60:\tlearn: 0.1672460\ttest: 0.6591034\tbest: 0.6591034 (60)\ttotal: 4.65s\tremaining: 1m 11s\n70:\tlearn: 0.1385995\ttest: 0.6564633\tbest: 0.6556585 (64)\ttotal: 5.38s\tremaining: 1m 10s\n80:\tlearn: 0.1168146\ttest: 0.6352997\tbest: 0.6352997 (80)\ttotal: 6.17s\tremaining: 1m 9s\n90:\tlearn: 0.1004444\ttest: 0.6314634\tbest: 0.6290651 (88)\ttotal: 6.95s\tremaining: 1m 9s\n100:\tlearn: 0.0872855\ttest: 0.6267782\tbest: 0.6256049 (99)\ttotal: 7.68s\tremaining: 1m 8s\n110:\tlearn: 0.0763581\ttest: 0.6185326\tbest: 0.6175134 (109)\ttotal: 8.46s\tremaining: 1m 7s\n120:\tlearn: 0.0679663\ttest: 0.6091814\tbest: 0.6091814 (120)\ttotal: 9.25s\tremaining: 1m 7s\n130:\tlearn: 0.0611517\ttest: 0.5976126\tbest: 0.5976126 (130)\ttotal: 9.98s\tremaining: 1m 6s\n140:\tlearn: 0.0548585\ttest: 0.6019844\tbest: 0.5966005 (134)\ttotal: 10.8s\tremaining: 1m 5s\n150:\tlearn: 0.0500291\ttest: 0.6068452\tbest: 0.5966005 (134)\ttotal: 11.6s\tremaining: 1m 4s\n160:\tlearn: 0.0460014\ttest: 0.6001080\tbest: 0.5966005 (134)\ttotal: 12.3s\tremaining: 1m 4s\n170:\tlearn: 0.0425793\ttest: 0.6043904\tbest: 0.5966005 (134)\ttotal: 13.1s\tremaining: 1m 3s\n180:\tlearn: 0.0396558\ttest: 0.6004446\tbest: 0.5966005 (134)\ttotal: 13.9s\tremaining: 1m 2s\n190:\tlearn: 0.0369396\ttest: 0.6008263\tbest: 0.5966005 (134)\ttotal: 14.6s\tremaining: 1m 1s\n200:\tlearn: 0.0343269\ttest: 0.5976101\tbest: 0.5953348 (195)\ttotal: 15.4s\tremaining: 1m 1s\n210:\tlearn: 0.0320187\ttest: 0.5946915\tbest: 0.5946915 (210)\ttotal: 16.2s\tremaining: 1m\n220:\tlearn: 0.0302479\ttest: 0.5920014\tbest: 0.5908008 (215)\ttotal: 16.9s\tremaining: 59.5s\n230:\tlearn: 0.0286073\ttest: 0.5919883\tbest: 0.5908008 (215)\ttotal: 17.7s\tremaining: 58.8s\n240:\tlearn: 0.0271559\ttest: 0.5911319\tbest: 0.5887228 (233)\ttotal: 18.4s\tremaining: 58.1s\n250:\tlearn: 0.0256303\ttest: 0.5923353\tbest: 0.5887228 (233)\ttotal: 19.2s\tremaining: 57.2s\n260:\tlearn: 0.0243201\ttest: 0.5887328\tbest: 0.5879435 (257)\ttotal: 20s\tremaining: 56.5s\n270:\tlearn: 0.0232300\ttest: 0.5902747\tbest: 0.5879435 (257)\ttotal: 20.7s\tremaining: 55.8s\n280:\tlearn: 0.0221512\ttest: 0.5894148\tbest: 0.5879435 (257)\ttotal: 21.5s\tremaining: 54.9s\n290:\tlearn: 0.0211420\ttest: 0.5879671\tbest: 0.5872671 (286)\ttotal: 22.3s\tremaining: 54.2s\n300:\tlearn: 0.0202886\ttest: 0.5896836\tbest: 0.5868363 (295)\ttotal: 23s\tremaining: 53.5s\n310:\tlearn: 0.0194331\ttest: 0.5906198\tbest: 0.5868363 (295)\ttotal: 23.8s\tremaining: 52.7s\n320:\tlearn: 0.0186930\ttest: 0.5867999\tbest: 0.5867999 (320)\ttotal: 24.6s\tremaining: 51.9s\n330:\tlearn: 0.0179750\ttest: 0.5861742\tbest: 0.5848515 (328)\ttotal: 25.3s\tremaining: 51.1s\n340:\tlearn: 0.0173572\ttest: 0.5859006\tbest: 0.5848515 (328)\ttotal: 26.1s\tremaining: 50.4s\n350:\tlearn: 0.0167120\ttest: 0.5840863\tbest: 0.5838930 (349)\ttotal: 26.8s\tremaining: 49.6s\n360:\tlearn: 0.0161910\ttest: 0.5822454\tbest: 0.5815716 (358)\ttotal: 27.6s\tremaining: 48.8s\n370:\tlearn: 0.0156842\ttest: 0.5824569\tbest: 0.5815716 (358)\ttotal: 28.4s\tremaining: 48.1s\n380:\tlearn: 0.0151746\ttest: 0.5797104\tbest: 0.5796161 (378)\ttotal: 29.1s\tremaining: 47.3s\n390:\tlearn: 0.0147032\ttest: 0.5795839\tbest: 0.5794542 (384)\ttotal: 29.9s\tremaining: 46.5s\n400:\tlearn: 0.0142757\ttest: 0.5753733\tbest: 0.5753733 (400)\ttotal: 30.7s\tremaining: 45.8s\n410:\tlearn: 0.0138632\ttest: 0.5757196\tbest: 0.5750384 (402)\ttotal: 31.4s\tremaining: 45.1s\n420:\tlearn: 0.0134294\ttest: 0.5774200\tbest: 0.5750384 (402)\ttotal: 32.2s\tremaining: 44.2s\n430:\tlearn: 0.0130700\ttest: 0.5771948\tbest: 0.5750384 (402)\ttotal: 33s\tremaining: 43.5s\n440:\tlearn: 0.0126861\ttest: 0.5754252\tbest: 0.5750384 (402)\ttotal: 33.8s\tremaining: 42.8s\n450:\tlearn: 0.0123363\ttest: 0.5759475\tbest: 0.5745476 (444)\ttotal: 34.5s\tremaining: 42s\n460:\tlearn: 0.0120412\ttest: 0.5755410\tbest: 0.5745476 (444)\ttotal: 35.3s\tremaining: 41.2s\n470:\tlearn: 0.0117201\ttest: 0.5757597\tbest: 0.5745476 (444)\ttotal: 36.1s\tremaining: 40.5s\n480:\tlearn: 0.0114338\ttest: 0.5765853\tbest: 0.5745476 (444)\ttotal: 36.8s\tremaining: 39.7s\n490:\tlearn: 0.0111626\ttest: 0.5764309\tbest: 0.5745476 (444)\ttotal: 37.6s\tremaining: 39s\n500:\tlearn: 0.0108906\ttest: 0.5770869\tbest: 0.5745476 (444)\ttotal: 38.4s\tremaining: 38.2s\n510:\tlearn: 0.0106541\ttest: 0.5746869\tbest: 0.5745476 (444)\ttotal: 39.1s\tremaining: 37.5s\n520:\tlearn: 0.0103876\ttest: 0.5729838\tbest: 0.5729838 (520)\ttotal: 39.9s\tremaining: 36.7s\n530:\tlearn: 0.0101836\ttest: 0.5737384\tbest: 0.5727243 (522)\ttotal: 40.7s\tremaining: 35.9s\n540:\tlearn: 0.0099606\ttest: 0.5723228\tbest: 0.5722007 (539)\ttotal: 41.4s\tremaining: 35.2s\n550:\tlearn: 0.0097670\ttest: 0.5715511\tbest: 0.5709515 (545)\ttotal: 42.2s\tremaining: 34.4s\n560:\tlearn: 0.0095598\ttest: 0.5708040\tbest: 0.5708040 (560)\ttotal: 43s\tremaining: 33.6s\n570:\tlearn: 0.0093854\ttest: 0.5709072\tbest: 0.5708040 (560)\ttotal: 43.8s\tremaining: 32.9s\n580:\tlearn: 0.0091750\ttest: 0.5687401\tbest: 0.5687158 (578)\ttotal: 44.5s\tremaining: 32.1s\n590:\tlearn: 0.0090161\ttest: 0.5690145\tbest: 0.5687158 (578)\ttotal: 45.3s\tremaining: 31.3s\n600:\tlearn: 0.0088570\ttest: 0.5703874\tbest: 0.5687158 (578)\ttotal: 46s\tremaining: 30.6s\n610:\tlearn: 0.0086924\ttest: 0.5694852\tbest: 0.5687158 (578)\ttotal: 46.8s\tremaining: 29.8s\n620:\tlearn: 0.0085186\ttest: 0.5672930\tbest: 0.5672930 (620)\ttotal: 47.6s\tremaining: 29s\n630:\tlearn: 0.0083604\ttest: 0.5674975\tbest: 0.5671975 (628)\ttotal: 48.5s\tremaining: 28.3s\n640:\tlearn: 0.0082128\ttest: 0.5677311\tbest: 0.5670903 (633)\ttotal: 49.3s\tremaining: 27.6s\n650:\tlearn: 0.0080837\ttest: 0.5676216\tbest: 0.5670903 (633)\ttotal: 50s\tremaining: 26.8s\n660:\tlearn: 0.0079488\ttest: 0.5679174\tbest: 0.5670903 (633)\ttotal: 50.8s\tremaining: 26s\n670:\tlearn: 0.0078084\ttest: 0.5696787\tbest: 0.5670903 (633)\ttotal: 51.6s\tremaining: 25.3s\n680:\tlearn: 0.0076774\ttest: 0.5690735\tbest: 0.5670903 (633)\ttotal: 52.3s\tremaining: 24.5s\n690:\tlearn: 0.0075543\ttest: 0.5699027\tbest: 0.5670903 (633)\ttotal: 53.1s\tremaining: 23.8s\n700:\tlearn: 0.0074339\ttest: 0.5700374\tbest: 0.5670903 (633)\ttotal: 53.8s\tremaining: 23s\n710:\tlearn: 0.0073008\ttest: 0.5687162\tbest: 0.5670903 (633)\ttotal: 54.6s\tremaining: 22.2s\n720:\tlearn: 0.0071957\ttest: 0.5684598\tbest: 0.5670903 (633)\ttotal: 55.4s\tremaining: 21.4s\n730:\tlearn: 0.0070900\ttest: 0.5681369\tbest: 0.5670903 (633)\ttotal: 56.1s\tremaining: 20.7s\n740:\tlearn: 0.0069737\ttest: 0.5681923\tbest: 0.5670903 (633)\ttotal: 56.9s\tremaining: 19.9s\n750:\tlearn: 0.0068550\ttest: 0.5682837\tbest: 0.5670903 (633)\ttotal: 57.6s\tremaining: 19.1s\n760:\tlearn: 0.0067561\ttest: 0.5670505\tbest: 0.5670505 (760)\ttotal: 58.4s\tremaining: 18.4s\n770:\tlearn: 0.0066617\ttest: 0.5677182\tbest: 0.5669561 (761)\ttotal: 59.2s\tremaining: 17.6s\n780:\tlearn: 0.0065565\ttest: 0.5679053\tbest: 0.5669561 (761)\ttotal: 59.9s\tremaining: 16.8s\n790:\tlearn: 0.0064590\ttest: 0.5683094\tbest: 0.5669561 (761)\ttotal: 1m\tremaining: 16s\n800:\tlearn: 0.0063684\ttest: 0.5686979\tbest: 0.5669561 (761)\ttotal: 1m 1s\tremaining: 15.3s\n810:\tlearn: 0.0062735\ttest: 0.5702862\tbest: 0.5669561 (761)\ttotal: 1m 2s\tremaining: 14.5s\n820:\tlearn: 0.0061791\ttest: 0.5712514\tbest: 0.5669561 (761)\ttotal: 1m 3s\tremaining: 13.7s\n830:\tlearn: 0.0061022\ttest: 0.5704887\tbest: 0.5669561 (761)\ttotal: 1m 3s\tremaining: 13s\n840:\tlearn: 0.0060284\ttest: 0.5710648\tbest: 0.5669561 (761)\ttotal: 1m 4s\tremaining: 12.2s\n850:\tlearn: 0.0059491\ttest: 0.5708446\tbest: 0.5669561 (761)\ttotal: 1m 5s\tremaining: 11.4s\n860:\tlearn: 0.0058722\ttest: 0.5707594\tbest: 0.5669561 (761)\ttotal: 1m 6s\tremaining: 10.7s\n870:\tlearn: 0.0057913\ttest: 0.5713321\tbest: 0.5669561 (761)\ttotal: 1m 6s\tremaining: 9.91s\n880:\tlearn: 0.0057205\ttest: 0.5713272\tbest: 0.5669561 (761)\ttotal: 1m 7s\tremaining: 9.14s\n890:\tlearn: 0.0056423\ttest: 0.5718578\tbest: 0.5669561 (761)\ttotal: 1m 8s\tremaining: 8.37s\n900:\tlearn: 0.0055700\ttest: 0.5725951\tbest: 0.5669561 (761)\ttotal: 1m 9s\tremaining: 7.6s\n910:\tlearn: 0.0054996\ttest: 0.5729295\tbest: 0.5669561 (761)\ttotal: 1m 9s\tremaining: 6.83s\n920:\tlearn: 0.0054286\ttest: 0.5738029\tbest: 0.5669561 (761)\ttotal: 1m 10s\tremaining: 6.07s\n930:\tlearn: 0.0053663\ttest: 0.5742576\tbest: 0.5669561 (761)\ttotal: 1m 11s\tremaining: 5.3s\n940:\tlearn: 0.0053020\ttest: 0.5732714\tbest: 0.5669561 (761)\ttotal: 1m 12s\tremaining: 4.53s\n950:\tlearn: 0.0052363\ttest: 0.5728254\tbest: 0.5669561 (761)\ttotal: 1m 13s\tremaining: 3.78s\n960:\tlearn: 0.0051774\ttest: 0.5720795\tbest: 0.5669561 (761)\ttotal: 1m 14s\tremaining: 3.01s\n970:\tlearn: 0.0051201\ttest: 0.5717654\tbest: 0.5669561 (761)\ttotal: 1m 14s\tremaining: 2.24s\n980:\tlearn: 0.0050588\ttest: 0.5718199\tbest: 0.5669561 (761)\ttotal: 1m 15s\tremaining: 1.47s\n990:\tlearn: 0.0050043\ttest: 0.5719031\tbest: 0.5669561 (761)\ttotal: 1m 16s\tremaining: 695ms\n999:\tlearn: 0.0049569\ttest: 0.5718995\tbest: 0.5669561 (761)\ttotal: 1m 17s\tremaining: 0us\n\nbestTest = 0.5669560712\nbestIteration = 761\n\n106:\tloss: 0.5669561\tbest: 0.5405381 (92)\ttotal: 1h 4m 58s\tremaining: 4h 39m 17s\n0:\tlearn: 1.0118325\ttest: 1.0560069\tbest: 1.0560069 (0)\ttotal: 84.1ms\tremaining: 1m 24s\n10:\tlearn: 0.4556647\ttest: 0.8298248\tbest: 0.8289504 (9)\ttotal: 866ms\tremaining: 1m 17s\n20:\tlearn: 0.2603828\ttest: 0.7587308\tbest: 0.7573448 (19)\ttotal: 1.59s\tremaining: 1m 14s\n30:\tlearn: 0.1692481\ttest: 0.7433187\tbest: 0.7296646 (28)\ttotal: 2.37s\tremaining: 1m 14s\n40:\tlearn: 0.1183360\ttest: 0.7014523\tbest: 0.6953166 (37)\ttotal: 3.15s\tremaining: 1m 13s\n50:\tlearn: 0.0902484\ttest: 0.6846965\tbest: 0.6802296 (49)\ttotal: 3.89s\tremaining: 1m 12s\n60:\tlearn: 0.0696750\ttest: 0.6856251\tbest: 0.6802296 (49)\ttotal: 4.67s\tremaining: 1m 11s\n70:\tlearn: 0.0562296\ttest: 0.6821013\tbest: 0.6802296 (49)\ttotal: 5.45s\tremaining: 1m 11s\n80:\tlearn: 0.0467187\ttest: 0.6655414\tbest: 0.6640191 (79)\ttotal: 6.17s\tremaining: 1m 10s\n90:\tlearn: 0.0396490\ttest: 0.6489019\tbest: 0.6462229 (88)\ttotal: 6.95s\tremaining: 1m 9s\n100:\tlearn: 0.0347085\ttest: 0.6422904\tbest: 0.6420630 (96)\ttotal: 7.68s\tremaining: 1m 8s\n110:\tlearn: 0.0309416\ttest: 0.6344754\tbest: 0.6344754 (110)\ttotal: 8.46s\tremaining: 1m 7s\n120:\tlearn: 0.0274911\ttest: 0.6357044\tbest: 0.6319950 (114)\ttotal: 9.18s\tremaining: 1m 6s\n130:\tlearn: 0.0244813\ttest: 0.6368673\tbest: 0.6298378 (123)\ttotal: 9.96s\tremaining: 1m 6s\n140:\tlearn: 0.0223224\ttest: 0.6460624\tbest: 0.6298378 (123)\ttotal: 10.7s\tremaining: 1m 5s\n150:\tlearn: 0.0204692\ttest: 0.6553743\tbest: 0.6298378 (123)\ttotal: 11.5s\tremaining: 1m 4s\n160:\tlearn: 0.0189753\ttest: 0.6522165\tbest: 0.6298378 (123)\ttotal: 12.2s\tremaining: 1m 3s\n170:\tlearn: 0.0173937\ttest: 0.6520785\tbest: 0.6298378 (123)\ttotal: 13s\tremaining: 1m 2s\n180:\tlearn: 0.0161799\ttest: 0.6569946\tbest: 0.6298378 (123)\ttotal: 13.7s\tremaining: 1m 2s\n190:\tlearn: 0.0151846\ttest: 0.6482812\tbest: 0.6298378 (123)\ttotal: 14.5s\tremaining: 1m 1s\n200:\tlearn: 0.0142639\ttest: 0.6509762\tbest: 0.6298378 (123)\ttotal: 15.3s\tremaining: 1m\n210:\tlearn: 0.0134202\ttest: 0.6548266\tbest: 0.6298378 (123)\ttotal: 16s\tremaining: 59.8s\n220:\tlearn: 0.0127114\ttest: 0.6558087\tbest: 0.6298378 (123)\ttotal: 16.8s\tremaining: 59.1s\n230:\tlearn: 0.0120130\ttest: 0.6549098\tbest: 0.6298378 (123)\ttotal: 17.5s\tremaining: 58.4s\n240:\tlearn: 0.0114415\ttest: 0.6535066\tbest: 0.6298378 (123)\ttotal: 18.3s\tremaining: 57.5s\n250:\tlearn: 0.0109300\ttest: 0.6534935\tbest: 0.6298378 (123)\ttotal: 19s\tremaining: 56.8s\n260:\tlearn: 0.0104370\ttest: 0.6592568\tbest: 0.6298378 (123)\ttotal: 19.8s\tremaining: 56s\n270:\tlearn: 0.0099360\ttest: 0.6556292\tbest: 0.6298378 (123)\ttotal: 20.6s\tremaining: 55.3s\n280:\tlearn: 0.0095520\ttest: 0.6521082\tbest: 0.6298378 (123)\ttotal: 21.3s\tremaining: 54.4s\n290:\tlearn: 0.0090922\ttest: 0.6501390\tbest: 0.6298378 (123)\ttotal: 22.1s\tremaining: 53.7s\n300:\tlearn: 0.0087448\ttest: 0.6489567\tbest: 0.6298378 (123)\ttotal: 22.8s\tremaining: 52.9s\n310:\tlearn: 0.0084092\ttest: 0.6474946\tbest: 0.6298378 (123)\ttotal: 23.6s\tremaining: 52.2s\n320:\tlearn: 0.0081244\ttest: 0.6480143\tbest: 0.6298378 (123)\ttotal: 24.4s\tremaining: 51.5s\n330:\tlearn: 0.0078364\ttest: 0.6483128\tbest: 0.6298378 (123)\ttotal: 25.1s\tremaining: 50.8s\n340:\tlearn: 0.0075957\ttest: 0.6480746\tbest: 0.6298378 (123)\ttotal: 25.9s\tremaining: 50.1s\n350:\tlearn: 0.0073452\ttest: 0.6458995\tbest: 0.6298378 (123)\ttotal: 26.7s\tremaining: 49.3s\n360:\tlearn: 0.0071092\ttest: 0.6469678\tbest: 0.6298378 (123)\ttotal: 27.5s\tremaining: 48.6s\n370:\tlearn: 0.0068914\ttest: 0.6476436\tbest: 0.6298378 (123)\ttotal: 28.2s\tremaining: 47.9s\n380:\tlearn: 0.0066803\ttest: 0.6491880\tbest: 0.6298378 (123)\ttotal: 29s\tremaining: 47.2s\n390:\tlearn: 0.0064916\ttest: 0.6476783\tbest: 0.6298378 (123)\ttotal: 29.8s\tremaining: 46.4s\n400:\tlearn: 0.0062864\ttest: 0.6496145\tbest: 0.6298378 (123)\ttotal: 30.6s\tremaining: 45.6s\n410:\tlearn: 0.0061024\ttest: 0.6481860\tbest: 0.6298378 (123)\ttotal: 31.3s\tremaining: 44.9s\n420:\tlearn: 0.0059479\ttest: 0.6484604\tbest: 0.6298378 (123)\ttotal: 32.1s\tremaining: 44.1s\n430:\tlearn: 0.0057986\ttest: 0.6488988\tbest: 0.6298378 (123)\ttotal: 32.8s\tremaining: 43.4s\n440:\tlearn: 0.0056534\ttest: 0.6512693\tbest: 0.6298378 (123)\ttotal: 33.6s\tremaining: 42.6s\n450:\tlearn: 0.0054783\ttest: 0.6526676\tbest: 0.6298378 (123)\ttotal: 34.4s\tremaining: 41.8s\n460:\tlearn: 0.0053445\ttest: 0.6515319\tbest: 0.6298378 (123)\ttotal: 35.2s\tremaining: 41.1s\n470:\tlearn: 0.0052127\ttest: 0.6524433\tbest: 0.6298378 (123)\ttotal: 35.9s\tremaining: 40.4s\n480:\tlearn: 0.0050820\ttest: 0.6498243\tbest: 0.6298378 (123)\ttotal: 36.7s\tremaining: 39.6s\n490:\tlearn: 0.0049739\ttest: 0.6515740\tbest: 0.6298378 (123)\ttotal: 37.5s\tremaining: 38.8s\n500:\tlearn: 0.0048603\ttest: 0.6504747\tbest: 0.6298378 (123)\ttotal: 38.2s\tremaining: 38.1s\n510:\tlearn: 0.0047628\ttest: 0.6510819\tbest: 0.6298378 (123)\ttotal: 39s\tremaining: 37.3s\n520:\tlearn: 0.0046601\ttest: 0.6526093\tbest: 0.6298378 (123)\ttotal: 39.8s\tremaining: 36.5s\n530:\tlearn: 0.0045480\ttest: 0.6508385\tbest: 0.6298378 (123)\ttotal: 40.5s\tremaining: 35.8s\n540:\tlearn: 0.0044548\ttest: 0.6516340\tbest: 0.6298378 (123)\ttotal: 41.3s\tremaining: 35s\n550:\tlearn: 0.0043635\ttest: 0.6509046\tbest: 0.6298378 (123)\ttotal: 42.1s\tremaining: 34.3s\n560:\tlearn: 0.0042880\ttest: 0.6517674\tbest: 0.6298378 (123)\ttotal: 42.8s\tremaining: 33.5s\n570:\tlearn: 0.0041972\ttest: 0.6505401\tbest: 0.6298378 (123)\ttotal: 43.6s\tremaining: 32.7s\n580:\tlearn: 0.0041239\ttest: 0.6499329\tbest: 0.6298378 (123)\ttotal: 44.3s\tremaining: 32s\n590:\tlearn: 0.0040553\ttest: 0.6494528\tbest: 0.6298378 (123)\ttotal: 45.1s\tremaining: 31.2s\n600:\tlearn: 0.0039868\ttest: 0.6497218\tbest: 0.6298378 (123)\ttotal: 45.9s\tremaining: 30.4s\n610:\tlearn: 0.0039177\ttest: 0.6493042\tbest: 0.6298378 (123)\ttotal: 46.6s\tremaining: 29.7s\n620:\tlearn: 0.0038549\ttest: 0.6500112\tbest: 0.6298378 (123)\ttotal: 47.4s\tremaining: 28.9s\n630:\tlearn: 0.0037814\ttest: 0.6496804\tbest: 0.6298378 (123)\ttotal: 48.2s\tremaining: 28.2s\n640:\tlearn: 0.0037170\ttest: 0.6486350\tbest: 0.6298378 (123)\ttotal: 48.9s\tremaining: 27.4s\n650:\tlearn: 0.0036588\ttest: 0.6493969\tbest: 0.6298378 (123)\ttotal: 49.7s\tremaining: 26.6s\n660:\tlearn: 0.0035985\ttest: 0.6506906\tbest: 0.6298378 (123)\ttotal: 50.4s\tremaining: 25.9s\n670:\tlearn: 0.0035428\ttest: 0.6527265\tbest: 0.6298378 (123)\ttotal: 51.2s\tremaining: 25.1s\n680:\tlearn: 0.0034828\ttest: 0.6543007\tbest: 0.6298378 (123)\ttotal: 52s\tremaining: 24.3s\n690:\tlearn: 0.0034263\ttest: 0.6547227\tbest: 0.6298378 (123)\ttotal: 52.7s\tremaining: 23.6s\n700:\tlearn: 0.0033762\ttest: 0.6547675\tbest: 0.6298378 (123)\ttotal: 53.5s\tremaining: 22.8s\n710:\tlearn: 0.0033298\ttest: 0.6544270\tbest: 0.6298378 (123)\ttotal: 54.2s\tremaining: 22.1s\n720:\tlearn: 0.0032849\ttest: 0.6553109\tbest: 0.6298378 (123)\ttotal: 55s\tremaining: 21.3s\n730:\tlearn: 0.0032374\ttest: 0.6551431\tbest: 0.6298378 (123)\ttotal: 55.8s\tremaining: 20.5s\n740:\tlearn: 0.0031884\ttest: 0.6548063\tbest: 0.6298378 (123)\ttotal: 56.5s\tremaining: 19.8s\n750:\tlearn: 0.0031385\ttest: 0.6536603\tbest: 0.6298378 (123)\ttotal: 57.3s\tremaining: 19s\n760:\tlearn: 0.0030929\ttest: 0.6531999\tbest: 0.6298378 (123)\ttotal: 58.1s\tremaining: 18.3s\n770:\tlearn: 0.0030531\ttest: 0.6530938\tbest: 0.6298378 (123)\ttotal: 58.9s\tremaining: 17.5s\n780:\tlearn: 0.0030109\ttest: 0.6542180\tbest: 0.6298378 (123)\ttotal: 59.6s\tremaining: 16.7s\n790:\tlearn: 0.0029694\ttest: 0.6546589\tbest: 0.6298378 (123)\ttotal: 1m\tremaining: 16s\n800:\tlearn: 0.0029329\ttest: 0.6538344\tbest: 0.6298378 (123)\ttotal: 1m 1s\tremaining: 15.2s\n810:\tlearn: 0.0028985\ttest: 0.6541726\tbest: 0.6298378 (123)\ttotal: 1m 1s\tremaining: 14.4s\n820:\tlearn: 0.0028620\ttest: 0.6537917\tbest: 0.6298378 (123)\ttotal: 1m 2s\tremaining: 13.7s\n830:\tlearn: 0.0028271\ttest: 0.6532239\tbest: 0.6298378 (123)\ttotal: 1m 3s\tremaining: 12.9s\n840:\tlearn: 0.0027907\ttest: 0.6524212\tbest: 0.6298378 (123)\ttotal: 1m 4s\tremaining: 12.1s\n850:\tlearn: 0.0027567\ttest: 0.6517803\tbest: 0.6298378 (123)\ttotal: 1m 5s\tremaining: 11.4s\n860:\tlearn: 0.0027240\ttest: 0.6511051\tbest: 0.6298378 (123)\ttotal: 1m 5s\tremaining: 10.6s\n870:\tlearn: 0.0026900\ttest: 0.6496455\tbest: 0.6298378 (123)\ttotal: 1m 6s\tremaining: 9.85s\n880:\tlearn: 0.0026541\ttest: 0.6484055\tbest: 0.6298378 (123)\ttotal: 1m 7s\tremaining: 9.09s\n890:\tlearn: 0.0026213\ttest: 0.6497813\tbest: 0.6298378 (123)\ttotal: 1m 8s\tremaining: 8.33s\n900:\tlearn: 0.0025926\ttest: 0.6493864\tbest: 0.6298378 (123)\ttotal: 1m 8s\tremaining: 7.56s\n910:\tlearn: 0.0025619\ttest: 0.6490672\tbest: 0.6298378 (123)\ttotal: 1m 9s\tremaining: 6.8s\n",
          "output_type": "stream"
        }
      ]
    },
    {
      "cell_type": "code",
      "metadata": {
        "tags": [],
        "cell_id": "00017-4eec8447-f027-4d56-8cc8-6095f9fae96e",
        "deepnote_to_be_reexecuted": true,
        "source_hash": "d79cdb46",
        "execution_millis": 68,
        "deepnote_cell_type": "code"
      },
      "source": "CBC_grid.params",
      "execution_count": null,
      "outputs": [
        {
          "output_type": "execute_result",
          "execution_count": 40,
          "data": {
            "application/vnd.deepnote.dataframe.v2+json": {
              "row_count": 2834,
              "column_count": 2,
              "columns": [
                {
                  "name": "Feature Id",
                  "dtype": "object",
                  "stats": {
                    "unique_count": 2834,
                    "nan_count": 0,
                    "categories": [
                      {
                        "name": "2184",
                        "count": 1
                      },
                      {
                        "name": "672",
                        "count": 1
                      },
                      {
                        "name": "2832 others",
                        "count": 2832
                      }
                    ]
                  }
                },
                {
                  "name": "Importances",
                  "dtype": "float64",
                  "stats": {
                    "unique_count": 999,
                    "nan_count": 0,
                    "min": 0,
                    "max": 28.928687741019964,
                    "histogram": [
                      {
                        "bin_start": 0,
                        "bin_end": 2.8928687741019963,
                        "count": 2833
                      },
                      {
                        "bin_start": 2.8928687741019963,
                        "bin_end": 5.7857375482039926,
                        "count": 0
                      },
                      {
                        "bin_start": 5.7857375482039926,
                        "bin_end": 8.678606322305988,
                        "count": 0
                      },
                      {
                        "bin_start": 8.678606322305988,
                        "bin_end": 11.571475096407985,
                        "count": 0
                      },
                      {
                        "bin_start": 11.571475096407985,
                        "bin_end": 14.464343870509982,
                        "count": 0
                      },
                      {
                        "bin_start": 14.464343870509982,
                        "bin_end": 17.357212644611977,
                        "count": 0
                      },
                      {
                        "bin_start": 17.357212644611977,
                        "bin_end": 20.250081418713975,
                        "count": 0
                      },
                      {
                        "bin_start": 20.250081418713975,
                        "bin_end": 23.14295019281597,
                        "count": 0
                      },
                      {
                        "bin_start": 23.14295019281597,
                        "bin_end": 26.035818966917965,
                        "count": 0
                      },
                      {
                        "bin_start": 26.035818966917965,
                        "bin_end": 28.928687741019964,
                        "count": 1
                      }
                    ]
                  }
                },
                {
                  "name": "_deepnote_index_column",
                  "dtype": "int64"
                }
              ],
              "rows_top": [
                {
                  "Feature Id": "2184",
                  "Importances": 28.928687741019964,
                  "_deepnote_index_column": 0
                },
                {
                  "Feature Id": "672",
                  "Importances": 1.6483035850723577,
                  "_deepnote_index_column": 1
                },
                {
                  "Feature Id": "1687",
                  "Importances": 1.5832371782253465,
                  "_deepnote_index_column": 2
                },
                {
                  "Feature Id": "833",
                  "Importances": 1.4551889174284252,
                  "_deepnote_index_column": 3
                },
                {
                  "Feature Id": "1656",
                  "Importances": 1.437725910856413,
                  "_deepnote_index_column": 4
                },
                {
                  "Feature Id": "167",
                  "Importances": 1.4223458846550419,
                  "_deepnote_index_column": 5
                },
                {
                  "Feature Id": "1140",
                  "Importances": 1.4129735643464574,
                  "_deepnote_index_column": 6
                },
                {
                  "Feature Id": "1655",
                  "Importances": 1.168822356727898,
                  "_deepnote_index_column": 7
                },
                {
                  "Feature Id": "2021",
                  "Importances": 1.1333840255428345,
                  "_deepnote_index_column": 8
                },
                {
                  "Feature Id": "1315",
                  "Importances": 1.068566367462794,
                  "_deepnote_index_column": 9
                },
                {
                  "Feature Id": "1882",
                  "Importances": 1.0004875341180122,
                  "_deepnote_index_column": 10
                },
                {
                  "Feature Id": "1000",
                  "Importances": 0.9104241097099607,
                  "_deepnote_index_column": 11
                },
                {
                  "Feature Id": "851",
                  "Importances": 0.8627050443355451,
                  "_deepnote_index_column": 12
                },
                {
                  "Feature Id": "396",
                  "Importances": 0.7690857801913004,
                  "_deepnote_index_column": 13
                },
                {
                  "Feature Id": "1305",
                  "Importances": 0.7140596688118016,
                  "_deepnote_index_column": 14
                },
                {
                  "Feature Id": "2734",
                  "Importances": 0.7085484330301053,
                  "_deepnote_index_column": 15
                },
                {
                  "Feature Id": "386",
                  "Importances": 0.6911494718114539,
                  "_deepnote_index_column": 16
                },
                {
                  "Feature Id": "509",
                  "Importances": 0.6836981308311882,
                  "_deepnote_index_column": 17
                },
                {
                  "Feature Id": "2214",
                  "Importances": 0.6699447977960149,
                  "_deepnote_index_column": 18
                },
                {
                  "Feature Id": "1422",
                  "Importances": 0.6685771264929157,
                  "_deepnote_index_column": 19
                },
                {
                  "Feature Id": "2030",
                  "Importances": 0.6200584627231049,
                  "_deepnote_index_column": 20
                },
                {
                  "Feature Id": "29",
                  "Importances": 0.6028407588947744,
                  "_deepnote_index_column": 21
                },
                {
                  "Feature Id": "904",
                  "Importances": 0.5617956357243594,
                  "_deepnote_index_column": 22
                },
                {
                  "Feature Id": "1902",
                  "Importances": 0.5503846845689465,
                  "_deepnote_index_column": 23
                },
                {
                  "Feature Id": "171",
                  "Importances": 0.5451724721098491,
                  "_deepnote_index_column": 24
                },
                {
                  "Feature Id": "2025",
                  "Importances": 0.5325457485801797,
                  "_deepnote_index_column": 25
                },
                {
                  "Feature Id": "192",
                  "Importances": 0.5189134627064729,
                  "_deepnote_index_column": 26
                },
                {
                  "Feature Id": "74",
                  "Importances": 0.5155775497807193,
                  "_deepnote_index_column": 27
                },
                {
                  "Feature Id": "2383",
                  "Importances": 0.5145701866387703,
                  "_deepnote_index_column": 28
                },
                {
                  "Feature Id": "2034",
                  "Importances": 0.5119152517758674,
                  "_deepnote_index_column": 29
                },
                {
                  "Feature Id": "169",
                  "Importances": 0.46333831970860234,
                  "_deepnote_index_column": 30
                },
                {
                  "Feature Id": "783",
                  "Importances": 0.4605443234884568,
                  "_deepnote_index_column": 31
                },
                {
                  "Feature Id": "2206",
                  "Importances": 0.45309807380974737,
                  "_deepnote_index_column": 32
                },
                {
                  "Feature Id": "511",
                  "Importances": 0.42462267847879565,
                  "_deepnote_index_column": 33
                },
                {
                  "Feature Id": "1174",
                  "Importances": 0.4196104563331274,
                  "_deepnote_index_column": 34
                },
                {
                  "Feature Id": "1652",
                  "Importances": 0.4190768230686956,
                  "_deepnote_index_column": 35
                },
                {
                  "Feature Id": "480",
                  "Importances": 0.4188033898641266,
                  "_deepnote_index_column": 36
                },
                {
                  "Feature Id": "2732",
                  "Importances": 0.4001948779486997,
                  "_deepnote_index_column": 37
                },
                {
                  "Feature Id": "2405",
                  "Importances": 0.39123347761577004,
                  "_deepnote_index_column": 38
                },
                {
                  "Feature Id": "2052",
                  "Importances": 0.3779957555049539,
                  "_deepnote_index_column": 39
                },
                {
                  "Feature Id": "274",
                  "Importances": 0.3663266964494132,
                  "_deepnote_index_column": 40
                },
                {
                  "Feature Id": "2749",
                  "Importances": 0.359084980003853,
                  "_deepnote_index_column": 41
                },
                {
                  "Feature Id": "2152",
                  "Importances": 0.3571298714842281,
                  "_deepnote_index_column": 42
                },
                {
                  "Feature Id": "2742",
                  "Importances": 0.34844354113156895,
                  "_deepnote_index_column": 43
                },
                {
                  "Feature Id": "2764",
                  "Importances": 0.3482942181563349,
                  "_deepnote_index_column": 44
                },
                {
                  "Feature Id": "67",
                  "Importances": 0.3464325097016944,
                  "_deepnote_index_column": 45
                },
                {
                  "Feature Id": "230",
                  "Importances": 0.34419654486776724,
                  "_deepnote_index_column": 46
                },
                {
                  "Feature Id": "1919",
                  "Importances": 0.3410992211038335,
                  "_deepnote_index_column": 47
                },
                {
                  "Feature Id": "843",
                  "Importances": 0.3341427395270802,
                  "_deepnote_index_column": 48
                },
                {
                  "Feature Id": "2616",
                  "Importances": 0.3150349021164491,
                  "_deepnote_index_column": 49
                },
                {
                  "Feature Id": "162",
                  "Importances": 0.31330584964851543,
                  "_deepnote_index_column": 50
                },
                {
                  "Feature Id": "2408",
                  "Importances": 0.3058499068453141,
                  "_deepnote_index_column": 51
                },
                {
                  "Feature Id": "1654",
                  "Importances": 0.2963359694342225,
                  "_deepnote_index_column": 52
                },
                {
                  "Feature Id": "465",
                  "Importances": 0.2960118417827933,
                  "_deepnote_index_column": 53
                },
                {
                  "Feature Id": "2060",
                  "Importances": 0.29377201852930895,
                  "_deepnote_index_column": 54
                },
                {
                  "Feature Id": "683",
                  "Importances": 0.2893025332825897,
                  "_deepnote_index_column": 55
                },
                {
                  "Feature Id": "1965",
                  "Importances": 0.28542968729975116,
                  "_deepnote_index_column": 56
                },
                {
                  "Feature Id": "2055",
                  "Importances": 0.2840456755679324,
                  "_deepnote_index_column": 57
                },
                {
                  "Feature Id": "1660",
                  "Importances": 0.2733202040607533,
                  "_deepnote_index_column": 58
                },
                {
                  "Feature Id": "489",
                  "Importances": 0.2724305605710315,
                  "_deepnote_index_column": 59
                },
                {
                  "Feature Id": "892",
                  "Importances": 0.26761000546103886,
                  "_deepnote_index_column": 60
                },
                {
                  "Feature Id": "2255",
                  "Importances": 0.2670103864552596,
                  "_deepnote_index_column": 61
                },
                {
                  "Feature Id": "2300",
                  "Importances": 0.2651820164747463,
                  "_deepnote_index_column": 62
                },
                {
                  "Feature Id": "1091",
                  "Importances": 0.26493441671211226,
                  "_deepnote_index_column": 63
                },
                {
                  "Feature Id": "2625",
                  "Importances": 0.26256334802431464,
                  "_deepnote_index_column": 64
                },
                {
                  "Feature Id": "2266",
                  "Importances": 0.2623930091136964,
                  "_deepnote_index_column": 65
                },
                {
                  "Feature Id": "719",
                  "Importances": 0.26154227791213214,
                  "_deepnote_index_column": 66
                },
                {
                  "Feature Id": "2219",
                  "Importances": 0.25963211893244986,
                  "_deepnote_index_column": 67
                },
                {
                  "Feature Id": "441",
                  "Importances": 0.25378377895087967,
                  "_deepnote_index_column": 68
                },
                {
                  "Feature Id": "863",
                  "Importances": 0.25249659699182075,
                  "_deepnote_index_column": 69
                },
                {
                  "Feature Id": "1653",
                  "Importances": 0.2510669283038763,
                  "_deepnote_index_column": 70
                },
                {
                  "Feature Id": "2549",
                  "Importances": 0.24940684167495958,
                  "_deepnote_index_column": 71
                },
                {
                  "Feature Id": "147",
                  "Importances": 0.2410710686188365,
                  "_deepnote_index_column": 72
                },
                {
                  "Feature Id": "1785",
                  "Importances": 0.23956033794853562,
                  "_deepnote_index_column": 73
                },
                {
                  "Feature Id": "2608",
                  "Importances": 0.23140662427435113,
                  "_deepnote_index_column": 74
                },
                {
                  "Feature Id": "1671",
                  "Importances": 0.2300064960005089,
                  "_deepnote_index_column": 75
                },
                {
                  "Feature Id": "1072",
                  "Importances": 0.22933698434471236,
                  "_deepnote_index_column": 76
                },
                {
                  "Feature Id": "985",
                  "Importances": 0.22692660472355367,
                  "_deepnote_index_column": 77
                },
                {
                  "Feature Id": "1667",
                  "Importances": 0.22435955305795668,
                  "_deepnote_index_column": 78
                },
                {
                  "Feature Id": "94",
                  "Importances": 0.22117094761791378,
                  "_deepnote_index_column": 79
                },
                {
                  "Feature Id": "2629",
                  "Importances": 0.22059344035673903,
                  "_deepnote_index_column": 80
                },
                {
                  "Feature Id": "265",
                  "Importances": 0.22020900155950834,
                  "_deepnote_index_column": 81
                },
                {
                  "Feature Id": "1971",
                  "Importances": 0.217201601954692,
                  "_deepnote_index_column": 82
                },
                {
                  "Feature Id": "801",
                  "Importances": 0.2142818441304318,
                  "_deepnote_index_column": 83
                },
                {
                  "Feature Id": "0",
                  "Importances": 0.21389977845933195,
                  "_deepnote_index_column": 84
                },
                {
                  "Feature Id": "620",
                  "Importances": 0.21185445737783704,
                  "_deepnote_index_column": 85
                },
                {
                  "Feature Id": "1279",
                  "Importances": 0.20941173087057544,
                  "_deepnote_index_column": 86
                },
                {
                  "Feature Id": "745",
                  "Importances": 0.2093471697191293,
                  "_deepnote_index_column": 87
                },
                {
                  "Feature Id": "856",
                  "Importances": 0.20852164690869515,
                  "_deepnote_index_column": 88
                },
                {
                  "Feature Id": "1402",
                  "Importances": 0.20724464411242755,
                  "_deepnote_index_column": 89
                },
                {
                  "Feature Id": "2002",
                  "Importances": 0.20199181439955163,
                  "_deepnote_index_column": 90
                },
                {
                  "Feature Id": "860",
                  "Importances": 0.20159367099252343,
                  "_deepnote_index_column": 91
                },
                {
                  "Feature Id": "137",
                  "Importances": 0.19999910341782928,
                  "_deepnote_index_column": 92
                },
                {
                  "Feature Id": "7",
                  "Importances": 0.19638903726791176,
                  "_deepnote_index_column": 93
                },
                {
                  "Feature Id": "1948",
                  "Importances": 0.19576608475942553,
                  "_deepnote_index_column": 94
                },
                {
                  "Feature Id": "1257",
                  "Importances": 0.19524734264814506,
                  "_deepnote_index_column": 95
                },
                {
                  "Feature Id": "120",
                  "Importances": 0.19271593417133842,
                  "_deepnote_index_column": 96
                },
                {
                  "Feature Id": "170",
                  "Importances": 0.19199111047814768,
                  "_deepnote_index_column": 97
                },
                {
                  "Feature Id": "194",
                  "Importances": 0.19027459603808972,
                  "_deepnote_index_column": 98
                },
                {
                  "Feature Id": "1127",
                  "Importances": 0.19017301675960913,
                  "_deepnote_index_column": 99
                },
                {
                  "Feature Id": "1346",
                  "Importances": 0.18885023666656314,
                  "_deepnote_index_column": 100
                },
                {
                  "Feature Id": "1411",
                  "Importances": 0.18879196335102846,
                  "_deepnote_index_column": 101
                },
                {
                  "Feature Id": "778",
                  "Importances": 0.18664999513750366,
                  "_deepnote_index_column": 102
                },
                {
                  "Feature Id": "1113",
                  "Importances": 0.1864294310250587,
                  "_deepnote_index_column": 103
                },
                {
                  "Feature Id": "1065",
                  "Importances": 0.18510314896236765,
                  "_deepnote_index_column": 104
                },
                {
                  "Feature Id": "1266",
                  "Importances": 0.17850089548329257,
                  "_deepnote_index_column": 105
                },
                {
                  "Feature Id": "208",
                  "Importances": 0.17722275555892136,
                  "_deepnote_index_column": 106
                },
                {
                  "Feature Id": "1160",
                  "Importances": 0.17564111727151657,
                  "_deepnote_index_column": 107
                },
                {
                  "Feature Id": "2241",
                  "Importances": 0.1755628261810116,
                  "_deepnote_index_column": 108
                },
                {
                  "Feature Id": "633",
                  "Importances": 0.17477058239727095,
                  "_deepnote_index_column": 109
                },
                {
                  "Feature Id": "70",
                  "Importances": 0.17389213505413526,
                  "_deepnote_index_column": 110
                },
                {
                  "Feature Id": "844",
                  "Importances": 0.17262028591335168,
                  "_deepnote_index_column": 111
                },
                {
                  "Feature Id": "210",
                  "Importances": 0.1725221022045024,
                  "_deepnote_index_column": 112
                },
                {
                  "Feature Id": "440",
                  "Importances": 0.17201218140481206,
                  "_deepnote_index_column": 113
                },
                {
                  "Feature Id": "2209",
                  "Importances": 0.1687572049927795,
                  "_deepnote_index_column": 114
                },
                {
                  "Feature Id": "2741",
                  "Importances": 0.16543174131969632,
                  "_deepnote_index_column": 115
                },
                {
                  "Feature Id": "2024",
                  "Importances": 0.16365611386903856,
                  "_deepnote_index_column": 116
                },
                {
                  "Feature Id": "2347",
                  "Importances": 0.16132813915087954,
                  "_deepnote_index_column": 117
                },
                {
                  "Feature Id": "496",
                  "Importances": 0.16065106206486382,
                  "_deepnote_index_column": 118
                },
                {
                  "Feature Id": "2033",
                  "Importances": 0.15895546264245555,
                  "_deepnote_index_column": 119
                },
                {
                  "Feature Id": "1064",
                  "Importances": 0.15877917937252642,
                  "_deepnote_index_column": 120
                },
                {
                  "Feature Id": "2428",
                  "Importances": 0.15674312361810408,
                  "_deepnote_index_column": 121
                },
                {
                  "Feature Id": "385",
                  "Importances": 0.15490868935526056,
                  "_deepnote_index_column": 122
                },
                {
                  "Feature Id": "1084",
                  "Importances": 0.15457771184640456,
                  "_deepnote_index_column": 123
                },
                {
                  "Feature Id": "1994",
                  "Importances": 0.15440113162228472,
                  "_deepnote_index_column": 124
                },
                {
                  "Feature Id": "981",
                  "Importances": 0.1533744649872041,
                  "_deepnote_index_column": 125
                },
                {
                  "Feature Id": "2384",
                  "Importances": 0.15201161331361576,
                  "_deepnote_index_column": 126
                },
                {
                  "Feature Id": "2724",
                  "Importances": 0.1517222811293123,
                  "_deepnote_index_column": 127
                },
                {
                  "Feature Id": "2029",
                  "Importances": 0.15053107492250523,
                  "_deepnote_index_column": 128
                },
                {
                  "Feature Id": "2392",
                  "Importances": 0.1471523526011158,
                  "_deepnote_index_column": 129
                },
                {
                  "Feature Id": "42",
                  "Importances": 0.146798220936513,
                  "_deepnote_index_column": 130
                },
                {
                  "Feature Id": "1657",
                  "Importances": 0.14667744102061625,
                  "_deepnote_index_column": 131
                },
                {
                  "Feature Id": "1308",
                  "Importances": 0.1451791776569143,
                  "_deepnote_index_column": 132
                },
                {
                  "Feature Id": "2421",
                  "Importances": 0.1437191910017883,
                  "_deepnote_index_column": 133
                },
                {
                  "Feature Id": "800",
                  "Importances": 0.14358869220746767,
                  "_deepnote_index_column": 134
                },
                {
                  "Feature Id": "853",
                  "Importances": 0.14354176256171927,
                  "_deepnote_index_column": 135
                },
                {
                  "Feature Id": "723",
                  "Importances": 0.14326686372205122,
                  "_deepnote_index_column": 136
                },
                {
                  "Feature Id": "48",
                  "Importances": 0.1423377220658438,
                  "_deepnote_index_column": 137
                },
                {
                  "Feature Id": "2352",
                  "Importances": 0.14166541535199062,
                  "_deepnote_index_column": 138
                },
                {
                  "Feature Id": "2415",
                  "Importances": 0.14045469753299508,
                  "_deepnote_index_column": 139
                },
                {
                  "Feature Id": "2032",
                  "Importances": 0.13948901709297815,
                  "_deepnote_index_column": 140
                },
                {
                  "Feature Id": "2382",
                  "Importances": 0.13794741678144526,
                  "_deepnote_index_column": 141
                },
                {
                  "Feature Id": "2374",
                  "Importances": 0.13768236596107605,
                  "_deepnote_index_column": 142
                },
                {
                  "Feature Id": "954",
                  "Importances": 0.13630794475944993,
                  "_deepnote_index_column": 143
                },
                {
                  "Feature Id": "755",
                  "Importances": 0.1362572937590356,
                  "_deepnote_index_column": 144
                },
                {
                  "Feature Id": "1061",
                  "Importances": 0.13561578096743188,
                  "_deepnote_index_column": 145
                },
                {
                  "Feature Id": "75",
                  "Importances": 0.13444849332760628,
                  "_deepnote_index_column": 146
                },
                {
                  "Feature Id": "2760",
                  "Importances": 0.1331939456167399,
                  "_deepnote_index_column": 147
                },
                {
                  "Feature Id": "1736",
                  "Importances": 0.13242301834682613,
                  "_deepnote_index_column": 148
                },
                {
                  "Feature Id": "1998",
                  "Importances": 0.13231132809282778,
                  "_deepnote_index_column": 149
                },
                {
                  "Feature Id": "2763",
                  "Importances": 0.1310985295247219,
                  "_deepnote_index_column": 150
                },
                {
                  "Feature Id": "996",
                  "Importances": 0.12953472396786986,
                  "_deepnote_index_column": 151
                },
                {
                  "Feature Id": "1599",
                  "Importances": 0.1289587469859143,
                  "_deepnote_index_column": 152
                },
                {
                  "Feature Id": "1975",
                  "Importances": 0.12606591219120616,
                  "_deepnote_index_column": 153
                },
                {
                  "Feature Id": "2404",
                  "Importances": 0.12603333568727798,
                  "_deepnote_index_column": 154
                },
                {
                  "Feature Id": "176",
                  "Importances": 0.1244820992562829,
                  "_deepnote_index_column": 155
                },
                {
                  "Feature Id": "2439",
                  "Importances": 0.12442684526846125,
                  "_deepnote_index_column": 156
                },
                {
                  "Feature Id": "2511",
                  "Importances": 0.1238951234449166,
                  "_deepnote_index_column": 157
                },
                {
                  "Feature Id": "1328",
                  "Importances": 0.12300982068753832,
                  "_deepnote_index_column": 158
                },
                {
                  "Feature Id": "1190",
                  "Importances": 0.12145433204705211,
                  "_deepnote_index_column": 159
                },
                {
                  "Feature Id": "2622",
                  "Importances": 0.12142211268307244,
                  "_deepnote_index_column": 160
                },
                {
                  "Feature Id": "2765",
                  "Importances": 0.12117687315611352,
                  "_deepnote_index_column": 161
                },
                {
                  "Feature Id": "2651",
                  "Importances": 0.12088130166047342,
                  "_deepnote_index_column": 162
                },
                {
                  "Feature Id": "1301",
                  "Importances": 0.11755603148809947,
                  "_deepnote_index_column": 163
                },
                {
                  "Feature Id": "1907",
                  "Importances": 0.11661287240143459,
                  "_deepnote_index_column": 164
                },
                {
                  "Feature Id": "2750",
                  "Importances": 0.11508306991699578,
                  "_deepnote_index_column": 165
                },
                {
                  "Feature Id": "586",
                  "Importances": 0.1143505094644065,
                  "_deepnote_index_column": 166
                },
                {
                  "Feature Id": "1522",
                  "Importances": 0.11395971558159358,
                  "_deepnote_index_column": 167
                },
                {
                  "Feature Id": "840",
                  "Importances": 0.11338185160877984,
                  "_deepnote_index_column": 168
                },
                {
                  "Feature Id": "1317",
                  "Importances": 0.11327051081643914,
                  "_deepnote_index_column": 169
                },
                {
                  "Feature Id": "1677",
                  "Importances": 0.11276097018803714,
                  "_deepnote_index_column": 170
                },
                {
                  "Feature Id": "1664",
                  "Importances": 0.11123410822549817,
                  "_deepnote_index_column": 171
                },
                {
                  "Feature Id": "2650",
                  "Importances": 0.11067393533011549,
                  "_deepnote_index_column": 172
                },
                {
                  "Feature Id": "2418",
                  "Importances": 0.11023770936716865,
                  "_deepnote_index_column": 173
                },
                {
                  "Feature Id": "2018",
                  "Importances": 0.10901497833754283,
                  "_deepnote_index_column": 174
                },
                {
                  "Feature Id": "2687",
                  "Importances": 0.10826557552257822,
                  "_deepnote_index_column": 175
                },
                {
                  "Feature Id": "1692",
                  "Importances": 0.10808421966740155,
                  "_deepnote_index_column": 176
                },
                {
                  "Feature Id": "1668",
                  "Importances": 0.10786499717008431,
                  "_deepnote_index_column": 177
                },
                {
                  "Feature Id": "613",
                  "Importances": 0.10742672623695157,
                  "_deepnote_index_column": 178
                },
                {
                  "Feature Id": "1049",
                  "Importances": 0.10682900273489238,
                  "_deepnote_index_column": 179
                },
                {
                  "Feature Id": "964",
                  "Importances": 0.10634555350359283,
                  "_deepnote_index_column": 180
                },
                {
                  "Feature Id": "1281",
                  "Importances": 0.10573051463778721,
                  "_deepnote_index_column": 181
                },
                {
                  "Feature Id": "1616",
                  "Importances": 0.1056841094976427,
                  "_deepnote_index_column": 182
                },
                {
                  "Feature Id": "2287",
                  "Importances": 0.10547633459201473,
                  "_deepnote_index_column": 183
                },
                {
                  "Feature Id": "387",
                  "Importances": 0.10499739890713677,
                  "_deepnote_index_column": 184
                },
                {
                  "Feature Id": "177",
                  "Importances": 0.10497315700581908,
                  "_deepnote_index_column": 185
                },
                {
                  "Feature Id": "1910",
                  "Importances": 0.10445371023935951,
                  "_deepnote_index_column": 186
                },
                {
                  "Feature Id": "1670",
                  "Importances": 0.1041538282015915,
                  "_deepnote_index_column": 187
                },
                {
                  "Feature Id": "804",
                  "Importances": 0.10408662906180473,
                  "_deepnote_index_column": 188
                },
                {
                  "Feature Id": "746",
                  "Importances": 0.10395149106482343,
                  "_deepnote_index_column": 189
                },
                {
                  "Feature Id": "1693",
                  "Importances": 0.10365676452437962,
                  "_deepnote_index_column": 190
                },
                {
                  "Feature Id": "2203",
                  "Importances": 0.10340385230706159,
                  "_deepnote_index_column": 191
                },
                {
                  "Feature Id": "188",
                  "Importances": 0.103389514296184,
                  "_deepnote_index_column": 192
                },
                {
                  "Feature Id": "260",
                  "Importances": 0.10312136968101243,
                  "_deepnote_index_column": 193
                },
                {
                  "Feature Id": "2130",
                  "Importances": 0.1028244224401979,
                  "_deepnote_index_column": 194
                },
                {
                  "Feature Id": "395",
                  "Importances": 0.10108429985127586,
                  "_deepnote_index_column": 195
                },
                {
                  "Feature Id": "616",
                  "Importances": 0.10041839548388765,
                  "_deepnote_index_column": 196
                },
                {
                  "Feature Id": "502",
                  "Importances": 0.09935754706560508,
                  "_deepnote_index_column": 197
                },
                {
                  "Feature Id": "97",
                  "Importances": 0.0992834958671091,
                  "_deepnote_index_column": 198
                },
                {
                  "Feature Id": "1748",
                  "Importances": 0.09817479864271933,
                  "_deepnote_index_column": 199
                },
                {
                  "Feature Id": "500",
                  "Importances": 0.0978102284678178,
                  "_deepnote_index_column": 200
                },
                {
                  "Feature Id": "247",
                  "Importances": 0.09760457401486262,
                  "_deepnote_index_column": 201
                },
                {
                  "Feature Id": "1482",
                  "Importances": 0.09710117051190664,
                  "_deepnote_index_column": 202
                },
                {
                  "Feature Id": "25",
                  "Importances": 0.09624744284206174,
                  "_deepnote_index_column": 203
                },
                {
                  "Feature Id": "857",
                  "Importances": 0.09467818960119234,
                  "_deepnote_index_column": 204
                },
                {
                  "Feature Id": "724",
                  "Importances": 0.09458843808522961,
                  "_deepnote_index_column": 205
                },
                {
                  "Feature Id": "490",
                  "Importances": 0.0944242274029458,
                  "_deepnote_index_column": 206
                },
                {
                  "Feature Id": "2026",
                  "Importances": 0.0942689663594472,
                  "_deepnote_index_column": 207
                },
                {
                  "Feature Id": "1984",
                  "Importances": 0.09404723413198583,
                  "_deepnote_index_column": 208
                },
                {
                  "Feature Id": "2493",
                  "Importances": 0.0923029788518714,
                  "_deepnote_index_column": 209
                },
                {
                  "Feature Id": "2326",
                  "Importances": 0.09150294319162025,
                  "_deepnote_index_column": 210
                },
                {
                  "Feature Id": "2395",
                  "Importances": 0.0899474809288309,
                  "_deepnote_index_column": 211
                },
                {
                  "Feature Id": "1745",
                  "Importances": 0.0893944432004991,
                  "_deepnote_index_column": 212
                },
                {
                  "Feature Id": "1862",
                  "Importances": 0.08939444192491536,
                  "_deepnote_index_column": 213
                },
                {
                  "Feature Id": "1876",
                  "Importances": 0.08906422285887645,
                  "_deepnote_index_column": 214
                },
                {
                  "Feature Id": "1204",
                  "Importances": 0.08892602356259972,
                  "_deepnote_index_column": 215
                },
                {
                  "Feature Id": "1659",
                  "Importances": 0.08808061476623798,
                  "_deepnote_index_column": 216
                },
                {
                  "Feature Id": "1087",
                  "Importances": 0.08763965414522845,
                  "_deepnote_index_column": 217
                },
                {
                  "Feature Id": "2105",
                  "Importances": 0.08630210672872994,
                  "_deepnote_index_column": 218
                },
                {
                  "Feature Id": "1663",
                  "Importances": 0.08566763364463799,
                  "_deepnote_index_column": 219
                },
                {
                  "Feature Id": "2746",
                  "Importances": 0.08503071715842281,
                  "_deepnote_index_column": 220
                },
                {
                  "Feature Id": "2816",
                  "Importances": 0.08356129981894718,
                  "_deepnote_index_column": 221
                },
                {
                  "Feature Id": "1010",
                  "Importances": 0.08311450167242403,
                  "_deepnote_index_column": 222
                },
                {
                  "Feature Id": "2547",
                  "Importances": 0.08256796915255415,
                  "_deepnote_index_column": 223
                },
                {
                  "Feature Id": "2624",
                  "Importances": 0.08228935959485793,
                  "_deepnote_index_column": 224
                },
                {
                  "Feature Id": "1055",
                  "Importances": 0.08102311334968967,
                  "_deepnote_index_column": 225
                },
                {
                  "Feature Id": "268",
                  "Importances": 0.08022725828444068,
                  "_deepnote_index_column": 226
                },
                {
                  "Feature Id": "2278",
                  "Importances": 0.07950816059440012,
                  "_deepnote_index_column": 227
                },
                {
                  "Feature Id": "625",
                  "Importances": 0.07801790724384627,
                  "_deepnote_index_column": 228
                },
                {
                  "Feature Id": "1303",
                  "Importances": 0.07680457254617105,
                  "_deepnote_index_column": 229
                },
                {
                  "Feature Id": "718",
                  "Importances": 0.0758266995128291,
                  "_deepnote_index_column": 230
                },
                {
                  "Feature Id": "1200",
                  "Importances": 0.07528631725970156,
                  "_deepnote_index_column": 231
                },
                {
                  "Feature Id": "71",
                  "Importances": 0.07527622859218154,
                  "_deepnote_index_column": 232
                },
                {
                  "Feature Id": "2294",
                  "Importances": 0.07426506847093224,
                  "_deepnote_index_column": 233
                },
                {
                  "Feature Id": "68",
                  "Importances": 0.07390926148637707,
                  "_deepnote_index_column": 234
                },
                {
                  "Feature Id": "20",
                  "Importances": 0.07224360233144357,
                  "_deepnote_index_column": 235
                },
                {
                  "Feature Id": "694",
                  "Importances": 0.07183352905150986,
                  "_deepnote_index_column": 236
                },
                {
                  "Feature Id": "2494",
                  "Importances": 0.07158638045351623,
                  "_deepnote_index_column": 237
                },
                {
                  "Feature Id": "896",
                  "Importances": 0.07046173231135464,
                  "_deepnote_index_column": 238
                },
                {
                  "Feature Id": "2198",
                  "Importances": 0.07011038407856791,
                  "_deepnote_index_column": 239
                },
                {
                  "Feature Id": "415",
                  "Importances": 0.06937952506197294,
                  "_deepnote_index_column": 240
                },
                {
                  "Feature Id": "159",
                  "Importances": 0.06906444045743446,
                  "_deepnote_index_column": 241
                },
                {
                  "Feature Id": "1642",
                  "Importances": 0.06873340980448839,
                  "_deepnote_index_column": 242
                },
                {
                  "Feature Id": "990",
                  "Importances": 0.06830580152808217,
                  "_deepnote_index_column": 243
                },
                {
                  "Feature Id": "168",
                  "Importances": 0.06824046054014558,
                  "_deepnote_index_column": 244
                },
                {
                  "Feature Id": "630",
                  "Importances": 0.0680509487852437,
                  "_deepnote_index_column": 245
                },
                {
                  "Feature Id": "40",
                  "Importances": 0.06695328769484339,
                  "_deepnote_index_column": 246
                },
                {
                  "Feature Id": "2293",
                  "Importances": 0.0668134397261633,
                  "_deepnote_index_column": 247
                },
                {
                  "Feature Id": "2175",
                  "Importances": 0.06580601247425828,
                  "_deepnote_index_column": 248
                },
                {
                  "Feature Id": "2073",
                  "Importances": 0.06555857001242797,
                  "_deepnote_index_column": 249
                }
              ],
              "rows_bottom": [
                {
                  "Feature Id": "2462",
                  "Importances": 0,
                  "_deepnote_index_column": 2584
                },
                {
                  "Feature Id": "2463",
                  "Importances": 0,
                  "_deepnote_index_column": 2585
                },
                {
                  "Feature Id": "2465",
                  "Importances": 0,
                  "_deepnote_index_column": 2586
                },
                {
                  "Feature Id": "2466",
                  "Importances": 0,
                  "_deepnote_index_column": 2587
                },
                {
                  "Feature Id": "2467",
                  "Importances": 0,
                  "_deepnote_index_column": 2588
                },
                {
                  "Feature Id": "2468",
                  "Importances": 0,
                  "_deepnote_index_column": 2589
                },
                {
                  "Feature Id": "2469",
                  "Importances": 0,
                  "_deepnote_index_column": 2590
                },
                {
                  "Feature Id": "2470",
                  "Importances": 0,
                  "_deepnote_index_column": 2591
                },
                {
                  "Feature Id": "2471",
                  "Importances": 0,
                  "_deepnote_index_column": 2592
                },
                {
                  "Feature Id": "2473",
                  "Importances": 0,
                  "_deepnote_index_column": 2593
                },
                {
                  "Feature Id": "2474",
                  "Importances": 0,
                  "_deepnote_index_column": 2594
                },
                {
                  "Feature Id": "2475",
                  "Importances": 0,
                  "_deepnote_index_column": 2595
                },
                {
                  "Feature Id": "2476",
                  "Importances": 0,
                  "_deepnote_index_column": 2596
                },
                {
                  "Feature Id": "2477",
                  "Importances": 0,
                  "_deepnote_index_column": 2597
                },
                {
                  "Feature Id": "2478",
                  "Importances": 0,
                  "_deepnote_index_column": 2598
                },
                {
                  "Feature Id": "2479",
                  "Importances": 0,
                  "_deepnote_index_column": 2599
                },
                {
                  "Feature Id": "2480",
                  "Importances": 0,
                  "_deepnote_index_column": 2600
                },
                {
                  "Feature Id": "2482",
                  "Importances": 0,
                  "_deepnote_index_column": 2601
                },
                {
                  "Feature Id": "2484",
                  "Importances": 0,
                  "_deepnote_index_column": 2602
                },
                {
                  "Feature Id": "2485",
                  "Importances": 0,
                  "_deepnote_index_column": 2603
                },
                {
                  "Feature Id": "2487",
                  "Importances": 0,
                  "_deepnote_index_column": 2604
                },
                {
                  "Feature Id": "2488",
                  "Importances": 0,
                  "_deepnote_index_column": 2605
                },
                {
                  "Feature Id": "2489",
                  "Importances": 0,
                  "_deepnote_index_column": 2606
                },
                {
                  "Feature Id": "2490",
                  "Importances": 0,
                  "_deepnote_index_column": 2607
                },
                {
                  "Feature Id": "2491",
                  "Importances": 0,
                  "_deepnote_index_column": 2608
                },
                {
                  "Feature Id": "2495",
                  "Importances": 0,
                  "_deepnote_index_column": 2609
                },
                {
                  "Feature Id": "2496",
                  "Importances": 0,
                  "_deepnote_index_column": 2610
                },
                {
                  "Feature Id": "2497",
                  "Importances": 0,
                  "_deepnote_index_column": 2611
                },
                {
                  "Feature Id": "2498",
                  "Importances": 0,
                  "_deepnote_index_column": 2612
                },
                {
                  "Feature Id": "2499",
                  "Importances": 0,
                  "_deepnote_index_column": 2613
                },
                {
                  "Feature Id": "2500",
                  "Importances": 0,
                  "_deepnote_index_column": 2614
                },
                {
                  "Feature Id": "2503",
                  "Importances": 0,
                  "_deepnote_index_column": 2615
                },
                {
                  "Feature Id": "2504",
                  "Importances": 0,
                  "_deepnote_index_column": 2616
                },
                {
                  "Feature Id": "2505",
                  "Importances": 0,
                  "_deepnote_index_column": 2617
                },
                {
                  "Feature Id": "2506",
                  "Importances": 0,
                  "_deepnote_index_column": 2618
                },
                {
                  "Feature Id": "2507",
                  "Importances": 0,
                  "_deepnote_index_column": 2619
                },
                {
                  "Feature Id": "2508",
                  "Importances": 0,
                  "_deepnote_index_column": 2620
                },
                {
                  "Feature Id": "2510",
                  "Importances": 0,
                  "_deepnote_index_column": 2621
                },
                {
                  "Feature Id": "2512",
                  "Importances": 0,
                  "_deepnote_index_column": 2622
                },
                {
                  "Feature Id": "2513",
                  "Importances": 0,
                  "_deepnote_index_column": 2623
                },
                {
                  "Feature Id": "2514",
                  "Importances": 0,
                  "_deepnote_index_column": 2624
                },
                {
                  "Feature Id": "2515",
                  "Importances": 0,
                  "_deepnote_index_column": 2625
                },
                {
                  "Feature Id": "2516",
                  "Importances": 0,
                  "_deepnote_index_column": 2626
                },
                {
                  "Feature Id": "2517",
                  "Importances": 0,
                  "_deepnote_index_column": 2627
                },
                {
                  "Feature Id": "2519",
                  "Importances": 0,
                  "_deepnote_index_column": 2628
                },
                {
                  "Feature Id": "2520",
                  "Importances": 0,
                  "_deepnote_index_column": 2629
                },
                {
                  "Feature Id": "2521",
                  "Importances": 0,
                  "_deepnote_index_column": 2630
                },
                {
                  "Feature Id": "2522",
                  "Importances": 0,
                  "_deepnote_index_column": 2631
                },
                {
                  "Feature Id": "2523",
                  "Importances": 0,
                  "_deepnote_index_column": 2632
                },
                {
                  "Feature Id": "2524",
                  "Importances": 0,
                  "_deepnote_index_column": 2633
                },
                {
                  "Feature Id": "2525",
                  "Importances": 0,
                  "_deepnote_index_column": 2634
                },
                {
                  "Feature Id": "2526",
                  "Importances": 0,
                  "_deepnote_index_column": 2635
                },
                {
                  "Feature Id": "2527",
                  "Importances": 0,
                  "_deepnote_index_column": 2636
                },
                {
                  "Feature Id": "2528",
                  "Importances": 0,
                  "_deepnote_index_column": 2637
                },
                {
                  "Feature Id": "2529",
                  "Importances": 0,
                  "_deepnote_index_column": 2638
                },
                {
                  "Feature Id": "2530",
                  "Importances": 0,
                  "_deepnote_index_column": 2639
                },
                {
                  "Feature Id": "2531",
                  "Importances": 0,
                  "_deepnote_index_column": 2640
                },
                {
                  "Feature Id": "2532",
                  "Importances": 0,
                  "_deepnote_index_column": 2641
                },
                {
                  "Feature Id": "2533",
                  "Importances": 0,
                  "_deepnote_index_column": 2642
                },
                {
                  "Feature Id": "2534",
                  "Importances": 0,
                  "_deepnote_index_column": 2643
                },
                {
                  "Feature Id": "2535",
                  "Importances": 0,
                  "_deepnote_index_column": 2644
                },
                {
                  "Feature Id": "2536",
                  "Importances": 0,
                  "_deepnote_index_column": 2645
                },
                {
                  "Feature Id": "2538",
                  "Importances": 0,
                  "_deepnote_index_column": 2646
                },
                {
                  "Feature Id": "2539",
                  "Importances": 0,
                  "_deepnote_index_column": 2647
                },
                {
                  "Feature Id": "2540",
                  "Importances": 0,
                  "_deepnote_index_column": 2648
                },
                {
                  "Feature Id": "2541",
                  "Importances": 0,
                  "_deepnote_index_column": 2649
                },
                {
                  "Feature Id": "2545",
                  "Importances": 0,
                  "_deepnote_index_column": 2650
                },
                {
                  "Feature Id": "2548",
                  "Importances": 0,
                  "_deepnote_index_column": 2651
                },
                {
                  "Feature Id": "2550",
                  "Importances": 0,
                  "_deepnote_index_column": 2652
                },
                {
                  "Feature Id": "2551",
                  "Importances": 0,
                  "_deepnote_index_column": 2653
                },
                {
                  "Feature Id": "2552",
                  "Importances": 0,
                  "_deepnote_index_column": 2654
                },
                {
                  "Feature Id": "2553",
                  "Importances": 0,
                  "_deepnote_index_column": 2655
                },
                {
                  "Feature Id": "2554",
                  "Importances": 0,
                  "_deepnote_index_column": 2656
                },
                {
                  "Feature Id": "2555",
                  "Importances": 0,
                  "_deepnote_index_column": 2657
                },
                {
                  "Feature Id": "2556",
                  "Importances": 0,
                  "_deepnote_index_column": 2658
                },
                {
                  "Feature Id": "2557",
                  "Importances": 0,
                  "_deepnote_index_column": 2659
                },
                {
                  "Feature Id": "2559",
                  "Importances": 0,
                  "_deepnote_index_column": 2660
                },
                {
                  "Feature Id": "2560",
                  "Importances": 0,
                  "_deepnote_index_column": 2661
                },
                {
                  "Feature Id": "2561",
                  "Importances": 0,
                  "_deepnote_index_column": 2662
                },
                {
                  "Feature Id": "2562",
                  "Importances": 0,
                  "_deepnote_index_column": 2663
                },
                {
                  "Feature Id": "2563",
                  "Importances": 0,
                  "_deepnote_index_column": 2664
                },
                {
                  "Feature Id": "2564",
                  "Importances": 0,
                  "_deepnote_index_column": 2665
                },
                {
                  "Feature Id": "2567",
                  "Importances": 0,
                  "_deepnote_index_column": 2666
                },
                {
                  "Feature Id": "2568",
                  "Importances": 0,
                  "_deepnote_index_column": 2667
                },
                {
                  "Feature Id": "2570",
                  "Importances": 0,
                  "_deepnote_index_column": 2668
                },
                {
                  "Feature Id": "2571",
                  "Importances": 0,
                  "_deepnote_index_column": 2669
                },
                {
                  "Feature Id": "2572",
                  "Importances": 0,
                  "_deepnote_index_column": 2670
                },
                {
                  "Feature Id": "2573",
                  "Importances": 0,
                  "_deepnote_index_column": 2671
                },
                {
                  "Feature Id": "2574",
                  "Importances": 0,
                  "_deepnote_index_column": 2672
                },
                {
                  "Feature Id": "2575",
                  "Importances": 0,
                  "_deepnote_index_column": 2673
                },
                {
                  "Feature Id": "2576",
                  "Importances": 0,
                  "_deepnote_index_column": 2674
                },
                {
                  "Feature Id": "2577",
                  "Importances": 0,
                  "_deepnote_index_column": 2675
                },
                {
                  "Feature Id": "2579",
                  "Importances": 0,
                  "_deepnote_index_column": 2676
                },
                {
                  "Feature Id": "2580",
                  "Importances": 0,
                  "_deepnote_index_column": 2677
                },
                {
                  "Feature Id": "2583",
                  "Importances": 0,
                  "_deepnote_index_column": 2678
                },
                {
                  "Feature Id": "2584",
                  "Importances": 0,
                  "_deepnote_index_column": 2679
                },
                {
                  "Feature Id": "2585",
                  "Importances": 0,
                  "_deepnote_index_column": 2680
                },
                {
                  "Feature Id": "2586",
                  "Importances": 0,
                  "_deepnote_index_column": 2681
                },
                {
                  "Feature Id": "2587",
                  "Importances": 0,
                  "_deepnote_index_column": 2682
                },
                {
                  "Feature Id": "2589",
                  "Importances": 0,
                  "_deepnote_index_column": 2683
                },
                {
                  "Feature Id": "2592",
                  "Importances": 0,
                  "_deepnote_index_column": 2684
                },
                {
                  "Feature Id": "2593",
                  "Importances": 0,
                  "_deepnote_index_column": 2685
                },
                {
                  "Feature Id": "2594",
                  "Importances": 0,
                  "_deepnote_index_column": 2686
                },
                {
                  "Feature Id": "2595",
                  "Importances": 0,
                  "_deepnote_index_column": 2687
                },
                {
                  "Feature Id": "2596",
                  "Importances": 0,
                  "_deepnote_index_column": 2688
                },
                {
                  "Feature Id": "2598",
                  "Importances": 0,
                  "_deepnote_index_column": 2689
                },
                {
                  "Feature Id": "2599",
                  "Importances": 0,
                  "_deepnote_index_column": 2690
                },
                {
                  "Feature Id": "2601",
                  "Importances": 0,
                  "_deepnote_index_column": 2691
                },
                {
                  "Feature Id": "2602",
                  "Importances": 0,
                  "_deepnote_index_column": 2692
                },
                {
                  "Feature Id": "2603",
                  "Importances": 0,
                  "_deepnote_index_column": 2693
                },
                {
                  "Feature Id": "2604",
                  "Importances": 0,
                  "_deepnote_index_column": 2694
                },
                {
                  "Feature Id": "2606",
                  "Importances": 0,
                  "_deepnote_index_column": 2695
                },
                {
                  "Feature Id": "2607",
                  "Importances": 0,
                  "_deepnote_index_column": 2696
                },
                {
                  "Feature Id": "2609",
                  "Importances": 0,
                  "_deepnote_index_column": 2697
                },
                {
                  "Feature Id": "2610",
                  "Importances": 0,
                  "_deepnote_index_column": 2698
                },
                {
                  "Feature Id": "2611",
                  "Importances": 0,
                  "_deepnote_index_column": 2699
                },
                {
                  "Feature Id": "2612",
                  "Importances": 0,
                  "_deepnote_index_column": 2700
                },
                {
                  "Feature Id": "2614",
                  "Importances": 0,
                  "_deepnote_index_column": 2701
                },
                {
                  "Feature Id": "2615",
                  "Importances": 0,
                  "_deepnote_index_column": 2702
                },
                {
                  "Feature Id": "2617",
                  "Importances": 0,
                  "_deepnote_index_column": 2703
                },
                {
                  "Feature Id": "2618",
                  "Importances": 0,
                  "_deepnote_index_column": 2704
                },
                {
                  "Feature Id": "2619",
                  "Importances": 0,
                  "_deepnote_index_column": 2705
                },
                {
                  "Feature Id": "2623",
                  "Importances": 0,
                  "_deepnote_index_column": 2706
                },
                {
                  "Feature Id": "2627",
                  "Importances": 0,
                  "_deepnote_index_column": 2707
                },
                {
                  "Feature Id": "2628",
                  "Importances": 0,
                  "_deepnote_index_column": 2708
                },
                {
                  "Feature Id": "2634",
                  "Importances": 0,
                  "_deepnote_index_column": 2709
                },
                {
                  "Feature Id": "2635",
                  "Importances": 0,
                  "_deepnote_index_column": 2710
                },
                {
                  "Feature Id": "2636",
                  "Importances": 0,
                  "_deepnote_index_column": 2711
                },
                {
                  "Feature Id": "2637",
                  "Importances": 0,
                  "_deepnote_index_column": 2712
                },
                {
                  "Feature Id": "2638",
                  "Importances": 0,
                  "_deepnote_index_column": 2713
                },
                {
                  "Feature Id": "2639",
                  "Importances": 0,
                  "_deepnote_index_column": 2714
                },
                {
                  "Feature Id": "2641",
                  "Importances": 0,
                  "_deepnote_index_column": 2715
                },
                {
                  "Feature Id": "2642",
                  "Importances": 0,
                  "_deepnote_index_column": 2716
                },
                {
                  "Feature Id": "2643",
                  "Importances": 0,
                  "_deepnote_index_column": 2717
                },
                {
                  "Feature Id": "2646",
                  "Importances": 0,
                  "_deepnote_index_column": 2718
                },
                {
                  "Feature Id": "2648",
                  "Importances": 0,
                  "_deepnote_index_column": 2719
                },
                {
                  "Feature Id": "2649",
                  "Importances": 0,
                  "_deepnote_index_column": 2720
                },
                {
                  "Feature Id": "2652",
                  "Importances": 0,
                  "_deepnote_index_column": 2721
                },
                {
                  "Feature Id": "2654",
                  "Importances": 0,
                  "_deepnote_index_column": 2722
                },
                {
                  "Feature Id": "2656",
                  "Importances": 0,
                  "_deepnote_index_column": 2723
                },
                {
                  "Feature Id": "2657",
                  "Importances": 0,
                  "_deepnote_index_column": 2724
                },
                {
                  "Feature Id": "2658",
                  "Importances": 0,
                  "_deepnote_index_column": 2725
                },
                {
                  "Feature Id": "2659",
                  "Importances": 0,
                  "_deepnote_index_column": 2726
                },
                {
                  "Feature Id": "2660",
                  "Importances": 0,
                  "_deepnote_index_column": 2727
                },
                {
                  "Feature Id": "2661",
                  "Importances": 0,
                  "_deepnote_index_column": 2728
                },
                {
                  "Feature Id": "2663",
                  "Importances": 0,
                  "_deepnote_index_column": 2729
                },
                {
                  "Feature Id": "2664",
                  "Importances": 0,
                  "_deepnote_index_column": 2730
                },
                {
                  "Feature Id": "2665",
                  "Importances": 0,
                  "_deepnote_index_column": 2731
                },
                {
                  "Feature Id": "2666",
                  "Importances": 0,
                  "_deepnote_index_column": 2732
                },
                {
                  "Feature Id": "2667",
                  "Importances": 0,
                  "_deepnote_index_column": 2733
                },
                {
                  "Feature Id": "2669",
                  "Importances": 0,
                  "_deepnote_index_column": 2734
                },
                {
                  "Feature Id": "2670",
                  "Importances": 0,
                  "_deepnote_index_column": 2735
                },
                {
                  "Feature Id": "2671",
                  "Importances": 0,
                  "_deepnote_index_column": 2736
                },
                {
                  "Feature Id": "2672",
                  "Importances": 0,
                  "_deepnote_index_column": 2737
                },
                {
                  "Feature Id": "2673",
                  "Importances": 0,
                  "_deepnote_index_column": 2738
                },
                {
                  "Feature Id": "2674",
                  "Importances": 0,
                  "_deepnote_index_column": 2739
                },
                {
                  "Feature Id": "2675",
                  "Importances": 0,
                  "_deepnote_index_column": 2740
                },
                {
                  "Feature Id": "2676",
                  "Importances": 0,
                  "_deepnote_index_column": 2741
                },
                {
                  "Feature Id": "2677",
                  "Importances": 0,
                  "_deepnote_index_column": 2742
                },
                {
                  "Feature Id": "2678",
                  "Importances": 0,
                  "_deepnote_index_column": 2743
                },
                {
                  "Feature Id": "2679",
                  "Importances": 0,
                  "_deepnote_index_column": 2744
                },
                {
                  "Feature Id": "2680",
                  "Importances": 0,
                  "_deepnote_index_column": 2745
                },
                {
                  "Feature Id": "2681",
                  "Importances": 0,
                  "_deepnote_index_column": 2746
                },
                {
                  "Feature Id": "2683",
                  "Importances": 0,
                  "_deepnote_index_column": 2747
                },
                {
                  "Feature Id": "2684",
                  "Importances": 0,
                  "_deepnote_index_column": 2748
                },
                {
                  "Feature Id": "2685",
                  "Importances": 0,
                  "_deepnote_index_column": 2749
                },
                {
                  "Feature Id": "2686",
                  "Importances": 0,
                  "_deepnote_index_column": 2750
                },
                {
                  "Feature Id": "2688",
                  "Importances": 0,
                  "_deepnote_index_column": 2751
                },
                {
                  "Feature Id": "2689",
                  "Importances": 0,
                  "_deepnote_index_column": 2752
                },
                {
                  "Feature Id": "2690",
                  "Importances": 0,
                  "_deepnote_index_column": 2753
                },
                {
                  "Feature Id": "2691",
                  "Importances": 0,
                  "_deepnote_index_column": 2754
                },
                {
                  "Feature Id": "2692",
                  "Importances": 0,
                  "_deepnote_index_column": 2755
                },
                {
                  "Feature Id": "2693",
                  "Importances": 0,
                  "_deepnote_index_column": 2756
                },
                {
                  "Feature Id": "2694",
                  "Importances": 0,
                  "_deepnote_index_column": 2757
                },
                {
                  "Feature Id": "2695",
                  "Importances": 0,
                  "_deepnote_index_column": 2758
                },
                {
                  "Feature Id": "2696",
                  "Importances": 0,
                  "_deepnote_index_column": 2759
                },
                {
                  "Feature Id": "2697",
                  "Importances": 0,
                  "_deepnote_index_column": 2760
                },
                {
                  "Feature Id": "2698",
                  "Importances": 0,
                  "_deepnote_index_column": 2761
                },
                {
                  "Feature Id": "2699",
                  "Importances": 0,
                  "_deepnote_index_column": 2762
                },
                {
                  "Feature Id": "2701",
                  "Importances": 0,
                  "_deepnote_index_column": 2763
                },
                {
                  "Feature Id": "2702",
                  "Importances": 0,
                  "_deepnote_index_column": 2764
                },
                {
                  "Feature Id": "2703",
                  "Importances": 0,
                  "_deepnote_index_column": 2765
                },
                {
                  "Feature Id": "2704",
                  "Importances": 0,
                  "_deepnote_index_column": 2766
                },
                {
                  "Feature Id": "2705",
                  "Importances": 0,
                  "_deepnote_index_column": 2767
                },
                {
                  "Feature Id": "2706",
                  "Importances": 0,
                  "_deepnote_index_column": 2768
                },
                {
                  "Feature Id": "2707",
                  "Importances": 0,
                  "_deepnote_index_column": 2769
                },
                {
                  "Feature Id": "2708",
                  "Importances": 0,
                  "_deepnote_index_column": 2770
                },
                {
                  "Feature Id": "2710",
                  "Importances": 0,
                  "_deepnote_index_column": 2771
                },
                {
                  "Feature Id": "2711",
                  "Importances": 0,
                  "_deepnote_index_column": 2772
                },
                {
                  "Feature Id": "2712",
                  "Importances": 0,
                  "_deepnote_index_column": 2773
                },
                {
                  "Feature Id": "2713",
                  "Importances": 0,
                  "_deepnote_index_column": 2774
                },
                {
                  "Feature Id": "2714",
                  "Importances": 0,
                  "_deepnote_index_column": 2775
                },
                {
                  "Feature Id": "2715",
                  "Importances": 0,
                  "_deepnote_index_column": 2776
                },
                {
                  "Feature Id": "2716",
                  "Importances": 0,
                  "_deepnote_index_column": 2777
                },
                {
                  "Feature Id": "2718",
                  "Importances": 0,
                  "_deepnote_index_column": 2778
                },
                {
                  "Feature Id": "2723",
                  "Importances": 0,
                  "_deepnote_index_column": 2779
                },
                {
                  "Feature Id": "2727",
                  "Importances": 0,
                  "_deepnote_index_column": 2780
                },
                {
                  "Feature Id": "2733",
                  "Importances": 0,
                  "_deepnote_index_column": 2781
                },
                {
                  "Feature Id": "2736",
                  "Importances": 0,
                  "_deepnote_index_column": 2782
                },
                {
                  "Feature Id": "2737",
                  "Importances": 0,
                  "_deepnote_index_column": 2783
                },
                {
                  "Feature Id": "2739",
                  "Importances": 0,
                  "_deepnote_index_column": 2784
                },
                {
                  "Feature Id": "2743",
                  "Importances": 0,
                  "_deepnote_index_column": 2785
                },
                {
                  "Feature Id": "2744",
                  "Importances": 0,
                  "_deepnote_index_column": 2786
                },
                {
                  "Feature Id": "2745",
                  "Importances": 0,
                  "_deepnote_index_column": 2787
                },
                {
                  "Feature Id": "2747",
                  "Importances": 0,
                  "_deepnote_index_column": 2788
                },
                {
                  "Feature Id": "2753",
                  "Importances": 0,
                  "_deepnote_index_column": 2789
                },
                {
                  "Feature Id": "2754",
                  "Importances": 0,
                  "_deepnote_index_column": 2790
                },
                {
                  "Feature Id": "2757",
                  "Importances": 0,
                  "_deepnote_index_column": 2791
                },
                {
                  "Feature Id": "2758",
                  "Importances": 0,
                  "_deepnote_index_column": 2792
                },
                {
                  "Feature Id": "2759",
                  "Importances": 0,
                  "_deepnote_index_column": 2793
                },
                {
                  "Feature Id": "2761",
                  "Importances": 0,
                  "_deepnote_index_column": 2794
                },
                {
                  "Feature Id": "2772",
                  "Importances": 0,
                  "_deepnote_index_column": 2795
                },
                {
                  "Feature Id": "2774",
                  "Importances": 0,
                  "_deepnote_index_column": 2796
                },
                {
                  "Feature Id": "2776",
                  "Importances": 0,
                  "_deepnote_index_column": 2797
                },
                {
                  "Feature Id": "2777",
                  "Importances": 0,
                  "_deepnote_index_column": 2798
                },
                {
                  "Feature Id": "2778",
                  "Importances": 0,
                  "_deepnote_index_column": 2799
                },
                {
                  "Feature Id": "2779",
                  "Importances": 0,
                  "_deepnote_index_column": 2800
                },
                {
                  "Feature Id": "2780",
                  "Importances": 0,
                  "_deepnote_index_column": 2801
                },
                {
                  "Feature Id": "2781",
                  "Importances": 0,
                  "_deepnote_index_column": 2802
                },
                {
                  "Feature Id": "2783",
                  "Importances": 0,
                  "_deepnote_index_column": 2803
                },
                {
                  "Feature Id": "2784",
                  "Importances": 0,
                  "_deepnote_index_column": 2804
                },
                {
                  "Feature Id": "2785",
                  "Importances": 0,
                  "_deepnote_index_column": 2805
                },
                {
                  "Feature Id": "2786",
                  "Importances": 0,
                  "_deepnote_index_column": 2806
                },
                {
                  "Feature Id": "2787",
                  "Importances": 0,
                  "_deepnote_index_column": 2807
                },
                {
                  "Feature Id": "2788",
                  "Importances": 0,
                  "_deepnote_index_column": 2808
                },
                {
                  "Feature Id": "2789",
                  "Importances": 0,
                  "_deepnote_index_column": 2809
                },
                {
                  "Feature Id": "2791",
                  "Importances": 0,
                  "_deepnote_index_column": 2810
                },
                {
                  "Feature Id": "2792",
                  "Importances": 0,
                  "_deepnote_index_column": 2811
                },
                {
                  "Feature Id": "2793",
                  "Importances": 0,
                  "_deepnote_index_column": 2812
                },
                {
                  "Feature Id": "2795",
                  "Importances": 0,
                  "_deepnote_index_column": 2813
                },
                {
                  "Feature Id": "2798",
                  "Importances": 0,
                  "_deepnote_index_column": 2814
                },
                {
                  "Feature Id": "2799",
                  "Importances": 0,
                  "_deepnote_index_column": 2815
                },
                {
                  "Feature Id": "2801",
                  "Importances": 0,
                  "_deepnote_index_column": 2816
                },
                {
                  "Feature Id": "2805",
                  "Importances": 0,
                  "_deepnote_index_column": 2817
                },
                {
                  "Feature Id": "2807",
                  "Importances": 0,
                  "_deepnote_index_column": 2818
                },
                {
                  "Feature Id": "2808",
                  "Importances": 0,
                  "_deepnote_index_column": 2819
                },
                {
                  "Feature Id": "2809",
                  "Importances": 0,
                  "_deepnote_index_column": 2820
                },
                {
                  "Feature Id": "2810",
                  "Importances": 0,
                  "_deepnote_index_column": 2821
                },
                {
                  "Feature Id": "2811",
                  "Importances": 0,
                  "_deepnote_index_column": 2822
                },
                {
                  "Feature Id": "2818",
                  "Importances": 0,
                  "_deepnote_index_column": 2823
                },
                {
                  "Feature Id": "2820",
                  "Importances": 0,
                  "_deepnote_index_column": 2824
                },
                {
                  "Feature Id": "2821",
                  "Importances": 0,
                  "_deepnote_index_column": 2825
                },
                {
                  "Feature Id": "2823",
                  "Importances": 0,
                  "_deepnote_index_column": 2826
                },
                {
                  "Feature Id": "2824",
                  "Importances": 0,
                  "_deepnote_index_column": 2827
                },
                {
                  "Feature Id": "2825",
                  "Importances": 0,
                  "_deepnote_index_column": 2828
                },
                {
                  "Feature Id": "2826",
                  "Importances": 0,
                  "_deepnote_index_column": 2829
                },
                {
                  "Feature Id": "2827",
                  "Importances": 0,
                  "_deepnote_index_column": 2830
                },
                {
                  "Feature Id": "2828",
                  "Importances": 0,
                  "_deepnote_index_column": 2831
                },
                {
                  "Feature Id": "2830",
                  "Importances": 0,
                  "_deepnote_index_column": 2832
                },
                {
                  "Feature Id": "2831",
                  "Importances": 0,
                  "_deepnote_index_column": 2833
                }
              ]
            },
            "text/plain": "     Feature Id  Importances\n0          2184    28.928688\n1           672     1.648304\n2          1687     1.583237\n3           833     1.455189\n4          1656     1.437726\n...         ...          ...\n2829       2826     0.000000\n2830       2827     0.000000\n2831       2828     0.000000\n2832       2830     0.000000\n2833       2831     0.000000\n\n[2834 rows x 2 columns]",
            "text/html": "<div>\n<style scoped>\n    .dataframe tbody tr th:only-of-type {\n        vertical-align: middle;\n    }\n\n    .dataframe tbody tr th {\n        vertical-align: top;\n    }\n\n    .dataframe thead th {\n        text-align: right;\n    }\n</style>\n<table border=\"1\" class=\"dataframe\">\n  <thead>\n    <tr style=\"text-align: right;\">\n      <th></th>\n      <th>Feature Id</th>\n      <th>Importances</th>\n    </tr>\n  </thead>\n  <tbody>\n    <tr>\n      <th>0</th>\n      <td>2184</td>\n      <td>28.928688</td>\n    </tr>\n    <tr>\n      <th>1</th>\n      <td>672</td>\n      <td>1.648304</td>\n    </tr>\n    <tr>\n      <th>2</th>\n      <td>1687</td>\n      <td>1.583237</td>\n    </tr>\n    <tr>\n      <th>3</th>\n      <td>833</td>\n      <td>1.455189</td>\n    </tr>\n    <tr>\n      <th>4</th>\n      <td>1656</td>\n      <td>1.437726</td>\n    </tr>\n    <tr>\n      <th>...</th>\n      <td>...</td>\n      <td>...</td>\n    </tr>\n    <tr>\n      <th>2829</th>\n      <td>2826</td>\n      <td>0.000000</td>\n    </tr>\n    <tr>\n      <th>2830</th>\n      <td>2827</td>\n      <td>0.000000</td>\n    </tr>\n    <tr>\n      <th>2831</th>\n      <td>2828</td>\n      <td>0.000000</td>\n    </tr>\n    <tr>\n      <th>2832</th>\n      <td>2830</td>\n      <td>0.000000</td>\n    </tr>\n    <tr>\n      <th>2833</th>\n      <td>2831</td>\n      <td>0.000000</td>\n    </tr>\n  </tbody>\n</table>\n<p>2834 rows × 2 columns</p>\n</div>"
          },
          "metadata": {}
        }
      ]
    },
    {
      "cell_type": "code",
      "source": "FCBC = cb.CatBoostClassifier(**CBC_grid.params)\nFCBC.fit(train_set)",
      "metadata": {
        "tags": [],
        "cell_id": "00015-586065dc-0c85-4fa4-b4d1-eba74027f0d5",
        "deepnote_cell_type": "code"
      },
      "outputs": [],
      "execution_count": null
    },
    {
      "cell_type": "code",
      "metadata": {
        "tags": [],
        "cell_id": "00018-a2d70c85-db38-4cd9-9314-bc3ccb0bec22",
        "deepnote_to_be_reexecuted": true,
        "source_hash": "56523c20",
        "execution_millis": 0,
        "deepnote_cell_type": "code"
      },
      "source": "final_y_preds = FCBC.predict(eval_set)\nfinal_y_preds = np.reshape(y_preds, y_val.values.shape)",
      "execution_count": null,
      "outputs": []
    },
    {
      "cell_type": "code",
      "metadata": {
        "tags": [],
        "cell_id": "00020-d1ac2e68-2cae-4abf-8042-5f7f6ad733be",
        "deepnote_to_be_reexecuted": true,
        "source_hash": "c2a9f539",
        "execution_millis": 23,
        "deepnote_cell_type": "code"
      },
      "source": "f\"{round(100 - len(*np.nonzero(y_preds - y_val.values)) / len(y_preds) * 100)}% Accuracy\"",
      "execution_count": null,
      "outputs": [
        {
          "output_type": "execute_result",
          "execution_count": 64,
          "data": {
            "text/plain": "'79% Accuracy'"
          },
          "metadata": {}
        }
      ]
    },
    {
      "cell_type": "code",
      "metadata": {
        "tags": [],
        "cell_id": "00018-f7c9a053-6784-47a2-811b-7c5a4d4aebc8",
        "deepnote_to_be_reexecuted": true,
        "source_hash": "544a0556",
        "deepnote_cell_type": "code"
      },
      "source": "# my_best_model.save_model('catboost_model.bin')",
      "execution_count": null,
      "outputs": []
    },
    {
      "cell_type": "markdown",
      "source": "### Default CatBoost Test",
      "metadata": {
        "tags": [],
        "cell_id": "00021-44552d57-c330-467d-ad0f-716a87a94760",
        "deepnote_cell_type": "markdown"
      }
    },
    {
      "cell_type": "code",
      "metadata": {
        "tags": [],
        "cell_id": "00021-fb421c82-f937-43a6-af6f-96f89ebee882",
        "deepnote_to_be_reexecuted": false,
        "source_hash": "8bf7fa6a",
        "execution_millis": 1,
        "execution_start": 1618143960066,
        "deepnote_cell_type": "code"
      },
      "source": "default_CBC = cb.CatBoostClassifier()",
      "execution_count": null,
      "outputs": []
    },
    {
      "cell_type": "code",
      "metadata": {
        "tags": [],
        "cell_id": "00023-7efe7c1c-bb16-4ceb-9448-d2e089a6b6f2",
        "deepnote_to_be_reexecuted": false,
        "source_hash": "14adbf4d",
        "execution_millis": 7511,
        "execution_start": 1618143960704,
        "deepnote_cell_type": "code"
      },
      "source": "default_CBC.fit(\n    train_set,\n    eval_set=(X_val, y_val),\n    verbose=False,\n)",
      "execution_count": null,
      "outputs": [
        {
          "output_type": "error",
          "ename": "KeyboardInterrupt",
          "evalue": "",
          "traceback": [
            "\u001b[0;31m---------------------------------------------------------------------------\u001b[0m",
            "\u001b[0;31mKeyboardInterrupt\u001b[0m                         Traceback (most recent call last)",
            "\u001b[0;32m<ipython-input-21-e76fc7b522e6>\u001b[0m in \u001b[0;36m<module>\u001b[0;34m\u001b[0m\n\u001b[0;32m----> 1\u001b[0;31m default_CBC.fit(\n\u001b[0m\u001b[1;32m      2\u001b[0m     \u001b[0mtrain_set\u001b[0m\u001b[0;34m,\u001b[0m\u001b[0;34m\u001b[0m\u001b[0;34m\u001b[0m\u001b[0m\n\u001b[1;32m      3\u001b[0m     \u001b[0meval_set\u001b[0m\u001b[0;34m=\u001b[0m\u001b[0;34m(\u001b[0m\u001b[0mX_val\u001b[0m\u001b[0;34m,\u001b[0m \u001b[0my_val\u001b[0m\u001b[0;34m)\u001b[0m\u001b[0;34m,\u001b[0m\u001b[0;34m\u001b[0m\u001b[0;34m\u001b[0m\u001b[0m\n\u001b[1;32m      4\u001b[0m     \u001b[0mverbose\u001b[0m\u001b[0;34m=\u001b[0m\u001b[0;32mFalse\u001b[0m\u001b[0;34m,\u001b[0m\u001b[0;34m\u001b[0m\u001b[0;34m\u001b[0m\u001b[0m\n\u001b[1;32m      5\u001b[0m )\n",
            "\u001b[0;32m~/venv/lib/python3.8/site-packages/catboost/core.py\u001b[0m in \u001b[0;36mfit\u001b[0;34m(self, X, y, cat_features, text_features, embedding_features, sample_weight, baseline, use_best_model, eval_set, verbose, logging_level, plot, column_description, verbose_eval, metric_period, silent, early_stopping_rounds, save_snapshot, snapshot_file, snapshot_interval, init_model)\u001b[0m\n\u001b[1;32m   4537\u001b[0m             \u001b[0mself\u001b[0m\u001b[0;34m.\u001b[0m\u001b[0m_check_is_classification_objective\u001b[0m\u001b[0;34m(\u001b[0m\u001b[0mparams\u001b[0m\u001b[0;34m[\u001b[0m\u001b[0;34m'loss_function'\u001b[0m\u001b[0;34m]\u001b[0m\u001b[0;34m)\u001b[0m\u001b[0;34m\u001b[0m\u001b[0;34m\u001b[0m\u001b[0m\n\u001b[1;32m   4538\u001b[0m \u001b[0;34m\u001b[0m\u001b[0m\n\u001b[0;32m-> 4539\u001b[0;31m         self._fit(X, y, cat_features, text_features, embedding_features, None, sample_weight, None, None, None, None, baseline, use_best_model,\n\u001b[0m\u001b[1;32m   4540\u001b[0m                   \u001b[0meval_set\u001b[0m\u001b[0;34m,\u001b[0m \u001b[0mverbose\u001b[0m\u001b[0;34m,\u001b[0m \u001b[0mlogging_level\u001b[0m\u001b[0;34m,\u001b[0m \u001b[0mplot\u001b[0m\u001b[0;34m,\u001b[0m \u001b[0mcolumn_description\u001b[0m\u001b[0;34m,\u001b[0m \u001b[0mverbose_eval\u001b[0m\u001b[0;34m,\u001b[0m \u001b[0mmetric_period\u001b[0m\u001b[0;34m,\u001b[0m\u001b[0;34m\u001b[0m\u001b[0;34m\u001b[0m\u001b[0m\n\u001b[1;32m   4541\u001b[0m                   silent, early_stopping_rounds, save_snapshot, snapshot_file, snapshot_interval, init_model)\n",
            "\u001b[0;32m~/venv/lib/python3.8/site-packages/catboost/core.py\u001b[0m in \u001b[0;36m_fit\u001b[0;34m(self, X, y, cat_features, text_features, embedding_features, pairs, sample_weight, group_id, group_weight, subgroup_id, pairs_weight, baseline, use_best_model, eval_set, verbose, logging_level, plot, column_description, verbose_eval, metric_period, silent, early_stopping_rounds, save_snapshot, snapshot_file, snapshot_interval, init_model)\u001b[0m\n\u001b[1;32m   1916\u001b[0m \u001b[0;34m\u001b[0m\u001b[0m\n\u001b[1;32m   1917\u001b[0m         \u001b[0;32mwith\u001b[0m \u001b[0mlog_fixup\u001b[0m\u001b[0;34m(\u001b[0m\u001b[0;34m)\u001b[0m\u001b[0;34m,\u001b[0m \u001b[0mplot_wrapper\u001b[0m\u001b[0;34m(\u001b[0m\u001b[0mplot\u001b[0m\u001b[0;34m,\u001b[0m \u001b[0;34m[\u001b[0m\u001b[0m_get_train_dir\u001b[0m\u001b[0;34m(\u001b[0m\u001b[0mself\u001b[0m\u001b[0;34m.\u001b[0m\u001b[0mget_params\u001b[0m\u001b[0;34m(\u001b[0m\u001b[0;34m)\u001b[0m\u001b[0;34m)\u001b[0m\u001b[0;34m]\u001b[0m\u001b[0;34m)\u001b[0m\u001b[0;34m:\u001b[0m\u001b[0;34m\u001b[0m\u001b[0;34m\u001b[0m\u001b[0m\n\u001b[0;32m-> 1918\u001b[0;31m             self._train(\n\u001b[0m\u001b[1;32m   1919\u001b[0m                 \u001b[0mtrain_pool\u001b[0m\u001b[0;34m,\u001b[0m\u001b[0;34m\u001b[0m\u001b[0;34m\u001b[0m\u001b[0m\n\u001b[1;32m   1920\u001b[0m                 \u001b[0mtrain_params\u001b[0m\u001b[0;34m[\u001b[0m\u001b[0;34m\"eval_sets\"\u001b[0m\u001b[0;34m]\u001b[0m\u001b[0;34m,\u001b[0m\u001b[0;34m\u001b[0m\u001b[0;34m\u001b[0m\u001b[0m\n",
            "\u001b[0;32m~/venv/lib/python3.8/site-packages/catboost/core.py\u001b[0m in \u001b[0;36m_train\u001b[0;34m(self, train_pool, test_pool, params, allow_clear_pool, init_model)\u001b[0m\n\u001b[1;32m   1364\u001b[0m \u001b[0;34m\u001b[0m\u001b[0m\n\u001b[1;32m   1365\u001b[0m     \u001b[0;32mdef\u001b[0m \u001b[0m_train\u001b[0m\u001b[0;34m(\u001b[0m\u001b[0mself\u001b[0m\u001b[0;34m,\u001b[0m \u001b[0mtrain_pool\u001b[0m\u001b[0;34m,\u001b[0m \u001b[0mtest_pool\u001b[0m\u001b[0;34m,\u001b[0m \u001b[0mparams\u001b[0m\u001b[0;34m,\u001b[0m \u001b[0mallow_clear_pool\u001b[0m\u001b[0;34m,\u001b[0m \u001b[0minit_model\u001b[0m\u001b[0;34m)\u001b[0m\u001b[0;34m:\u001b[0m\u001b[0;34m\u001b[0m\u001b[0;34m\u001b[0m\u001b[0m\n\u001b[0;32m-> 1366\u001b[0;31m         \u001b[0mself\u001b[0m\u001b[0;34m.\u001b[0m\u001b[0m_object\u001b[0m\u001b[0;34m.\u001b[0m\u001b[0m_train\u001b[0m\u001b[0;34m(\u001b[0m\u001b[0mtrain_pool\u001b[0m\u001b[0;34m,\u001b[0m \u001b[0mtest_pool\u001b[0m\u001b[0;34m,\u001b[0m \u001b[0mparams\u001b[0m\u001b[0;34m,\u001b[0m \u001b[0mallow_clear_pool\u001b[0m\u001b[0;34m,\u001b[0m \u001b[0minit_model\u001b[0m\u001b[0;34m.\u001b[0m\u001b[0m_object\u001b[0m \u001b[0;32mif\u001b[0m \u001b[0minit_model\u001b[0m \u001b[0;32melse\u001b[0m \u001b[0;32mNone\u001b[0m\u001b[0;34m)\u001b[0m\u001b[0;34m\u001b[0m\u001b[0;34m\u001b[0m\u001b[0m\n\u001b[0m\u001b[1;32m   1367\u001b[0m         \u001b[0mself\u001b[0m\u001b[0;34m.\u001b[0m\u001b[0m_set_trained_model_attributes\u001b[0m\u001b[0;34m(\u001b[0m\u001b[0;34m)\u001b[0m\u001b[0;34m\u001b[0m\u001b[0;34m\u001b[0m\u001b[0m\n\u001b[1;32m   1368\u001b[0m \u001b[0;34m\u001b[0m\u001b[0m\n",
            "\u001b[0;32m_catboost.pyx\u001b[0m in \u001b[0;36m_catboost._CatBoost._train\u001b[0;34m()\u001b[0m\n",
            "\u001b[0;32m_catboost.pyx\u001b[0m in \u001b[0;36m_catboost._CatBoost._train\u001b[0;34m()\u001b[0m\n",
            "\u001b[0;31mKeyboardInterrupt\u001b[0m: "
          ]
        }
      ]
    },
    {
      "cell_type": "code",
      "metadata": {
        "tags": [],
        "cell_id": "00024-a07381f4-4f1a-4f5c-a9b7-062347cf04f6",
        "deepnote_to_be_reexecuted": true,
        "source_hash": "a9476739",
        "execution_millis": 5,
        "deepnote_cell_type": "code"
      },
      "source": "def_y_preds = default_CBC.predict(eval_set)\ndef_y_preds = np.reshape(def_y_preds, y_val.values.shape)",
      "execution_count": null,
      "outputs": []
    },
    {
      "cell_type": "code",
      "metadata": {
        "tags": [],
        "cell_id": "00025-c7e8c098-d27a-4dc2-9f44-6c9f10bbb23e",
        "deepnote_to_be_reexecuted": true,
        "source_hash": "c2a9f539",
        "execution_millis": 3948,
        "deepnote_cell_type": "code"
      },
      "source": "f\"{round(100 - len(*np.nonzero(y_preds - y_val.values)) / len(y_preds) * 100)}% Accuracy\"",
      "execution_count": null,
      "outputs": [
        {
          "output_type": "execute_result",
          "execution_count": 73,
          "data": {
            "text/plain": "'79% Accuracy'"
          },
          "metadata": {}
        }
      ]
    },
    {
      "cell_type": "markdown",
      "source": "### Default CatBoost Decomp",
      "metadata": {
        "tags": [],
        "cell_id": "00026-a0b2db04-e7df-4cfe-af0e-9a1316a2a07c",
        "deepnote_cell_type": "markdown"
      }
    },
    {
      "cell_type": "code",
      "metadata": {
        "tags": [],
        "cell_id": "00027-fe2a9ec6-d007-4dca-97b4-a1f4b07396e4",
        "deepnote_to_be_reexecuted": true,
        "source_hash": "20a39eef",
        "execution_millis": 8,
        "deepnote_cell_type": "code"
      },
      "source": "y_trainset.values.shape",
      "execution_count": null,
      "outputs": [
        {
          "output_type": "execute_result",
          "execution_count": 91,
          "data": {
            "text/plain": "(56,)"
          },
          "metadata": {}
        }
      ]
    },
    {
      "cell_type": "code",
      "metadata": {
        "tags": [],
        "cell_id": "00027-fb0e434d-80ad-4a9b-bc4a-5311c078b026",
        "deepnote_to_be_reexecuted": true,
        "source_hash": "6d7c9256",
        "execution_millis": 29,
        "deepnote_cell_type": "code"
      },
      "source": "y_val.values.shape",
      "execution_count": null,
      "outputs": [
        {
          "output_type": "execute_result",
          "execution_count": 94,
          "data": {
            "text/plain": "(19,)"
          },
          "metadata": {}
        }
      ]
    },
    {
      "cell_type": "code",
      "metadata": {
        "tags": [],
        "cell_id": "00026-f571fb3e-a781-4994-a9be-ea1fb18d99f7",
        "deepnote_to_be_reexecuted": true,
        "source_hash": "20e29972",
        "execution_millis": 76697,
        "deepnote_cell_type": "code"
      },
      "source": "avg_expected_loss_CBC, avg_bias_CBC, avg_var_CBC = bias_variance_decomp(\n        default_CBC, X_trainset.values, y_trainset.values, X_val, y_val, # Used .values since mlxtend extracts better from numpy arrays than pandas dfs\n        loss='0-1_loss',\n        random_seed=66)\n\nprint(f'Average expected loss: {avg_expected_loss_CBC}')\nprint(f'Average bias: {avg_bias_CBC}')\nprint(f'Average variance: {avg_var_CBC}')",
      "execution_count": null,
      "outputs": [
        {
          "name": "stdout",
          "text": "1:\tlearn: 1.0426174\ttotal: 151ms\tremaining: 1m 15s\n2:\tlearn: 1.0160193\ttotal: 230ms\tremaining: 1m 16s\n3:\tlearn: 1.0011996\ttotal: 294ms\tremaining: 1m 13s\n4:\tlearn: 0.9774458\ttotal: 381ms\tremaining: 1m 15s\n5:\tlearn: 0.9461042\ttotal: 456ms\tremaining: 1m 15s\n6:\tlearn: 0.9244746\ttotal: 529ms\tremaining: 1m 15s\n7:\tlearn: 0.9097368\ttotal: 600ms\tremaining: 1m 14s\n8:\tlearn: 0.8876313\ttotal: 676ms\tremaining: 1m 14s\n9:\tlearn: 0.8647059\ttotal: 750ms\tremaining: 1m 14s\n10:\tlearn: 0.8488065\ttotal: 829ms\tremaining: 1m 14s\n11:\tlearn: 0.8320039\ttotal: 899ms\tremaining: 1m 13s\n12:\tlearn: 0.8142801\ttotal: 981ms\tremaining: 1m 14s\n13:\tlearn: 0.7965193\ttotal: 1.06s\tremaining: 1m 14s\n14:\tlearn: 0.7805144\ttotal: 1.13s\tremaining: 1m 14s\n15:\tlearn: 0.7692651\ttotal: 1.22s\tremaining: 1m 14s\n16:\tlearn: 0.7545986\ttotal: 1.28s\tremaining: 1m 13s\n17:\tlearn: 0.7379340\ttotal: 1.35s\tremaining: 1m 13s\n18:\tlearn: 0.7162706\ttotal: 1.43s\tremaining: 1m 14s\n19:\tlearn: 0.7063683\ttotal: 1.51s\tremaining: 1m 14s\n20:\tlearn: 0.6923661\ttotal: 1.58s\tremaining: 1m 13s\n21:\tlearn: 0.6806851\ttotal: 1.67s\tremaining: 1m 14s\n22:\tlearn: 0.6706343\ttotal: 1.74s\tremaining: 1m 13s\n23:\tlearn: 0.6599911\ttotal: 1.8s\tremaining: 1m 13s\n24:\tlearn: 0.6474435\ttotal: 1.88s\tremaining: 1m 13s\n25:\tlearn: 0.6372493\ttotal: 1.95s\tremaining: 1m 13s\n26:\tlearn: 0.6248886\ttotal: 2.04s\tremaining: 1m 13s\n27:\tlearn: 0.6129920\ttotal: 2.12s\tremaining: 1m 13s\n28:\tlearn: 0.6000191\ttotal: 2.19s\tremaining: 1m 13s\n29:\tlearn: 0.5805727\ttotal: 2.28s\tremaining: 1m 13s\n30:\tlearn: 0.5710937\ttotal: 2.35s\tremaining: 1m 13s\n31:\tlearn: 0.5586910\ttotal: 2.42s\tremaining: 1m 13s\n32:\tlearn: 0.5509621\ttotal: 2.49s\tremaining: 1m 12s\n33:\tlearn: 0.5447737\ttotal: 2.59s\tremaining: 1m 13s\n34:\tlearn: 0.5397215\ttotal: 2.65s\tremaining: 1m 13s\n35:\tlearn: 0.5341534\ttotal: 2.75s\tremaining: 1m 13s\n36:\tlearn: 0.5268626\ttotal: 2.85s\tremaining: 1m 14s\n37:\tlearn: 0.5184568\ttotal: 2.95s\tremaining: 1m 14s\n38:\tlearn: 0.5094431\ttotal: 3.03s\tremaining: 1m 14s\n39:\tlearn: 0.4988471\ttotal: 3.12s\tremaining: 1m 14s\n40:\tlearn: 0.4938114\ttotal: 3.19s\tremaining: 1m 14s\n41:\tlearn: 0.4819373\ttotal: 3.26s\tremaining: 1m 14s\n42:\tlearn: 0.4746443\ttotal: 3.34s\tremaining: 1m 14s\n43:\tlearn: 0.4666622\ttotal: 3.42s\tremaining: 1m 14s\n44:\tlearn: 0.4577391\ttotal: 3.49s\tremaining: 1m 13s\n45:\tlearn: 0.4474085\ttotal: 3.57s\tremaining: 1m 14s\n46:\tlearn: 0.4373497\ttotal: 3.65s\tremaining: 1m 13s\n47:\tlearn: 0.4289441\ttotal: 3.72s\tremaining: 1m 13s\n48:\tlearn: 0.4218453\ttotal: 3.81s\tremaining: 1m 13s\n49:\tlearn: 0.4153841\ttotal: 3.88s\tremaining: 1m 13s\n50:\tlearn: 0.4103145\ttotal: 3.96s\tremaining: 1m 13s\n51:\tlearn: 0.4022513\ttotal: 4.03s\tremaining: 1m 13s\n52:\tlearn: 0.3958662\ttotal: 4.12s\tremaining: 1m 13s\n53:\tlearn: 0.3873241\ttotal: 4.2s\tremaining: 1m 13s\n54:\tlearn: 0.3763172\ttotal: 4.28s\tremaining: 1m 13s\n55:\tlearn: 0.3716517\ttotal: 4.37s\tremaining: 1m 13s\n56:\tlearn: 0.3657533\ttotal: 4.44s\tremaining: 1m 13s\n57:\tlearn: 0.3597256\ttotal: 4.51s\tremaining: 1m 13s\n58:\tlearn: 0.3538881\ttotal: 4.57s\tremaining: 1m 12s\n59:\tlearn: 0.3484080\ttotal: 4.66s\tremaining: 1m 12s\n60:\tlearn: 0.3427792\ttotal: 4.74s\tremaining: 1m 12s\n61:\tlearn: 0.3366472\ttotal: 4.82s\tremaining: 1m 12s\n62:\tlearn: 0.3314077\ttotal: 4.88s\tremaining: 1m 12s\n63:\tlearn: 0.3257262\ttotal: 4.96s\tremaining: 1m 12s\n64:\tlearn: 0.3218819\ttotal: 5.05s\tremaining: 1m 12s\n65:\tlearn: 0.3181381\ttotal: 5.12s\tremaining: 1m 12s\n66:\tlearn: 0.3098014\ttotal: 5.2s\tremaining: 1m 12s\n67:\tlearn: 0.3037523\ttotal: 5.27s\tremaining: 1m 12s\n68:\tlearn: 0.2955726\ttotal: 5.34s\tremaining: 1m 12s\n69:\tlearn: 0.2908748\ttotal: 5.41s\tremaining: 1m 11s\n70:\tlearn: 0.2864727\ttotal: 5.48s\tremaining: 1m 11s\n71:\tlearn: 0.2793165\ttotal: 5.57s\tremaining: 1m 11s\n72:\tlearn: 0.2739071\ttotal: 5.64s\tremaining: 1m 11s\n73:\tlearn: 0.2692264\ttotal: 5.72s\tremaining: 1m 11s\n74:\tlearn: 0.2649844\ttotal: 5.78s\tremaining: 1m 11s\n75:\tlearn: 0.2609573\ttotal: 5.86s\tremaining: 1m 11s\n76:\tlearn: 0.2568247\ttotal: 5.94s\tremaining: 1m 11s\n77:\tlearn: 0.2519305\ttotal: 5.98s\tremaining: 1m 10s\n78:\tlearn: 0.2479783\ttotal: 6.06s\tremaining: 1m 10s\n79:\tlearn: 0.2436643\ttotal: 6.13s\tremaining: 1m 10s\n80:\tlearn: 0.2399088\ttotal: 6.22s\tremaining: 1m 10s\n81:\tlearn: 0.2369402\ttotal: 6.3s\tremaining: 1m 10s\n82:\tlearn: 0.2332652\ttotal: 6.37s\tremaining: 1m 10s\n83:\tlearn: 0.2291884\ttotal: 6.45s\tremaining: 1m 10s\n84:\tlearn: 0.2248794\ttotal: 6.52s\tremaining: 1m 10s\n85:\tlearn: 0.2225715\ttotal: 6.6s\tremaining: 1m 10s\n86:\tlearn: 0.2187014\ttotal: 6.66s\tremaining: 1m 9s\n87:\tlearn: 0.2149795\ttotal: 6.75s\tremaining: 1m 9s\n88:\tlearn: 0.2121370\ttotal: 6.82s\tremaining: 1m 9s\n89:\tlearn: 0.2087689\ttotal: 6.9s\tremaining: 1m 9s\n90:\tlearn: 0.2065065\ttotal: 6.97s\tremaining: 1m 9s\n91:\tlearn: 0.2030444\ttotal: 7.06s\tremaining: 1m 9s\n92:\tlearn: 0.2005395\ttotal: 7.13s\tremaining: 1m 9s\n93:\tlearn: 0.1969151\ttotal: 7.21s\tremaining: 1m 9s\n94:\tlearn: 0.1934138\ttotal: 7.3s\tremaining: 1m 9s\n95:\tlearn: 0.1910985\ttotal: 7.36s\tremaining: 1m 9s\n96:\tlearn: 0.1880735\ttotal: 7.44s\tremaining: 1m 9s\n97:\tlearn: 0.1855076\ttotal: 7.52s\tremaining: 1m 9s\n98:\tlearn: 0.1833305\ttotal: 7.58s\tremaining: 1m 9s\n99:\tlearn: 0.1810295\ttotal: 7.65s\tremaining: 1m 8s\n100:\tlearn: 0.1780804\ttotal: 7.74s\tremaining: 1m 8s\n101:\tlearn: 0.1755587\ttotal: 7.8s\tremaining: 1m 8s\n102:\tlearn: 0.1733397\ttotal: 7.87s\tremaining: 1m 8s\n103:\tlearn: 0.1710629\ttotal: 7.96s\tremaining: 1m 8s\n104:\tlearn: 0.1686869\ttotal: 8.03s\tremaining: 1m 8s\n105:\tlearn: 0.1656392\ttotal: 8.11s\tremaining: 1m 8s\n106:\tlearn: 0.1629478\ttotal: 8.17s\tremaining: 1m 8s\n107:\tlearn: 0.1607182\ttotal: 8.25s\tremaining: 1m 8s\n108:\tlearn: 0.1590144\ttotal: 8.32s\tremaining: 1m 8s\n109:\tlearn: 0.1562469\ttotal: 8.4s\tremaining: 1m 8s\n110:\tlearn: 0.1542125\ttotal: 8.47s\tremaining: 1m 7s\n111:\tlearn: 0.1524273\ttotal: 8.54s\tremaining: 1m 7s\n112:\tlearn: 0.1510153\ttotal: 8.62s\tremaining: 1m 7s\n113:\tlearn: 0.1481616\ttotal: 8.7s\tremaining: 1m 7s\n114:\tlearn: 0.1464574\ttotal: 8.76s\tremaining: 1m 7s\n115:\tlearn: 0.1451131\ttotal: 8.84s\tremaining: 1m 7s\n116:\tlearn: 0.1435912\ttotal: 8.92s\tremaining: 1m 7s\n117:\tlearn: 0.1407827\ttotal: 9s\tremaining: 1m 7s\n118:\tlearn: 0.1391129\ttotal: 9.09s\tremaining: 1m 7s\n119:\tlearn: 0.1372706\ttotal: 9.16s\tremaining: 1m 7s\n120:\tlearn: 0.1357910\ttotal: 9.24s\tremaining: 1m 7s\n121:\tlearn: 0.1343737\ttotal: 9.31s\tremaining: 1m 7s\n122:\tlearn: 0.1331277\ttotal: 9.4s\tremaining: 1m 7s\n123:\tlearn: 0.1313764\ttotal: 9.46s\tremaining: 1m 6s\n124:\tlearn: 0.1298283\ttotal: 9.54s\tremaining: 1m 6s\n125:\tlearn: 0.1283712\ttotal: 9.61s\tremaining: 1m 6s\n126:\tlearn: 0.1273062\ttotal: 9.69s\tremaining: 1m 6s\n127:\tlearn: 0.1262016\ttotal: 9.76s\tremaining: 1m 6s\n128:\tlearn: 0.1249085\ttotal: 9.84s\tremaining: 1m 6s\n129:\tlearn: 0.1235195\ttotal: 9.91s\tremaining: 1m 6s\n130:\tlearn: 0.1222574\ttotal: 10s\tremaining: 1m 6s\n131:\tlearn: 0.1206660\ttotal: 10.1s\tremaining: 1m 6s\n132:\tlearn: 0.1196096\ttotal: 10.1s\tremaining: 1m 6s\n133:\tlearn: 0.1185145\ttotal: 10.2s\tremaining: 1m 6s\n134:\tlearn: 0.1171828\ttotal: 10.3s\tremaining: 1m 5s\n135:\tlearn: 0.1157066\ttotal: 10.4s\tremaining: 1m 5s\n136:\tlearn: 0.1143017\ttotal: 10.4s\tremaining: 1m 5s\n137:\tlearn: 0.1129994\ttotal: 10.5s\tremaining: 1m 5s\n138:\tlearn: 0.1119460\ttotal: 10.6s\tremaining: 1m 5s\n139:\tlearn: 0.1106732\ttotal: 10.7s\tremaining: 1m 5s\n140:\tlearn: 0.1095316\ttotal: 10.7s\tremaining: 1m 5s\n141:\tlearn: 0.1079186\ttotal: 10.8s\tremaining: 1m 5s\n142:\tlearn: 0.1067363\ttotal: 10.9s\tremaining: 1m 5s\n143:\tlearn: 0.1057503\ttotal: 10.9s\tremaining: 1m 5s\n144:\tlearn: 0.1046435\ttotal: 11s\tremaining: 1m 5s\n145:\tlearn: 0.1034912\ttotal: 11.1s\tremaining: 1m 4s\n146:\tlearn: 0.1027820\ttotal: 11.2s\tremaining: 1m 4s\n147:\tlearn: 0.1018249\ttotal: 11.3s\tremaining: 1m 4s\n148:\tlearn: 0.1007297\ttotal: 11.3s\tremaining: 1m 4s\n149:\tlearn: 0.0997193\ttotal: 11.4s\tremaining: 1m 4s\n150:\tlearn: 0.0986076\ttotal: 11.5s\tremaining: 1m 4s\n151:\tlearn: 0.0975154\ttotal: 11.6s\tremaining: 1m 4s\n152:\tlearn: 0.0967576\ttotal: 11.6s\tremaining: 1m 4s\n153:\tlearn: 0.0958141\ttotal: 11.7s\tremaining: 1m 4s\n154:\tlearn: 0.0949275\ttotal: 11.8s\tremaining: 1m 4s\n155:\tlearn: 0.0939625\ttotal: 11.9s\tremaining: 1m 4s\n156:\tlearn: 0.0932336\ttotal: 11.9s\tremaining: 1m 4s\n157:\tlearn: 0.0922374\ttotal: 12s\tremaining: 1m 3s\n158:\tlearn: 0.0914906\ttotal: 12.1s\tremaining: 1m 3s\n159:\tlearn: 0.0906542\ttotal: 12.2s\tremaining: 1m 3s\n160:\tlearn: 0.0897489\ttotal: 12.2s\tremaining: 1m 3s\n161:\tlearn: 0.0890219\ttotal: 12.3s\tremaining: 1m 3s\n162:\tlearn: 0.0880289\ttotal: 12.4s\tremaining: 1m 3s\n163:\tlearn: 0.0874643\ttotal: 12.5s\tremaining: 1m 3s\n164:\tlearn: 0.0866706\ttotal: 12.6s\tremaining: 1m 3s\n165:\tlearn: 0.0856982\ttotal: 12.7s\tremaining: 1m 3s\n166:\tlearn: 0.0848856\ttotal: 12.8s\tremaining: 1m 3s\n167:\tlearn: 0.0841254\ttotal: 12.8s\tremaining: 1m 3s\n168:\tlearn: 0.0834359\ttotal: 12.9s\tremaining: 1m 3s\n169:\tlearn: 0.0825939\ttotal: 13s\tremaining: 1m 3s\n170:\tlearn: 0.0818548\ttotal: 13.1s\tremaining: 1m 3s\n171:\tlearn: 0.0813088\ttotal: 13.1s\tremaining: 1m 3s\n172:\tlearn: 0.0808582\ttotal: 13.2s\tremaining: 1m 3s\n173:\tlearn: 0.0801622\ttotal: 13.3s\tremaining: 1m 3s\n174:\tlearn: 0.0796511\ttotal: 13.4s\tremaining: 1m 2s\n175:\tlearn: 0.0789085\ttotal: 13.4s\tremaining: 1m 2s\n176:\tlearn: 0.0782605\ttotal: 13.5s\tremaining: 1m 2s\n177:\tlearn: 0.0777720\ttotal: 13.6s\tremaining: 1m 2s\n178:\tlearn: 0.0770986\ttotal: 13.7s\tremaining: 1m 2s\n179:\tlearn: 0.0764768\ttotal: 13.7s\tremaining: 1m 2s\n180:\tlearn: 0.0758625\ttotal: 13.8s\tremaining: 1m 2s\n181:\tlearn: 0.0751944\ttotal: 13.9s\tremaining: 1m 2s\n182:\tlearn: 0.0746193\ttotal: 14s\tremaining: 1m 2s\n183:\tlearn: 0.0739088\ttotal: 14s\tremaining: 1m 2s\n184:\tlearn: 0.0733721\ttotal: 14.1s\tremaining: 1m 2s\n185:\tlearn: 0.0727331\ttotal: 14.2s\tremaining: 1m 2s\n186:\tlearn: 0.0722211\ttotal: 14.3s\tremaining: 1m 2s\n187:\tlearn: 0.0716295\ttotal: 14.4s\tremaining: 1m 2s\n188:\tlearn: 0.0712080\ttotal: 14.5s\tremaining: 1m 2s\n189:\tlearn: 0.0707681\ttotal: 14.5s\tremaining: 1m 1s\n190:\tlearn: 0.0702351\ttotal: 14.6s\tremaining: 1m 1s\n191:\tlearn: 0.0694971\ttotal: 14.7s\tremaining: 1m 1s\n192:\tlearn: 0.0690389\ttotal: 14.8s\tremaining: 1m 1s\n193:\tlearn: 0.0686381\ttotal: 14.8s\tremaining: 1m 1s\n194:\tlearn: 0.0680934\ttotal: 14.9s\tremaining: 1m 1s\n195:\tlearn: 0.0674620\ttotal: 15s\tremaining: 1m 1s\n196:\tlearn: 0.0670185\ttotal: 15.1s\tremaining: 1m 1s\n197:\tlearn: 0.0666103\ttotal: 15.1s\tremaining: 1m 1s\n198:\tlearn: 0.0658807\ttotal: 15.2s\tremaining: 1m 1s\n199:\tlearn: 0.0654177\ttotal: 15.3s\tremaining: 1m 1s\n200:\tlearn: 0.0649633\ttotal: 15.4s\tremaining: 1m 1s\n201:\tlearn: 0.0644896\ttotal: 15.4s\tremaining: 1m\n202:\tlearn: 0.0640810\ttotal: 15.5s\tremaining: 1m\n203:\tlearn: 0.0635765\ttotal: 15.6s\tremaining: 1m\n204:\tlearn: 0.0631274\ttotal: 15.7s\tremaining: 1m\n205:\tlearn: 0.0627271\ttotal: 15.7s\tremaining: 1m\n206:\tlearn: 0.0624437\ttotal: 15.8s\tremaining: 1m\n207:\tlearn: 0.0619916\ttotal: 15.9s\tremaining: 1m\n208:\tlearn: 0.0614757\ttotal: 15.9s\tremaining: 1m\n209:\tlearn: 0.0609828\ttotal: 16s\tremaining: 1m\n210:\tlearn: 0.0605477\ttotal: 16.1s\tremaining: 1m\n211:\tlearn: 0.0601824\ttotal: 16.2s\tremaining: 1m\n212:\tlearn: 0.0598464\ttotal: 16.2s\tremaining: 1m\n213:\tlearn: 0.0595485\ttotal: 16.3s\tremaining: 60s\n214:\tlearn: 0.0592335\ttotal: 16.4s\tremaining: 59.9s\n215:\tlearn: 0.0588331\ttotal: 16.5s\tremaining: 59.8s\n216:\tlearn: 0.0585514\ttotal: 16.5s\tremaining: 59.7s\n217:\tlearn: 0.0581779\ttotal: 16.6s\tremaining: 59.6s\n218:\tlearn: 0.0578584\ttotal: 16.7s\tremaining: 59.6s\n219:\tlearn: 0.0575341\ttotal: 16.8s\tremaining: 59.5s\n220:\tlearn: 0.0570712\ttotal: 16.8s\tremaining: 59.4s\n221:\tlearn: 0.0566971\ttotal: 16.9s\tremaining: 59.3s\n222:\tlearn: 0.0564127\ttotal: 17s\tremaining: 59.3s\n223:\tlearn: 0.0560612\ttotal: 17.1s\tremaining: 59.2s\n224:\tlearn: 0.0557547\ttotal: 17.2s\tremaining: 59.1s\n225:\tlearn: 0.0554377\ttotal: 17.2s\tremaining: 59s\n226:\tlearn: 0.0552084\ttotal: 17.3s\tremaining: 58.9s\n227:\tlearn: 0.0549391\ttotal: 17.4s\tremaining: 58.8s\n228:\tlearn: 0.0545880\ttotal: 17.4s\tremaining: 58.7s\n229:\tlearn: 0.0542449\ttotal: 17.5s\tremaining: 58.7s\n230:\tlearn: 0.0539462\ttotal: 17.6s\tremaining: 58.6s\n231:\tlearn: 0.0536433\ttotal: 17.7s\tremaining: 58.6s\n232:\tlearn: 0.0533771\ttotal: 17.8s\tremaining: 58.5s\n233:\tlearn: 0.0530506\ttotal: 17.8s\tremaining: 58.4s\n234:\tlearn: 0.0528067\ttotal: 17.9s\tremaining: 58.3s\n235:\tlearn: 0.0523890\ttotal: 18s\tremaining: 58.2s\n236:\tlearn: 0.0520793\ttotal: 18.1s\tremaining: 58.1s\n237:\tlearn: 0.0518362\ttotal: 18.1s\tremaining: 58s\n238:\tlearn: 0.0515647\ttotal: 18.2s\tremaining: 58s\n239:\tlearn: 0.0513018\ttotal: 18.3s\tremaining: 57.9s\n240:\tlearn: 0.0509387\ttotal: 18.4s\tremaining: 57.9s\n241:\tlearn: 0.0506883\ttotal: 18.4s\tremaining: 57.7s\n242:\tlearn: 0.0504441\ttotal: 18.5s\tremaining: 57.7s\n243:\tlearn: 0.0501196\ttotal: 18.6s\tremaining: 57.6s\n244:\tlearn: 0.0498612\ttotal: 18.7s\tremaining: 57.6s\n245:\tlearn: 0.0495924\ttotal: 18.8s\tremaining: 57.5s\n246:\tlearn: 0.0493030\ttotal: 18.8s\tremaining: 57.4s\n247:\tlearn: 0.0489474\ttotal: 18.9s\tremaining: 57.3s\n248:\tlearn: 0.0487238\ttotal: 19s\tremaining: 57.3s\n249:\tlearn: 0.0484623\ttotal: 19.1s\tremaining: 57.2s\n250:\tlearn: 0.0481634\ttotal: 19.1s\tremaining: 57.1s\n251:\tlearn: 0.0478774\ttotal: 19.2s\tremaining: 57s\n252:\tlearn: 0.0476296\ttotal: 19.3s\tremaining: 56.9s\n253:\tlearn: 0.0473573\ttotal: 19.4s\tremaining: 56.8s\n254:\tlearn: 0.0470513\ttotal: 19.4s\tremaining: 56.8s\n255:\tlearn: 0.0467916\ttotal: 19.5s\tremaining: 56.7s\n256:\tlearn: 0.0464692\ttotal: 19.6s\tremaining: 56.6s\n257:\tlearn: 0.0462004\ttotal: 19.7s\tremaining: 56.5s\n258:\tlearn: 0.0459794\ttotal: 19.7s\tremaining: 56.5s\n259:\tlearn: 0.0457518\ttotal: 19.8s\tremaining: 56.4s\n260:\tlearn: 0.0454405\ttotal: 19.9s\tremaining: 56.3s\n261:\tlearn: 0.0451100\ttotal: 20s\tremaining: 56.2s\n262:\tlearn: 0.0449059\ttotal: 20s\tremaining: 56.1s\n263:\tlearn: 0.0447423\ttotal: 20.1s\tremaining: 56.1s\n264:\tlearn: 0.0445578\ttotal: 20.2s\tremaining: 56s\n265:\tlearn: 0.0444103\ttotal: 20.2s\tremaining: 55.9s\n266:\tlearn: 0.0442257\ttotal: 20.3s\tremaining: 55.8s\n267:\tlearn: 0.0440016\ttotal: 20.4s\tremaining: 55.8s\n268:\tlearn: 0.0437511\ttotal: 20.5s\tremaining: 55.7s\n269:\tlearn: 0.0435774\ttotal: 20.6s\tremaining: 55.6s\n270:\tlearn: 0.0433812\ttotal: 20.6s\tremaining: 55.5s\n271:\tlearn: 0.0432096\ttotal: 20.7s\tremaining: 55.4s\n272:\tlearn: 0.0429705\ttotal: 20.8s\tremaining: 55.3s\n273:\tlearn: 0.0427793\ttotal: 20.8s\tremaining: 55.2s\n274:\tlearn: 0.0426123\ttotal: 20.9s\tremaining: 55.2s\n275:\tlearn: 0.0423985\ttotal: 21s\tremaining: 55.1s\n276:\tlearn: 0.0421559\ttotal: 21.1s\tremaining: 55s\n277:\tlearn: 0.0419981\ttotal: 21.2s\tremaining: 55s\n278:\tlearn: 0.0418019\ttotal: 21.2s\tremaining: 54.9s\n279:\tlearn: 0.0416278\ttotal: 21.3s\tremaining: 54.8s\n280:\tlearn: 0.0414728\ttotal: 21.4s\tremaining: 54.7s\n281:\tlearn: 0.0412800\ttotal: 21.4s\tremaining: 54.6s\n282:\tlearn: 0.0410707\ttotal: 21.5s\tremaining: 54.5s\n283:\tlearn: 0.0408940\ttotal: 21.6s\tremaining: 54.5s\n284:\tlearn: 0.0407438\ttotal: 21.7s\tremaining: 54.4s\n285:\tlearn: 0.0405653\ttotal: 21.7s\tremaining: 54.3s\n286:\tlearn: 0.0403864\ttotal: 21.8s\tremaining: 54.2s\n287:\tlearn: 0.0402156\ttotal: 21.9s\tremaining: 54.1s\n288:\tlearn: 0.0400600\ttotal: 22s\tremaining: 54.1s\n289:\tlearn: 0.0399091\ttotal: 22.1s\tremaining: 54s\n290:\tlearn: 0.0397379\ttotal: 22.1s\tremaining: 53.9s\n291:\tlearn: 0.0395155\ttotal: 22.2s\tremaining: 53.8s\n292:\tlearn: 0.0393339\ttotal: 22.3s\tremaining: 53.7s\n293:\tlearn: 0.0391671\ttotal: 22.4s\tremaining: 53.7s\n294:\tlearn: 0.0389078\ttotal: 22.4s\tremaining: 53.6s\n295:\tlearn: 0.0387309\ttotal: 22.5s\tremaining: 53.6s\n296:\tlearn: 0.0385584\ttotal: 22.6s\tremaining: 53.5s\n297:\tlearn: 0.0383642\ttotal: 22.7s\tremaining: 53.5s\n298:\tlearn: 0.0381746\ttotal: 22.8s\tremaining: 53.4s\n299:\tlearn: 0.0379758\ttotal: 22.8s\tremaining: 53.3s\n300:\tlearn: 0.0378269\ttotal: 22.9s\tremaining: 53.2s\n301:\tlearn: 0.0376822\ttotal: 23s\tremaining: 53.2s\n302:\tlearn: 0.0375352\ttotal: 23.1s\tremaining: 53.1s\n303:\tlearn: 0.0372910\ttotal: 23.2s\tremaining: 53s\n304:\tlearn: 0.0371661\ttotal: 23.2s\tremaining: 52.9s\n305:\tlearn: 0.0370028\ttotal: 23.3s\tremaining: 52.8s\n306:\tlearn: 0.0368165\ttotal: 23.4s\tremaining: 52.8s\n307:\tlearn: 0.0366915\ttotal: 23.5s\tremaining: 52.7s\n308:\tlearn: 0.0365145\ttotal: 23.5s\tremaining: 52.6s\n309:\tlearn: 0.0363912\ttotal: 23.6s\tremaining: 52.6s\n310:\tlearn: 0.0362144\ttotal: 23.7s\tremaining: 52.5s\n311:\tlearn: 0.0360697\ttotal: 23.8s\tremaining: 52.4s\n312:\tlearn: 0.0359376\ttotal: 23.8s\tremaining: 52.3s\n313:\tlearn: 0.0357865\ttotal: 23.9s\tremaining: 52.2s\n314:\tlearn: 0.0356697\ttotal: 24s\tremaining: 52.2s\n315:\tlearn: 0.0355075\ttotal: 24.1s\tremaining: 52.1s\n316:\tlearn: 0.0353602\ttotal: 24.2s\tremaining: 52.1s\n317:\tlearn: 0.0352432\ttotal: 24.2s\tremaining: 52s\n318:\tlearn: 0.0350329\ttotal: 24.3s\tremaining: 51.9s\n319:\tlearn: 0.0348928\ttotal: 24.4s\tremaining: 51.8s\n320:\tlearn: 0.0347473\ttotal: 24.5s\tremaining: 51.8s\n321:\tlearn: 0.0346145\ttotal: 24.5s\tremaining: 51.7s\n322:\tlearn: 0.0344314\ttotal: 24.6s\tremaining: 51.6s\n323:\tlearn: 0.0343017\ttotal: 24.7s\tremaining: 51.5s\n324:\tlearn: 0.0341455\ttotal: 24.8s\tremaining: 51.4s\n325:\tlearn: 0.0340298\ttotal: 24.8s\tremaining: 51.4s\n326:\tlearn: 0.0338147\ttotal: 24.9s\tremaining: 51.3s\n327:\tlearn: 0.0336890\ttotal: 25s\tremaining: 51.2s\n328:\tlearn: 0.0335587\ttotal: 25.1s\tremaining: 51.2s\n329:\tlearn: 0.0334300\ttotal: 25.1s\tremaining: 51.1s\n330:\tlearn: 0.0332507\ttotal: 25.2s\tremaining: 51s\n331:\tlearn: 0.0331320\ttotal: 25.3s\tremaining: 50.9s\n332:\tlearn: 0.0330028\ttotal: 25.4s\tremaining: 50.8s\n333:\tlearn: 0.0328227\ttotal: 25.4s\tremaining: 50.7s\n334:\tlearn: 0.0327193\ttotal: 25.5s\tremaining: 50.7s\n335:\tlearn: 0.0325841\ttotal: 25.6s\tremaining: 50.6s\n336:\tlearn: 0.0324408\ttotal: 25.7s\tremaining: 50.5s\n337:\tlearn: 0.0322908\ttotal: 25.7s\tremaining: 50.4s\n338:\tlearn: 0.0321894\ttotal: 25.8s\tremaining: 50.3s\n339:\tlearn: 0.0320737\ttotal: 25.9s\tremaining: 50.2s\n340:\tlearn: 0.0319283\ttotal: 26s\tremaining: 50.2s\n341:\tlearn: 0.0318178\ttotal: 26s\tremaining: 50.1s\n342:\tlearn: 0.0316924\ttotal: 26.1s\tremaining: 50s\n343:\tlearn: 0.0316056\ttotal: 26.2s\tremaining: 49.9s\n344:\tlearn: 0.0314679\ttotal: 26.3s\tremaining: 49.9s\n345:\tlearn: 0.0313572\ttotal: 26.3s\tremaining: 49.8s\n346:\tlearn: 0.0312694\ttotal: 26.4s\tremaining: 49.7s\n347:\tlearn: 0.0311678\ttotal: 26.5s\tremaining: 49.6s\n348:\tlearn: 0.0310488\ttotal: 26.6s\tremaining: 49.6s\n349:\tlearn: 0.0309389\ttotal: 26.7s\tremaining: 49.5s\n350:\tlearn: 0.0308178\ttotal: 26.7s\tremaining: 49.4s\n351:\tlearn: 0.0306685\ttotal: 26.8s\tremaining: 49.3s\n352:\tlearn: 0.0305549\ttotal: 26.9s\tremaining: 49.3s\n353:\tlearn: 0.0304618\ttotal: 27s\tremaining: 49.2s\n354:\tlearn: 0.0303261\ttotal: 27s\tremaining: 49.1s\n355:\tlearn: 0.0302398\ttotal: 27.1s\tremaining: 49s\n356:\tlearn: 0.0301495\ttotal: 27.2s\tremaining: 48.9s\n357:\tlearn: 0.0300680\ttotal: 27.2s\tremaining: 48.9s\n358:\tlearn: 0.0299745\ttotal: 27.3s\tremaining: 48.8s\n359:\tlearn: 0.0298365\ttotal: 27.4s\tremaining: 48.7s\n360:\tlearn: 0.0297275\ttotal: 27.5s\tremaining: 48.7s\n361:\tlearn: 0.0296194\ttotal: 27.6s\tremaining: 48.6s\n362:\tlearn: 0.0295292\ttotal: 27.7s\tremaining: 48.5s\n363:\tlearn: 0.0294240\ttotal: 27.7s\tremaining: 48.5s\n364:\tlearn: 0.0293365\ttotal: 27.8s\tremaining: 48.4s\n365:\tlearn: 0.0292611\ttotal: 27.9s\tremaining: 48.3s\n366:\tlearn: 0.0291509\ttotal: 27.9s\tremaining: 48.2s\n367:\tlearn: 0.0290009\ttotal: 28s\tremaining: 48.1s\n368:\tlearn: 0.0289053\ttotal: 28.1s\tremaining: 48s\n369:\tlearn: 0.0288153\ttotal: 28.2s\tremaining: 47.9s\n370:\tlearn: 0.0286902\ttotal: 28.2s\tremaining: 47.9s\n371:\tlearn: 0.0286051\ttotal: 28.3s\tremaining: 47.8s\n372:\tlearn: 0.0284971\ttotal: 28.4s\tremaining: 47.7s\n373:\tlearn: 0.0284112\ttotal: 28.5s\tremaining: 47.6s\n374:\tlearn: 0.0283212\ttotal: 28.5s\tremaining: 47.6s\n375:\tlearn: 0.0281868\ttotal: 28.6s\tremaining: 47.5s\n376:\tlearn: 0.0280584\ttotal: 28.7s\tremaining: 47.4s\n377:\tlearn: 0.0279480\ttotal: 28.8s\tremaining: 47.3s\n378:\tlearn: 0.0278345\ttotal: 28.8s\tremaining: 47.3s\n379:\tlearn: 0.0277541\ttotal: 28.9s\tremaining: 47.2s\n380:\tlearn: 0.0276735\ttotal: 29s\tremaining: 47.1s\n381:\tlearn: 0.0275911\ttotal: 29.1s\tremaining: 47s\n382:\tlearn: 0.0274878\ttotal: 29.1s\tremaining: 46.9s\n383:\tlearn: 0.0273683\ttotal: 29.2s\tremaining: 46.9s\n384:\tlearn: 0.0272821\ttotal: 29.3s\tremaining: 46.8s\n385:\tlearn: 0.0271811\ttotal: 29.4s\tremaining: 46.7s\n386:\tlearn: 0.0270801\ttotal: 29.4s\tremaining: 46.6s\n387:\tlearn: 0.0269905\ttotal: 29.5s\tremaining: 46.5s\n388:\tlearn: 0.0268977\ttotal: 29.6s\tremaining: 46.5s\n389:\tlearn: 0.0268020\ttotal: 29.7s\tremaining: 46.4s\n390:\tlearn: 0.0267405\ttotal: 29.7s\tremaining: 46.3s\n391:\tlearn: 0.0266770\ttotal: 29.8s\tremaining: 46.2s\n392:\tlearn: 0.0265957\ttotal: 29.9s\tremaining: 46.2s\n393:\tlearn: 0.0265172\ttotal: 30s\tremaining: 46.1s\n394:\tlearn: 0.0264343\ttotal: 30s\tremaining: 46s\n395:\tlearn: 0.0263484\ttotal: 30.1s\tremaining: 45.9s\n396:\tlearn: 0.0262685\ttotal: 30.2s\tremaining: 45.8s\n397:\tlearn: 0.0261682\ttotal: 30.3s\tremaining: 45.8s\n398:\tlearn: 0.0260646\ttotal: 30.3s\tremaining: 45.7s\n399:\tlearn: 0.0259859\ttotal: 30.4s\tremaining: 45.6s\n400:\tlearn: 0.0258983\ttotal: 30.5s\tremaining: 45.5s\n401:\tlearn: 0.0258148\ttotal: 30.6s\tremaining: 45.5s\n402:\tlearn: 0.0257267\ttotal: 30.6s\tremaining: 45.4s\n403:\tlearn: 0.0256634\ttotal: 30.7s\tremaining: 45.3s\n404:\tlearn: 0.0255956\ttotal: 30.8s\tremaining: 45.2s\n405:\tlearn: 0.0255344\ttotal: 30.8s\tremaining: 45.1s\n406:\tlearn: 0.0254445\ttotal: 30.9s\tremaining: 45s\n407:\tlearn: 0.0253592\ttotal: 31s\tremaining: 45s\n408:\tlearn: 0.0252942\ttotal: 31.1s\tremaining: 44.9s\n409:\tlearn: 0.0252199\ttotal: 31.1s\tremaining: 44.8s\n410:\tlearn: 0.0251494\ttotal: 31.2s\tremaining: 44.7s\n411:\tlearn: 0.0250715\ttotal: 31.3s\tremaining: 44.7s\n412:\tlearn: 0.0249777\ttotal: 31.4s\tremaining: 44.6s\n413:\tlearn: 0.0249023\ttotal: 31.4s\tremaining: 44.5s\n414:\tlearn: 0.0248475\ttotal: 31.5s\tremaining: 44.4s\n415:\tlearn: 0.0247598\ttotal: 31.6s\tremaining: 44.4s\n416:\tlearn: 0.0247039\ttotal: 31.7s\tremaining: 44.3s\n417:\tlearn: 0.0246274\ttotal: 31.7s\tremaining: 44.2s\n418:\tlearn: 0.0245398\ttotal: 31.8s\tremaining: 44.1s\n419:\tlearn: 0.0244772\ttotal: 31.9s\tremaining: 44s\n420:\tlearn: 0.0244154\ttotal: 32s\tremaining: 44s\n421:\tlearn: 0.0243428\ttotal: 32s\tremaining: 43.9s\n422:\tlearn: 0.0242672\ttotal: 32.1s\tremaining: 43.8s\n423:\tlearn: 0.0241886\ttotal: 32.2s\tremaining: 43.7s\n424:\tlearn: 0.0241278\ttotal: 32.3s\tremaining: 43.7s\n425:\tlearn: 0.0240395\ttotal: 32.3s\tremaining: 43.6s\n426:\tlearn: 0.0239681\ttotal: 32.4s\tremaining: 43.5s\n427:\tlearn: 0.0239147\ttotal: 32.5s\tremaining: 43.5s\n428:\tlearn: 0.0238548\ttotal: 32.6s\tremaining: 43.4s\n429:\tlearn: 0.0238033\ttotal: 32.7s\tremaining: 43.4s\n430:\tlearn: 0.0237337\ttotal: 32.8s\tremaining: 43.3s\n431:\tlearn: 0.0236684\ttotal: 32.9s\tremaining: 43.3s\n432:\tlearn: 0.0236017\ttotal: 33s\tremaining: 43.2s\n433:\tlearn: 0.0235446\ttotal: 33.1s\tremaining: 43.1s\n434:\tlearn: 0.0234647\ttotal: 33.1s\tremaining: 43s\n435:\tlearn: 0.0233979\ttotal: 33.2s\tremaining: 43s\n436:\tlearn: 0.0233097\ttotal: 33.3s\tremaining: 42.9s\n437:\tlearn: 0.0232524\ttotal: 33.4s\tremaining: 42.8s\n438:\tlearn: 0.0231883\ttotal: 33.4s\tremaining: 42.7s\n439:\tlearn: 0.0231247\ttotal: 33.5s\tremaining: 42.6s\n440:\tlearn: 0.0230477\ttotal: 33.6s\tremaining: 42.6s\n441:\tlearn: 0.0229917\ttotal: 33.7s\tremaining: 42.5s\n442:\tlearn: 0.0229238\ttotal: 33.8s\tremaining: 42.4s\n443:\tlearn: 0.0228373\ttotal: 33.8s\tremaining: 42.4s\n444:\tlearn: 0.0227777\ttotal: 33.9s\tremaining: 42.3s\n445:\tlearn: 0.0226989\ttotal: 34s\tremaining: 42.2s\n446:\tlearn: 0.0226304\ttotal: 34.1s\tremaining: 42.1s\n447:\tlearn: 0.0225664\ttotal: 34.1s\tremaining: 42.1s\n448:\tlearn: 0.0225129\ttotal: 34.2s\tremaining: 42s\n449:\tlearn: 0.0224549\ttotal: 34.3s\tremaining: 41.9s\n450:\tlearn: 0.0224075\ttotal: 34.4s\tremaining: 41.8s\n451:\tlearn: 0.0223607\ttotal: 34.5s\tremaining: 41.8s\n452:\tlearn: 0.0223010\ttotal: 34.5s\tremaining: 41.7s\n453:\tlearn: 0.0222137\ttotal: 34.6s\tremaining: 41.6s\n454:\tlearn: 0.0221686\ttotal: 34.7s\tremaining: 41.5s\n455:\tlearn: 0.0220844\ttotal: 34.8s\tremaining: 41.5s\n456:\tlearn: 0.0220260\ttotal: 34.8s\tremaining: 41.4s\n457:\tlearn: 0.0219793\ttotal: 34.9s\tremaining: 41.3s\n458:\tlearn: 0.0219299\ttotal: 35s\tremaining: 41.2s\n459:\tlearn: 0.0218727\ttotal: 35.1s\tremaining: 41.1s\n460:\tlearn: 0.0218089\ttotal: 35.1s\tremaining: 41.1s\n461:\tlearn: 0.0217602\ttotal: 35.2s\tremaining: 41s\n462:\tlearn: 0.0217176\ttotal: 35.3s\tremaining: 40.9s\n463:\tlearn: 0.0216567\ttotal: 35.3s\tremaining: 40.8s\n464:\tlearn: 0.0215955\ttotal: 35.4s\tremaining: 40.7s\n465:\tlearn: 0.0215269\ttotal: 35.5s\tremaining: 40.7s\n466:\tlearn: 0.0214671\ttotal: 35.6s\tremaining: 40.6s\n467:\tlearn: 0.0214203\ttotal: 35.6s\tremaining: 40.5s\n468:\tlearn: 0.0213568\ttotal: 35.7s\tremaining: 40.4s\n469:\tlearn: 0.0213092\ttotal: 35.8s\tremaining: 40.4s\n470:\tlearn: 0.0212529\ttotal: 35.9s\tremaining: 40.3s\n471:\tlearn: 0.0211940\ttotal: 36s\tremaining: 40.2s\n472:\tlearn: 0.0211454\ttotal: 36s\tremaining: 40.1s\n473:\tlearn: 0.0210811\ttotal: 36.1s\tremaining: 40.1s\n474:\tlearn: 0.0210245\ttotal: 36.2s\tremaining: 40s\n475:\tlearn: 0.0209649\ttotal: 36.3s\tremaining: 39.9s\n476:\tlearn: 0.0209069\ttotal: 36.3s\tremaining: 39.8s\n477:\tlearn: 0.0208554\ttotal: 36.4s\tremaining: 39.8s\n478:\tlearn: 0.0208022\ttotal: 36.5s\tremaining: 39.7s\n479:\tlearn: 0.0207539\ttotal: 36.6s\tremaining: 39.6s\n480:\tlearn: 0.0206839\ttotal: 36.6s\tremaining: 39.5s\n481:\tlearn: 0.0206346\ttotal: 36.7s\tremaining: 39.5s\n482:\tlearn: 0.0205757\ttotal: 36.8s\tremaining: 39.4s\n483:\tlearn: 0.0205301\ttotal: 36.9s\tremaining: 39.3s\n484:\tlearn: 0.0204788\ttotal: 37s\tremaining: 39.2s\n485:\tlearn: 0.0204322\ttotal: 37s\tremaining: 39.2s\n486:\tlearn: 0.0203720\ttotal: 37.1s\tremaining: 39.1s\n487:\tlearn: 0.0203157\ttotal: 37.2s\tremaining: 39s\n488:\tlearn: 0.0202770\ttotal: 37.2s\tremaining: 38.9s\n489:\tlearn: 0.0202297\ttotal: 37.3s\tremaining: 38.8s\n490:\tlearn: 0.0201686\ttotal: 37.4s\tremaining: 38.7s\n491:\tlearn: 0.0201169\ttotal: 37.5s\tremaining: 38.7s\n492:\tlearn: 0.0200714\ttotal: 37.5s\tremaining: 38.6s\n493:\tlearn: 0.0200296\ttotal: 37.6s\tremaining: 38.5s\n494:\tlearn: 0.0199794\ttotal: 37.7s\tremaining: 38.5s\n495:\tlearn: 0.0199271\ttotal: 37.8s\tremaining: 38.4s\n496:\tlearn: 0.0198767\ttotal: 37.8s\tremaining: 38.3s\n497:\tlearn: 0.0198339\ttotal: 37.9s\tremaining: 38.2s\n498:\tlearn: 0.0197821\ttotal: 38s\tremaining: 38.1s\n499:\tlearn: 0.0197374\ttotal: 38.1s\tremaining: 38.1s\n500:\tlearn: 0.0196985\ttotal: 38.1s\tremaining: 38s\n501:\tlearn: 0.0196631\ttotal: 38.2s\tremaining: 37.9s\n502:\tlearn: 0.0196227\ttotal: 38.3s\tremaining: 37.8s\n503:\tlearn: 0.0195761\ttotal: 38.4s\tremaining: 37.8s\n504:\tlearn: 0.0195355\ttotal: 38.4s\tremaining: 37.7s\n505:\tlearn: 0.0194886\ttotal: 38.5s\tremaining: 37.6s\n506:\tlearn: 0.0194313\ttotal: 38.6s\tremaining: 37.5s\n507:\tlearn: 0.0193797\ttotal: 38.7s\tremaining: 37.4s\n508:\tlearn: 0.0193287\ttotal: 38.8s\tremaining: 37.4s\n509:\tlearn: 0.0192861\ttotal: 38.8s\tremaining: 37.3s\n510:\tlearn: 0.0192375\ttotal: 38.9s\tremaining: 37.2s\n511:\tlearn: 0.0192074\ttotal: 39s\tremaining: 37.2s\n512:\tlearn: 0.0191694\ttotal: 39.1s\tremaining: 37.1s\n513:\tlearn: 0.0191327\ttotal: 39.1s\tremaining: 37s\n514:\tlearn: 0.0190963\ttotal: 39.2s\tremaining: 36.9s\n515:\tlearn: 0.0190575\ttotal: 39.3s\tremaining: 36.8s\n516:\tlearn: 0.0190133\ttotal: 39.4s\tremaining: 36.8s\n517:\tlearn: 0.0189678\ttotal: 39.4s\tremaining: 36.7s\n518:\tlearn: 0.0189276\ttotal: 39.5s\tremaining: 36.6s\n519:\tlearn: 0.0188831\ttotal: 39.6s\tremaining: 36.5s\n520:\tlearn: 0.0188458\ttotal: 39.7s\tremaining: 36.5s\n521:\tlearn: 0.0187999\ttotal: 39.7s\tremaining: 36.4s\n522:\tlearn: 0.0187639\ttotal: 39.8s\tremaining: 36.3s\n523:\tlearn: 0.0187297\ttotal: 39.9s\tremaining: 36.2s\n524:\tlearn: 0.0186722\ttotal: 40s\tremaining: 36.1s\n525:\tlearn: 0.0186351\ttotal: 40s\tremaining: 36.1s\n526:\tlearn: 0.0185985\ttotal: 40.1s\tremaining: 36s\n527:\tlearn: 0.0185463\ttotal: 40.2s\tremaining: 35.9s\n528:\tlearn: 0.0185020\ttotal: 40.3s\tremaining: 35.8s\n529:\tlearn: 0.0184600\ttotal: 40.3s\tremaining: 35.8s\n530:\tlearn: 0.0184237\ttotal: 40.4s\tremaining: 35.7s\n531:\tlearn: 0.0183886\ttotal: 40.5s\tremaining: 35.6s\n532:\tlearn: 0.0183503\ttotal: 40.6s\tremaining: 35.5s\n533:\tlearn: 0.0183111\ttotal: 40.6s\tremaining: 35.5s\n534:\tlearn: 0.0182769\ttotal: 40.7s\tremaining: 35.4s\n535:\tlearn: 0.0182352\ttotal: 40.8s\tremaining: 35.3s\n536:\tlearn: 0.0182048\ttotal: 40.9s\tremaining: 35.2s\n537:\tlearn: 0.0181640\ttotal: 40.9s\tremaining: 35.2s\n538:\tlearn: 0.0181296\ttotal: 41s\tremaining: 35.1s\n539:\tlearn: 0.0180948\ttotal: 41.1s\tremaining: 35s\n540:\tlearn: 0.0180531\ttotal: 41.2s\tremaining: 34.9s\n541:\tlearn: 0.0180038\ttotal: 41.2s\tremaining: 34.8s\n542:\tlearn: 0.0179605\ttotal: 41.3s\tremaining: 34.8s\n543:\tlearn: 0.0179142\ttotal: 41.4s\tremaining: 34.7s\n544:\tlearn: 0.0178789\ttotal: 41.4s\tremaining: 34.6s\n545:\tlearn: 0.0178481\ttotal: 41.5s\tremaining: 34.5s\n546:\tlearn: 0.0178123\ttotal: 41.6s\tremaining: 34.5s\n547:\tlearn: 0.0177759\ttotal: 41.7s\tremaining: 34.4s\n548:\tlearn: 0.0177334\ttotal: 41.8s\tremaining: 34.3s\n549:\tlearn: 0.0176916\ttotal: 41.8s\tremaining: 34.2s\n550:\tlearn: 0.0176565\ttotal: 41.9s\tremaining: 34.2s\n551:\tlearn: 0.0176286\ttotal: 42s\tremaining: 34.1s\n552:\tlearn: 0.0175839\ttotal: 42.1s\tremaining: 34s\n553:\tlearn: 0.0175440\ttotal: 42.1s\tremaining: 33.9s\n554:\tlearn: 0.0175104\ttotal: 42.2s\tremaining: 33.9s\n555:\tlearn: 0.0174587\ttotal: 42.3s\tremaining: 33.8s\n556:\tlearn: 0.0174313\ttotal: 42.4s\tremaining: 33.7s\n557:\tlearn: 0.0174043\ttotal: 42.5s\tremaining: 33.6s\n558:\tlearn: 0.0173683\ttotal: 42.6s\tremaining: 33.6s\n559:\tlearn: 0.0173375\ttotal: 42.6s\tremaining: 33.5s\n560:\tlearn: 0.0173046\ttotal: 42.7s\tremaining: 33.4s\n561:\tlearn: 0.0172699\ttotal: 42.8s\tremaining: 33.3s\n562:\tlearn: 0.0172280\ttotal: 42.9s\tremaining: 33.3s\n563:\tlearn: 0.0172022\ttotal: 42.9s\tremaining: 33.2s\n564:\tlearn: 0.0171686\ttotal: 43s\tremaining: 33.1s\n565:\tlearn: 0.0171404\ttotal: 43.1s\tremaining: 33s\n566:\tlearn: 0.0171121\ttotal: 43.1s\tremaining: 33s\n567:\tlearn: 0.0170811\ttotal: 43.2s\tremaining: 32.9s\n568:\tlearn: 0.0170546\ttotal: 43.3s\tremaining: 32.8s\n569:\tlearn: 0.0170178\ttotal: 43.4s\tremaining: 32.7s\n570:\tlearn: 0.0169851\ttotal: 43.4s\tremaining: 32.6s\n571:\tlearn: 0.0169486\ttotal: 43.5s\tremaining: 32.6s\n572:\tlearn: 0.0169167\ttotal: 43.6s\tremaining: 32.5s\n573:\tlearn: 0.0168864\ttotal: 43.7s\tremaining: 32.4s\n574:\tlearn: 0.0168541\ttotal: 43.7s\tremaining: 32.3s\n575:\tlearn: 0.0168160\ttotal: 43.8s\tremaining: 32.3s\n576:\tlearn: 0.0167815\ttotal: 43.9s\tremaining: 32.2s\n577:\tlearn: 0.0167585\ttotal: 44s\tremaining: 32.1s\n578:\tlearn: 0.0167268\ttotal: 44.1s\tremaining: 32s\n579:\tlearn: 0.0166826\ttotal: 44.2s\tremaining: 32s\n580:\tlearn: 0.0166490\ttotal: 44.2s\tremaining: 31.9s\n581:\tlearn: 0.0166156\ttotal: 44.3s\tremaining: 31.8s\n582:\tlearn: 0.0165664\ttotal: 44.4s\tremaining: 31.7s\n583:\tlearn: 0.0165417\ttotal: 44.4s\tremaining: 31.7s\n584:\tlearn: 0.0164971\ttotal: 44.5s\tremaining: 31.6s\n585:\tlearn: 0.0164601\ttotal: 44.6s\tremaining: 31.5s\n586:\tlearn: 0.0164258\ttotal: 44.7s\tremaining: 31.4s\n587:\tlearn: 0.0163797\ttotal: 44.7s\tremaining: 31.4s\n588:\tlearn: 0.0163518\ttotal: 44.8s\tremaining: 31.3s\n589:\tlearn: 0.0163121\ttotal: 44.9s\tremaining: 31.2s\n590:\tlearn: 0.0162808\ttotal: 45s\tremaining: 31.1s\n591:\tlearn: 0.0162561\ttotal: 45.1s\tremaining: 31.1s\n592:\tlearn: 0.0162234\ttotal: 45.1s\tremaining: 31s\n593:\tlearn: 0.0161822\ttotal: 45.2s\tremaining: 30.9s\n594:\tlearn: 0.0161518\ttotal: 45.3s\tremaining: 30.8s\n595:\tlearn: 0.0161132\ttotal: 45.4s\tremaining: 30.8s\n596:\tlearn: 0.0160863\ttotal: 45.4s\tremaining: 30.7s\n597:\tlearn: 0.0160609\ttotal: 45.5s\tremaining: 30.6s\n598:\tlearn: 0.0160321\ttotal: 45.6s\tremaining: 30.5s\n599:\tlearn: 0.0159928\ttotal: 45.7s\tremaining: 30.4s\n600:\tlearn: 0.0159651\ttotal: 45.7s\tremaining: 30.4s\n601:\tlearn: 0.0159296\ttotal: 45.8s\tremaining: 30.3s\n602:\tlearn: 0.0158954\ttotal: 45.9s\tremaining: 30.2s\n603:\tlearn: 0.0158641\ttotal: 46s\tremaining: 30.1s\n604:\tlearn: 0.0158288\ttotal: 46s\tremaining: 30.1s\n605:\tlearn: 0.0157969\ttotal: 46.1s\tremaining: 30s\n606:\tlearn: 0.0157731\ttotal: 46.2s\tremaining: 29.9s\n607:\tlearn: 0.0157463\ttotal: 46.3s\tremaining: 29.8s\n608:\tlearn: 0.0157098\ttotal: 46.3s\tremaining: 29.8s\n609:\tlearn: 0.0156741\ttotal: 46.4s\tremaining: 29.7s\n610:\tlearn: 0.0156479\ttotal: 46.5s\tremaining: 29.6s\n611:\tlearn: 0.0156228\ttotal: 46.6s\tremaining: 29.5s\n612:\tlearn: 0.0155978\ttotal: 46.6s\tremaining: 29.4s\n613:\tlearn: 0.0155629\ttotal: 46.7s\tremaining: 29.4s\n614:\tlearn: 0.0155314\ttotal: 46.8s\tremaining: 29.3s\n615:\tlearn: 0.0155056\ttotal: 46.9s\tremaining: 29.2s\n616:\tlearn: 0.0154791\ttotal: 47s\tremaining: 29.1s\n617:\tlearn: 0.0154447\ttotal: 47s\tremaining: 29.1s\n618:\tlearn: 0.0154142\ttotal: 47.1s\tremaining: 29s\n619:\tlearn: 0.0153757\ttotal: 47.2s\tremaining: 28.9s\n620:\tlearn: 0.0153400\ttotal: 47.2s\tremaining: 28.8s\n621:\tlearn: 0.0153083\ttotal: 47.3s\tremaining: 28.8s\n622:\tlearn: 0.0152751\ttotal: 47.4s\tremaining: 28.7s\n623:\tlearn: 0.0152436\ttotal: 47.5s\tremaining: 28.6s\n624:\tlearn: 0.0152175\ttotal: 47.5s\tremaining: 28.5s\n625:\tlearn: 0.0151925\ttotal: 47.6s\tremaining: 28.4s\n626:\tlearn: 0.0151659\ttotal: 47.7s\tremaining: 28.4s\n627:\tlearn: 0.0151376\ttotal: 47.8s\tremaining: 28.3s\n628:\tlearn: 0.0150950\ttotal: 47.8s\tremaining: 28.2s\n629:\tlearn: 0.0150698\ttotal: 47.9s\tremaining: 28.1s\n630:\tlearn: 0.0150423\ttotal: 48s\tremaining: 28.1s\n631:\tlearn: 0.0150152\ttotal: 48.1s\tremaining: 28s\n632:\tlearn: 0.0149867\ttotal: 48.2s\tremaining: 27.9s\n633:\tlearn: 0.0149639\ttotal: 48.2s\tremaining: 27.8s\n634:\tlearn: 0.0149353\ttotal: 48.3s\tremaining: 27.8s\n635:\tlearn: 0.0149052\ttotal: 48.4s\tremaining: 27.7s\n636:\tlearn: 0.0148810\ttotal: 48.4s\tremaining: 27.6s\n637:\tlearn: 0.0148614\ttotal: 48.5s\tremaining: 27.5s\n638:\tlearn: 0.0148361\ttotal: 48.6s\tremaining: 27.4s\n639:\tlearn: 0.0148069\ttotal: 48.7s\tremaining: 27.4s\n640:\tlearn: 0.0147796\ttotal: 48.7s\tremaining: 27.3s\n641:\tlearn: 0.0147519\ttotal: 48.8s\tremaining: 27.2s\n642:\tlearn: 0.0147144\ttotal: 48.9s\tremaining: 27.1s\n643:\tlearn: 0.0146903\ttotal: 49s\tremaining: 27.1s\n644:\tlearn: 0.0146645\ttotal: 49.1s\tremaining: 27s\n645:\tlearn: 0.0146340\ttotal: 49.1s\tremaining: 26.9s\n646:\tlearn: 0.0145968\ttotal: 49.2s\tremaining: 26.8s\n647:\tlearn: 0.0145697\ttotal: 49.3s\tremaining: 26.8s\n648:\tlearn: 0.0145490\ttotal: 49.3s\tremaining: 26.7s\n649:\tlearn: 0.0145276\ttotal: 49.4s\tremaining: 26.6s\n650:\tlearn: 0.0145060\ttotal: 49.5s\tremaining: 26.5s\n651:\tlearn: 0.0144854\ttotal: 49.6s\tremaining: 26.5s\n652:\tlearn: 0.0144597\ttotal: 49.6s\tremaining: 26.4s\n653:\tlearn: 0.0144378\ttotal: 49.7s\tremaining: 26.3s\n654:\tlearn: 0.0144079\ttotal: 49.8s\tremaining: 26.2s\n655:\tlearn: 0.0143851\ttotal: 49.9s\tremaining: 26.1s\n656:\tlearn: 0.0143588\ttotal: 49.9s\tremaining: 26.1s\n657:\tlearn: 0.0143390\ttotal: 50s\tremaining: 26s\n658:\tlearn: 0.0142983\ttotal: 50.1s\tremaining: 25.9s\n659:\tlearn: 0.0142767\ttotal: 50.2s\tremaining: 25.8s\n660:\tlearn: 0.0142519\ttotal: 50.2s\tremaining: 25.8s\n661:\tlearn: 0.0142289\ttotal: 50.3s\tremaining: 25.7s\n662:\tlearn: 0.0142100\ttotal: 50.4s\tremaining: 25.6s\n663:\tlearn: 0.0141892\ttotal: 50.5s\tremaining: 25.5s\n664:\tlearn: 0.0141648\ttotal: 50.5s\tremaining: 25.5s\n665:\tlearn: 0.0141387\ttotal: 50.6s\tremaining: 25.4s\n666:\tlearn: 0.0141191\ttotal: 50.7s\tremaining: 25.3s\n667:\tlearn: 0.0140955\ttotal: 50.8s\tremaining: 25.2s\n668:\tlearn: 0.0140774\ttotal: 50.8s\tremaining: 25.1s\n669:\tlearn: 0.0140603\ttotal: 50.9s\tremaining: 25.1s\n670:\tlearn: 0.0140364\ttotal: 51s\tremaining: 25s\n671:\tlearn: 0.0140077\ttotal: 51.1s\tremaining: 24.9s\n672:\tlearn: 0.0139910\ttotal: 51.2s\tremaining: 24.9s\n673:\tlearn: 0.0139703\ttotal: 51.2s\tremaining: 24.8s\n674:\tlearn: 0.0139496\ttotal: 51.3s\tremaining: 24.7s\n675:\tlearn: 0.0139195\ttotal: 51.4s\tremaining: 24.6s\n676:\tlearn: 0.0138975\ttotal: 51.5s\tremaining: 24.5s\n677:\tlearn: 0.0138800\ttotal: 51.5s\tremaining: 24.5s\n678:\tlearn: 0.0138542\ttotal: 51.6s\tremaining: 24.4s\n679:\tlearn: 0.0138342\ttotal: 51.7s\tremaining: 24.3s\n680:\tlearn: 0.0138051\ttotal: 51.8s\tremaining: 24.2s\n681:\tlearn: 0.0137777\ttotal: 51.8s\tremaining: 24.2s\n682:\tlearn: 0.0137555\ttotal: 51.9s\tremaining: 24.1s\n683:\tlearn: 0.0137293\ttotal: 52s\tremaining: 24s\n684:\tlearn: 0.0137062\ttotal: 52.1s\tremaining: 23.9s\n685:\tlearn: 0.0136861\ttotal: 52.1s\tremaining: 23.9s\n686:\tlearn: 0.0136667\ttotal: 52.2s\tremaining: 23.8s\n687:\tlearn: 0.0136440\ttotal: 52.3s\tremaining: 23.7s\n688:\tlearn: 0.0136226\ttotal: 52.4s\tremaining: 23.6s\n689:\tlearn: 0.0135996\ttotal: 52.5s\tremaining: 23.6s\n690:\tlearn: 0.0135759\ttotal: 52.5s\tremaining: 23.5s\n691:\tlearn: 0.0135508\ttotal: 52.6s\tremaining: 23.4s\n692:\tlearn: 0.0135247\ttotal: 52.7s\tremaining: 23.3s\n693:\tlearn: 0.0134989\ttotal: 52.8s\tremaining: 23.3s\n694:\tlearn: 0.0134775\ttotal: 52.9s\tremaining: 23.2s\n695:\tlearn: 0.0134548\ttotal: 52.9s\tremaining: 23.1s\n696:\tlearn: 0.0134338\ttotal: 53s\tremaining: 23s\n697:\tlearn: 0.0134176\ttotal: 53.1s\tremaining: 23s\n698:\tlearn: 0.0133936\ttotal: 53.2s\tremaining: 22.9s\n699:\tlearn: 0.0133690\ttotal: 53.2s\tremaining: 22.8s\n700:\tlearn: 0.0133437\ttotal: 53.3s\tremaining: 22.7s\n701:\tlearn: 0.0133268\ttotal: 53.4s\tremaining: 22.7s\n702:\tlearn: 0.0133046\ttotal: 53.5s\tremaining: 22.6s\n703:\tlearn: 0.0132886\ttotal: 53.5s\tremaining: 22.5s\n704:\tlearn: 0.0132679\ttotal: 53.6s\tremaining: 22.4s\n705:\tlearn: 0.0132382\ttotal: 53.7s\tremaining: 22.4s\n706:\tlearn: 0.0132194\ttotal: 53.8s\tremaining: 22.3s\n707:\tlearn: 0.0132009\ttotal: 53.8s\tremaining: 22.2s\n708:\tlearn: 0.0131776\ttotal: 53.9s\tremaining: 22.1s\n709:\tlearn: 0.0131569\ttotal: 54s\tremaining: 22.1s\n710:\tlearn: 0.0131389\ttotal: 54.1s\tremaining: 22s\n711:\tlearn: 0.0131140\ttotal: 54.2s\tremaining: 21.9s\n712:\tlearn: 0.0130944\ttotal: 54.3s\tremaining: 21.8s\n713:\tlearn: 0.0130708\ttotal: 54.4s\tremaining: 21.8s\n714:\tlearn: 0.0130516\ttotal: 54.4s\tremaining: 21.7s\n715:\tlearn: 0.0130334\ttotal: 54.5s\tremaining: 21.6s\n716:\tlearn: 0.0130161\ttotal: 54.6s\tremaining: 21.5s\n717:\tlearn: 0.0129998\ttotal: 54.6s\tremaining: 21.5s\n718:\tlearn: 0.0129774\ttotal: 54.7s\tremaining: 21.4s\n719:\tlearn: 0.0129544\ttotal: 54.8s\tremaining: 21.3s\n720:\tlearn: 0.0129335\ttotal: 54.9s\tremaining: 21.2s\n721:\tlearn: 0.0129114\ttotal: 55s\tremaining: 21.2s\n722:\tlearn: 0.0128939\ttotal: 55s\tremaining: 21.1s\n723:\tlearn: 0.0128747\ttotal: 55.1s\tremaining: 21s\n724:\tlearn: 0.0128557\ttotal: 55.2s\tremaining: 20.9s\n725:\tlearn: 0.0128278\ttotal: 55.3s\tremaining: 20.9s\n726:\tlearn: 0.0128011\ttotal: 55.3s\tremaining: 20.8s\n727:\tlearn: 0.0127841\ttotal: 55.4s\tremaining: 20.7s\n728:\tlearn: 0.0127660\ttotal: 55.5s\tremaining: 20.6s\n729:\tlearn: 0.0127475\ttotal: 55.6s\tremaining: 20.5s\n730:\tlearn: 0.0127278\ttotal: 55.6s\tremaining: 20.5s\n731:\tlearn: 0.0127135\ttotal: 55.7s\tremaining: 20.4s\n732:\tlearn: 0.0126902\ttotal: 55.8s\tremaining: 20.3s\n733:\tlearn: 0.0126649\ttotal: 55.8s\tremaining: 20.2s\n734:\tlearn: 0.0126403\ttotal: 55.9s\tremaining: 20.2s\n735:\tlearn: 0.0126169\ttotal: 56s\tremaining: 20.1s\n736:\tlearn: 0.0125999\ttotal: 56.1s\tremaining: 20s\n737:\tlearn: 0.0125816\ttotal: 56.1s\tremaining: 19.9s\n738:\tlearn: 0.0125596\ttotal: 56.2s\tremaining: 19.9s\n739:\tlearn: 0.0125417\ttotal: 56.3s\tremaining: 19.8s\n740:\tlearn: 0.0125236\ttotal: 56.4s\tremaining: 19.7s\n741:\tlearn: 0.0125039\ttotal: 56.5s\tremaining: 19.6s\n742:\tlearn: 0.0124885\ttotal: 56.5s\tremaining: 19.5s\n743:\tlearn: 0.0124719\ttotal: 56.6s\tremaining: 19.5s\n744:\tlearn: 0.0124506\ttotal: 56.7s\tremaining: 19.4s\n745:\tlearn: 0.0124268\ttotal: 56.8s\tremaining: 19.3s\n746:\tlearn: 0.0124107\ttotal: 56.8s\tremaining: 19.2s\n747:\tlearn: 0.0123921\ttotal: 56.9s\tremaining: 19.2s\n748:\tlearn: 0.0123787\ttotal: 57s\tremaining: 19.1s\n749:\tlearn: 0.0123542\ttotal: 57s\tremaining: 19s\n750:\tlearn: 0.0123334\ttotal: 57.1s\tremaining: 18.9s\n751:\tlearn: 0.0123184\ttotal: 57.2s\tremaining: 18.9s\n752:\tlearn: 0.0123010\ttotal: 57.3s\tremaining: 18.8s\n753:\tlearn: 0.0122860\ttotal: 57.4s\tremaining: 18.7s\n754:\tlearn: 0.0122676\ttotal: 57.4s\tremaining: 18.6s\n755:\tlearn: 0.0122508\ttotal: 57.5s\tremaining: 18.6s\n756:\tlearn: 0.0122271\ttotal: 57.6s\tremaining: 18.5s\n757:\tlearn: 0.0122092\ttotal: 57.7s\tremaining: 18.4s\n758:\tlearn: 0.0121843\ttotal: 57.7s\tremaining: 18.3s\n759:\tlearn: 0.0121673\ttotal: 57.8s\tremaining: 18.3s\n760:\tlearn: 0.0121474\ttotal: 57.9s\tremaining: 18.2s\n761:\tlearn: 0.0121245\ttotal: 58s\tremaining: 18.1s\n762:\tlearn: 0.0121057\ttotal: 58s\tremaining: 18s\n763:\tlearn: 0.0120819\ttotal: 58.1s\tremaining: 18s\n764:\tlearn: 0.0120539\ttotal: 58.2s\tremaining: 17.9s\n765:\tlearn: 0.0120368\ttotal: 58.3s\tremaining: 17.8s\n766:\tlearn: 0.0120178\ttotal: 58.4s\tremaining: 17.7s\n767:\tlearn: 0.0119991\ttotal: 58.4s\tremaining: 17.6s\n768:\tlearn: 0.0119751\ttotal: 58.5s\tremaining: 17.6s\n769:\tlearn: 0.0119567\ttotal: 58.6s\tremaining: 17.5s\n770:\tlearn: 0.0119345\ttotal: 58.7s\tremaining: 17.4s\n771:\tlearn: 0.0119181\ttotal: 58.7s\tremaining: 17.3s\n772:\tlearn: 0.0118992\ttotal: 58.8s\tremaining: 17.3s\n773:\tlearn: 0.0118790\ttotal: 58.9s\tremaining: 17.2s\n774:\tlearn: 0.0118654\ttotal: 59s\tremaining: 17.1s\n775:\tlearn: 0.0118456\ttotal: 59.1s\tremaining: 17s\n776:\tlearn: 0.0118299\ttotal: 59.1s\tremaining: 17s\n777:\tlearn: 0.0118094\ttotal: 59.2s\tremaining: 16.9s\n778:\tlearn: 0.0117830\ttotal: 59.3s\tremaining: 16.8s\n779:\tlearn: 0.0117600\ttotal: 59.4s\tremaining: 16.8s\n780:\tlearn: 0.0117415\ttotal: 59.5s\tremaining: 16.7s\n781:\tlearn: 0.0117230\ttotal: 59.5s\tremaining: 16.6s\n782:\tlearn: 0.0117083\ttotal: 59.6s\tremaining: 16.5s\n783:\tlearn: 0.0116917\ttotal: 59.7s\tremaining: 16.4s\n784:\tlearn: 0.0116777\ttotal: 59.8s\tremaining: 16.4s\n785:\tlearn: 0.0116575\ttotal: 59.8s\tremaining: 16.3s\n786:\tlearn: 0.0116335\ttotal: 59.9s\tremaining: 16.2s\n787:\tlearn: 0.0116187\ttotal: 60s\tremaining: 16.1s\n788:\tlearn: 0.0115997\ttotal: 1m\tremaining: 16.1s\n789:\tlearn: 0.0115806\ttotal: 1m\tremaining: 16s\n790:\tlearn: 0.0115621\ttotal: 1m\tremaining: 15.9s\n791:\tlearn: 0.0115470\ttotal: 1m\tremaining: 15.8s\n792:\tlearn: 0.0115323\ttotal: 1m\tremaining: 15.8s\n793:\tlearn: 0.0115140\ttotal: 1m\tremaining: 15.7s\n794:\tlearn: 0.0114988\ttotal: 1m\tremaining: 15.6s\n795:\tlearn: 0.0114847\ttotal: 1m\tremaining: 15.5s\n796:\tlearn: 0.0114650\ttotal: 1m\tremaining: 15.4s\n797:\tlearn: 0.0114440\ttotal: 1m\tremaining: 15.4s\n798:\tlearn: 0.0114288\ttotal: 1m\tremaining: 15.3s\n799:\tlearn: 0.0114104\ttotal: 1m\tremaining: 15.2s\n800:\tlearn: 0.0113923\ttotal: 1m\tremaining: 15.1s\n801:\tlearn: 0.0113750\ttotal: 1m 1s\tremaining: 15.1s\n802:\tlearn: 0.0113624\ttotal: 1m 1s\tremaining: 15s\n803:\tlearn: 0.0113423\ttotal: 1m 1s\tremaining: 14.9s\n804:\tlearn: 0.0113265\ttotal: 1m 1s\tremaining: 14.8s\n805:\tlearn: 0.0113108\ttotal: 1m 1s\tremaining: 14.8s\n806:\tlearn: 0.0112963\ttotal: 1m 1s\tremaining: 14.7s\n807:\tlearn: 0.0112829\ttotal: 1m 1s\tremaining: 14.6s\n808:\tlearn: 0.0112636\ttotal: 1m 1s\tremaining: 14.5s\n809:\tlearn: 0.0112484\ttotal: 1m 1s\tremaining: 14.5s\n810:\tlearn: 0.0112345\ttotal: 1m 1s\tremaining: 14.4s\n811:\tlearn: 0.0112200\ttotal: 1m 1s\tremaining: 14.3s\n812:\tlearn: 0.0112056\ttotal: 1m 1s\tremaining: 14.2s\n813:\tlearn: 0.0111844\ttotal: 1m 1s\tremaining: 14.2s\n814:\tlearn: 0.0111697\ttotal: 1m 2s\tremaining: 14.1s\n815:\tlearn: 0.0111501\ttotal: 1m 2s\tremaining: 14s\n816:\tlearn: 0.0111279\ttotal: 1m 2s\tremaining: 13.9s\n817:\tlearn: 0.0111149\ttotal: 1m 2s\tremaining: 13.8s\n818:\tlearn: 0.0111009\ttotal: 1m 2s\tremaining: 13.8s\n819:\tlearn: 0.0110874\ttotal: 1m 2s\tremaining: 13.7s\n820:\tlearn: 0.0110746\ttotal: 1m 2s\tremaining: 13.6s\n821:\tlearn: 0.0110548\ttotal: 1m 2s\tremaining: 13.6s\n822:\tlearn: 0.0110417\ttotal: 1m 2s\tremaining: 13.5s\n823:\tlearn: 0.0110273\ttotal: 1m 2s\tremaining: 13.4s\n824:\tlearn: 0.0110123\ttotal: 1m 2s\tremaining: 13.3s\n825:\tlearn: 0.0109953\ttotal: 1m 2s\tremaining: 13.3s\n826:\tlearn: 0.0109784\ttotal: 1m 3s\tremaining: 13.2s\n827:\tlearn: 0.0109567\ttotal: 1m 3s\tremaining: 13.1s\n828:\tlearn: 0.0109422\ttotal: 1m 3s\tremaining: 13s\n829:\tlearn: 0.0109256\ttotal: 1m 3s\tremaining: 13s\n830:\tlearn: 0.0109066\ttotal: 1m 3s\tremaining: 12.9s\n831:\tlearn: 0.0108907\ttotal: 1m 3s\tremaining: 12.8s\n832:\tlearn: 0.0108757\ttotal: 1m 3s\tremaining: 12.7s\n833:\tlearn: 0.0108628\ttotal: 1m 3s\tremaining: 12.6s\n834:\tlearn: 0.0108504\ttotal: 1m 3s\tremaining: 12.6s\n835:\tlearn: 0.0108368\ttotal: 1m 3s\tremaining: 12.5s\n836:\tlearn: 0.0108204\ttotal: 1m 3s\tremaining: 12.4s\n837:\tlearn: 0.0108044\ttotal: 1m 3s\tremaining: 12.3s\n838:\tlearn: 0.0107849\ttotal: 1m 3s\tremaining: 12.3s\n839:\tlearn: 0.0107692\ttotal: 1m 4s\tremaining: 12.2s\n840:\tlearn: 0.0107563\ttotal: 1m 4s\tremaining: 12.1s\n841:\tlearn: 0.0107418\ttotal: 1m 4s\tremaining: 12.1s\n842:\tlearn: 0.0107274\ttotal: 1m 4s\tremaining: 12s\n843:\tlearn: 0.0107126\ttotal: 1m 4s\tremaining: 11.9s\n844:\tlearn: 0.0106980\ttotal: 1m 4s\tremaining: 11.8s\n845:\tlearn: 0.0106849\ttotal: 1m 4s\tremaining: 11.7s\n846:\tlearn: 0.0106681\ttotal: 1m 4s\tremaining: 11.7s\n847:\tlearn: 0.0106562\ttotal: 1m 4s\tremaining: 11.6s\n848:\tlearn: 0.0106405\ttotal: 1m 4s\tremaining: 11.5s\n849:\tlearn: 0.0106300\ttotal: 1m 4s\tremaining: 11.4s\n850:\tlearn: 0.0106147\ttotal: 1m 4s\tremaining: 11.4s\n851:\tlearn: 0.0105990\ttotal: 1m 4s\tremaining: 11.3s\n852:\tlearn: 0.0105826\ttotal: 1m 5s\tremaining: 11.2s\n853:\tlearn: 0.0105631\ttotal: 1m 5s\tremaining: 11.1s\n854:\tlearn: 0.0105507\ttotal: 1m 5s\tremaining: 11.1s\n855:\tlearn: 0.0105382\ttotal: 1m 5s\tremaining: 11s\n856:\tlearn: 0.0105203\ttotal: 1m 5s\tremaining: 10.9s\n857:\tlearn: 0.0105029\ttotal: 1m 5s\tremaining: 10.8s\n858:\tlearn: 0.0104884\ttotal: 1m 5s\tremaining: 10.7s\n859:\tlearn: 0.0104775\ttotal: 1m 5s\tremaining: 10.7s\n860:\tlearn: 0.0104629\ttotal: 1m 5s\tremaining: 10.6s\n861:\tlearn: 0.0104496\ttotal: 1m 5s\tremaining: 10.5s\n862:\tlearn: 0.0104389\ttotal: 1m 5s\tremaining: 10.4s\n863:\tlearn: 0.0104236\ttotal: 1m 5s\tremaining: 10.4s\n864:\tlearn: 0.0104067\ttotal: 1m 5s\tremaining: 10.3s\n865:\tlearn: 0.0103915\ttotal: 1m 6s\tremaining: 10.2s\n866:\tlearn: 0.0103766\ttotal: 1m 6s\tremaining: 10.1s\n867:\tlearn: 0.0103624\ttotal: 1m 6s\tremaining: 10.1s\n868:\tlearn: 0.0103506\ttotal: 1m 6s\tremaining: 9.98s\n869:\tlearn: 0.0103358\ttotal: 1m 6s\tremaining: 9.91s\n870:\tlearn: 0.0103189\ttotal: 1m 6s\tremaining: 9.83s\n871:\tlearn: 0.0103029\ttotal: 1m 6s\tremaining: 9.76s\n872:\tlearn: 0.0102951\ttotal: 1m 6s\tremaining: 9.68s\n873:\tlearn: 0.0102743\ttotal: 1m 6s\tremaining: 9.6s\n874:\tlearn: 0.0102559\ttotal: 1m 6s\tremaining: 9.53s\n875:\tlearn: 0.0102451\ttotal: 1m 6s\tremaining: 9.45s\n876:\tlearn: 0.0102297\ttotal: 1m 6s\tremaining: 9.38s\n877:\tlearn: 0.0102183\ttotal: 1m 6s\tremaining: 9.3s\n878:\tlearn: 0.0102068\ttotal: 1m 7s\tremaining: 9.22s\n879:\tlearn: 0.0101876\ttotal: 1m 7s\tremaining: 9.14s\n880:\tlearn: 0.0101768\ttotal: 1m 7s\tremaining: 9.07s\n881:\tlearn: 0.0101672\ttotal: 1m 7s\tremaining: 8.99s\n882:\tlearn: 0.0101495\ttotal: 1m 7s\tremaining: 8.91s\n883:\tlearn: 0.0101349\ttotal: 1m 7s\tremaining: 8.84s\n884:\tlearn: 0.0101227\ttotal: 1m 7s\tremaining: 8.76s\n885:\tlearn: 0.0101104\ttotal: 1m 7s\tremaining: 8.69s\n886:\tlearn: 0.0101007\ttotal: 1m 7s\tremaining: 8.61s\n887:\tlearn: 0.0100898\ttotal: 1m 7s\tremaining: 8.53s\n888:\tlearn: 0.0100779\ttotal: 1m 7s\tremaining: 8.46s\n889:\tlearn: 0.0100673\ttotal: 1m 7s\tremaining: 8.38s\n890:\tlearn: 0.0100559\ttotal: 1m 7s\tremaining: 8.31s\n891:\tlearn: 0.0100449\ttotal: 1m 7s\tremaining: 8.23s\n892:\tlearn: 0.0100322\ttotal: 1m 8s\tremaining: 8.15s\n893:\tlearn: 0.0100200\ttotal: 1m 8s\tremaining: 8.08s\n894:\tlearn: 0.0100069\ttotal: 1m 8s\tremaining: 8s\n895:\tlearn: 0.0099912\ttotal: 1m 8s\tremaining: 7.92s\n896:\tlearn: 0.0099752\ttotal: 1m 8s\tremaining: 7.85s\n897:\tlearn: 0.0099655\ttotal: 1m 8s\tremaining: 7.77s\n898:\tlearn: 0.0099530\ttotal: 1m 8s\tremaining: 7.7s\n899:\tlearn: 0.0099435\ttotal: 1m 8s\tremaining: 7.62s\n900:\tlearn: 0.0099317\ttotal: 1m 8s\tremaining: 7.54s\n901:\tlearn: 0.0099207\ttotal: 1m 8s\tremaining: 7.47s\n902:\tlearn: 0.0099076\ttotal: 1m 8s\tremaining: 7.39s\n903:\tlearn: 0.0098979\ttotal: 1m 8s\tremaining: 7.32s\n904:\tlearn: 0.0098866\ttotal: 1m 8s\tremaining: 7.24s\n905:\tlearn: 0.0098709\ttotal: 1m 9s\tremaining: 7.16s\n906:\tlearn: 0.0098571\ttotal: 1m 9s\tremaining: 7.09s\n907:\tlearn: 0.0098440\ttotal: 1m 9s\tremaining: 7.01s\n908:\tlearn: 0.0098314\ttotal: 1m 9s\tremaining: 6.93s\n909:\tlearn: 0.0098133\ttotal: 1m 9s\tremaining: 6.86s\n910:\tlearn: 0.0097995\ttotal: 1m 9s\tremaining: 6.78s\n911:\tlearn: 0.0097866\ttotal: 1m 9s\tremaining: 6.7s\n912:\tlearn: 0.0097757\ttotal: 1m 9s\tremaining: 6.63s\n913:\tlearn: 0.0097607\ttotal: 1m 9s\tremaining: 6.55s\n914:\tlearn: 0.0097513\ttotal: 1m 9s\tremaining: 6.48s\n915:\tlearn: 0.0097423\ttotal: 1m 9s\tremaining: 6.4s\n916:\tlearn: 0.0097263\ttotal: 1m 9s\tremaining: 6.32s\n917:\tlearn: 0.0097139\ttotal: 1m 9s\tremaining: 6.25s\n918:\tlearn: 0.0096997\ttotal: 1m 10s\tremaining: 6.17s\n919:\tlearn: 0.0096854\ttotal: 1m 10s\tremaining: 6.1s\n920:\tlearn: 0.0096753\ttotal: 1m 10s\tremaining: 6.02s\n921:\tlearn: 0.0096616\ttotal: 1m 10s\tremaining: 5.94s\n922:\tlearn: 0.0096476\ttotal: 1m 10s\tremaining: 5.87s\n923:\tlearn: 0.0096327\ttotal: 1m 10s\tremaining: 5.79s\n924:\tlearn: 0.0096198\ttotal: 1m 10s\tremaining: 5.71s\n925:\tlearn: 0.0096056\ttotal: 1m 10s\tremaining: 5.64s\n926:\tlearn: 0.0095959\ttotal: 1m 10s\tremaining: 5.56s\n927:\tlearn: 0.0095844\ttotal: 1m 10s\tremaining: 5.49s\n928:\tlearn: 0.0095723\ttotal: 1m 10s\tremaining: 5.41s\n929:\tlearn: 0.0095614\ttotal: 1m 10s\tremaining: 5.33s\n930:\tlearn: 0.0095512\ttotal: 1m 10s\tremaining: 5.26s\n931:\tlearn: 0.0095392\ttotal: 1m 11s\tremaining: 5.18s\n932:\tlearn: 0.0095298\ttotal: 1m 11s\tremaining: 5.11s\n933:\tlearn: 0.0095193\ttotal: 1m 11s\tremaining: 5.03s\n934:\tlearn: 0.0095089\ttotal: 1m 11s\tremaining: 4.95s\n935:\tlearn: 0.0094987\ttotal: 1m 11s\tremaining: 4.88s\n936:\tlearn: 0.0094859\ttotal: 1m 11s\tremaining: 4.8s\n937:\tlearn: 0.0094718\ttotal: 1m 11s\tremaining: 4.72s\n938:\tlearn: 0.0094635\ttotal: 1m 11s\tremaining: 4.65s\n939:\tlearn: 0.0094533\ttotal: 1m 11s\tremaining: 4.57s\n940:\tlearn: 0.0094433\ttotal: 1m 11s\tremaining: 4.5s\n941:\tlearn: 0.0094327\ttotal: 1m 11s\tremaining: 4.42s\n942:\tlearn: 0.0094205\ttotal: 1m 11s\tremaining: 4.34s\n943:\tlearn: 0.0094101\ttotal: 1m 11s\tremaining: 4.27s\n944:\tlearn: 0.0093969\ttotal: 1m 12s\tremaining: 4.19s\n945:\tlearn: 0.0093885\ttotal: 1m 12s\tremaining: 4.12s\n946:\tlearn: 0.0093795\ttotal: 1m 12s\tremaining: 4.04s\n947:\tlearn: 0.0093694\ttotal: 1m 12s\tremaining: 3.96s\n948:\tlearn: 0.0093597\ttotal: 1m 12s\tremaining: 3.89s\n949:\tlearn: 0.0093491\ttotal: 1m 12s\tremaining: 3.81s\n950:\tlearn: 0.0093386\ttotal: 1m 12s\tremaining: 3.74s\n951:\tlearn: 0.0093291\ttotal: 1m 12s\tremaining: 3.66s\n952:\tlearn: 0.0093203\ttotal: 1m 12s\tremaining: 3.58s\n953:\tlearn: 0.0093118\ttotal: 1m 12s\tremaining: 3.51s\n954:\tlearn: 0.0092987\ttotal: 1m 12s\tremaining: 3.43s\n955:\tlearn: 0.0092848\ttotal: 1m 12s\tremaining: 3.35s\n956:\tlearn: 0.0092743\ttotal: 1m 12s\tremaining: 3.28s\n957:\tlearn: 0.0092643\ttotal: 1m 13s\tremaining: 3.2s\n958:\tlearn: 0.0092549\ttotal: 1m 13s\tremaining: 3.13s\n959:\tlearn: 0.0092422\ttotal: 1m 13s\tremaining: 3.05s\n960:\tlearn: 0.0092340\ttotal: 1m 13s\tremaining: 2.97s\n961:\tlearn: 0.0092164\ttotal: 1m 13s\tremaining: 2.9s\n962:\tlearn: 0.0092067\ttotal: 1m 13s\tremaining: 2.82s\n963:\tlearn: 0.0091849\ttotal: 1m 13s\tremaining: 2.75s\n964:\tlearn: 0.0091765\ttotal: 1m 13s\tremaining: 2.67s\n965:\tlearn: 0.0091672\ttotal: 1m 13s\tremaining: 2.59s\n966:\tlearn: 0.0091550\ttotal: 1m 13s\tremaining: 2.52s\n967:\tlearn: 0.0091449\ttotal: 1m 13s\tremaining: 2.44s\n968:\tlearn: 0.0091358\ttotal: 1m 13s\tremaining: 2.36s\n969:\tlearn: 0.0091257\ttotal: 1m 14s\tremaining: 2.29s\n970:\tlearn: 0.0091185\ttotal: 1m 14s\tremaining: 2.21s\n971:\tlearn: 0.0091117\ttotal: 1m 14s\tremaining: 2.14s\n972:\tlearn: 0.0091006\ttotal: 1m 14s\tremaining: 2.06s\n973:\tlearn: 0.0090841\ttotal: 1m 14s\tremaining: 1.98s\n974:\tlearn: 0.0090724\ttotal: 1m 14s\tremaining: 1.91s\n975:\tlearn: 0.0090599\ttotal: 1m 14s\tremaining: 1.83s\n976:\tlearn: 0.0090513\ttotal: 1m 14s\tremaining: 1.75s\n977:\tlearn: 0.0090423\ttotal: 1m 14s\tremaining: 1.68s\n978:\tlearn: 0.0090327\ttotal: 1m 14s\tremaining: 1.6s\n979:\tlearn: 0.0090258\ttotal: 1m 14s\tremaining: 1.52s\n980:\tlearn: 0.0090128\ttotal: 1m 14s\tremaining: 1.45s\n981:\tlearn: 0.0090051\ttotal: 1m 14s\tremaining: 1.37s\n982:\tlearn: 0.0089967\ttotal: 1m 15s\tremaining: 1.3s\n983:\tlearn: 0.0089836\ttotal: 1m 15s\tremaining: 1.22s\n984:\tlearn: 0.0089737\ttotal: 1m 15s\tremaining: 1.14s\n985:\tlearn: 0.0089638\ttotal: 1m 15s\tremaining: 1.07s\n986:\tlearn: 0.0089517\ttotal: 1m 15s\tremaining: 992ms\n987:\tlearn: 0.0089401\ttotal: 1m 15s\tremaining: 915ms\n988:\tlearn: 0.0089277\ttotal: 1m 15s\tremaining: 839ms\n989:\tlearn: 0.0089179\ttotal: 1m 15s\tremaining: 763ms\n990:\tlearn: 0.0089071\ttotal: 1m 15s\tremaining: 687ms\n991:\tlearn: 0.0088945\ttotal: 1m 15s\tremaining: 610ms\n992:\tlearn: 0.0088842\ttotal: 1m 15s\tremaining: 534ms\n993:\tlearn: 0.0088769\ttotal: 1m 15s\tremaining: 458ms\n994:\tlearn: 0.0088646\ttotal: 1m 15s\tremaining: 381ms\n995:\tlearn: 0.0088513\ttotal: 1m 15s\tremaining: 305ms\n996:\tlearn: 0.0088418\ttotal: 1m 16s\tremaining: 229ms\n997:\tlearn: 0.0088336\ttotal: 1m 16s\tremaining: 153ms\n998:\tlearn: 0.0088246\ttotal: 1m 16s\tremaining: 76.3ms\n999:\tlearn: 0.0088158\ttotal: 1m 16s\tremaining: 0us\n",
          "output_type": "stream"
        },
        {
          "output_type": "error",
          "ename": "ValueError",
          "evalue": "could not broadcast input array from shape (19,1) into shape (19)",
          "traceback": [
            "\u001b[0;31m---------------------------------------------------------------------------\u001b[0m",
            "\u001b[0;31mValueError\u001b[0m                                Traceback (most recent call last)",
            "\u001b[0;32m<ipython-input-85-5cddfd0ccbed>\u001b[0m in \u001b[0;36m<module>\u001b[0;34m\u001b[0m\n\u001b[0;32m----> 1\u001b[0;31m avg_expected_loss_CBC, avg_bias_CBC, avg_var_CBC = bias_variance_decomp(\n\u001b[0m\u001b[1;32m      2\u001b[0m         \u001b[0mdefault_CBC\u001b[0m\u001b[0;34m,\u001b[0m \u001b[0mX_trainset\u001b[0m\u001b[0;34m.\u001b[0m\u001b[0mvalues\u001b[0m\u001b[0;34m,\u001b[0m \u001b[0my_trainset\u001b[0m\u001b[0;34m.\u001b[0m\u001b[0mvalues\u001b[0m\u001b[0;34m,\u001b[0m \u001b[0mX_val\u001b[0m\u001b[0;34m,\u001b[0m \u001b[0my_val\u001b[0m\u001b[0;34m,\u001b[0m \u001b[0;31m# Used .values since mlxtend extracts better from numpy arrays than pandas dfs\u001b[0m\u001b[0;34m\u001b[0m\u001b[0;34m\u001b[0m\u001b[0m\n\u001b[1;32m      3\u001b[0m         \u001b[0mloss\u001b[0m\u001b[0;34m=\u001b[0m\u001b[0;34m'0-1_loss'\u001b[0m\u001b[0;34m,\u001b[0m\u001b[0;34m\u001b[0m\u001b[0;34m\u001b[0m\u001b[0m\n\u001b[1;32m      4\u001b[0m         random_seed=66)\n\u001b[1;32m      5\u001b[0m \u001b[0;34m\u001b[0m\u001b[0m\n",
            "\u001b[0;32m~/venv/lib/python3.8/site-packages/mlxtend/evaluate/bias_variance_decomp.py\u001b[0m in \u001b[0;36mbias_variance_decomp\u001b[0;34m(estimator, X_train, y_train, X_test, y_test, loss, num_rounds, random_seed, **fit_params)\u001b[0m\n\u001b[1;32m    109\u001b[0m             pred = estimator.fit(\n\u001b[1;32m    110\u001b[0m                 X_boot, y_boot, **fit_params).predict(X_test)\n\u001b[0;32m--> 111\u001b[0;31m         \u001b[0mall_pred\u001b[0m\u001b[0;34m[\u001b[0m\u001b[0mi\u001b[0m\u001b[0;34m]\u001b[0m \u001b[0;34m=\u001b[0m \u001b[0mpred\u001b[0m\u001b[0;34m\u001b[0m\u001b[0;34m\u001b[0m\u001b[0m\n\u001b[0m\u001b[1;32m    112\u001b[0m \u001b[0;34m\u001b[0m\u001b[0m\n\u001b[1;32m    113\u001b[0m     \u001b[0;32mif\u001b[0m \u001b[0mloss\u001b[0m \u001b[0;34m==\u001b[0m \u001b[0;34m'0-1_loss'\u001b[0m\u001b[0;34m:\u001b[0m\u001b[0;34m\u001b[0m\u001b[0;34m\u001b[0m\u001b[0m\n",
            "\u001b[0;31mValueError\u001b[0m: could not broadcast input array from shape (19,1) into shape (19)"
          ]
        }
      ]
    },
    {
      "cell_type": "markdown",
      "source": "### SKlearn Based GBC",
      "metadata": {
        "tags": [],
        "cell_id": "00013-4417f54d-72d2-43e4-bfb4-f0fb41072eea",
        "deepnote_cell_type": "markdown"
      }
    },
    {
      "cell_type": "code",
      "metadata": {
        "tags": [],
        "cell_id": "00010-dfff88e4-0b49-4282-92ad-ea539dfcb3f5",
        "deepnote_to_be_reexecuted": false,
        "source_hash": "350666cf",
        "execution_millis": 221,
        "execution_start": 1618143983750,
        "deepnote_cell_type": "code"
      },
      "source": "from sklearn.ensemble import GradientBoostingClassifier",
      "execution_count": null,
      "outputs": []
    },
    {
      "cell_type": "code",
      "metadata": {
        "tags": [],
        "cell_id": "00011-30666a16-7cce-427f-bd0a-eecff881941d",
        "deepnote_to_be_reexecuted": false,
        "source_hash": "92ecb4e1",
        "execution_millis": 1,
        "execution_start": 1618143984401,
        "deepnote_cell_type": "code"
      },
      "source": "hard_params = {'n_estimators': 1000, 'max_leaf_nodes': 4, 'max_depth': None, 'random_state': 2,\n                'min_samples_split': 5}\n\n# intermediate params\n\nparams = dict(hard_params)\n# params.update(inter_params)",
      "execution_count": null,
      "outputs": []
    },
    {
      "cell_type": "code",
      "metadata": {
        "tags": [],
        "cell_id": "00002-df2576a6-099a-46e2-87fb-d1f40864668f",
        "deepnote_to_be_reexecuted": false,
        "source_hash": "a93c5dd5",
        "execution_millis": 24884,
        "execution_start": 1618143985891,
        "deepnote_cell_type": "code"
      },
      "source": "# X_trainset, X_val, y_trainset, y_val\nGBC = GradientBoostingClassifier(**params)\nGBC.fit(X_trainset, y_trainset)",
      "execution_count": null,
      "outputs": [
        {
          "output_type": "execute_result",
          "execution_count": 24,
          "data": {
            "text/plain": "GradientBoostingClassifier(max_depth=None, max_leaf_nodes=4,\n                           min_samples_split=5, n_estimators=1000,\n                           random_state=2)"
          },
          "metadata": {}
        }
      ]
    },
    {
      "cell_type": "code",
      "metadata": {
        "tags": [],
        "cell_id": "00013-c79be539-289d-4df1-a4e0-f274c1a882f5",
        "deepnote_to_be_reexecuted": false,
        "source_hash": "88a3b6ef",
        "execution_millis": 9,
        "execution_start": 1618144010766,
        "deepnote_cell_type": "code"
      },
      "source": "GBC.score(X_val, y_val)",
      "execution_count": null,
      "outputs": [
        {
          "output_type": "execute_result",
          "execution_count": 25,
          "data": {
            "text/plain": "0.8421052631578947"
          },
          "metadata": {}
        }
      ]
    },
    {
      "cell_type": "markdown",
      "source": "## attempt to plot the training vs validation to identify overfitting\n",
      "metadata": {
        "tags": [],
        "cell_id": "00033-89272e4c-1483-4fc2-8262-fb6db3c32372",
        "deepnote_cell_type": "markdown"
      }
    },
    {
      "cell_type": "code",
      "metadata": {
        "tags": [],
        "cell_id": "00035-329ba6f2-e636-4e8b-b204-5e608233d801",
        "deepnote_to_be_reexecuted": false,
        "source_hash": "7c790c1f",
        "execution_millis": 21,
        "execution_start": 1618146094609,
        "deepnote_cell_type": "code"
      },
      "source": "# WIP\n# attempt to plot the training process(https://scikit-learn.org/stable/auto_examples/ensemble/plot_gradient_boosting_regression.html)\n# training vs validation deviance\n\n\ny_val_list = y_val.to_numpy()\n\n\n\ntest_score = np.zeros((params['n_estimators'],), dtype=np.float64)\nfor i, y_pred in enumerate(GBC.staged_predict(X_val)):\n    test_score[i] = GBC.loss_(y_val_list, y_pred)\n\nfig = plt.figure(figsize=(6, 6))\nplt.subplot(1, 1, 1)\nplt.title('Deviance')\nplt.plot(np.arange(params['n_estimators']) + 1, reg.train_score_, 'b-',\n         label='Training Set Deviance')\nplt.plot(np.arange(params['n_estimators']) + 1, test_score, 'r-',\n         label='Test Set Deviance')\nplt.legend(loc='upper right')\nplt.xlabel('Boosting Iterations')\nplt.ylabel('Deviance')\nfig.tight_layout()\nplt.show()\n",
      "execution_count": null,
      "outputs": [
        {
          "output_type": "error",
          "ename": "ValueError",
          "evalue": "operands could not be broadcast together with shapes (19,3) (19,) ",
          "traceback": [
            "\u001b[0;31m---------------------------------------------------------------------------\u001b[0m",
            "\u001b[0;31mValueError\u001b[0m                                Traceback (most recent call last)",
            "\u001b[0;32m<ipython-input-73-6b2add63af4f>\u001b[0m in \u001b[0;36m<module>\u001b[0;34m\u001b[0m\n\u001b[1;32m      9\u001b[0m \u001b[0mtest_score\u001b[0m \u001b[0;34m=\u001b[0m \u001b[0mnp\u001b[0m\u001b[0;34m.\u001b[0m\u001b[0mzeros\u001b[0m\u001b[0;34m(\u001b[0m\u001b[0;34m(\u001b[0m\u001b[0mparams\u001b[0m\u001b[0;34m[\u001b[0m\u001b[0;34m'n_estimators'\u001b[0m\u001b[0;34m]\u001b[0m\u001b[0;34m,\u001b[0m\u001b[0;34m)\u001b[0m\u001b[0;34m,\u001b[0m \u001b[0mdtype\u001b[0m\u001b[0;34m=\u001b[0m\u001b[0mnp\u001b[0m\u001b[0;34m.\u001b[0m\u001b[0mfloat64\u001b[0m\u001b[0;34m)\u001b[0m\u001b[0;34m\u001b[0m\u001b[0;34m\u001b[0m\u001b[0m\n\u001b[1;32m     10\u001b[0m \u001b[0;32mfor\u001b[0m \u001b[0mi\u001b[0m\u001b[0;34m,\u001b[0m \u001b[0my_pred\u001b[0m \u001b[0;32min\u001b[0m \u001b[0menumerate\u001b[0m\u001b[0;34m(\u001b[0m\u001b[0mGBC\u001b[0m\u001b[0;34m.\u001b[0m\u001b[0mstaged_predict\u001b[0m\u001b[0;34m(\u001b[0m\u001b[0mX_val\u001b[0m\u001b[0;34m)\u001b[0m\u001b[0;34m)\u001b[0m\u001b[0;34m:\u001b[0m\u001b[0;34m\u001b[0m\u001b[0;34m\u001b[0m\u001b[0m\n\u001b[0;32m---> 11\u001b[0;31m     \u001b[0mtest_score\u001b[0m\u001b[0;34m[\u001b[0m\u001b[0mi\u001b[0m\u001b[0;34m]\u001b[0m \u001b[0;34m=\u001b[0m \u001b[0mGBC\u001b[0m\u001b[0;34m.\u001b[0m\u001b[0mloss_\u001b[0m\u001b[0;34m(\u001b[0m\u001b[0my_val_list\u001b[0m\u001b[0;34m,\u001b[0m \u001b[0my_pred\u001b[0m\u001b[0;34m)\u001b[0m\u001b[0;34m\u001b[0m\u001b[0;34m\u001b[0m\u001b[0m\n\u001b[0m\u001b[1;32m     12\u001b[0m \u001b[0;34m\u001b[0m\u001b[0m\n\u001b[1;32m     13\u001b[0m \u001b[0mfig\u001b[0m \u001b[0;34m=\u001b[0m \u001b[0mplt\u001b[0m\u001b[0;34m.\u001b[0m\u001b[0mfigure\u001b[0m\u001b[0;34m(\u001b[0m\u001b[0mfigsize\u001b[0m\u001b[0;34m=\u001b[0m\u001b[0;34m(\u001b[0m\u001b[0;36m6\u001b[0m\u001b[0;34m,\u001b[0m \u001b[0;36m6\u001b[0m\u001b[0;34m)\u001b[0m\u001b[0;34m)\u001b[0m\u001b[0;34m\u001b[0m\u001b[0;34m\u001b[0m\u001b[0m\n",
            "\u001b[0;32m/shared-libs/python3.8/py/lib/python3.8/site-packages/sklearn/ensemble/_gb_losses.py\u001b[0m in \u001b[0;36m__call__\u001b[0;34m(self, y, raw_predictions, sample_weight)\u001b[0m\n\u001b[1;32m    697\u001b[0m \u001b[0;34m\u001b[0m\u001b[0m\n\u001b[1;32m    698\u001b[0m         return np.average(\n\u001b[0;32m--> 699\u001b[0;31m             \u001b[0;34m-\u001b[0m\u001b[0;36m1\u001b[0m \u001b[0;34m*\u001b[0m \u001b[0;34m(\u001b[0m\u001b[0mY\u001b[0m \u001b[0;34m*\u001b[0m \u001b[0mraw_predictions\u001b[0m\u001b[0;34m)\u001b[0m\u001b[0;34m.\u001b[0m\u001b[0msum\u001b[0m\u001b[0;34m(\u001b[0m\u001b[0maxis\u001b[0m\u001b[0;34m=\u001b[0m\u001b[0;36m1\u001b[0m\u001b[0;34m)\u001b[0m \u001b[0;34m+\u001b[0m\u001b[0;34m\u001b[0m\u001b[0;34m\u001b[0m\u001b[0m\n\u001b[0m\u001b[1;32m    700\u001b[0m             \u001b[0mlogsumexp\u001b[0m\u001b[0;34m(\u001b[0m\u001b[0mraw_predictions\u001b[0m\u001b[0;34m,\u001b[0m \u001b[0maxis\u001b[0m\u001b[0;34m=\u001b[0m\u001b[0;36m1\u001b[0m\u001b[0;34m)\u001b[0m\u001b[0;34m,\u001b[0m\u001b[0;34m\u001b[0m\u001b[0;34m\u001b[0m\u001b[0m\n\u001b[1;32m    701\u001b[0m             \u001b[0mweights\u001b[0m\u001b[0;34m=\u001b[0m\u001b[0msample_weight\u001b[0m\u001b[0;34m\u001b[0m\u001b[0;34m\u001b[0m\u001b[0m\n",
            "\u001b[0;31mValueError\u001b[0m: operands could not be broadcast together with shapes (19,3) (19,) "
          ]
        }
      ]
    },
    {
      "cell_type": "markdown",
      "source": "### SKlearn decomposition",
      "metadata": {
        "tags": [],
        "cell_id": "00031-49753e10-30e1-4913-af99-502a57f8caf5",
        "deepnote_cell_type": "markdown"
      }
    },
    {
      "cell_type": "code",
      "metadata": {
        "tags": [],
        "cell_id": "00031-b7147c1c-93b8-4a88-8656-3db6785aef51",
        "deepnote_to_be_reexecuted": true,
        "source_hash": "665220e1",
        "execution_millis": 1,
        "deepnote_cell_type": "code"
      },
      "source": "from mlxtend.evaluate import bias_variance_decomp",
      "execution_count": null,
      "outputs": []
    },
    {
      "cell_type": "code",
      "metadata": {
        "tags": [],
        "cell_id": "00031-037e49bf-e596-48d2-8c66-b0b1e1536a42",
        "deepnote_to_be_reexecuted": true,
        "source_hash": "30aeb642",
        "execution_millis": 4847274,
        "deepnote_cell_type": "code"
      },
      "source": "def_GBC = GradientBoostingClassifier(**params)\n\navg_expected_loss_GBC, avg_bias_GBC, avg_var_GBC = bias_variance_decomp(\n        def_GBC, X_trainset.values, y_trainset.values, X_val, y_val, # Used .values since mlxtend extracts better from numpy arrays than pandas dfs\n        loss='0-1_loss',\n        random_seed=56)\n\nprint(f'Average expected loss: {avg_expected_loss_GBC}')\nprint(f'Average bias: {avg_bias_GBC}')\nprint(f'Average variance: {avg_var_GBC}')",
      "execution_count": null,
      "outputs": [
        {
          "name": "stdout",
          "text": "Average expected loss: 0.22289473684210523\nAverage bias: 0.15789473684210525\nAverage variance: 0.16210526315789475\n",
          "output_type": "stream"
        }
      ]
    },
    {
      "cell_type": "markdown",
      "source": "## k-fold cross-validation:\nIt seems like you can implement the cross-validation for the train-validation split in this way. (Use to evaluate different models using k-fold CV on the training set\n & pick the final model, which is then used to predict the test set!)\n\n *Question*: ",
      "metadata": {
        "tags": [],
        "cell_id": "00024-5f2b3d62-f3ba-4fd7-a334-9206ef608c9e",
        "deepnote_cell_type": "markdown"
      }
    },
    {
      "cell_type": "code",
      "metadata": {
        "tags": [],
        "cell_id": "00024-9241ee9e-0c1b-4e83-9e37-7fea7c2f2d67",
        "deepnote_to_be_reexecuted": false,
        "source_hash": "ffc77694",
        "execution_millis": 345790,
        "execution_start": 1618146911202,
        "deepnote_cell_type": "code"
      },
      "source": "from sklearn.model_selection import KFold\nfrom sklearn.model_selection import cross_val_score\n\nmodel = GBC\nkfold = KFold(n_splits=7,shuffle = True, random_state=10)\nresults = cross_val_score(model, X_trainset, y_trainset, cv=kfold)\nprint(\"Accuracy: %.2f%% (%.2f%%)\" % (results.mean()*100, results.std()*100))",
      "execution_count": null,
      "outputs": [
        {
          "name": "stdout",
          "text": "Accuracy: 76.79% (12.37%)\n",
          "output_type": "stream"
        }
      ]
    },
    {
      "cell_type": "code",
      "metadata": {
        "tags": [],
        "cell_id": "00014-efb265bd-ac4a-47fb-8fef-f57711f846f5",
        "deepnote_to_be_reexecuted": true,
        "source_hash": "b623e53d",
        "deepnote_cell_type": "code"
      },
      "source": "",
      "execution_count": null,
      "outputs": []
    },
    {
      "cell_type": "markdown",
      "source": "<a style='text-decoration:none;line-height:16px;display:flex;color:#5B5B62;padding:10px;justify-content:end;' href='https://deepnote.com?utm_source=created-in-deepnote-cell&projectId=c915e4f9-60c2-40b5-a522-8a90cb3fd50a' target=\"_blank\">\n<img alt='Created in deepnote.com' style='display:inline;max-height:16px;margin:0px;margin-right:7.5px;' src='data:image/svg+xml;base64,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' > </img>\nCreated in <span style='font-weight:600;margin-left:4px;'>Deepnote</span></a>",
      "metadata": {
        "tags": [],
        "created_in_deepnote_cell": true,
        "deepnote_cell_type": "markdown"
      }
    }
  ],
  "nbformat": 4,
  "nbformat_minor": 2,
  "metadata": {
    "orig_nbformat": 2,
    "deepnote": {
      "is_reactive": false
    },
    "deepnote_notebook_id": "64fbaeb6-3e39-4709-b488-9877f20b5517",
    "deepnote_execution_queue": [
      {
        "cellId": "00012-ccd1c75e-2f3b-4a1c-a336-639b88d81e2d",
        "sessionId": "f3509906-4f69-4c9a-824b-345ad749023f",
        "msgId": "ed68ba5a-6135-4eea-bb95-9872de112693"
      },
      {
        "cellId": "00017-4eec8447-f027-4d56-8cc8-6095f9fae96e",
        "sessionId": "f3509906-4f69-4c9a-824b-345ad749023f",
        "msgId": "cc8420f8-3660-40a8-96b1-2342f6e385ff"
      }
    ]
  }
}