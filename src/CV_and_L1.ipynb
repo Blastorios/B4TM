{
  "cells": [
    {
      "cell_type": "markdown",
      "source": "# Attempt to implement kfold CV and regularization",
      "metadata": {
        "tags": [],
        "cell_id": "00000-5e56d6f1-9d42-44df-83a3-d29382cd2d3a",
        "deepnote_cell_type": "markdown"
      }
    },
    {
      "cell_type": "code",
      "metadata": {
        "tags": [],
        "cell_id": "00000-302b4a44-bdd4-44bb-b501-0d881ec61df5",
        "deepnote_to_be_reexecuted": false,
        "source_hash": "6d2b6283",
        "execution_millis": 2458,
        "execution_start": 1617876437582,
        "deepnote_cell_type": "code"
      },
      "source": "import pandas as pd\nimport numpy as np\nimport matplotlib.pyplot as plt\nimport seaborn as sns\nimport sklearn as sk\nimport plotly.express as px\n\n# Load the data\ndf_instances = pd.read_csv(\"./data/Train_call.txt\", sep='\\t')\ndf_solution = pd.read_csv(\"./data/Train_clinical.txt\", sep='\\t')\n\ndf_instances = df_instances.T\n\n# for now, lets remove chromosome numbers etc. \n# (might be useful in later stages when trying to optimize the model but for now we just need to check the feature space)\n\ndrop_list = [\n    \"Chromosome\",\n    \"Start\",\n    \"End\",\n    \"Nclone\" \n    ]\ndffinal = df_instances.drop(drop_list)\n\n\ndf_sol_final = df_solution.drop([\"Sample\"], axis=1)\n",
      "execution_count": 1,
      "outputs": []
    },
    {
      "cell_type": "code",
      "metadata": {
        "tags": [],
        "cell_id": "00001-9762c024-6298-4d2b-941a-eabe321089e0",
        "deepnote_to_be_reexecuted": false,
        "source_hash": "6098805e",
        "execution_millis": 6,
        "execution_start": 1617876460990,
        "deepnote_cell_type": "code"
      },
      "source": "# convert panda df to array (which is the input for the kfold split)\n\ndf_instance_array = dffinal.rename_axis('ID').values\ndf_solution_array = df_sol_final.rename_axis('ID').values\n\n",
      "execution_count": 2,
      "outputs": []
    },
    {
      "cell_type": "markdown",
      "source": "### Cross-validation\n\nThe SKlearn library has a function built in, called KFold. In this example I used the whole dataset, but **be carefull**, as we still need to separate a test set (that is not used in the k-fold cross-validation). This test set can only be used when assessing the finalized model.\n\n#### k-fold cv\nkfold cross validation function takes the sample array and splits it 'kfold', determined by the n_splits.\n\n- n_splits: number of splits. i.e. 7, then 7 different splits are made, ensuring that every sample is in the validation set once\n- shuffle makes sure the list is shuffled\n- random_state=10 sets the seed for the shuffle to ensure the same random shuffle is performed. This makes comparing seperate runs comparable.",
      "metadata": {
        "tags": [],
        "cell_id": "00000-49ea41ff-a13d-4e4b-a972-6f2e52cda7cd",
        "deepnote_cell_type": "markdown"
      }
    },
    {
      "cell_type": "code",
      "metadata": {
        "tags": [],
        "cell_id": "00000-15a70d81-c2a8-4cc8-982c-8ecd795b6533",
        "deepnote_to_be_reexecuted": false,
        "source_hash": "337fb10c",
        "execution_millis": 13,
        "output_cleared": false,
        "execution_start": 1617825653091,
        "deepnote_cell_type": "code"
      },
      "source": "#sklearn example kfold cv\nimport numpy as np\nfrom sklearn.model_selection import KFold\n\nX = df_instance_array\ny = df_solution_array\nkfold = KFold(n_splits=7, random_state=10, shuffle=True)\nkfold.get_n_splits(X)\n\nprint(kfold)\n\nfor train_index, val_index in kfold.split(X):\n    print(\"TRAIN:\", train_index, \"VALIDATION:\", val_index)\n    X_train, X_test = X[train_index], X[val_index]\n    y_train, y_test = y[train_index], y[val_index]\n\n",
      "execution_count": null,
      "outputs": [
        {
          "name": "stdout",
          "text": "KFold(n_splits=7, random_state=10, shuffle=True)\nTRAIN: [ 0  4  5  6  7  8  9 10 11 12 13 15 16 17 18 20 21 22 23 24 25 26 27 28\n 29 30 31 32 33 34 35 36 39 40 42 44 45 46 47 48 49 50 51 52 54 55 56 57\n 58 59 61 62 63 64 65 67 69 70 71 72 73 74 75 76 77 78 80 81 82 83 84 85\n 86 87 88 89 90 91 92 93 94 96 97 98 99] VALIDATION: [ 1  2  3 14 19 37 38 41 43 53 60 66 68 79 95]\nTRAIN: [ 0  1  2  3  4  5  7  8  9 10 11 12 13 14 15 16 17 18 19 20 22 23 24 25\n 27 28 29 30 31 32 33 34 35 36 37 38 39 40 41 42 43 45 47 48 49 51 52 53\n 54 56 57 58 60 62 64 65 66 67 68 69 71 72 73 75 77 78 79 80 81 82 83 84\n 85 86 87 88 89 91 93 94 95 96 97 98 99] VALIDATION: [ 6 21 26 44 46 50 55 59 61 63 70 74 76 90 92]\nTRAIN: [ 0  1  2  3  6  7  8  9 10 11 12 13 14 15 16 17 18 19 21 22 23 24 25 26\n 27 28 29 30 31 33 36 37 38 40 41 43 44 46 47 49 50 51 53 54 55 56 57 59\n 60 61 62 63 64 65 66 67 68 69 70 71 72 73 74 75 76 77 78 79 80 81 82 85\n 86 87 88 89 90 91 92 93 94 95 96 97 98 99] VALIDATION: [ 4  5 20 32 34 35 39 42 45 48 52 58 83 84]\nTRAIN: [ 0  1  2  3  4  5  6  8  9 11 12 13 14 15 16 18 19 20 21 22 23 25 26 27\n 28 29 30 31 32 33 34 35 36 37 38 39 40 41 42 43 44 45 46 48 49 50 51 52\n 53 54 55 56 57 58 59 60 61 62 63 64 65 66 68 69 70 71 72 73 74 75 76 77\n 78 79 82 83 84 85 88 89 90 91 92 93 94 95] VALIDATION: [ 7 10 17 24 47 67 80 81 86 87 96 97 98 99]\nTRAIN: [ 0  1  2  3  4  5  6  7  8  9 10 11 13 14 15 16 17 19 20 21 24 25 26 28\n 29 30 32 33 34 35 36 37 38 39 40 41 42 43 44 45 46 47 48 49 50 51 52 53\n 54 55 58 59 60 61 62 63 64 66 67 68 69 70 72 73 74 75 76 77 78 79 80 81\n 83 84 85 86 87 89 90 92 93 95 96 97 98 99] VALIDATION: [12 18 22 23 27 31 56 57 65 71 82 88 91 94]\nTRAIN: [ 0  1  2  3  4  5  6  7  8  9 10 11 12 14 15 16 17 18 19 20 21 22 23 24\n 26 27 28 29 31 32 34 35 36 37 38 39 40 41 42 43 44 45 46 47 48 50 52 53\n 55 56 57 58 59 60 61 63 64 65 66 67 68 70 71 73 74 76 79 80 81 82 83 84\n 86 87 88 89 90 91 92 93 94 95 96 97 98 99] VALIDATION: [13 25 30 33 49 51 54 62 69 72 75 77 78 85]\nTRAIN: [ 1  2  3  4  5  6  7 10 12 13 14 17 18 19 20 21 22 23 24 25 26 27 30 31\n 32 33 34 35 37 38 39 41 42 43 44 45 46 47 48 49 50 51 52 53 54 55 56 57\n 58 59 60 61 62 63 65 66 67 68 69 70 71 72 74 75 76 77 78 79 80 81 82 83\n 84 85 86 87 88 90 91 92 94 95 96 97 98 99] VALIDATION: [ 0  8  9 11 15 16 28 29 36 40 64 73 89 93]\n",
          "output_type": "stream"
        }
      ]
    },
    {
      "cell_type": "code",
      "source": "from sklearn.model_selection import KFold\nfrom sklearn.model_selection import cross_val_score\n\nmodel = MODEL_NAME\nkfold = KFold(n_splits=7,shuffle = True, random_state=10)\nresults = cross_val_score(model, X_trainset, y_trainset, cv=kfold)\nprint(\"Accuracy: %.2f%% (%.2f%%)\" % (results.mean()*100, results.std()*100))",
      "metadata": {
        "tags": [],
        "cell_id": "00005-f0e6250c-9242-40a9-af59-0ddce1ed6109",
        "deepnote_cell_type": "code"
      },
      "outputs": [],
      "execution_count": null
    },
    {
      "cell_type": "markdown",
      "source": "### (L1) regularisation (see google docs)\n\nI don't think we can implement the L1 regularisation directly. But we can use the **maximum depth parameter** (and others) as the regularization parameter. This wil ensure that we do not exceed certain depth. Other regularization methods are discussed in the google docs!\n",
      "metadata": {
        "tags": [],
        "cell_id": "00002-c6bedbfc-0df0-4c56-ba94-f40aabcec12a",
        "deepnote_cell_type": "markdown"
      }
    },
    {
      "cell_type": "markdown",
      "source": "<a style='text-decoration:none;line-height:16px;display:flex;color:#5B5B62;padding:10px;justify-content:end;' href='https://deepnote.com?utm_source=created-in-deepnote-cell&projectId=c915e4f9-60c2-40b5-a522-8a90cb3fd50a' target=\"_blank\">\n<img alt='Created in deepnote.com' style='display:inline;max-height:16px;margin:0px;margin-right:7.5px;' src='data:image/svg+xml;base64,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' > </img>\nCreated in <span style='font-weight:600;margin-left:4px;'>Deepnote</span></a>",
      "metadata": {
        "tags": [],
        "created_in_deepnote_cell": true,
        "deepnote_cell_type": "markdown"
      }
    }
  ],
  "nbformat": 4,
  "nbformat_minor": 2,
  "metadata": {
    "orig_nbformat": 2,
    "deepnote_notebook_id": "65a566cc-a66f-4e86-8032-b1d80c485c6c",
    "deepnote": {},
    "deepnote_execution_queue": []
  }
}